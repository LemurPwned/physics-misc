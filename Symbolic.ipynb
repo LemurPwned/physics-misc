{
 "cells": [
  {
   "cell_type": "code",
   "execution_count": 350,
   "metadata": {},
   "outputs": [],
   "source": [
    "import sympy as sym\n",
    "import sympy.printing as printing\n",
    "from sympy.printing.latex import print_latex\n",
    "MAGNETIC_PERMEABILITY = 12.57e-7\n",
    "TtoAm = 795774.715459\n"
   ]
  },
  {
   "cell_type": "markdown",
   "metadata": {},
   "source": [
    "# Symbolic computation"
   ]
  },
  {
   "cell_type": "code",
   "execution_count": 468,
   "metadata": {},
   "outputs": [
    {
     "data": {
      "text/latex": [
       "$\\displaystyle K_{1} \\left(\\sin^{2}{\\left(\\Phi \\right)} \\sin^{2}{\\left(\\Theta \\right)} + \\cos^{2}{\\left(\\Theta \\right)}\\right) + K_{2} \\left(\\sin^{2}{\\left(\\Lambda \\right)} \\sin^{2}{\\left(\\Omega \\right)} + \\cos^{2}{\\left(\\Lambda \\right)}\\right) - M_{s1} \\sin{\\left(\\Phi \\right)} \\sin{\\left(\\Theta \\right)} He_{1, 0} - M_{s1} \\sin{\\left(\\Theta \\right)} \\cos{\\left(\\Phi \\right)} He_{0, 0} - M_{s1} \\cos{\\left(\\Theta \\right)} He_{2, 0} - \\frac{M_{s1} \\left(M_{s2} \\sin{\\left(\\Lambda \\right)} \\sin{\\left(\\Omega \\right)} No_{0, 1} + M_{s2} \\sin{\\left(\\Lambda \\right)} \\cos{\\left(\\Omega \\right)} No_{0, 0} + M_{s2} \\cos{\\left(\\Lambda \\right)} No_{0, 2}\\right) \\sin{\\left(\\Theta \\right)} \\cos{\\left(\\Phi \\right)}}{\\mu} - \\frac{M_{s1} \\left(M_{s2} \\sin{\\left(\\Lambda \\right)} \\sin{\\left(\\Omega \\right)} No_{1, 1} + M_{s2} \\sin{\\left(\\Lambda \\right)} \\cos{\\left(\\Omega \\right)} No_{1, 0} + M_{s2} \\cos{\\left(\\Lambda \\right)} No_{1, 2}\\right) \\sin{\\left(\\Phi \\right)} \\sin{\\left(\\Theta \\right)}}{\\mu} - \\frac{M_{s1} \\left(M_{s2} \\sin{\\left(\\Lambda \\right)} \\sin{\\left(\\Omega \\right)} No_{2, 1} + M_{s2} \\sin{\\left(\\Lambda \\right)} \\cos{\\left(\\Omega \\right)} No_{2, 0} + M_{s2} \\cos{\\left(\\Lambda \\right)} No_{2, 2}\\right) \\cos{\\left(\\Theta \\right)}}{\\mu} - M_{s2} \\sin{\\left(\\Lambda \\right)} \\sin{\\left(\\Omega \\right)} He_{1, 0} - M_{s2} \\sin{\\left(\\Lambda \\right)} \\cos{\\left(\\Omega \\right)} He_{0, 0} - M_{s2} \\cos{\\left(\\Lambda \\right)} He_{2, 0} - \\frac{M_{s2} \\left(M_{s1} \\sin{\\left(\\Phi \\right)} \\sin{\\left(\\Theta \\right)} Nt_{0, 1} + M_{s1} \\sin{\\left(\\Theta \\right)} \\cos{\\left(\\Phi \\right)} Nt_{0, 0} + M_{s1} \\cos{\\left(\\Theta \\right)} Nt_{0, 2}\\right) \\sin{\\left(\\Lambda \\right)} \\cos{\\left(\\Omega \\right)}}{\\mu} - \\frac{M_{s2} \\left(M_{s1} \\sin{\\left(\\Phi \\right)} \\sin{\\left(\\Theta \\right)} Nt_{1, 1} + M_{s1} \\sin{\\left(\\Theta \\right)} \\cos{\\left(\\Phi \\right)} Nt_{1, 0} + M_{s1} \\cos{\\left(\\Theta \\right)} Nt_{1, 2}\\right) \\sin{\\left(\\Lambda \\right)} \\sin{\\left(\\Omega \\right)}}{\\mu} - \\frac{M_{s2} \\left(M_{s1} \\sin{\\left(\\Phi \\right)} \\sin{\\left(\\Theta \\right)} Nt_{2, 1} + M_{s1} \\sin{\\left(\\Theta \\right)} \\cos{\\left(\\Phi \\right)} Nt_{2, 0} + M_{s1} \\cos{\\left(\\Theta \\right)} Nt_{2, 2}\\right) \\cos{\\left(\\Lambda \\right)}}{\\mu} + \\frac{M_{s1} \\left(- M_{s1} \\sin{\\left(\\Phi \\right)} \\sin{\\left(\\Theta \\right)} Do_{1, 0} - M_{s1} \\sin{\\left(\\Theta \\right)} \\cos{\\left(\\Phi \\right)} Do_{0, 0} - M_{s1} \\cos{\\left(\\Theta \\right)} Do_{2, 0}\\right) \\sin{\\left(\\Theta \\right)} \\cos{\\left(\\Phi \\right)} + M_{s1} \\left(- M_{s1} \\sin{\\left(\\Phi \\right)} \\sin{\\left(\\Theta \\right)} Do_{1, 1} - M_{s1} \\sin{\\left(\\Theta \\right)} \\cos{\\left(\\Phi \\right)} Do_{0, 1} - M_{s1} \\cos{\\left(\\Theta \\right)} Do_{2, 1}\\right) \\sin{\\left(\\Phi \\right)} \\sin{\\left(\\Theta \\right)} + M_{s1} \\left(- M_{s1} \\sin{\\left(\\Phi \\right)} \\sin{\\left(\\Theta \\right)} Do_{1, 2} - M_{s1} \\sin{\\left(\\Theta \\right)} \\cos{\\left(\\Phi \\right)} Do_{0, 2} - M_{s1} \\cos{\\left(\\Theta \\right)} Do_{2, 2}\\right) \\cos{\\left(\\Theta \\right)}}{\\mu} - \\frac{M_{s2} \\left(M_{s2} \\sin{\\left(\\Lambda \\right)} \\sin{\\left(\\Omega \\right)} Dt_{1, 0} + M_{s2} \\sin{\\left(\\Lambda \\right)} \\cos{\\left(\\Omega \\right)} Dt_{0, 0} + M_{s2} \\cos{\\left(\\Lambda \\right)} Dt_{2, 0}\\right) \\sin{\\left(\\Lambda \\right)} \\cos{\\left(\\Omega \\right)} + M_{s2} \\left(M_{s2} \\sin{\\left(\\Lambda \\right)} \\sin{\\left(\\Omega \\right)} Dt_{1, 1} + M_{s2} \\sin{\\left(\\Lambda \\right)} \\cos{\\left(\\Omega \\right)} Dt_{0, 1} + M_{s2} \\cos{\\left(\\Lambda \\right)} Dt_{2, 1}\\right) \\sin{\\left(\\Lambda \\right)} \\sin{\\left(\\Omega \\right)} + M_{s2} \\left(M_{s2} \\sin{\\left(\\Lambda \\right)} \\sin{\\left(\\Omega \\right)} Dt_{1, 2} + M_{s2} \\sin{\\left(\\Lambda \\right)} \\cos{\\left(\\Omega \\right)} Dt_{0, 2} + M_{s2} \\cos{\\left(\\Lambda \\right)} Dt_{2, 2}\\right) \\cos{\\left(\\Lambda \\right)}}{\\mu}$"
      ],
      "text/plain": [
       "K1*(sin(Phi)**2*sin(Theta)**2 + cos(Theta)**2) + K2*(sin(Lambda)**2*sin(Omega)**2 + cos(Lambda)**2) - M_s1*sin(Phi)*sin(Theta)*He[1, 0] - M_s1*sin(Theta)*cos(Phi)*He[0, 0] - M_s1*cos(Theta)*He[2, 0] - M_s1*(M_s2*sin(Lambda)*sin(Omega)*No[0, 1] + M_s2*sin(Lambda)*cos(Omega)*No[0, 0] + M_s2*cos(Lambda)*No[0, 2])*sin(Theta)*cos(Phi)/\\mu - M_s1*(M_s2*sin(Lambda)*sin(Omega)*No[1, 1] + M_s2*sin(Lambda)*cos(Omega)*No[1, 0] + M_s2*cos(Lambda)*No[1, 2])*sin(Phi)*sin(Theta)/\\mu - M_s1*(M_s2*sin(Lambda)*sin(Omega)*No[2, 1] + M_s2*sin(Lambda)*cos(Omega)*No[2, 0] + M_s2*cos(Lambda)*No[2, 2])*cos(Theta)/\\mu - M_s2*sin(Lambda)*sin(Omega)*He[1, 0] - M_s2*sin(Lambda)*cos(Omega)*He[0, 0] - M_s2*cos(Lambda)*He[2, 0] - M_s2*(M_s1*sin(Phi)*sin(Theta)*Nt[0, 1] + M_s1*sin(Theta)*cos(Phi)*Nt[0, 0] + M_s1*cos(Theta)*Nt[0, 2])*sin(Lambda)*cos(Omega)/\\mu - M_s2*(M_s1*sin(Phi)*sin(Theta)*Nt[1, 1] + M_s1*sin(Theta)*cos(Phi)*Nt[1, 0] + M_s1*cos(Theta)*Nt[1, 2])*sin(Lambda)*sin(Omega)/\\mu - M_s2*(M_s1*sin(Phi)*sin(Theta)*Nt[2, 1] + M_s1*sin(Theta)*cos(Phi)*Nt[2, 0] + M_s1*cos(Theta)*Nt[2, 2])*cos(Lambda)/\\mu + (M_s1*(-M_s1*sin(Phi)*sin(Theta)*Do[1, 0] - M_s1*sin(Theta)*cos(Phi)*Do[0, 0] - M_s1*cos(Theta)*Do[2, 0])*sin(Theta)*cos(Phi) + M_s1*(-M_s1*sin(Phi)*sin(Theta)*Do[1, 1] - M_s1*sin(Theta)*cos(Phi)*Do[0, 1] - M_s1*cos(Theta)*Do[2, 1])*sin(Phi)*sin(Theta) + M_s1*(-M_s1*sin(Phi)*sin(Theta)*Do[1, 2] - M_s1*sin(Theta)*cos(Phi)*Do[0, 2] - M_s1*cos(Theta)*Do[2, 2])*cos(Theta))/\\mu - (M_s2*(M_s2*sin(Lambda)*sin(Omega)*Dt[1, 0] + M_s2*sin(Lambda)*cos(Omega)*Dt[0, 0] + M_s2*cos(Lambda)*Dt[2, 0])*sin(Lambda)*cos(Omega) + M_s2*(M_s2*sin(Lambda)*sin(Omega)*Dt[1, 1] + M_s2*sin(Lambda)*cos(Omega)*Dt[0, 1] + M_s2*cos(Lambda)*Dt[2, 1])*sin(Lambda)*sin(Omega) + M_s2*(M_s2*sin(Lambda)*sin(Omega)*Dt[1, 2] + M_s2*sin(Lambda)*cos(Omega)*Dt[0, 2] + M_s2*cos(Lambda)*Dt[2, 2])*cos(Lambda))/\\mu"
      ]
     },
     "execution_count": 468,
     "metadata": {},
     "output_type": "execute_result"
    }
   ],
   "source": [
    "theta, phi, lamb, omega = sym.symbols('Theta Phi Lambda Omega')\n",
    "alpha1, alpha2, gamma, mu = sym.symbols(\"alpha_1 alpha_2 gamma \\mu\")\n",
    "torque_par, torque_per = sym.symbols(\"tau_1 tau_2\")\n",
    "K1, K2 = sym.symbols(\"K1 K2\")\n",
    "Hoe = sym.symbols(\"H_oe\")\n",
    "\n",
    "\"\"\"\n",
    "Theta, azimuth L1\n",
    "Phi, inplane L1\n",
    "\n",
    "Lambda, azimuth L1\n",
    "Omega, inplane L2\n",
    "\"\"\"\n",
    "\n",
    "sinT = sym.sin(theta)\n",
    "cosT = sym.cos(theta)\n",
    "\n",
    "cosL = sym.cos(lamb)\n",
    "sinL = sym.sin(lamb)\n",
    "\n",
    "sinO = sym.sin(omega)\n",
    "cosO = sym.cos(omega)\n",
    "\n",
    "sinP = sym.sin(phi)\n",
    "cosP = sym.cos(phi)\n",
    "\n",
    "cosPO = sym.cos(phi - omega)\n",
    "sinPO = sym.sin(phi - omega)\n",
    "\n",
    "\n",
    "Ms1, Ms2 = sym.symbols(\"M_s1 M_s2\")\n",
    "\n",
    "const1 = (gamma / Ms1) * (1 / (1 + alpha1**2))\n",
    "const2 = (gamma / Ms2) * (1 / (1 + alpha2**2))\n",
    "\n",
    "\n",
    "# Ho1, Ho2, Ho3 = sym.symbols(\"H_oe1 H_oe2 H_oe3\")\n",
    "# He1, He2, He3 = sym.symbols(\"H_ext1 H_ext2 H_ext3\")\n",
    "# Hd11, Hd12, Hd13 = sym.symbols(\"H_{dip11} H_{dip12} H_{dip13}\")\n",
    "# Hd21, Hd22, Hd23 = sym.symbols(\"H_{dip21} H_{dip22} H_{dip23}\")\n",
    "# Hde11, Hde12, Hde13 = sym.symbols(\"H_{de11} H_{de12} H_{de13}\")\n",
    "# Hde21, Hde22, Hde23 = sym.symbols(\"H_{de21} H_{de22} H_{de23}\")\n",
    "\n",
    "# Hoe = sym.Matrix([Ho1, Ho2, Ho3])\n",
    "# Hext = sym.Matrix([He1, He2, He3])\n",
    "\n",
    "M1 = sym.Matrix([Ms1 * sinT * cosP, Ms1 * sinT * sinP, Ms1 * cosT])\n",
    "M2 = sym.Matrix([Ms2 * sinL * cosO, Ms2 * sinL * sinO, Ms2 * cosL])\n",
    "\n",
    "demagTensor1 = sym.MatrixSymbol(\"Do\", 3, 3)\n",
    "demagTensor2 = sym.MatrixSymbol(\"Dt\", 3, 3)\n",
    "dipoleTensor12 = sym.MatrixSymbol(\"No\", 3, 3)\n",
    "dipoleTensor21 = sym.MatrixSymbol(\"Nt\", 3, 3)\n",
    "\n",
    "\n",
    "Hext = sym.MatrixSymbol(\"He\", 3, 1)\n",
    "\n",
    "Hdemag1 = demagTensor1 * M1/mu\n",
    "Hdemag2 = demagTensor2 * M2/mu\n",
    "\n",
    "Hdipole1 = sym.Matrix(dipoleTensor21) * M1/mu\n",
    "Hdipole2 = sym.Matrix(dipoleTensor12) * M2/mu\n",
    "\n",
    "anisotropies = K1 * (cosT**2 + (sinT**2) *\n",
    "                     (sinP**2)) + K2 * (cosL**2 + (sinL**2) * (sinO**2))\n",
    "# dipole = -M1.dot(Hdip2) - M2.dot(Hdip1)\n",
    "# demag = -M1.dot(Hdemag1) - M2.dot(Hdemag2)\n",
    "# ext = -M1.dot(Hext) - M2.dot(Hext)\n",
    "\"\"\"\n",
    "Can't figure out the part below for the Matrix Symbol\n",
    "\"\"\"\n",
    "dipole = -M1.T*Hdipole2 - M2.T*Hdipole1\n",
    "demag = -M1.T*Hdemag1 - M2.T*Hdemag2\n",
    "ext = -M1.T*Hext - M2.T*Hext\n",
    "\n",
    "energy = (anisotropies*sym.Identity(1) + dipole + demag + ext).as_explicit()[0]\n",
    "dUdP = sym.diff(energy, phi)\n",
    "dUdT = sym.diff(energy, theta)\n",
    "dUdO = sym.diff(energy, omega)\n",
    "dUdL = sym.diff(energy, lamb)\n",
    "\"\"\"\n",
    ".as_explicit to see the actual form\n",
    "\"\"\"\n",
    "energy"
   ]
  },
  {
   "cell_type": "code",
   "execution_count": 469,
   "metadata": {},
   "outputs": [],
   "source": [
    "dTheta = const1 * ((-1 / sinT)*dUdP - alpha1*dUdT -\n",
    "                  (cosL * sinT - cosT * sinL * cosPO) *\n",
    "                  (torque_par + alpha1 * torque_per) - (sinL * sinPO) *\n",
    "                  (alpha1 * torque_par - torque_per) + Ms1*Hoe)"
   ]
  },
  {
   "cell_type": "code",
   "execution_count": 470,
   "metadata": {},
   "outputs": [],
   "source": [
    "dPhi = const1 * ((1 / sinT) * dUdT - (alpha1 / (sinT**2)) * dUdP + (1 / sinT) *\n",
    "                (cosL * sinT - cosT * sinL * cosPO) *\n",
    "                (alpha1 * torque_par - torque_per) \n",
    "                - (1/sinT)*(sinL*sinPO)*(torque_par + alpha1*torque_per) + alpha1*Ms1*Hoe/sinT)"
   ]
  },
  {
   "cell_type": "code",
   "execution_count": 471,
   "metadata": {},
   "outputs": [],
   "source": [
    "dLam = const2 * ((-1 / sinT)*dUdO - alpha2*dUdL +\n",
    "                  (-sinL * cosT + sinT * cosL * cosPO) *\n",
    "                  (torque_par + alpha2 * torque_per) + (sinL * sinPO) *\n",
    "                  (alpha2 * torque_par + torque_per) + Ms2*Hoe) "
   ]
  },
  {
   "cell_type": "code",
   "execution_count": 472,
   "metadata": {},
   "outputs": [],
   "source": [
    "dOmega = const2 * ((1 / sinT) * dUdL - (alpha2 / (sinL**2)) * dUdO - (1 / sinL) *\n",
    "                (sinL * cosT - sinT *cosL * cosPO) *\n",
    "                (torque_per - alpha2 * torque_par) \n",
    "                + (1/sinL)*(sinT*sinPO)*(torque_par - alpha2*torque_per) + alpha2*Ms2*Hoe/sinL)"
   ]
  },
  {
   "cell_type": "code",
   "execution_count": 548,
   "metadata": {},
   "outputs": [
    {
     "data": {
      "text/latex": [
       "$\\displaystyle \\frac{\\gamma \\left(- \\frac{\\alpha_{2} \\left(- \\frac{M_{s1} \\left(- M_{s2} \\sin{\\left(\\Lambda \\right)} \\sin{\\left(\\Omega \\right)} No_{0, 0} + M_{s2} \\sin{\\left(\\Lambda \\right)} \\cos{\\left(\\Omega \\right)} No_{0, 1}\\right) \\cos{\\left(\\Phi \\right)} \\cos{\\left(\\Theta \\right)}}{\\mu} - \\frac{M_{s1} \\left(- M_{s2} \\sin{\\left(\\Lambda \\right)} \\sin{\\left(\\Omega \\right)} No_{1, 0} + M_{s2} \\sin{\\left(\\Lambda \\right)} \\cos{\\left(\\Omega \\right)} No_{1, 1}\\right) \\sin{\\left(\\Phi \\right)} \\cos{\\left(\\Theta \\right)}}{\\mu} + \\frac{M_{s1} \\left(- M_{s2} \\sin{\\left(\\Lambda \\right)} \\sin{\\left(\\Omega \\right)} No_{2, 0} + M_{s2} \\sin{\\left(\\Lambda \\right)} \\cos{\\left(\\Omega \\right)} No_{2, 1}\\right) \\sin{\\left(\\Theta \\right)}}{\\mu} + \\frac{M_{s2} \\left(M_{s1} \\sin{\\left(\\Phi \\right)} \\cos{\\left(\\Theta \\right)} Nt_{0, 1} - M_{s1} \\sin{\\left(\\Theta \\right)} Nt_{0, 2} + M_{s1} \\cos{\\left(\\Phi \\right)} \\cos{\\left(\\Theta \\right)} Nt_{0, 0}\\right) \\sin{\\left(\\Lambda \\right)} \\sin{\\left(\\Omega \\right)}}{\\mu} - \\frac{M_{s2} \\left(M_{s1} \\sin{\\left(\\Phi \\right)} \\cos{\\left(\\Theta \\right)} Nt_{1, 1} - M_{s1} \\sin{\\left(\\Theta \\right)} Nt_{1, 2} + M_{s1} \\cos{\\left(\\Phi \\right)} \\cos{\\left(\\Theta \\right)} Nt_{1, 0}\\right) \\sin{\\left(\\Lambda \\right)} \\cos{\\left(\\Omega \\right)}}{\\mu}\\right)}{\\sin^{2}{\\left(\\Lambda \\right)}} - \\frac{\\left(- \\alpha_{2} \\tau_{1} + \\tau_{2}\\right) \\left(- \\sin{\\left(\\Lambda \\right)} \\sin{\\left(\\Theta \\right)} - \\cos{\\left(\\Lambda \\right)} \\cos{\\left(\\Theta \\right)} \\cos{\\left(\\Omega - \\Phi \\right)}\\right)}{\\sin{\\left(\\Lambda \\right)}} - \\frac{\\left(- \\alpha_{2} \\tau_{2} + \\tau_{1}\\right) \\sin{\\left(\\Omega - \\Phi \\right)} \\cos{\\left(\\Theta \\right)}}{\\sin{\\left(\\Lambda \\right)}} + \\frac{- \\frac{M_{s1} \\left(- M_{s2} \\sin{\\left(\\Lambda \\right)} No_{0, 2} + M_{s2} \\sin{\\left(\\Omega \\right)} \\cos{\\left(\\Lambda \\right)} No_{0, 1} + M_{s2} \\cos{\\left(\\Lambda \\right)} \\cos{\\left(\\Omega \\right)} No_{0, 0}\\right) \\cos{\\left(\\Phi \\right)} \\cos{\\left(\\Theta \\right)}}{\\mu} - \\frac{M_{s1} \\left(- M_{s2} \\sin{\\left(\\Lambda \\right)} No_{1, 2} + M_{s2} \\sin{\\left(\\Omega \\right)} \\cos{\\left(\\Lambda \\right)} No_{1, 1} + M_{s2} \\cos{\\left(\\Lambda \\right)} \\cos{\\left(\\Omega \\right)} No_{1, 0}\\right) \\sin{\\left(\\Phi \\right)} \\cos{\\left(\\Theta \\right)}}{\\mu} + \\frac{M_{s1} \\left(- M_{s2} \\sin{\\left(\\Lambda \\right)} No_{2, 2} + M_{s2} \\sin{\\left(\\Omega \\right)} \\cos{\\left(\\Lambda \\right)} No_{2, 1} + M_{s2} \\cos{\\left(\\Lambda \\right)} \\cos{\\left(\\Omega \\right)} No_{2, 0}\\right) \\sin{\\left(\\Theta \\right)}}{\\mu} - \\frac{M_{s2} \\left(M_{s1} \\sin{\\left(\\Phi \\right)} \\cos{\\left(\\Theta \\right)} Nt_{0, 1} - M_{s1} \\sin{\\left(\\Theta \\right)} Nt_{0, 2} + M_{s1} \\cos{\\left(\\Phi \\right)} \\cos{\\left(\\Theta \\right)} Nt_{0, 0}\\right) \\cos{\\left(\\Lambda \\right)} \\cos{\\left(\\Omega \\right)}}{\\mu} - \\frac{M_{s2} \\left(M_{s1} \\sin{\\left(\\Phi \\right)} \\cos{\\left(\\Theta \\right)} Nt_{1, 1} - M_{s1} \\sin{\\left(\\Theta \\right)} Nt_{1, 2} + M_{s1} \\cos{\\left(\\Phi \\right)} \\cos{\\left(\\Theta \\right)} Nt_{1, 0}\\right) \\sin{\\left(\\Omega \\right)} \\cos{\\left(\\Lambda \\right)}}{\\mu} + \\frac{M_{s2} \\left(M_{s1} \\sin{\\left(\\Phi \\right)} \\cos{\\left(\\Theta \\right)} Nt_{2, 1} - M_{s1} \\sin{\\left(\\Theta \\right)} Nt_{2, 2} + M_{s1} \\cos{\\left(\\Phi \\right)} \\cos{\\left(\\Theta \\right)} Nt_{2, 0}\\right) \\sin{\\left(\\Lambda \\right)}}{\\mu}}{\\sin{\\left(\\Theta \\right)}} - \\frac{\\left(K_{2} \\left(2 \\sin{\\left(\\Lambda \\right)} \\sin^{2}{\\left(\\Omega \\right)} \\cos{\\left(\\Lambda \\right)} - 2 \\sin{\\left(\\Lambda \\right)} \\cos{\\left(\\Lambda \\right)}\\right) - \\frac{M_{s1} \\left(- M_{s2} \\sin{\\left(\\Lambda \\right)} No_{0, 2} + M_{s2} \\sin{\\left(\\Omega \\right)} \\cos{\\left(\\Lambda \\right)} No_{0, 1} + M_{s2} \\cos{\\left(\\Lambda \\right)} \\cos{\\left(\\Omega \\right)} No_{0, 0}\\right) \\sin{\\left(\\Theta \\right)} \\cos{\\left(\\Phi \\right)}}{\\mu} - \\frac{M_{s1} \\left(- M_{s2} \\sin{\\left(\\Lambda \\right)} No_{1, 2} + M_{s2} \\sin{\\left(\\Omega \\right)} \\cos{\\left(\\Lambda \\right)} No_{1, 1} + M_{s2} \\cos{\\left(\\Lambda \\right)} \\cos{\\left(\\Omega \\right)} No_{1, 0}\\right) \\sin{\\left(\\Phi \\right)} \\sin{\\left(\\Theta \\right)}}{\\mu} - \\frac{M_{s1} \\left(- M_{s2} \\sin{\\left(\\Lambda \\right)} No_{2, 2} + M_{s2} \\sin{\\left(\\Omega \\right)} \\cos{\\left(\\Lambda \\right)} No_{2, 1} + M_{s2} \\cos{\\left(\\Lambda \\right)} \\cos{\\left(\\Omega \\right)} No_{2, 0}\\right) \\cos{\\left(\\Theta \\right)}}{\\mu} + M_{s2} \\sin{\\left(\\Lambda \\right)} He_{2, 0} - M_{s2} \\sin{\\left(\\Omega \\right)} \\cos{\\left(\\Lambda \\right)} He_{1, 0} - M_{s2} \\cos{\\left(\\Lambda \\right)} \\cos{\\left(\\Omega \\right)} He_{0, 0} - \\frac{M_{s2} \\left(M_{s1} \\sin{\\left(\\Phi \\right)} \\sin{\\left(\\Theta \\right)} Nt_{0, 1} + M_{s1} \\sin{\\left(\\Theta \\right)} \\cos{\\left(\\Phi \\right)} Nt_{0, 0} + M_{s1} \\cos{\\left(\\Theta \\right)} Nt_{0, 2}\\right) \\cos{\\left(\\Lambda \\right)} \\cos{\\left(\\Omega \\right)}}{\\mu} - \\frac{M_{s2} \\left(M_{s1} \\sin{\\left(\\Phi \\right)} \\sin{\\left(\\Theta \\right)} Nt_{1, 1} + M_{s1} \\sin{\\left(\\Theta \\right)} \\cos{\\left(\\Phi \\right)} Nt_{1, 0} + M_{s1} \\cos{\\left(\\Theta \\right)} Nt_{1, 2}\\right) \\sin{\\left(\\Omega \\right)} \\cos{\\left(\\Lambda \\right)}}{\\mu} + \\frac{M_{s2} \\left(M_{s1} \\sin{\\left(\\Phi \\right)} \\sin{\\left(\\Theta \\right)} Nt_{2, 1} + M_{s1} \\sin{\\left(\\Theta \\right)} \\cos{\\left(\\Phi \\right)} Nt_{2, 0} + M_{s1} \\cos{\\left(\\Theta \\right)} Nt_{2, 2}\\right) \\sin{\\left(\\Lambda \\right)}}{\\mu} - \\frac{M_{s2} \\left(- M_{s2} \\sin{\\left(\\Lambda \\right)} Dt_{2, 0} + M_{s2} \\sin{\\left(\\Omega \\right)} \\cos{\\left(\\Lambda \\right)} Dt_{1, 0} + M_{s2} \\cos{\\left(\\Lambda \\right)} \\cos{\\left(\\Omega \\right)} Dt_{0, 0}\\right) \\sin{\\left(\\Lambda \\right)} \\cos{\\left(\\Omega \\right)} + M_{s2} \\left(- M_{s2} \\sin{\\left(\\Lambda \\right)} Dt_{2, 1} + M_{s2} \\sin{\\left(\\Omega \\right)} \\cos{\\left(\\Lambda \\right)} Dt_{1, 1} + M_{s2} \\cos{\\left(\\Lambda \\right)} \\cos{\\left(\\Omega \\right)} Dt_{0, 1}\\right) \\sin{\\left(\\Lambda \\right)} \\sin{\\left(\\Omega \\right)} + M_{s2} \\left(- M_{s2} \\sin{\\left(\\Lambda \\right)} Dt_{2, 2} + M_{s2} \\sin{\\left(\\Omega \\right)} \\cos{\\left(\\Lambda \\right)} Dt_{1, 2} + M_{s2} \\cos{\\left(\\Lambda \\right)} \\cos{\\left(\\Omega \\right)} Dt_{0, 2}\\right) \\cos{\\left(\\Lambda \\right)} + M_{s2} \\left(M_{s2} \\sin{\\left(\\Lambda \\right)} \\sin{\\left(\\Omega \\right)} Dt_{1, 0} + M_{s2} \\sin{\\left(\\Lambda \\right)} \\cos{\\left(\\Omega \\right)} Dt_{0, 0} + M_{s2} \\cos{\\left(\\Lambda \\right)} Dt_{2, 0}\\right) \\cos{\\left(\\Lambda \\right)} \\cos{\\left(\\Omega \\right)} + M_{s2} \\left(M_{s2} \\sin{\\left(\\Lambda \\right)} \\sin{\\left(\\Omega \\right)} Dt_{1, 1} + M_{s2} \\sin{\\left(\\Lambda \\right)} \\cos{\\left(\\Omega \\right)} Dt_{0, 1} + M_{s2} \\cos{\\left(\\Lambda \\right)} Dt_{2, 1}\\right) \\sin{\\left(\\Omega \\right)} \\cos{\\left(\\Lambda \\right)} - M_{s2} \\left(M_{s2} \\sin{\\left(\\Lambda \\right)} \\sin{\\left(\\Omega \\right)} Dt_{1, 2} + M_{s2} \\sin{\\left(\\Lambda \\right)} \\cos{\\left(\\Omega \\right)} Dt_{0, 2} + M_{s2} \\cos{\\left(\\Lambda \\right)} Dt_{2, 2}\\right) \\sin{\\left(\\Lambda \\right)}}{\\mu}\\right) \\cos{\\left(\\Theta \\right)}}{\\sin^{2}{\\left(\\Theta \\right)}}\\right)}{M_{s2} \\left(\\alpha_{2}^{2} + 1\\right)}$"
      ],
      "text/plain": [
       "gamma*(-alpha_2*(-M_s1*(-M_s2*sin(Lambda)*sin(Omega)*No[0, 0] + M_s2*sin(Lambda)*cos(Omega)*No[0, 1])*cos(Phi)*cos(Theta)/\\mu - M_s1*(-M_s2*sin(Lambda)*sin(Omega)*No[1, 0] + M_s2*sin(Lambda)*cos(Omega)*No[1, 1])*sin(Phi)*cos(Theta)/\\mu + M_s1*(-M_s2*sin(Lambda)*sin(Omega)*No[2, 0] + M_s2*sin(Lambda)*cos(Omega)*No[2, 1])*sin(Theta)/\\mu + M_s2*(M_s1*sin(Phi)*cos(Theta)*Nt[0, 1] - M_s1*sin(Theta)*Nt[0, 2] + M_s1*cos(Phi)*cos(Theta)*Nt[0, 0])*sin(Lambda)*sin(Omega)/\\mu - M_s2*(M_s1*sin(Phi)*cos(Theta)*Nt[1, 1] - M_s1*sin(Theta)*Nt[1, 2] + M_s1*cos(Phi)*cos(Theta)*Nt[1, 0])*sin(Lambda)*cos(Omega)/\\mu)/sin(Lambda)**2 - (-alpha_2*tau_1 + tau_2)*(-sin(Lambda)*sin(Theta) - cos(Lambda)*cos(Theta)*cos(Omega - Phi))/sin(Lambda) - (-alpha_2*tau_2 + tau_1)*sin(Omega - Phi)*cos(Theta)/sin(Lambda) + (-M_s1*(-M_s2*sin(Lambda)*No[0, 2] + M_s2*sin(Omega)*cos(Lambda)*No[0, 1] + M_s2*cos(Lambda)*cos(Omega)*No[0, 0])*cos(Phi)*cos(Theta)/\\mu - M_s1*(-M_s2*sin(Lambda)*No[1, 2] + M_s2*sin(Omega)*cos(Lambda)*No[1, 1] + M_s2*cos(Lambda)*cos(Omega)*No[1, 0])*sin(Phi)*cos(Theta)/\\mu + M_s1*(-M_s2*sin(Lambda)*No[2, 2] + M_s2*sin(Omega)*cos(Lambda)*No[2, 1] + M_s2*cos(Lambda)*cos(Omega)*No[2, 0])*sin(Theta)/\\mu - M_s2*(M_s1*sin(Phi)*cos(Theta)*Nt[0, 1] - M_s1*sin(Theta)*Nt[0, 2] + M_s1*cos(Phi)*cos(Theta)*Nt[0, 0])*cos(Lambda)*cos(Omega)/\\mu - M_s2*(M_s1*sin(Phi)*cos(Theta)*Nt[1, 1] - M_s1*sin(Theta)*Nt[1, 2] + M_s1*cos(Phi)*cos(Theta)*Nt[1, 0])*sin(Omega)*cos(Lambda)/\\mu + M_s2*(M_s1*sin(Phi)*cos(Theta)*Nt[2, 1] - M_s1*sin(Theta)*Nt[2, 2] + M_s1*cos(Phi)*cos(Theta)*Nt[2, 0])*sin(Lambda)/\\mu)/sin(Theta) - (K2*(2*sin(Lambda)*sin(Omega)**2*cos(Lambda) - 2*sin(Lambda)*cos(Lambda)) - M_s1*(-M_s2*sin(Lambda)*No[0, 2] + M_s2*sin(Omega)*cos(Lambda)*No[0, 1] + M_s2*cos(Lambda)*cos(Omega)*No[0, 0])*sin(Theta)*cos(Phi)/\\mu - M_s1*(-M_s2*sin(Lambda)*No[1, 2] + M_s2*sin(Omega)*cos(Lambda)*No[1, 1] + M_s2*cos(Lambda)*cos(Omega)*No[1, 0])*sin(Phi)*sin(Theta)/\\mu - M_s1*(-M_s2*sin(Lambda)*No[2, 2] + M_s2*sin(Omega)*cos(Lambda)*No[2, 1] + M_s2*cos(Lambda)*cos(Omega)*No[2, 0])*cos(Theta)/\\mu + M_s2*sin(Lambda)*He[2, 0] - M_s2*sin(Omega)*cos(Lambda)*He[1, 0] - M_s2*cos(Lambda)*cos(Omega)*He[0, 0] - M_s2*(M_s1*sin(Phi)*sin(Theta)*Nt[0, 1] + M_s1*sin(Theta)*cos(Phi)*Nt[0, 0] + M_s1*cos(Theta)*Nt[0, 2])*cos(Lambda)*cos(Omega)/\\mu - M_s2*(M_s1*sin(Phi)*sin(Theta)*Nt[1, 1] + M_s1*sin(Theta)*cos(Phi)*Nt[1, 0] + M_s1*cos(Theta)*Nt[1, 2])*sin(Omega)*cos(Lambda)/\\mu + M_s2*(M_s1*sin(Phi)*sin(Theta)*Nt[2, 1] + M_s1*sin(Theta)*cos(Phi)*Nt[2, 0] + M_s1*cos(Theta)*Nt[2, 2])*sin(Lambda)/\\mu - (M_s2*(-M_s2*sin(Lambda)*Dt[2, 0] + M_s2*sin(Omega)*cos(Lambda)*Dt[1, 0] + M_s2*cos(Lambda)*cos(Omega)*Dt[0, 0])*sin(Lambda)*cos(Omega) + M_s2*(-M_s2*sin(Lambda)*Dt[2, 1] + M_s2*sin(Omega)*cos(Lambda)*Dt[1, 1] + M_s2*cos(Lambda)*cos(Omega)*Dt[0, 1])*sin(Lambda)*sin(Omega) + M_s2*(-M_s2*sin(Lambda)*Dt[2, 2] + M_s2*sin(Omega)*cos(Lambda)*Dt[1, 2] + M_s2*cos(Lambda)*cos(Omega)*Dt[0, 2])*cos(Lambda) + M_s2*(M_s2*sin(Lambda)*sin(Omega)*Dt[1, 0] + M_s2*sin(Lambda)*cos(Omega)*Dt[0, 0] + M_s2*cos(Lambda)*Dt[2, 0])*cos(Lambda)*cos(Omega) + M_s2*(M_s2*sin(Lambda)*sin(Omega)*Dt[1, 1] + M_s2*sin(Lambda)*cos(Omega)*Dt[0, 1] + M_s2*cos(Lambda)*Dt[2, 1])*sin(Omega)*cos(Lambda) - M_s2*(M_s2*sin(Lambda)*sin(Omega)*Dt[1, 2] + M_s2*sin(Lambda)*cos(Omega)*Dt[0, 2] + M_s2*cos(Lambda)*Dt[2, 2])*sin(Lambda))/\\mu)*cos(Theta)/sin(Theta)**2)/(M_s2*(alpha_2**2 + 1))"
      ]
     },
     "execution_count": 548,
     "metadata": {},
     "output_type": "execute_result"
    }
   ],
   "source": [
    "sym.diff(dOmega, theta)\n",
    "# sym.diff(dOmega, phi),\n",
    "# sym.diff(dOmega, lamb),\n",
    "# sym.diff(dOmega, omega)"
   ]
  },
  {
   "cell_type": "markdown",
   "metadata": {},
   "source": [
    "## The derivative matrix "
   ]
  },
  {
   "cell_type": "code",
   "execution_count": 473,
   "metadata": {},
   "outputs": [],
   "source": [
    "dM = sym.Matrix([\n",
    "    [\n",
    "        sym.diff(dTheta, theta),\n",
    "        sym.diff(dTheta, phi),\n",
    "        sym.diff(dTheta, lamb),\n",
    "        sym.diff(dTheta, omega)\n",
    "    ],\n",
    "    [\n",
    "        sym.diff(dPhi, theta),\n",
    "        sym.diff(dPhi, phi),\n",
    "        sym.diff(dPhi, lamb),\n",
    "        sym.diff(dPhi, omega)\n",
    "    ],\n",
    "    [\n",
    "        sym.diff(dLam, theta),\n",
    "        sym.diff(dLam, phi),\n",
    "        sym.diff(dLam, lamb),\n",
    "        sym.diff(dLam, omega)\n",
    "    ],\n",
    "    [\n",
    "        sym.diff(dOmega, theta),\n",
    "        sym.diff(dOmega, phi),\n",
    "        sym.diff(dOmega, lamb),\n",
    "        sym.diff(dOmega, omega)\n",
    "    ]]\n",
    ")"
   ]
  },
  {
   "cell_type": "code",
   "execution_count": 474,
   "metadata": {},
   "outputs": [
    {
     "data": {
      "text/latex": [
       "$\\displaystyle \\left[\\begin{matrix}- 795774.715459 \\sin{\\left(1 \\right)} \\cos{\\left(2 \\right)} & - 795774.715459 \\sin{\\left(1 \\right)} \\sin{\\left(2 \\right)} & - 795774.715459 \\cos{\\left(1 \\right)}\\end{matrix}\\right] \\left[\\begin{matrix}1\\\\1\\\\2\\end{matrix}\\right] + \\left[\\begin{matrix}- 795774.715459 \\sin{\\left(3 \\right)} \\cos{\\left(4 \\right)} & - 795774.715459 \\sin{\\left(3 \\right)} \\sin{\\left(4 \\right)} & - 795774.715459 \\cos{\\left(3 \\right)}\\end{matrix}\\right] \\left[\\begin{matrix}1\\\\1\\\\2\\end{matrix}\\right]$"
      ],
      "text/plain": [
       "Matrix([[-795774.715459*sin(1)*cos(2), -795774.715459*sin(1)*sin(2), -795774.715459*cos(1)]])*Matrix([\n",
       "[1],\n",
       "[1],\n",
       "[2]]) + Matrix([[-795774.715459*sin(3)*cos(4), -795774.715459*sin(3)*sin(4), -795774.715459*cos(3)]])*Matrix([\n",
       "[1],\n",
       "[1],\n",
       "[2]])"
      ]
     },
     "execution_count": 474,
     "metadata": {},
     "output_type": "execute_result"
    }
   ],
   "source": [
    "e_sub = {\n",
    "    theta: 1,\n",
    "    phi: 2,\n",
    "    lamb: 3,\n",
    "    omega: 4,\n",
    "    Ms1: 1 * TtoAm,\n",
    "    Ms2: 1 * TtoAm,\n",
    "    Hext: sym.Matrix([1, 1, 2])\n",
    "}\n",
    "ext.subs(e_sub)"
   ]
  },
  {
   "cell_type": "code",
   "execution_count": 479,
   "metadata": {},
   "outputs": [
    {
     "data": {
      "text/latex": [
       "$\\displaystyle \\left[\\begin{matrix}19082768842.6502 & 216463977035.488 & -593340194101.275 & -6881485487.03261\\\\-601318715079.415 & -346927532120.719 & 277019389357.856 & 3212836289.22918\\\\-16097269743.0496 & -23991938245.0383 & -38569222703.2419 & 78181176112.4285\\\\655040342853.859 & 574440983897.649 & -13111934531.226 & 158123140679.777\\end{matrix}\\right]$"
      ],
      "text/plain": [
       "Matrix([\n",
       "[ 19082768842.6502,  216463977035.488, -593340194101.275, -6881485487.03261],\n",
       "[-601318715079.415, -346927532120.719,  277019389357.856,  3212836289.22918],\n",
       "[-16097269743.0496, -23991938245.0383, -38569222703.2419,  78181176112.4285],\n",
       "[ 655040342853.859,  574440983897.649,  -13111934531.226,  158123140679.777]])"
      ]
     },
     "execution_count": 479,
     "metadata": {},
     "output_type": "execute_result"
    }
   ],
   "source": [
    "\"\"\"\n",
    "This contains also the parameter order\n",
    "\"\"\"\n",
    "sub = {\n",
    "    theta: 1,\n",
    "    phi: 2,\n",
    "    lamb: 3,\n",
    "    omega: 4,\n",
    "    # Hoe\n",
    "    Hoe: 2,\n",
    "    # Hext\n",
    "    Hext: sym.Matrix([1, 1, 2]),\n",
    "    # dipole 1\n",
    "    dipoleTensor12: sym.Matrix([[1, 1, 1], [1, 1, 1], [1, 1, 1]]),\n",
    "    # dipole 2\n",
    "    dipoleTensor21: sym.Matrix([[1, 1, 1], [1, 1, 1], [1, 1, 1]]),\n",
    "    # demag 1\n",
    "    demagTensor1: sym.Matrix([[0, 0, 0], [0, 0, 0], [0, 0, 1]]),\n",
    "    # demag 2\n",
    "    demagTensor2: sym.Matrix([[0, 0, 0], [0, 0, 0], [0, 0, 1]]),\n",
    "    gamma: 2.21e5,\n",
    "    alpha1: 0.035,\n",
    "    alpha2: 0.035,\n",
    "    torque_par: 1.0,\n",
    "    torque_per: 1.0,\n",
    "    Ms1: 1 * TtoAm,\n",
    "    Ms2: 1 * TtoAm,\n",
    "    K1: 350e3,\n",
    "    K2: 650e3,\n",
    "    mu: 1\n",
    "}\n",
    "\n",
    "# energy.subs(sub)\n",
    "dM.evalf(subs=sub)"
   ]
  },
  {
   "cell_type": "code",
   "execution_count": 480,
   "metadata": {},
   "outputs": [
    {
     "data": {
      "text/plain": [
       "array([[19082768842.6501, 216463977035.488, -593340194101.275,\n",
       "        -6881485487.03261],\n",
       "       [-601318715079.415, -346927532120.719, 277019389357.856,\n",
       "        3212836289.22918],\n",
       "       [-16097269743.0496, -23991938245.0383, -38569222703.2418,\n",
       "        78181176112.4285],\n",
       "       [655040342853.859, 574440983897.649, -13111934531.2261,\n",
       "        158123140679.777]], dtype=object)"
      ]
     },
     "execution_count": 480,
     "metadata": {},
     "output_type": "execute_result"
    }
   ],
   "source": [
    "# test the function\n",
    "dMFunction = sym.lambdify([list(sub.keys())], dM, \"numpy\")\n",
    "dMFunction(list(sub.values()))"
   ]
  },
  {
   "cell_type": "markdown",
   "metadata": {},
   "source": [
    "## The energy function and gradient"
   ]
  },
  {
   "cell_type": "code",
   "execution_count": 481,
   "metadata": {},
   "outputs": [
    {
     "data": {
      "text/latex": [
       "$\\displaystyle K_{1} \\left(\\sin^{2}{\\left(\\Phi \\right)} \\sin^{2}{\\left(\\Theta \\right)} + \\cos^{2}{\\left(\\Theta \\right)}\\right) + K_{2} \\left(\\sin^{2}{\\left(\\Lambda \\right)} \\sin^{2}{\\left(\\Omega \\right)} + \\cos^{2}{\\left(\\Lambda \\right)}\\right) - M_{s1} \\sin{\\left(\\Phi \\right)} \\sin{\\left(\\Theta \\right)} He_{1, 0} - M_{s1} \\sin{\\left(\\Theta \\right)} \\cos{\\left(\\Phi \\right)} He_{0, 0} - M_{s1} \\cos{\\left(\\Theta \\right)} He_{2, 0} - \\frac{M_{s1} \\left(M_{s2} \\sin{\\left(\\Lambda \\right)} \\sin{\\left(\\Omega \\right)} No_{0, 1} + M_{s2} \\sin{\\left(\\Lambda \\right)} \\cos{\\left(\\Omega \\right)} No_{0, 0} + M_{s2} \\cos{\\left(\\Lambda \\right)} No_{0, 2}\\right) \\sin{\\left(\\Theta \\right)} \\cos{\\left(\\Phi \\right)}}{\\mu} - \\frac{M_{s1} \\left(M_{s2} \\sin{\\left(\\Lambda \\right)} \\sin{\\left(\\Omega \\right)} No_{1, 1} + M_{s2} \\sin{\\left(\\Lambda \\right)} \\cos{\\left(\\Omega \\right)} No_{1, 0} + M_{s2} \\cos{\\left(\\Lambda \\right)} No_{1, 2}\\right) \\sin{\\left(\\Phi \\right)} \\sin{\\left(\\Theta \\right)}}{\\mu} - \\frac{M_{s1} \\left(M_{s2} \\sin{\\left(\\Lambda \\right)} \\sin{\\left(\\Omega \\right)} No_{2, 1} + M_{s2} \\sin{\\left(\\Lambda \\right)} \\cos{\\left(\\Omega \\right)} No_{2, 0} + M_{s2} \\cos{\\left(\\Lambda \\right)} No_{2, 2}\\right) \\cos{\\left(\\Theta \\right)}}{\\mu} - M_{s2} \\sin{\\left(\\Lambda \\right)} \\sin{\\left(\\Omega \\right)} He_{1, 0} - M_{s2} \\sin{\\left(\\Lambda \\right)} \\cos{\\left(\\Omega \\right)} He_{0, 0} - M_{s2} \\cos{\\left(\\Lambda \\right)} He_{2, 0} - \\frac{M_{s2} \\left(M_{s1} \\sin{\\left(\\Phi \\right)} \\sin{\\left(\\Theta \\right)} Nt_{0, 1} + M_{s1} \\sin{\\left(\\Theta \\right)} \\cos{\\left(\\Phi \\right)} Nt_{0, 0} + M_{s1} \\cos{\\left(\\Theta \\right)} Nt_{0, 2}\\right) \\sin{\\left(\\Lambda \\right)} \\cos{\\left(\\Omega \\right)}}{\\mu} - \\frac{M_{s2} \\left(M_{s1} \\sin{\\left(\\Phi \\right)} \\sin{\\left(\\Theta \\right)} Nt_{1, 1} + M_{s1} \\sin{\\left(\\Theta \\right)} \\cos{\\left(\\Phi \\right)} Nt_{1, 0} + M_{s1} \\cos{\\left(\\Theta \\right)} Nt_{1, 2}\\right) \\sin{\\left(\\Lambda \\right)} \\sin{\\left(\\Omega \\right)}}{\\mu} - \\frac{M_{s2} \\left(M_{s1} \\sin{\\left(\\Phi \\right)} \\sin{\\left(\\Theta \\right)} Nt_{2, 1} + M_{s1} \\sin{\\left(\\Theta \\right)} \\cos{\\left(\\Phi \\right)} Nt_{2, 0} + M_{s1} \\cos{\\left(\\Theta \\right)} Nt_{2, 2}\\right) \\cos{\\left(\\Lambda \\right)}}{\\mu} + \\frac{M_{s1} \\left(- M_{s1} \\sin{\\left(\\Phi \\right)} \\sin{\\left(\\Theta \\right)} Do_{1, 0} - M_{s1} \\sin{\\left(\\Theta \\right)} \\cos{\\left(\\Phi \\right)} Do_{0, 0} - M_{s1} \\cos{\\left(\\Theta \\right)} Do_{2, 0}\\right) \\sin{\\left(\\Theta \\right)} \\cos{\\left(\\Phi \\right)} + M_{s1} \\left(- M_{s1} \\sin{\\left(\\Phi \\right)} \\sin{\\left(\\Theta \\right)} Do_{1, 1} - M_{s1} \\sin{\\left(\\Theta \\right)} \\cos{\\left(\\Phi \\right)} Do_{0, 1} - M_{s1} \\cos{\\left(\\Theta \\right)} Do_{2, 1}\\right) \\sin{\\left(\\Phi \\right)} \\sin{\\left(\\Theta \\right)} + M_{s1} \\left(- M_{s1} \\sin{\\left(\\Phi \\right)} \\sin{\\left(\\Theta \\right)} Do_{1, 2} - M_{s1} \\sin{\\left(\\Theta \\right)} \\cos{\\left(\\Phi \\right)} Do_{0, 2} - M_{s1} \\cos{\\left(\\Theta \\right)} Do_{2, 2}\\right) \\cos{\\left(\\Theta \\right)}}{\\mu} - \\frac{M_{s2} \\left(M_{s2} \\sin{\\left(\\Lambda \\right)} \\sin{\\left(\\Omega \\right)} Dt_{1, 0} + M_{s2} \\sin{\\left(\\Lambda \\right)} \\cos{\\left(\\Omega \\right)} Dt_{0, 0} + M_{s2} \\cos{\\left(\\Lambda \\right)} Dt_{2, 0}\\right) \\sin{\\left(\\Lambda \\right)} \\cos{\\left(\\Omega \\right)} + M_{s2} \\left(M_{s2} \\sin{\\left(\\Lambda \\right)} \\sin{\\left(\\Omega \\right)} Dt_{1, 1} + M_{s2} \\sin{\\left(\\Lambda \\right)} \\cos{\\left(\\Omega \\right)} Dt_{0, 1} + M_{s2} \\cos{\\left(\\Lambda \\right)} Dt_{2, 1}\\right) \\sin{\\left(\\Lambda \\right)} \\sin{\\left(\\Omega \\right)} + M_{s2} \\left(M_{s2} \\sin{\\left(\\Lambda \\right)} \\sin{\\left(\\Omega \\right)} Dt_{1, 2} + M_{s2} \\sin{\\left(\\Lambda \\right)} \\cos{\\left(\\Omega \\right)} Dt_{0, 2} + M_{s2} \\cos{\\left(\\Lambda \\right)} Dt_{2, 2}\\right) \\cos{\\left(\\Lambda \\right)}}{\\mu}$"
      ],
      "text/plain": [
       "K1*(sin(Phi)**2*sin(Theta)**2 + cos(Theta)**2) + K2*(sin(Lambda)**2*sin(Omega)**2 + cos(Lambda)**2) - M_s1*sin(Phi)*sin(Theta)*He[1, 0] - M_s1*sin(Theta)*cos(Phi)*He[0, 0] - M_s1*cos(Theta)*He[2, 0] - M_s1*(M_s2*sin(Lambda)*sin(Omega)*No[0, 1] + M_s2*sin(Lambda)*cos(Omega)*No[0, 0] + M_s2*cos(Lambda)*No[0, 2])*sin(Theta)*cos(Phi)/\\mu - M_s1*(M_s2*sin(Lambda)*sin(Omega)*No[1, 1] + M_s2*sin(Lambda)*cos(Omega)*No[1, 0] + M_s2*cos(Lambda)*No[1, 2])*sin(Phi)*sin(Theta)/\\mu - M_s1*(M_s2*sin(Lambda)*sin(Omega)*No[2, 1] + M_s2*sin(Lambda)*cos(Omega)*No[2, 0] + M_s2*cos(Lambda)*No[2, 2])*cos(Theta)/\\mu - M_s2*sin(Lambda)*sin(Omega)*He[1, 0] - M_s2*sin(Lambda)*cos(Omega)*He[0, 0] - M_s2*cos(Lambda)*He[2, 0] - M_s2*(M_s1*sin(Phi)*sin(Theta)*Nt[0, 1] + M_s1*sin(Theta)*cos(Phi)*Nt[0, 0] + M_s1*cos(Theta)*Nt[0, 2])*sin(Lambda)*cos(Omega)/\\mu - M_s2*(M_s1*sin(Phi)*sin(Theta)*Nt[1, 1] + M_s1*sin(Theta)*cos(Phi)*Nt[1, 0] + M_s1*cos(Theta)*Nt[1, 2])*sin(Lambda)*sin(Omega)/\\mu - M_s2*(M_s1*sin(Phi)*sin(Theta)*Nt[2, 1] + M_s1*sin(Theta)*cos(Phi)*Nt[2, 0] + M_s1*cos(Theta)*Nt[2, 2])*cos(Lambda)/\\mu + (M_s1*(-M_s1*sin(Phi)*sin(Theta)*Do[1, 0] - M_s1*sin(Theta)*cos(Phi)*Do[0, 0] - M_s1*cos(Theta)*Do[2, 0])*sin(Theta)*cos(Phi) + M_s1*(-M_s1*sin(Phi)*sin(Theta)*Do[1, 1] - M_s1*sin(Theta)*cos(Phi)*Do[0, 1] - M_s1*cos(Theta)*Do[2, 1])*sin(Phi)*sin(Theta) + M_s1*(-M_s1*sin(Phi)*sin(Theta)*Do[1, 2] - M_s1*sin(Theta)*cos(Phi)*Do[0, 2] - M_s1*cos(Theta)*Do[2, 2])*cos(Theta))/\\mu - (M_s2*(M_s2*sin(Lambda)*sin(Omega)*Dt[1, 0] + M_s2*sin(Lambda)*cos(Omega)*Dt[0, 0] + M_s2*cos(Lambda)*Dt[2, 0])*sin(Lambda)*cos(Omega) + M_s2*(M_s2*sin(Lambda)*sin(Omega)*Dt[1, 1] + M_s2*sin(Lambda)*cos(Omega)*Dt[0, 1] + M_s2*cos(Lambda)*Dt[2, 1])*sin(Lambda)*sin(Omega) + M_s2*(M_s2*sin(Lambda)*sin(Omega)*Dt[1, 2] + M_s2*sin(Lambda)*cos(Omega)*Dt[0, 2] + M_s2*cos(Lambda)*Dt[2, 2])*cos(Lambda))/\\mu"
      ]
     },
     "execution_count": 481,
     "metadata": {},
     "output_type": "execute_result"
    }
   ],
   "source": [
    "energy"
   ]
  },
  {
   "cell_type": "code",
   "execution_count": 482,
   "metadata": {},
   "outputs": [
    {
     "data": {
      "text/latex": [
       "$\\displaystyle 633066759164.413$"
      ],
      "text/plain": [
       "633066759164.413"
      ]
     },
     "execution_count": 482,
     "metadata": {},
     "output_type": "execute_result"
    }
   ],
   "source": [
    "energy.evalf(subs=sub)"
   ]
  },
  {
   "cell_type": "code",
   "execution_count": 483,
   "metadata": {},
   "outputs": [
    {
     "data": {
      "text/latex": [
       "$\\displaystyle \\left[\\begin{matrix}-290120349939.702\\\\-1679597492691.22\\\\-1695583609214.2\\\\-17613005959.2821\\end{matrix}\\right]$"
      ],
      "text/plain": [
       "Matrix([\n",
       "[-290120349939.702],\n",
       "[-1679597492691.22],\n",
       "[ -1695583609214.2],\n",
       "[-17613005959.2821]])"
      ]
     },
     "execution_count": 483,
     "metadata": {},
     "output_type": "execute_result"
    }
   ],
   "source": [
    "# a vector of energy derivatives w.r.t to each of the angles\n",
    "energy_gradient = sym.Matrix([\n",
    "    sym.diff(energy, theta),\n",
    "    sym.diff(energy, phi),\n",
    "    sym.diff(energy, lamb),\n",
    "    sym.diff(energy, omega),\n",
    "])\n",
    "energy_gradient.evalf(subs=sub)"
   ]
  },
  {
   "cell_type": "code",
   "execution_count": 487,
   "metadata": {},
   "outputs": [
    {
     "name": "stdout",
     "output_type": "stream",
     "text": [
      "[[-290120349939.702]\n",
      " [-1679597492691.22]\n",
      " [-1695583609214.20]\n",
      " [-17613005959.2821]]\n"
     ]
    }
   ],
   "source": [
    "energyFunction = sym.lambdify([list(sub.keys())], energy, \"numpy\")\n",
    "energyGradientFunction = sym.lambdify([list(sub.keys())], energy_gradient, \"numpy\")\n",
    "print(energyGradientFunction(list(sub.values())))"
   ]
  },
  {
   "cell_type": "markdown",
   "metadata": {},
   "source": [
    "## Numerical optimisations"
   ]
  },
  {
   "cell_type": "code",
   "execution_count": 549,
   "metadata": {},
   "outputs": [
    {
     "data": {
      "text/plain": [
       "array([[ 1.80939313e+12],\n",
       "       [-6.48103177e+11],\n",
       "       [ 1.36161254e+12],\n",
       "       [ 3.04628517e+05]])"
      ]
     },
     "execution_count": 549,
     "metadata": {},
     "output_type": "execute_result"
    }
   ],
   "source": [
    "x0 = {\n",
    "    theta: to_radian(88),\n",
    "    phi: to_radian(45),\n",
    "    lamb: to_radian(88),\n",
    "    omega: to_radian(45),\n",
    "    # Hoe\n",
    "    Hoe: 397.88,\n",
    "    # Hext\n",
    "    Hext: np.array([[1], [1], [2]]),\n",
    "    # dipole 1\n",
    "    dipoleTensor12: np.array([[0, 0, 0], [1, 1, 1], [1, 1, 1]]),\n",
    "    # dipole 2\n",
    "    dipoleTensor21: np.array([[1, 1, 1], [1, 1, 1], [1, 1, 1]]),\n",
    "    # demag 1\n",
    "    demagTensor1: np.array([[0, 0, 0], [0, 0, 0], [0, 0, 1]]),\n",
    "    # demag 2\n",
    "    demagTensor2: np.array([[0, 0, 0], [0, 0, 0], [0, 0, 1]]),\n",
    "    gamma: 2.21e5,\n",
    "    alpha1: 0.035,\n",
    "    alpha2: 0.035,\n",
    "    torque_par: 0.0,\n",
    "    torque_per: 0.0,\n",
    "    Ms1: 1 * TtoAm,\n",
    "    Ms2: 1 * TtoAm,\n",
    "    K1: 728e3,\n",
    "    K2: 305e3,\n",
    "    mu: 1\n",
    "}\n",
    "energyGradientFunction(list(x0.values()))"
   ]
  },
  {
   "cell_type": "code",
   "execution_count": 563,
   "metadata": {},
   "outputs": [
    {
     "data": {
      "text/plain": [
       "      fun: -1210478933370.89\n",
       " hess_inv: <4x4 LbfgsInvHessProduct with dtype=float64>\n",
       "      jac: array([[-1.35461602e+06],\n",
       "       [-1.15704970e+09],\n",
       "       [-1.35459547e+06],\n",
       "       [-1.15704891e+09]])\n",
       "  message: b'CONVERGENCE: REL_REDUCTION_OF_F_<=_FACTR*EPSMCH'\n",
       "     nfev: 4\n",
       "      nit: 3\n",
       "     njev: 4\n",
       "   status: 0\n",
       "  success: True\n",
       "        x: array([0.02402134, 6.28318531, 0.02402133, 6.28318531])"
      ]
     },
     "execution_count": 563,
     "metadata": {},
     "output_type": "execute_result"
    }
   ],
   "source": [
    "import numpy as np\n",
    "from scipy.optimize import minimize\n",
    "\n",
    "MAGNETIC_PERMEABILITY = 12.57e-7\n",
    "TtoAm = 795774.715459\n",
    "\n",
    "\n",
    "def opt_wrapper_cost(x, args):\n",
    "    theta, phi, lamb, omega = x\n",
    "    return energyFunction([theta, phi, lamb, omega] + args)\n",
    "\n",
    "\n",
    "def opt_wrapper_grad(x, args):\n",
    "    theta, phi, lamb, omega = x\n",
    "    return energyGradientFunction([theta, phi, lamb, omega] + args)\n",
    "\n",
    "\n",
    "def to_radian(angle):\n",
    "    return angle * (np.pi / 180)\n",
    "\n",
    "\n",
    "def get_tensor_interaction(M, N):\n",
    "    return N @ M\n",
    "\n",
    "\n",
    "def cartiesian_from_spherical(r, inplane, azimuth):\n",
    "    return np.array([\n",
    "        r * np.sin(azimuth) * np.cos(inplane),\n",
    "        r * np.sin(azimuth) * np.sin(inplane), r * np.cos(azimuth)\n",
    "    ])\n",
    "\n",
    "\n",
    "\"\"\"\n",
    "        Spherical coords\n",
    "        Theta -- azimuth angle, L1\n",
    "        Phi -- inplane angle, L1\n",
    "        Lambda -- azimuth angle, L2\n",
    "        Omega -- inplane angle, L2\n",
    "\"\"\"\n",
    "\n",
    "x0 = {\n",
    "    theta: to_radian(90),\n",
    "    phi: to_radian(45),\n",
    "    lamb: to_radian(90),\n",
    "    omega: to_radian(45),\n",
    "}\n",
    "\n",
    "hext = np.expand_dims(cartiesian_from_spherical(0.1 * TtoAm, 45, 90), 0).T\n",
    "\n",
    "arg_set = {\n",
    "    # Hoe\n",
    "    Hoe: 397.88,\n",
    "    # Hext\n",
    "    Hext: hext,\n",
    "    # dipole 1\n",
    "    dipoleTensor12: np.array([[0, 0, 0], [0, 0, 0], [0, 0, 0]]),\n",
    "    # dipole 2\n",
    "    dipoleTensor21: np.array([[0, 0, 0], [0, 0, 0], [0, 0, 0]]),\n",
    "    # demag 1\n",
    "    demagTensor1: np.array([[0, 0, 0], [0, 0, 0], [0, 0, 1]]),\n",
    "    # demag 2\n",
    "    demagTensor2: np.array([[0, 0, 0], [0, 0, 0], [0, 0, 1]]),\n",
    "    gamma: 2.21e5,\n",
    "    alpha1: 0.035,\n",
    "    alpha2: 0.035,\n",
    "    torque_par: 0.0,\n",
    "    torque_per: 0.0,\n",
    "    Ms1: 1 * TtoAm,\n",
    "    Ms2: 1 * TtoAm,\n",
    "    K1: 728e3,\n",
    "    K2: 305e3,\n",
    "    mu: 1\n",
    "}\n",
    "\n",
    "bounds = [(0, np.pi * 2) for i in range(len(x0))]\n",
    "res = minimize(opt_wrapper_cost,\n",
    "               list(x0.values()),\n",
    "               bounds=bounds,\n",
    "               args=list(arg_set.values()),\n",
    "               jac=opt_wrapper_grad,\n",
    "               tol=1e-4)\n",
    "res"
   ]
  },
  {
   "cell_type": "code",
   "execution_count": 564,
   "metadata": {},
   "outputs": [],
   "source": [
    "matrix_res = dMFunction(res.x.tolist() + list(arg_set.values()))\n",
    "eigenvalues, eigenvectors = np.linalg.eig(matrix_res)"
   ]
  },
  {
   "cell_type": "code",
   "execution_count": 565,
   "metadata": {},
   "outputs": [
    {
     "name": "stdout",
     "output_type": "stream",
     "text": [
      "[334.18722537 440.14264764 464.17615061]\n"
     ]
    }
   ],
   "source": [
    "print(np.unique(np.abs(eigenvalues)/1e9))"
   ]
  },
  {
   "cell_type": "code",
   "execution_count": 566,
   "metadata": {},
   "outputs": [
    {
     "name": "stdout",
     "output_type": "stream",
     "text": [
      "[ 4.40142648e+11+0.00000000e+00j -2.90088016e+11+1.65921803e+11j\n",
      " -2.90088016e+11-1.65921803e+11j -4.64176151e+11+0.00000000e+00j]\n"
     ]
    }
   ],
   "source": [
    "print(eigenvalues)"
   ]
  },
  {
   "cell_type": "markdown",
   "metadata": {},
   "source": [
    "# VSD scan"
   ]
  },
  {
   "cell_type": "code",
   "execution_count": 573,
   "metadata": {},
   "outputs": [],
   "source": [
    "from tqdm.notebook import tqdm\n",
    "\n",
    "\n",
    "def find_resonance(Hstart=0.1, Hstop=0.5, N=30):\n",
    "    x0 = {\n",
    "        theta: to_radian(90),\n",
    "        phi: to_radian(45),\n",
    "        lamb: to_radian(90),\n",
    "        omega: to_radian(45),\n",
    "    }\n",
    "    bounds = [(0, np.pi * 2) for i in range(len(x0))]\n",
    "    h_space = np.linspace(Hstart, Hstop, N)\n",
    "    bottom_f, top_f = [], []\n",
    "    for h in tqdm(h_space):\n",
    "        hext = np.expand_dims(cartiesian_from_spherical(h * TtoAm, 45, 45),\n",
    "                              0).T\n",
    "        arg_set = {\n",
    "            # Hoe\n",
    "            Hoe: 397.88,\n",
    "            # Hext\n",
    "            Hext: hext,\n",
    "            # dipole 1\n",
    "            dipoleTensor12: np.array([[0, 0, 0], [0, 0, 0], [0, 0, 0]]),\n",
    "            # dipole 2\n",
    "            dipoleTensor21: np.array([[0, 0, 0], [0, 0, 0], [0, 0, 0]]),\n",
    "            # demag 1\n",
    "            demagTensor1: np.array([[0, 0, 0], [0, 0, 0], [0, 0, 1]]),\n",
    "            # demag 2\n",
    "            demagTensor2: np.array([[0, 0, 0], [0, 0, 0], [0, 0, 1]]),\n",
    "            gamma: 2.21e5,\n",
    "            alpha1: 0.035,\n",
    "            alpha2: 0.035,\n",
    "            torque_par: 0.0,\n",
    "            torque_per: 0.0,\n",
    "            Ms1: 1 * TtoAm,\n",
    "            Ms2: 1 * TtoAm,\n",
    "            K1: 728e3,\n",
    "            K2: 305e3,\n",
    "            mu: 1\n",
    "        }\n",
    "        res = minimize(opt_wrapper_cost,\n",
    "                       list(x0.values()),\n",
    "                       bounds=bounds,\n",
    "                       args=list(arg_set.values()),\n",
    "                       jac=opt_wrapper_grad,\n",
    "                       tol=1e-4)\n",
    "        matrix_res = dMFunction(res.x.tolist() + list(arg_set.values()))\n",
    "#         print(matrix_res)\n",
    "        eigenvalues, eigenvectors = np.linalg.eig(matrix_res)\n",
    "        freqs = np.unique(np.abs(eigenvalues) / 1e9)\n",
    "        bottom_f.append(freqs[0])\n",
    "        top_f.append(freqs[1])\n",
    "    return h_space, bottom_f, top_f"
   ]
  },
  {
   "cell_type": "code",
   "execution_count": 574,
   "metadata": {
    "scrolled": false
   },
   "outputs": [
    {
     "data": {
      "application/vnd.jupyter.widget-view+json": {
       "model_id": "0a0a171be1df42aa9289ea81f059e21b",
       "version_major": 2,
       "version_minor": 0
      },
      "text/plain": [
       "  0%|          | 0/30 [00:00<?, ?it/s]"
      ]
     },
     "metadata": {},
     "output_type": "display_data"
    },
    {
     "data": {
      "text/plain": [
       "<matplotlib.legend.Legend at 0x13b074070>"
      ]
     },
     "execution_count": 574,
     "metadata": {},
     "output_type": "execute_result"
    },
    {
     "data": {
      "image/png": "[encoded data removed]",
      "text/plain": [
       "<Figure size 864x864 with 1 Axes>"
      ]
     },
     "metadata": {
      "needs_background": "light"
     },
     "output_type": "display_data"
    }
   ],
   "source": [
    "import matplotlib.pyplot as plt\n",
    "h_space, bottom_f, top_f = find_resonance(N = 30)\n",
    "\n",
    "fig, ax = plt.subplots(figsize=(12, 12))\n",
    "ax.plot(h_space, bottom_f, label=\"Bottom f\")\n",
    "ax.plot(h_space, top_f, label=\"Top f\")\n",
    "ax.set_xlabel(\"H [A/m]\")\n",
    "ax.set_ylabel(\"Frequency [GHz]\")\n",
    "ax.legend()"
   ]
  },
  {
   "cell_type": "code",
   "execution_count": null,
   "metadata": {},
   "outputs": [],
   "source": []
  }
 ],
 "metadata": {
  "kernelspec": {
   "display_name": "phys",
   "language": "python",
   "name": "phys"
  },
  "language_info": {
   "codemirror_mode": {
    "name": "ipython",
    "version": 3
   },
   "file_extension": ".py",
   "mimetype": "text/x-python",
   "name": "python",
   "nbconvert_exporter": "python",
   "pygments_lexer": "ipython3",
   "version": "3.9.0"
  },
  "toc": {
   "base_numbering": 1,
   "nav_menu": {},
   "number_sections": true,
   "sideBar": true,
   "skip_h1_title": false,
   "title_cell": "Table of Contents",
   "title_sidebar": "Contents",
   "toc_cell": false,
   "toc_position": {},
   "toc_section_display": true,
   "toc_window_display": false
  }
 },
 "nbformat": 4,
 "nbformat_minor": 4
}
