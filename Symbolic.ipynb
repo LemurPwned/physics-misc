{
 "cells": [
  {
   "cell_type": "code",
   "execution_count": 25,
   "metadata": {},
   "outputs": [],
   "source": [
    "import sympy as sym\n",
    "import sympy.printing as printing\n",
    "MAGNETIC_PERMEABILITY = 12.57e-7\n",
    "TtoAm = 795774.715459\n"
   ]
  },
  {
   "cell_type": "markdown",
   "metadata": {},
   "source": [
    "# Symbolic computation"
   ]
  },
  {
   "cell_type": "code",
   "execution_count": 187,
   "metadata": {},
   "outputs": [],
   "source": [
    "theta, phi, lamb, omega = sym.symbols('Theta Phi Lambda Omega')\n",
    "alpha1, alpha2, gamma = sym.symbols(\"alpha_1 alpha_2 gamma\")\n",
    "torque_par, torque_per = sym.symbols(\"tau_1 tau_2\")\n",
    "K1, K2 = sym.symbols(\"K1 K2\")\n",
    "Hoe = sym.symbols(\"H_{oe}\")\n",
    "\n",
    "\"\"\"\n",
    "Theta, azimuth L1\n",
    "Phi, inplane L1\n",
    "\n",
    "Lambda, azimuth L1\n",
    "Omega, inplane L2\n",
    "\"\"\"\n",
    "\n",
    "sinT = sym.sin(theta)\n",
    "cosT = sym.cos(theta)\n",
    "\n",
    "cosL = sym.cos(lamb)\n",
    "sinL = sym.sin(lamb)\n",
    "\n",
    "sinO = sym.sin(omega)\n",
    "cosO = sym.cos(omega)\n",
    "\n",
    "sinP = sym.sin(phi)\n",
    "cosP = sym.cos(phi)\n",
    "\n",
    "cosPO = sym.cos(phi - omega)\n",
    "sinPO = sym.sin(phi - omega)\n",
    "\n",
    "\n",
    "Ms1, Ms2 = sym.symbols(\"M_{s1} M_{s2}\")\n",
    "\n",
    "const1 = (gamma / Ms1) * (1 / (1 + alpha1**2))\n",
    "const2 = (gamma / Ms2) * (1 / (1 + alpha2**2))\n",
    "\n",
    "\n",
    "Ho1, Ho2, Ho3 = sym.symbols(\"H_{oe1} H_{oe2} H_{oe3}\")\n",
    "He1, He2, He3 = sym.symbols(\"H_{ext1} H_{ext2} H_{ext3}\")\n",
    "Hd11, Hd12, Hd13 = sym.symbols(\"H_{dip11} H_{dip12} H_{dip13}\")\n",
    "Hd21, Hd22, Hd23 = sym.symbols(\"H_{dip21} H_{dip22} H_{dip23}\")\n",
    "Hde11, Hde12, Hde13 = sym.symbols(\"H_{de11} H_{de12} H_{de13}\")\n",
    "Hde21, Hde22, Hde23 = sym.symbols(\"H_{de21} H_{de22} H_{de23}\")\n",
    "\n",
    "Hoe = sym.Matrix([Ho1, Ho2, Ho3])\n",
    "Hext = sym.Matrix([He1, He2, He3])\n",
    "Hdip1 = sym.Matrix([Hd11, Hd12, Hd13])\n",
    "Hdip2 = sym.Matrix([Hd21, Hd22, Hd23])\n",
    "Hdemag1 = sym.Matrix([Hde11, Hde12, Hde13])\n",
    "Hdemag2 = sym.Matrix([Hde21, Hde22, Hde23])\n",
    "\n",
    "M1 = sym.Matrix([Ms1 * sinT * cosP, Ms1 * sinT * sinP, Ms1 * cosT])\n",
    "M2 = sym.Matrix([Ms2 * sinL * cosO, Ms2 * sinL * sinO, Ms2 * cosL])\n",
    "\n",
    "# Hext = sym.MatrixSymbol(\"H_{ext}\", 1, 3)\n",
    "# Hdip1 = sym.MatrixSymbol(\"H_{dip1}\", 1, 3)\n",
    "# Hdip2 = sym.MatrixSymbol(\"H_{dip2}\", 1, 3)\n",
    "# Hdemag1 = sym.MatrixSymbol(\"H_{demag1}\", 1, 3)\n",
    "# Hdemag2 = sym.MatrixSymbol(\"H_{demag2}\", 1, 3)\n",
    "\n",
    "# M1 = sym.MatrixSymbol(\"M_{s1}\", 1, 3)\n",
    "# M2 = sym.MatrixSymbol(\"M_{s2}\", 1, 3)\n",
    "\n",
    "\n",
    "\n",
    "anisotropies = K1 * (cosT**2 + (sinT**2) *\n",
    "                     (sinP**2)) + K2 * (cosL**2 + (sinL**2) * (sinO**2))\n",
    "dipole = -M1.dot(Hdip2) - M2.dot(Hdip1)\n",
    "demag = -M1.dot(Hdemag1) - M2.dot(Hdemag2)\n",
    "ext = -M1.dot(Hext) - M2.dot(Hext)\n",
    "\"\"\"\n",
    "Can't figure out the part below for the Matrix Symbol\n",
    "\"\"\"\n",
    "# dipole = -M1*Hdip2.T - M2*Hdip1.T\n",
    "# demag = -M1*Hdemag1.T - M2*Hdemag2.T\n",
    "# ext = -M1*Hext.T - M2*Hext.T\n",
    "\n",
    "energy = anisotropies + dipole + demag + ext\n",
    "dUdP = sym.diff(energy, phi)\n",
    "dUdT = sym.diff(energy, theta)\n",
    "dUdO = sym.diff(energy, omega)\n",
    "dUdL = sym.diff(energy, lamb)"
   ]
  },
  {
   "cell_type": "code",
   "execution_count": 100,
   "metadata": {},
   "outputs": [],
   "source": [
    "dTheta = const1 * ((-1 / sinT)*dUdP - alpha1*dUdT -\n",
    "                  (cosL * sinT - cosT * sinL * cosPO) *\n",
    "                  (torque_par + alpha1 * torque_per) - (sinL * sinPO) *\n",
    "                  (alpha1 * torque_par - torque_per) + Ms1*Hoe)"
   ]
  },
  {
   "cell_type": "code",
   "execution_count": 91,
   "metadata": {},
   "outputs": [],
   "source": [
    "dPhi = const1 * ((1 / sinT) * dUdT - (alpha1 / (sinT**2)) * dUdP + (1 / sinT) *\n",
    "                (cosL * sinT - cosT * sinL * cosPO) *\n",
    "                (alpha1 * torque_par - torque_per) \n",
    "                - (1/sinT)*(sinL*sinPO)*(torque_par + alpha1*torque_per) + alpha1*Ms1*Hoe/sinT)"
   ]
  },
  {
   "cell_type": "code",
   "execution_count": 92,
   "metadata": {},
   "outputs": [],
   "source": [
    "dLam = const2 * ((-1 / sinT)*dUdO - alpha2*dUdL +\n",
    "                  (-sinL * cosT + sinT * cosL * cosPO) *\n",
    "                  (torque_par + alpha2 * torque_per) + (sinL * sinPO) *\n",
    "                  (alpha2 * torque_par + torque_per) + Ms2*Hoe) "
   ]
  },
  {
   "cell_type": "code",
   "execution_count": 93,
   "metadata": {},
   "outputs": [],
   "source": [
    "dOmega = const2 * ((1 / sinT) * dUdL - (alpha2 / (sinL**2)) * dUdO - (1 / sinL) *\n",
    "                (sinL * cosT - sinT *cosL * cosPO) *\n",
    "                (torque_per - alpha2 * torque_par) \n",
    "                + (1/sinL)*(sinT*sinPO)*(torque_par - alpha2*torque_per) + alpha2*Ms2*Hoe/sinL)"
   ]
  },
  {
   "cell_type": "markdown",
   "metadata": {},
   "source": [
    "## The derivative matrix "
   ]
  },
  {
   "cell_type": "code",
   "execution_count": 122,
   "metadata": {},
   "outputs": [],
   "source": [
    "dM = sym.Matrix([\n",
    "    [\n",
    "        sym.diff(dTheta, theta),\n",
    "        sym.diff(dTheta, phi),\n",
    "        sym.diff(dTheta, lamb),\n",
    "        sym.diff(dTheta, omega)\n",
    "    ],\n",
    "    [\n",
    "        sym.diff(dPhi, theta),\n",
    "        sym.diff(dPhi, phi),\n",
    "        sym.diff(dPhi, lamb),\n",
    "        sym.diff(dPhi, omega)\n",
    "    ],\n",
    "    [\n",
    "        sym.diff(dLam, theta),\n",
    "        sym.diff(dLam, phi),\n",
    "        sym.diff(dLam, lamb),\n",
    "        sym.diff(dLam, omega)\n",
    "    ],\n",
    "    [\n",
    "        sym.diff(dOmega, theta),\n",
    "        sym.diff(dOmega, phi),\n",
    "        sym.diff(dOmega, lamb),\n",
    "        sym.diff(dOmega, omega)\n",
    "    ]]\n",
    ")"
   ]
  },
  {
   "cell_type": "code",
   "execution_count": 170,
   "metadata": {},
   "outputs": [
    {
     "data": {
      "text/latex": [
       "$\\displaystyle \\left[\\begin{matrix}7449.77426608095 & -577180.312268086 & 0.338949450439031 & -0.00418479210239431\\\\985772.506426296 & 1025004.48517294 & -0.198540949002376 & -0.0420899406931635\\\\-12001.0454815646 & -0.234323771239703 & -64155.5729692391 & 311521.739498639\\\\1323372.57650519 & -2.1009604200395 & -262336.979320066 & 566627.2453772\\end{matrix}\\right]$"
      ],
      "text/plain": [
       "Matrix([\n",
       "[ 7449.77426608095,  -577180.312268086,  0.338949450439031, -0.00418479210239431],\n",
       "[ 985772.506426296,   1025004.48517294, -0.198540949002376,  -0.0420899406931635],\n",
       "[-12001.0454815646, -0.234323771239703,  -64155.5729692391,     311521.739498639],\n",
       "[ 1323372.57650519,   -2.1009604200395,  -262336.979320066,       566627.2453772]])"
      ]
     },
     "execution_count": 170,
     "metadata": {},
     "output_type": "execute_result"
    }
   ],
   "source": [
    "\"\"\"\n",
    "This contains also the parameter order\n",
    "\"\"\"\n",
    "sub = {\n",
    "    theta: 1,\n",
    "    phi: 2,\n",
    "    lamb: 3,\n",
    "    omega: 4,\n",
    "    # Hoe\n",
    "    Hoe: 2,\n",
    "    # Hext\n",
    "    He1: 1,\n",
    "    He2: 2,\n",
    "    He3: 1,\n",
    "    # dipole 1\n",
    "    Hd11: 2,\n",
    "    Hd12: 3,\n",
    "    Hd13: 1,\n",
    "    # dipole 2\n",
    "    Hd21: 2,\n",
    "    Hd22: 3,\n",
    "    Hd23: 1,\n",
    "    # demag 1 \n",
    "    Hde11: 3,\n",
    "    Hde12: 1,\n",
    "    Hde13: 1,\n",
    "    # demag 2\n",
    "    Hde21: 3,\n",
    "    Hde22: 1,\n",
    "    Hde23: 1,\n",
    "    gamma: 2.21e5,\n",
    "    alpha1: 0.035,\n",
    "    alpha2: 0.035,\n",
    "    torque_par: 1.0,\n",
    "    torque_per: 1.0,\n",
    "    Ms1: 1 * TtoAm,\n",
    "    Ms2: 1 * TtoAm,\n",
    "    K1: 350e3,\n",
    "    K2: 650e3\n",
    "}\n",
    "\n",
    "dM.evalf(subs=sub)"
   ]
  },
  {
   "cell_type": "code",
   "execution_count": 171,
   "metadata": {},
   "outputs": [],
   "source": [
    "dMFunction = sym.lambdify([list(sub.keys())], dM, \"numpy\")"
   ]
  },
  {
   "cell_type": "markdown",
   "metadata": {},
   "source": [
    "## The energy function and gradient"
   ]
  },
  {
   "cell_type": "code",
   "execution_count": 114,
   "metadata": {},
   "outputs": [
    {
     "data": {
      "text/latex": [
       "$\\displaystyle - H_{de11} M_{s1} \\sin{\\left(\\Theta \\right)} \\cos{\\left(\\Phi \\right)} - H_{de12} M_{s1} \\sin{\\left(\\Phi \\right)} \\sin{\\left(\\Theta \\right)} - H_{de13} M_{s1} \\cos{\\left(\\Theta \\right)} - H_{de21} M_{s2} \\sin{\\left(\\Lambda \\right)} \\cos{\\left(\\Omega \\right)} - H_{de22} M_{s2} \\sin{\\left(\\Lambda \\right)} \\sin{\\left(\\Omega \\right)} - H_{de23} M_{s2} \\cos{\\left(\\Lambda \\right)} - H_{dip11} M_{s2} \\sin{\\left(\\Lambda \\right)} \\cos{\\left(\\Omega \\right)} - H_{dip12} M_{s2} \\sin{\\left(\\Lambda \\right)} \\sin{\\left(\\Omega \\right)} - H_{dip13} M_{s2} \\cos{\\left(\\Lambda \\right)} - H_{dip21} M_{s1} \\sin{\\left(\\Theta \\right)} \\cos{\\left(\\Phi \\right)} - H_{dip22} M_{s1} \\sin{\\left(\\Phi \\right)} \\sin{\\left(\\Theta \\right)} - H_{dip23} M_{s1} \\cos{\\left(\\Theta \\right)} - H_{ext1} M_{s1} \\sin{\\left(\\Theta \\right)} \\cos{\\left(\\Phi \\right)} - H_{ext1} M_{s2} \\sin{\\left(\\Lambda \\right)} \\cos{\\left(\\Omega \\right)} - H_{ext2} M_{s1} \\sin{\\left(\\Phi \\right)} \\sin{\\left(\\Theta \\right)} - H_{ext2} M_{s2} \\sin{\\left(\\Lambda \\right)} \\sin{\\left(\\Omega \\right)} - H_{ext3} M_{s1} \\cos{\\left(\\Theta \\right)} - H_{ext3} M_{s2} \\cos{\\left(\\Lambda \\right)} + K_{1} \\left(\\sin^{2}{\\left(\\Phi \\right)} \\sin^{2}{\\left(\\Theta \\right)} + \\cos^{2}{\\left(\\Theta \\right)}\\right) + K_{2} \\left(\\sin^{2}{\\left(\\Lambda \\right)} \\sin^{2}{\\left(\\Omega \\right)} + \\cos^{2}{\\left(\\Lambda \\right)}\\right)$"
      ],
      "text/plain": [
       "-H_{de11}*M_{s1}*sin(Theta)*cos(Phi) - H_{de12}*M_{s1}*sin(Phi)*sin(Theta) - H_{de13}*M_{s1}*cos(Theta) - H_{de21}*M_{s2}*sin(Lambda)*cos(Omega) - H_{de22}*M_{s2}*sin(Lambda)*sin(Omega) - H_{de23}*M_{s2}*cos(Lambda) - H_{dip11}*M_{s2}*sin(Lambda)*cos(Omega) - H_{dip12}*M_{s2}*sin(Lambda)*sin(Omega) - H_{dip13}*M_{s2}*cos(Lambda) - H_{dip21}*M_{s1}*sin(Theta)*cos(Phi) - H_{dip22}*M_{s1}*sin(Phi)*sin(Theta) - H_{dip23}*M_{s1}*cos(Theta) - H_{ext1}*M_{s1}*sin(Theta)*cos(Phi) - H_{ext1}*M_{s2}*sin(Lambda)*cos(Omega) - H_{ext2}*M_{s1}*sin(Phi)*sin(Theta) - H_{ext2}*M_{s2}*sin(Lambda)*sin(Omega) - H_{ext3}*M_{s1}*cos(Theta) - H_{ext3}*M_{s2}*cos(Lambda) + K1*(sin(Phi)**2*sin(Theta)**2 + cos(Theta)**2) + K2*(sin(Lambda)**2*sin(Omega)**2 + cos(Lambda)**2)"
      ]
     },
     "execution_count": 114,
     "metadata": {},
     "output_type": "execute_result"
    }
   ],
   "source": [
    "energy"
   ]
  },
  {
   "cell_type": "code",
   "execution_count": 172,
   "metadata": {},
   "outputs": [
    {
     "data": {
      "text/latex": [
       "$\\displaystyle 994119.049798854$"
      ],
      "text/plain": [
       "994119.049798854"
      ]
     },
     "execution_count": 172,
     "metadata": {},
     "output_type": "execute_result"
    }
   ],
   "source": [
    "energy.evalf(subs=sub)"
   ]
  },
  {
   "cell_type": "code",
   "execution_count": 173,
   "metadata": {},
   "outputs": [
    {
     "data": {
      "text/latex": [
       "$\\displaystyle \\left[\\begin{matrix}681542.379191033\\\\5137719.42530403\\\\-6252493.39216735\\\\-56701.3821265716\\end{matrix}\\right]$"
      ],
      "text/plain": [
       "Matrix([\n",
       "[ 681542.379191033],\n",
       "[ 5137719.42530403],\n",
       "[-6252493.39216735],\n",
       "[-56701.3821265716]])"
      ]
     },
     "execution_count": 173,
     "metadata": {},
     "output_type": "execute_result"
    }
   ],
   "source": [
    "# a vector of energy derivatives w.r.t to each of the angles\n",
    "energy_gradient = sym.Matrix([\n",
    "    sym.diff(energy, theta),\n",
    "    sym.diff(energy, phi),\n",
    "    sym.diff(energy, lamb),\n",
    "    sym.diff(energy, omega),\n",
    "])\n",
    "energy_gradient.evalf(subs=sub)"
   ]
  },
  {
   "cell_type": "code",
   "execution_count": 174,
   "metadata": {},
   "outputs": [],
   "source": [
    "energyFunction = sym.lambdify([list(sub.keys())], energy, \"numpy\")\n",
    "energyGradientFunction = sym.lambdify([list(sub.keys())], energy_gradient, \"numpy\")"
   ]
  },
  {
   "cell_type": "code",
   "execution_count": 175,
   "metadata": {},
   "outputs": [
    {
     "data": {
      "text/plain": [
       "array([[ 3886829.64422199],\n",
       "       [ 4475256.04184709],\n",
       "       [  574173.95946033],\n",
       "       [-3588442.63996175]])"
      ]
     },
     "execution_count": 175,
     "metadata": {},
     "output_type": "execute_result"
    }
   ],
   "source": [
    "energyGradientFunction(list(x0.values())+list(arg_set.values()))"
   ]
  },
  {
   "cell_type": "markdown",
   "metadata": {},
   "source": [
    "### TODO: \n",
    "Make all the arguments in the lambdified function named"
   ]
  },
  {
   "cell_type": "markdown",
   "metadata": {},
   "source": [
    "## Numerical optimisations"
   ]
  },
  {
   "cell_type": "code",
   "execution_count": 176,
   "metadata": {},
   "outputs": [],
   "source": [
    "import numpy as np\n",
    "from scipy.optimize import minimize\n",
    "\n",
    "MAGNETIC_PERMEABILITY = 12.57e-7\n",
    "TtoAm = 795774.715459\n",
    "\n",
    "\n",
    "def opt_wrapper_cost(x, args):\n",
    "    theta, phi, lamb, omega = x\n",
    "    return energyFunction([theta, phi, lamb, omega] + args)\n",
    "\n",
    "def opt_wrapper_grad(x, args):\n",
    "    theta, phi, lamb, omega = x\n",
    "    return energyGradientFunction([theta, phi, lamb, omega] + args)\n",
    "\n",
    "def to_radian(angle):\n",
    "    return angle * (np.pi / 180)\n",
    "\n",
    "\n",
    "def get_tensor_interaction(M, N):\n",
    "    return N @ M\n",
    "\n",
    "\n",
    "def cartiesian_from_spherical(r, inplane, azimuth):\n",
    "    return np.array([\n",
    "        r * np.sin(azimuth) * np.cos(inplane),\n",
    "        r * np.sin(azimuth) * np.sin(inplane), r * np.cos(azimuth)\n",
    "    ])\n",
    "\n",
    "\n",
    "\"\"\"\n",
    "        Spherical coords\n",
    "        Theta -- azimuth angle, L1\n",
    "        Phi -- inplane angle, L1\n",
    "        Lambda -- azimuth angle, L2\n",
    "        Omega -- inplane angle, L2\n",
    "\"\"\"\n",
    "\n",
    "x0 = {\n",
    "    theta: to_radian(90),\n",
    "    phi: to_radian(45),\n",
    "    lamb: to_radian(90),\n",
    "    omega: to_radian(45),\n",
    "}\n",
    "\n",
    "\n",
    "arg_set = {\n",
    "    # Hoe\n",
    "    Hoe: 397.88,\n",
    "    # Hext\n",
    "    He1: 1,\n",
    "    He2: 2,\n",
    "    He3: 1,\n",
    "    # dipole 1\n",
    "    Hd11: 0,\n",
    "    Hd12: 0,\n",
    "    Hd13: 0,\n",
    "    # dipole 2\n",
    "    Hd21: 0,\n",
    "    Hd22: 0,\n",
    "    Hd23: 0,\n",
    "    # demag 1 \n",
    "    Hde11: 0,\n",
    "    Hde12: 0,\n",
    "    Hde13: 1,\n",
    "    # demag 2\n",
    "    Hde21: 0,\n",
    "    Hde22: 0,\n",
    "    Hde23: 1,\n",
    "    gamma: 2.21e5,\n",
    "    alpha1: 0.035,\n",
    "    alpha2: 0.035,\n",
    "    torque_par: 0.0,\n",
    "    torque_per: 0.0,\n",
    "    Ms1: 1 * TtoAm,\n",
    "    Ms2: 1 * TtoAm,\n",
    "    K1: 728e3,\n",
    "    K2: 305e3\n",
    "}\n",
    "\n",
    "bounds = [(0, np.pi * 2) for i in range(len(x0))]\n",
    "res = minimize(opt_wrapper_cost,\n",
    "               list(x0.values()),\n",
    "               bounds=bounds,\n",
    "               args=list(arg_set.values()),\n",
    "               jac=opt_wrapper_grad,\n",
    "               tol=1e-4)"
   ]
  },
  {
   "cell_type": "code",
   "execution_count": 184,
   "metadata": {},
   "outputs": [],
   "source": [
    "matrix_res = dMFunction(res.x.tolist() + list(arg_set.values()))\n",
    "eigenvalues, eivenvectors = np.linalg.eig(matrix_res)"
   ]
  },
  {
   "cell_type": "code",
   "execution_count": 185,
   "metadata": {},
   "outputs": [
    {
     "data": {
      "text/plain": [
       "array([ -943661.92414909,   898153.88773187, -1042274.41255696,\n",
       "         998869.16657767])"
      ]
     },
     "execution_count": 185,
     "metadata": {},
     "output_type": "execute_result"
    }
   ],
   "source": [
    "eigenvalues"
   ]
  },
  {
   "cell_type": "code",
   "execution_count": 186,
   "metadata": {},
   "outputs": [
    {
     "data": {
      "text/plain": [
       "array([[-5.14638251e-01, -4.21761714e-01, -6.76996627e-18,\n",
       "        -2.36439414e-18],\n",
       "       [-8.57407290e-01,  9.06706695e-01, -1.55676519e-17,\n",
       "         6.27383792e-18],\n",
       "       [ 1.72752180e-04, -4.63404615e-05,  3.89829426e-01,\n",
       "        -3.59389194e-01],\n",
       "       [ 4.24928988e-04,  1.56707168e-04,  9.20887082e-01,\n",
       "         9.33187766e-01]])"
      ]
     },
     "execution_count": 186,
     "metadata": {},
     "output_type": "execute_result"
    }
   ],
   "source": [
    "eivenvectors"
   ]
  },
  {
   "cell_type": "code",
   "execution_count": null,
   "metadata": {},
   "outputs": [],
   "source": []
  }
 ],
 "metadata": {
  "kernelspec": {
   "display_name": "phys",
   "language": "python",
   "name": "phys"
  },
  "language_info": {
   "codemirror_mode": {
    "name": "ipython",
    "version": 3
   },
   "file_extension": ".py",
   "mimetype": "text/x-python",
   "name": "python",
   "nbconvert_exporter": "python",
   "pygments_lexer": "ipython3",
   "version": "3.9.0"
  },
  "toc": {
   "base_numbering": 1,
   "nav_menu": {},
   "number_sections": true,
   "sideBar": true,
   "skip_h1_title": false,
   "title_cell": "Table of Contents",
   "title_sidebar": "Contents",
   "toc_cell": false,
   "toc_position": {},
   "toc_section_display": true,
   "toc_window_display": false
  }
 },
 "nbformat": 4,
 "nbformat_minor": 4
}
