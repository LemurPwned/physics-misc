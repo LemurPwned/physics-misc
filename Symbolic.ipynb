{
 "cells": [
  {
   "cell_type": "code",
   "execution_count": 4,
   "source": [
    "import sympy as sym\n",
    "\n",
    "import numpy as np\n",
    "from scipy.optimize import minimize\n",
    "\n",
    "\n",
    "def to_radian(angle):\n",
    "    return angle * (np.pi / 180)\n",
    "\n",
    "\n",
    "MAGNETIC_PERMEABILITY = 12.57e-7\n",
    "TtoAm = 795774.715459\n"
   ],
   "outputs": [],
   "metadata": {}
  },
  {
   "cell_type": "markdown",
   "source": [
    "# Symbolic computation"
   ],
   "metadata": {}
  },
  {
   "cell_type": "markdown",
   "source": [
    "There are two types of symbols in this notebook:\n",
    "1. Scalar symbols \n",
    "2. Matrix symobols\n",
    "\n",
    "Unfortunately, multiplication of 2 Matrices to get a scalar, i.e. M@M.T (dot product on (3,1) matrix) is still awkard so if we want to mix, we need to take \n",
    "\n",
    "```python\n",
    "(M@M.T).as_explicit()[0] # <- this is [1x1] matrix,  \n",
    "```\n",
    "we take an explicit form of \\[1x1\\] matrix, in terms of all M constituents. Then we take the first element as it is 1x1 matrix, thus converting it to a scalar."
   ],
   "metadata": {}
  },
  {
   "cell_type": "markdown",
   "source": [
    "## Symbol definition"
   ],
   "metadata": {}
  },
  {
   "cell_type": "code",
   "execution_count": 3,
   "source": [
    "theta, phi, lamb, omega = sym.symbols('Theta Phi Lambda Omega')\n",
    "alpha1, alpha2, gamma, mu = sym.symbols(\"alpha_1 alpha_2 gamma \\mu\")\n",
    "torque_par, torque_per = sym.symbols(\"tau_1 tau_2\")\n",
    "K1, K2, J = sym.symbols(\"K1 K2 J\")\n",
    "d1, d2 = sym.symbols(\"d_1 d_2\")\n",
    "Hoe = sym.symbols(\"H_oe\")\n",
    "\n",
    "Ms1, Ms2 = sym.symbols(\"M_s1 M_s2\")\n",
    "\n",
    "demagTensor1 = sym.MatrixSymbol(\"Do\", 3, 3)\n",
    "demagTensor2 = sym.MatrixSymbol(\"Dt\", 3, 3)\n",
    "dipoleTensor12 = sym.MatrixSymbol(\"No\", 3, 3)\n",
    "dipoleTensor21 = sym.MatrixSymbol(\"Nt\", 3, 3)\n",
    "# anisotropies\n",
    "A1 = sym.MatrixSymbol(\"Ao\", 3, 1)\n",
    "A2 = sym.MatrixSymbol(\"At\", 3, 1)\n",
    "\n",
    "Hext = sym.MatrixSymbol(\"He\", 3, 1)\n"
   ],
   "outputs": [],
   "metadata": {}
  },
  {
   "cell_type": "markdown",
   "source": [
    "## Dependecy variables"
   ],
   "metadata": {}
  },
  {
   "cell_type": "code",
   "execution_count": 5,
   "source": [
    "sinT = sym.sin(theta)\n",
    "cosT = sym.cos(theta)\n",
    "\n",
    "cosL = sym.cos(lamb)\n",
    "sinL = sym.sin(lamb)\n",
    "\n",
    "sinO = sym.sin(omega)\n",
    "cosO = sym.cos(omega)\n",
    "\n",
    "sinP = sym.sin(phi)\n",
    "cosP = sym.cos(phi)\n",
    "\n",
    "cosPO = sym.cos(phi - omega)\n",
    "sinPO = sym.sin(phi - omega)\n",
    "\n",
    "const1 = (gamma / Ms1) * (1 / (1 + alpha1**2))\n",
    "const2 = (gamma / Ms2) * (1 / (1 + alpha2**2))\n",
    "\n",
    "M1 = sym.Matrix([Ms1 * sinT * cosP, Ms1 * sinT * sinP, Ms1 * cosT])\n",
    "M2 = sym.Matrix([Ms2 * sinL * cosO, Ms2 * sinL * sinO, Ms2 * cosL])\n",
    "\n",
    "Hdemag1 = demagTensor1 * M1 / mu\n",
    "Hdemag2 = demagTensor2 * M2 / mu\n",
    "\n",
    "Hdipole1 = dipoleTensor21 * M1 / mu\n",
    "Hdipole2 = dipoleTensor12 * M2 / mu\n",
    "\n",
    "# Hanisotropy1 = A1 * 2 * K1 * (M1.T * A1) / (Ms1**2)  # M1 is with Ms1 so need to divide by square\n",
    "# Hanisotropy2 = A2 * 2 * K2 * (M2.T * A2) / (Ms2**2)\n",
    "\n",
    "# Hiec1 = J1 * M2 / (d1 * Ms1**2)\n",
    "# Hiec2 = J2 * M1 / (d2 * Ms2**2)\n",
    "\n",
    "anisotropy = K1 * (cosT**2 + (sinT**2) *\n",
    "                   (sinP**2)) + K2 * (cosL**2 + (sinL**2) * (sinO**2))\n",
    "dipole = -M1.T * Hdipole2 - M2.T * Hdipole1\n",
    "demag = -M1.T * Hdemag1 - M2.T * Hdemag2\n",
    "ext = -M1.T * Hext - M2.T * Hext\n",
    "iec = -J*M1.dot(M2)\n",
    "# anisotropy = -M1.T * Hanisotropy1 - M2.T * Hanisotropy2\n",
    "# dipole = M1.T * Hdipole2 + M2.T * Hdipole1\n",
    "# demag = M1.T * Hdemag1 + M2.T * Hdemag2  # dipole interactions are in filed with -, so -grad makes them +\n",
    "# ext = -M1.T * Hext - M2.T * Hext\n",
    "# iec = -M1.T * Hiec1 - M2.T * Hiec2\n",
    "\n",
    "# anisotropy = K1*(cos)\n",
    "\n",
    "\n",
    "# energy = (anisotropies*sym.Identity(1) + dipole + demag + ext).as_explicit()[0]\n",
    "energy = anisotropy + (dipole + demag + ext).as_explicit()[0]\n",
    "dUdP = sym.diff(energy, phi)\n",
    "dUdT = sym.diff(energy, theta)\n",
    "dUdO = sym.diff(energy, omega)\n",
    "dUdL = sym.diff(energy, lamb)\n",
    "# \"\"\"\n",
    "# .as_explicit to see the actual form\n",
    "# \"\"\"\n",
    "energy\n"
   ],
   "outputs": [
    {
     "output_type": "execute_result",
     "data": {
      "text/latex": [
       "$\\displaystyle K_{1} \\left(\\sin^{2}{\\left(\\Phi \\right)} \\sin^{2}{\\left(\\Theta \\right)} + \\cos^{2}{\\left(\\Theta \\right)}\\right) + K_{2} \\left(\\sin^{2}{\\left(\\Lambda \\right)} \\sin^{2}{\\left(\\Omega \\right)} + \\cos^{2}{\\left(\\Lambda \\right)}\\right) - M_{s1} \\sin{\\left(\\Phi \\right)} \\sin{\\left(\\Theta \\right)} He_{1, 0} - M_{s1} \\sin{\\left(\\Theta \\right)} \\cos{\\left(\\Phi \\right)} He_{0, 0} - M_{s1} \\cos{\\left(\\Theta \\right)} He_{2, 0} - M_{s2} \\sin{\\left(\\Lambda \\right)} \\sin{\\left(\\Omega \\right)} He_{1, 0} - M_{s2} \\sin{\\left(\\Lambda \\right)} \\cos{\\left(\\Omega \\right)} He_{0, 0} - M_{s2} \\cos{\\left(\\Lambda \\right)} He_{2, 0} + \\frac{M_{s1} \\left(- M_{s1} \\sin{\\left(\\Phi \\right)} \\sin{\\left(\\Theta \\right)} Do_{1, 0} - M_{s1} \\sin{\\left(\\Theta \\right)} \\cos{\\left(\\Phi \\right)} Do_{0, 0} - M_{s1} \\cos{\\left(\\Theta \\right)} Do_{2, 0}\\right) \\sin{\\left(\\Theta \\right)} \\cos{\\left(\\Phi \\right)} + M_{s1} \\left(- M_{s1} \\sin{\\left(\\Phi \\right)} \\sin{\\left(\\Theta \\right)} Do_{1, 1} - M_{s1} \\sin{\\left(\\Theta \\right)} \\cos{\\left(\\Phi \\right)} Do_{0, 1} - M_{s1} \\cos{\\left(\\Theta \\right)} Do_{2, 1}\\right) \\sin{\\left(\\Phi \\right)} \\sin{\\left(\\Theta \\right)} + M_{s1} \\left(- M_{s1} \\sin{\\left(\\Phi \\right)} \\sin{\\left(\\Theta \\right)} Do_{1, 2} - M_{s1} \\sin{\\left(\\Theta \\right)} \\cos{\\left(\\Phi \\right)} Do_{0, 2} - M_{s1} \\cos{\\left(\\Theta \\right)} Do_{2, 2}\\right) \\cos{\\left(\\Theta \\right)}}{\\mu} - \\frac{M_{s1} \\left(M_{s2} \\sin{\\left(\\Lambda \\right)} \\sin{\\left(\\Omega \\right)} Nt_{1, 0} + M_{s2} \\sin{\\left(\\Lambda \\right)} \\cos{\\left(\\Omega \\right)} Nt_{0, 0} + M_{s2} \\cos{\\left(\\Lambda \\right)} Nt_{2, 0}\\right) \\sin{\\left(\\Theta \\right)} \\cos{\\left(\\Phi \\right)} + M_{s1} \\left(M_{s2} \\sin{\\left(\\Lambda \\right)} \\sin{\\left(\\Omega \\right)} Nt_{1, 1} + M_{s2} \\sin{\\left(\\Lambda \\right)} \\cos{\\left(\\Omega \\right)} Nt_{0, 1} + M_{s2} \\cos{\\left(\\Lambda \\right)} Nt_{2, 1}\\right) \\sin{\\left(\\Phi \\right)} \\sin{\\left(\\Theta \\right)} + M_{s1} \\left(M_{s2} \\sin{\\left(\\Lambda \\right)} \\sin{\\left(\\Omega \\right)} Nt_{1, 2} + M_{s2} \\sin{\\left(\\Lambda \\right)} \\cos{\\left(\\Omega \\right)} Nt_{0, 2} + M_{s2} \\cos{\\left(\\Lambda \\right)} Nt_{2, 2}\\right) \\cos{\\left(\\Theta \\right)}}{\\mu} + \\frac{M_{s2} \\left(- M_{s1} \\sin{\\left(\\Phi \\right)} \\sin{\\left(\\Theta \\right)} No_{1, 0} - M_{s1} \\sin{\\left(\\Theta \\right)} \\cos{\\left(\\Phi \\right)} No_{0, 0} - M_{s1} \\cos{\\left(\\Theta \\right)} No_{2, 0}\\right) \\sin{\\left(\\Lambda \\right)} \\cos{\\left(\\Omega \\right)} + M_{s2} \\left(- M_{s1} \\sin{\\left(\\Phi \\right)} \\sin{\\left(\\Theta \\right)} No_{1, 1} - M_{s1} \\sin{\\left(\\Theta \\right)} \\cos{\\left(\\Phi \\right)} No_{0, 1} - M_{s1} \\cos{\\left(\\Theta \\right)} No_{2, 1}\\right) \\sin{\\left(\\Lambda \\right)} \\sin{\\left(\\Omega \\right)} + M_{s2} \\left(- M_{s1} \\sin{\\left(\\Phi \\right)} \\sin{\\left(\\Theta \\right)} No_{1, 2} - M_{s1} \\sin{\\left(\\Theta \\right)} \\cos{\\left(\\Phi \\right)} No_{0, 2} - M_{s1} \\cos{\\left(\\Theta \\right)} No_{2, 2}\\right) \\cos{\\left(\\Lambda \\right)}}{\\mu} - \\frac{M_{s2} \\left(M_{s2} \\sin{\\left(\\Lambda \\right)} \\sin{\\left(\\Omega \\right)} Dt_{1, 0} + M_{s2} \\sin{\\left(\\Lambda \\right)} \\cos{\\left(\\Omega \\right)} Dt_{0, 0} + M_{s2} \\cos{\\left(\\Lambda \\right)} Dt_{2, 0}\\right) \\sin{\\left(\\Lambda \\right)} \\cos{\\left(\\Omega \\right)} + M_{s2} \\left(M_{s2} \\sin{\\left(\\Lambda \\right)} \\sin{\\left(\\Omega \\right)} Dt_{1, 1} + M_{s2} \\sin{\\left(\\Lambda \\right)} \\cos{\\left(\\Omega \\right)} Dt_{0, 1} + M_{s2} \\cos{\\left(\\Lambda \\right)} Dt_{2, 1}\\right) \\sin{\\left(\\Lambda \\right)} \\sin{\\left(\\Omega \\right)} + M_{s2} \\left(M_{s2} \\sin{\\left(\\Lambda \\right)} \\sin{\\left(\\Omega \\right)} Dt_{1, 2} + M_{s2} \\sin{\\left(\\Lambda \\right)} \\cos{\\left(\\Omega \\right)} Dt_{0, 2} + M_{s2} \\cos{\\left(\\Lambda \\right)} Dt_{2, 2}\\right) \\cos{\\left(\\Lambda \\right)}}{\\mu}$"
      ],
      "text/plain": [
       "K1*(sin(Phi)**2*sin(Theta)**2 + cos(Theta)**2) + K2*(sin(Lambda)**2*sin(Omega)**2 + cos(Lambda)**2) - M_s1*sin(Phi)*sin(Theta)*He[1, 0] - M_s1*sin(Theta)*cos(Phi)*He[0, 0] - M_s1*cos(Theta)*He[2, 0] - M_s2*sin(Lambda)*sin(Omega)*He[1, 0] - M_s2*sin(Lambda)*cos(Omega)*He[0, 0] - M_s2*cos(Lambda)*He[2, 0] + (M_s1*(-M_s1*sin(Phi)*sin(Theta)*Do[1, 0] - M_s1*sin(Theta)*cos(Phi)*Do[0, 0] - M_s1*cos(Theta)*Do[2, 0])*sin(Theta)*cos(Phi) + M_s1*(-M_s1*sin(Phi)*sin(Theta)*Do[1, 1] - M_s1*sin(Theta)*cos(Phi)*Do[0, 1] - M_s1*cos(Theta)*Do[2, 1])*sin(Phi)*sin(Theta) + M_s1*(-M_s1*sin(Phi)*sin(Theta)*Do[1, 2] - M_s1*sin(Theta)*cos(Phi)*Do[0, 2] - M_s1*cos(Theta)*Do[2, 2])*cos(Theta))/\\mu - (M_s1*(M_s2*sin(Lambda)*sin(Omega)*Nt[1, 0] + M_s2*sin(Lambda)*cos(Omega)*Nt[0, 0] + M_s2*cos(Lambda)*Nt[2, 0])*sin(Theta)*cos(Phi) + M_s1*(M_s2*sin(Lambda)*sin(Omega)*Nt[1, 1] + M_s2*sin(Lambda)*cos(Omega)*Nt[0, 1] + M_s2*cos(Lambda)*Nt[2, 1])*sin(Phi)*sin(Theta) + M_s1*(M_s2*sin(Lambda)*sin(Omega)*Nt[1, 2] + M_s2*sin(Lambda)*cos(Omega)*Nt[0, 2] + M_s2*cos(Lambda)*Nt[2, 2])*cos(Theta))/\\mu + (M_s2*(-M_s1*sin(Phi)*sin(Theta)*No[1, 0] - M_s1*sin(Theta)*cos(Phi)*No[0, 0] - M_s1*cos(Theta)*No[2, 0])*sin(Lambda)*cos(Omega) + M_s2*(-M_s1*sin(Phi)*sin(Theta)*No[1, 1] - M_s1*sin(Theta)*cos(Phi)*No[0, 1] - M_s1*cos(Theta)*No[2, 1])*sin(Lambda)*sin(Omega) + M_s2*(-M_s1*sin(Phi)*sin(Theta)*No[1, 2] - M_s1*sin(Theta)*cos(Phi)*No[0, 2] - M_s1*cos(Theta)*No[2, 2])*cos(Lambda))/\\mu - (M_s2*(M_s2*sin(Lambda)*sin(Omega)*Dt[1, 0] + M_s2*sin(Lambda)*cos(Omega)*Dt[0, 0] + M_s2*cos(Lambda)*Dt[2, 0])*sin(Lambda)*cos(Omega) + M_s2*(M_s2*sin(Lambda)*sin(Omega)*Dt[1, 1] + M_s2*sin(Lambda)*cos(Omega)*Dt[0, 1] + M_s2*cos(Lambda)*Dt[2, 1])*sin(Lambda)*sin(Omega) + M_s2*(M_s2*sin(Lambda)*sin(Omega)*Dt[1, 2] + M_s2*sin(Lambda)*cos(Omega)*Dt[0, 2] + M_s2*cos(Lambda)*Dt[2, 2])*cos(Lambda))/\\mu"
      ]
     },
     "metadata": {},
     "execution_count": 5
    }
   ],
   "metadata": {}
  },
  {
   "cell_type": "markdown",
   "source": [
    "The energy terms:\n",
    "\n",
    "1. Demag/Dipole energy: \n",
    "\n",
    "$E_{dem} = M_1^T\\hat{N}\\frac{M_1}{\\mu_0}$\n",
    "\n",
    "2. Anisotropy energy:\n",
    "\n",
    "$E_{Ku} = $\n",
    "\n",
    "3. IEC energy: \n",
    "\n",
    "$E_{IEC} = J\\vec{M}_1\\cdot \\vec{M}_2$\n",
    "\n",
    "4. External field energy \n",
    "\n",
    "$E_{ext} = \\vec{M} \\cdot H_{ext}$\n"
   ],
   "metadata": {}
  },
  {
   "cell_type": "code",
   "execution_count": 4,
   "source": [
    "# # validate the Hext as an example\n",
    "# e_sub = {\n",
    "#     theta: 1,\n",
    "#     phi: 2,\n",
    "#     lamb: 3,\n",
    "#     omega: 4,\n",
    "#     Ms1: 1 * TtoAm,\n",
    "#     Ms2: 1 * TtoAm,\n",
    "#     Hext: sym.Matrix([1, 1, 2])\n",
    "# }\n",
    "# ext.subs(e_sub)"
   ],
   "outputs": [],
   "metadata": {}
  },
  {
   "cell_type": "markdown",
   "source": [
    "# Constructing the matrix"
   ],
   "metadata": {}
  },
  {
   "cell_type": "markdown",
   "source": [
    "## Angular derivatives"
   ],
   "metadata": {}
  },
  {
   "cell_type": "code",
   "execution_count": 6,
   "source": [
    "dTheta = const1 * ((-1 / sinT) * dUdP - alpha1 * dUdT -\n",
    "                   (cosL * sinT - cosT * sinL * cosPO) *\n",
    "                   (torque_par + alpha1 * torque_per) - (sinL * sinPO) *\n",
    "                   (alpha1 * torque_par - torque_per) + Ms1 * Hoe)"
   ],
   "outputs": [],
   "metadata": {}
  },
  {
   "cell_type": "code",
   "execution_count": 7,
   "source": [
    "dPhi = const1 * (\n",
    "    (1 / sinT) * dUdT - (alpha1 / (sinT**2)) * dUdP + (1 / sinT) *\n",
    "    (cosL * sinT - cosT * sinL * cosPO) * (alpha1 * torque_par - torque_per) -\n",
    "    (1 / sinT) * (sinL * sinPO) *\n",
    "    (torque_par + alpha1 * torque_per) + alpha1 * Ms1 * Hoe / sinT)"
   ],
   "outputs": [],
   "metadata": {}
  },
  {
   "cell_type": "code",
   "execution_count": 8,
   "source": [
    "dLam = const2 * ((-1 / sinL) * dUdO - alpha2 * dUdL +\n",
    "                 (-sinL * cosT + sinT * cosL * cosPO) *\n",
    "                 (torque_par + alpha2 * torque_per) + (sinL * sinPO) *\n",
    "                 (alpha2 * torque_par + torque_per) + Ms2 * Hoe)"
   ],
   "outputs": [],
   "metadata": {}
  },
  {
   "cell_type": "code",
   "execution_count": 9,
   "source": [
    "dOmega = const2 * (\n",
    "    (1 / sinL) * dUdL - (alpha2 / (sinL**2)) * dUdO - (1 / sinL) *\n",
    "    (sinL * cosT - sinT * cosL * cosPO) * (torque_per - alpha2 * torque_par) +\n",
    "    (1 / sinL) * (sinT * sinPO) *\n",
    "    (torque_par - alpha2 * torque_per) + alpha2 * Ms2 * Hoe / sinL)"
   ],
   "outputs": [],
   "metadata": {}
  },
  {
   "cell_type": "markdown",
   "source": [
    "## The derivative matrix "
   ],
   "metadata": {}
  },
  {
   "cell_type": "code",
   "execution_count": 10,
   "source": [
    "dM = sym.Matrix([\n",
    "    [\n",
    "        sym.diff(dTheta, theta),\n",
    "        sym.diff(dTheta, phi),\n",
    "        sym.diff(dTheta, lamb),\n",
    "        sym.diff(dTheta, omega)\n",
    "    ],\n",
    "    [\n",
    "        sym.diff(dPhi, theta),\n",
    "        sym.diff(dPhi, phi),\n",
    "        sym.diff(dPhi, lamb),\n",
    "        sym.diff(dPhi, omega)\n",
    "    ],\n",
    "    [\n",
    "        sym.diff(dLam, theta),\n",
    "        sym.diff(dLam, phi),\n",
    "        sym.diff(dLam, lamb),\n",
    "        sym.diff(dLam, omega)\n",
    "    ],\n",
    "    [\n",
    "        sym.diff(dOmega, theta),\n",
    "        sym.diff(dOmega, phi),\n",
    "        sym.diff(dOmega, lamb),\n",
    "        sym.diff(dOmega, omega)\n",
    "    ]]\n",
    ")"
   ],
   "outputs": [],
   "metadata": {}
  },
  {
   "cell_type": "code",
   "execution_count": 11,
   "source": [
    "\"\"\"\n",
    "This contains also the parameter order\n",
    "\"\"\"\n",
    "sub = {\n",
    "    theta: 1,\n",
    "    phi: 2,\n",
    "    lamb: 3,\n",
    "    omega: 4,\n",
    "    # Hoe\n",
    "    Hoe: 2,\n",
    "    # Hext\n",
    "    Hext: sym.Matrix([1, 1, 2]),\n",
    "    # dipole 1\n",
    "    dipoleTensor12: sym.Matrix([[1, 1, 1], [1, 1, 1], [1, 1, 1]]),\n",
    "    # dipole 2\n",
    "    dipoleTensor21: sym.Matrix([[1, 1, 1], [1, 1, 1], [1, 1, 1]]),\n",
    "    # demag 1\n",
    "    demagTensor1: sym.Matrix([[0, 0, 0], [0, 0, 0], [0, 0, 1]]),\n",
    "    # demag 2\n",
    "    demagTensor2: sym.Matrix([[0, 0, 0], [0, 0, 0], [0, 0, 1]]),\n",
    "    gamma: 2.21e5,\n",
    "    alpha1: 0.035,\n",
    "    alpha2: 0.035,\n",
    "    torque_par: 1.0,\n",
    "    torque_per: 1.0,\n",
    "    Ms1: 1,\n",
    "    Ms2: 1,\n",
    "    # anisotropy1\n",
    "    A1: sym.Matrix([0, 0, 1]),\n",
    "    K1: 350e3,\n",
    "    # anisotropy2\n",
    "    A2: sym.Matrix([0, 0, 1]),\n",
    "    K2: 650e3,\n",
    "    # IEC,\n",
    "    J: 1e-5,\n",
    "    # thickness\n",
    "    d1: 1e-9,\n",
    "    d2: 1e-9,\n",
    "    mu: 1\n",
    "}\n",
    "\n",
    "# energy.subs(sub)\n",
    "dM.evalf(subs=sub)"
   ],
   "outputs": [
    {
     "output_type": "execute_result",
     "data": {
      "text/latex": [
       "$\\displaystyle \\left[\\begin{matrix}31200295961.5079 & 86845218300.5808 & -475885.875470012 & -11977.6814452764\\\\22515375369.6628 & -59645160725.0965 & 190118.96420456 & -29456.7414253614\\\\40642.8012155001 & -258892.192836113 & 144647294114.212 & 7281174720.89048\\\\2025056.81958759 & 2694959.43946509 & 17252098932.3028 & -279590127283.463\\end{matrix}\\right]$"
      ],
      "text/plain": [
       "Matrix([\n",
       "[31200295961.5079,  86845218300.5808, -475885.875470012, -11977.6814452764],\n",
       "[22515375369.6628, -59645160725.0965,   190118.96420456, -29456.7414253614],\n",
       "[40642.8012155001, -258892.192836113,  144647294114.212,  7281174720.89048],\n",
       "[2025056.81958759,  2694959.43946509,  17252098932.3028, -279590127283.463]])"
      ]
     },
     "metadata": {},
     "execution_count": 11
    }
   ],
   "metadata": {
    "scrolled": true
   }
  },
  {
   "cell_type": "code",
   "execution_count": 12,
   "source": [
    "# test the function\n",
    "dMFunction = sym.lambdify([list(sub.keys())], dM, \"numpy\")\n",
    "dMFunction(list(sub.values()))\n"
   ],
   "outputs": [
    {
     "output_type": "execute_result",
     "data": {
      "text/plain": [
       "array([[31200295961.5079, 86845218300.5808, -475885.875470012,\n",
       "        -11977.6814452764],\n",
       "       [22515375369.6628, -59645160725.0965, 190118.964204560,\n",
       "        -29456.7414253614],\n",
       "       [40642.8012155001, -258892.192836113, 144647294114.212,\n",
       "        7281174720.89048],\n",
       "       [2025056.81958759, 2694959.43946509, 17252098932.3028,\n",
       "        -279590127283.463]], dtype=object)"
      ]
     },
     "metadata": {},
     "execution_count": 12
    }
   ],
   "metadata": {}
  },
  {
   "cell_type": "markdown",
   "source": [
    "## The energy function and gradient"
   ],
   "metadata": {}
  },
  {
   "cell_type": "code",
   "execution_count": 13,
   "source": [
    "# a vector of energy derivatives w.r.t to each of the angles\n",
    "energy_gradient = sym.Matrix([\n",
    "    sym.diff(energy, theta),\n",
    "    sym.diff(energy, phi),\n",
    "    sym.diff(energy, lamb),\n",
    "    sym.diff(energy, omega),\n",
    "])\n",
    "energy_gradient.evalf(subs=sub)\n",
    "# energy.evalf(subs=sub)"
   ],
   "outputs": [
    {
     "output_type": "execute_result",
     "data": {
      "text/latex": [
       "$\\displaystyle \\left[\\begin{matrix}-55113.7104046588\\\\-187556.642425993\\\\77593.3818253172\\\\12806.8606218821\\end{matrix}\\right]$"
      ],
      "text/plain": [
       "Matrix([\n",
       "[-55113.7104046588],\n",
       "[-187556.642425993],\n",
       "[ 77593.3818253172],\n",
       "[ 12806.8606218821]])"
      ]
     },
     "metadata": {},
     "execution_count": 13
    }
   ],
   "metadata": {}
  },
  {
   "cell_type": "code",
   "execution_count": 14,
   "source": [
    "energyFunction = sym.lambdify([list(sub.keys())], energy, \"numpy\")\n",
    "energyGradientFunction = sym.lambdify([list(sub.keys())], energy_gradient, \"numpy\")\n",
    "print(energyGradientFunction(list(sub.values())))"
   ],
   "outputs": [
    {
     "output_type": "stream",
     "name": "stdout",
     "text": [
      "[[-55113.7104046588]\n",
      " [-187556.642425993]\n",
      " [77593.3818253172]\n",
      " [12806.8606218821]]\n"
     ]
    }
   ],
   "metadata": {}
  },
  {
   "cell_type": "markdown",
   "source": [
    "## Numerical optimisations"
   ],
   "metadata": {}
  },
  {
   "cell_type": "code",
   "execution_count": 230,
   "source": [
    "# x0 = {\n",
    "#     theta: to_radian(88),\n",
    "#     phi: to_radian(45),\n",
    "#     lamb: to_radian(88),\n",
    "#     omega: to_radian(45),\n",
    "#     # Hoe\n",
    "#     Hoe: 397.88,\n",
    "#     # Hext\n",
    "#     Hext: np.array([[1], [1], [2]]),\n",
    "#     # dipole 1\n",
    "#     dipoleTensor12: np.array([[0, 0, 0], [1, 1, 1], [1, 1, 1]]),\n",
    "#     # dipole 2\n",
    "#     dipoleTensor21: np.array([[1, 1, 1], [1, 1, 1], [1, 1, 1]]),\n",
    "#     # demag 1\n",
    "#     demagTensor1: np.array([[0, 0, 0], [0, 0, 0], [0, 0, 1]]),\n",
    "#     # demag 2\n",
    "#     demagTensor2: np.array([[0, 0, 0], [0, 0, 0], [0, 0, 1]]),\n",
    "#     gamma: 2.21e5,\n",
    "#     alpha1: 0.035,\n",
    "#     alpha2: 0.035,\n",
    "#     torque_par: 0.0,\n",
    "#     torque_per: 0.0,\n",
    "#     Ms1: 1 * TtoAm,\n",
    "#     Ms2: 1 * TtoAm,\n",
    "#     # anisotropy1\n",
    "#     A1: np.array([[0], [0], [1]]),\n",
    "#     K1: 350e3,\n",
    "#     # anisotropy2\n",
    "#     A2: np.array([[0], [0], [1]]),\n",
    "#     K2: 650e3,\n",
    "#     # IEC,\n",
    "#     J1: 1e-5,\n",
    "#     J2: 1e-4,\n",
    "#     # thickness\n",
    "#     d1: 1e-9,\n",
    "#     d2: 1e-9,\n",
    "#     mu: 1\n",
    "# }\n",
    "# energyGradientFunction(list(x0.values()))"
   ],
   "outputs": [
    {
     "output_type": "execute_result",
     "data": {
      "text/plain": [
       "array([[-1.80939000e+12],\n",
       "       [ 6.48103904e+11],\n",
       "       [-1.36160936e+12],\n",
       "       [ 1.34166443e-04]])"
      ]
     },
     "metadata": {},
     "execution_count": 230
    }
   ],
   "metadata": {}
  },
  {
   "cell_type": "markdown",
   "source": [
    "# Numerical computation"
   ],
   "metadata": {}
  },
  {
   "cell_type": "code",
   "execution_count": 16,
   "source": [
    "def opt_wrapper_cost(x, args):\n",
    "    theta, phi, lamb, omega = x\n",
    "    return energyFunction([theta, phi, lamb, omega] + args)\n",
    "\n",
    "\n",
    "def opt_wrapper_grad(x, args):\n",
    "    theta, phi, lamb, omega = x\n",
    "    return energyGradientFunction([theta, phi, lamb, omega] + args)\n",
    "\n",
    "\n",
    "def to_radian(angle):\n",
    "    return angle * (np.pi / 180)\n",
    "\n",
    "\n",
    "def get_tensor_interaction(M, N):\n",
    "    return N @ M\n",
    "\n",
    "\n",
    "def cartiesian_from_spherical(r, inplane, azimuth):\n",
    "    return np.array([\n",
    "        r * np.sin(azimuth) * np.cos(inplane),\n",
    "        r * np.sin(azimuth) * np.sin(inplane), r * np.cos(azimuth)\n",
    "    ])\n",
    "\n",
    "\n",
    "\"\"\"\n",
    "        Spherical coords\n",
    "        Theta -- azimuth angle, L1\n",
    "        Phi -- inplane angle, L1\n",
    "        Lambda -- azimuth angle, L2\n",
    "        Omega -- inplane angle, L2\n",
    "\"\"\"\n",
    "\n",
    "x0 = {\n",
    "    theta: to_radian(90),\n",
    "    phi: to_radian(45),\n",
    "    lamb: to_radian(90),\n",
    "    omega: to_radian(45),\n",
    "}\n",
    "\n",
    "hext = np.expand_dims(cartiesian_from_spherical(0.4 * TtoAm, 45, 45), 0).T\n",
    "\n",
    "arg_set = {\n",
    "    # Hoe\n",
    "    Hoe: 0.0,\n",
    "    # Hext\n",
    "    Hext: hext,\n",
    "    # dipole 1\n",
    "    dipoleTensor12: np.array([[0, 0, 0], [0, 0, 0], [0, 0, 0]]),\n",
    "    # dipole 2\n",
    "    dipoleTensor21: np.array([[0, 0, 0], [0, 0, 0], [0, 0, 0]]),\n",
    "    # demag 1\n",
    "    demagTensor1: np.array([[0, 0, 0], [0, 0, 0], [0, 0, 1]]),\n",
    "    # demag 2\n",
    "    demagTensor2: np.array([[0, 0, 0], [0, 0, 0], [0, 0, 1]]),\n",
    "    gamma: 2.21e5,\n",
    "    alpha1: 0.035,\n",
    "    alpha2: 0.035,\n",
    "    torque_par: 0.0,\n",
    "    torque_per: 0.0,\n",
    "    Ms1: 1,\n",
    "    Ms2: 1,\n",
    "    # anisotropy1\n",
    "    A1: np.array([[0], [0], [1]]),\n",
    "    K1: 728e3,\n",
    "    # anisotropy2\n",
    "    A2: np.array([[1], [0], [1]]),\n",
    "    K2: 305e3,\n",
    "    # IEC,\n",
    "    J: 1e-5,\n",
    "    # thickness\n",
    "    d1: 1e-9,\n",
    "    d2: 1e-9,\n",
    "    mu: MAGNETIC_PERMEABILITY\n",
    "}\n",
    "\n",
    "bounds = [(0, np.pi * 2) for i in range(len(x0))]\n",
    "res = minimize(opt_wrapper_cost,\n",
    "               list(x0.values()),\n",
    "               bounds=bounds,\n",
    "               args=list(arg_set.values()),\n",
    "               jac=opt_wrapper_grad,\n",
    "               tol=1e-4)\n",
    "res"
   ],
   "outputs": [
    {
     "output_type": "execute_result",
     "data": {
      "text/plain": [
       "      fun: -963805.2761010537\n",
       " hess_inv: <4x4 LbfgsInvHessProduct with dtype=float64>\n",
       "      jac: array([[-1005.10682719],\n",
       "       [ 1884.22226907],\n",
       "       [  972.38579931],\n",
       "       [ -758.75265062]])\n",
       "  message: 'CONVERGENCE: REL_REDUCTION_OF_F_<=_FACTR*EPSMCH'\n",
       "     nfev: 12\n",
       "      nit: 9\n",
       "     njev: 12\n",
       "   status: 0\n",
       "  success: True\n",
       "        x: array([0.47054289, 0.29456348, 0.18232675, 0.79631869])"
      ]
     },
     "metadata": {},
     "execution_count": 16
    }
   ],
   "metadata": {}
  },
  {
   "cell_type": "markdown",
   "source": [
    "# VSD scan"
   ],
   "metadata": {}
  },
  {
   "cell_type": "code",
   "execution_count": 39,
   "source": [
    "from tqdm.notebook import tqdm\n",
    "\n",
    "\n",
    "def find_resonance(Hstart=-1, Hstop=1, N=50):\n",
    "    x0 = {\n",
    "        theta: to_radian(90),\n",
    "        phi: to_radian(45),\n",
    "        lamb: to_radian(90),\n",
    "        omega: to_radian(45),\n",
    "    }\n",
    "    bounds = [(0, np.pi * 2) for i in range(len(x0))]\n",
    "    h_space = np.linspace(Hstart, Hstop, N)\n",
    "    bottom_f, top_f = [], []\n",
    "    x0vals = list(x0.values())\n",
    "    for h in tqdm(h_space):\n",
    "        hext = np.expand_dims(cartiesian_from_spherical(h * TtoAm, 0, 45),\n",
    "                              0).T\n",
    "        arg_set = {\n",
    "            # Hoe\n",
    "            Hoe: 0.0,\n",
    "            # Hext\n",
    "            Hext: hext,\n",
    "            # dipole 1\n",
    "            dipoleTensor12: np.array([[0, 0, 0], [0, 0, 0], [0, 0, 0]]),\n",
    "            # dipole 2\n",
    "            dipoleTensor21: np.array([[0, 0, 0], [0, 0, 0], [0, 0, 0]]),\n",
    "            # demag 1\n",
    "            demagTensor1: np.array([[0, 0, 0], [0, 0, 0], [0, 0, 1]]),\n",
    "            # demag 2\n",
    "            demagTensor2: np.array([[0, 0, 0], [0, 0, 0], [0, 0, 1]]),\n",
    "            gamma: 1.,\n",
    "            alpha1: 0.01,\n",
    "            alpha2: 0.01,\n",
    "            torque_par: 0,\n",
    "            torque_per: 0,\n",
    "            Ms1: 1.07,\n",
    "            Ms2: 1.07,\n",
    "            # anisotropy1\n",
    "            A1: np.array([[0.34071865], [-0.08715574],\n",
    "                          [0.936116]]),\n",
    "            # A1: np.array([[0], [0], [1]]),\n",
    "            K1: 728e3,\n",
    "            # anisotropy2\n",
    "            A2: np.array([[0], [-0.0871557],\n",
    "                          [0.996195]]),  \n",
    "            # A2: np.array([[0], [0], [1]]),\n",
    "            K2: 305e3,\n",
    "            # IEC,\n",
    "            J: 0e-5,\n",
    "            # thickness\n",
    "            d1: 1e-9,\n",
    "            d2: 1e-9,\n",
    "            mu: MAGNETIC_PERMEABILITY\n",
    "        }\n",
    "        res = minimize(opt_wrapper_cost,\n",
    "                       x0vals,\n",
    "                       bounds=bounds,\n",
    "                       args=list(arg_set.values()),\n",
    "                       jac=opt_wrapper_grad,\n",
    "                       tol=1e-12)\n",
    "        matrix_res = dMFunction(res.x.tolist() + list(arg_set.values()))\n",
    "        eigenvalues, eigenvectors = np.linalg.eig(matrix_res)\n",
    "        freqs = np.unique(np.abs(np.imag(eigenvalues)) / 2 * np.pi / 1e9)\n",
    "        bottom_f.append(freqs[0])\n",
    "        if len(freqs) > 1:\n",
    "            top_f.append(freqs[1])\n",
    "        else:\n",
    "            top_f.append(freqs[0])\n",
    "        x0vals = res.x.tolist()\n",
    "    return h_space, bottom_f, top_f"
   ],
   "outputs": [],
   "metadata": {}
  },
  {
   "cell_type": "code",
   "execution_count": 40,
   "source": [
    "import matplotlib.pyplot as plt\n",
    "h_space, bottom_f, top_f = find_resonance(N=100)\n",
    "\n",
    "fig, ax = plt.subplots(figsize=(8, 8))\n",
    "ax.plot(h_space*TtoAm, bottom_f, label=\"Bottom f\")\n",
    "ax.plot(h_space*TtoAm, top_f, label=\"Top f\")\n",
    "ax.set_xlabel(\"H [T]\")\n",
    "ax.set_ylabel(\"Frequency [GHz]\")\n",
    "_ = ax.legend()"
   ],
   "outputs": [
    {
     "output_type": "display_data",
     "data": {
      "application/vnd.jupyter.widget-view+json": {
       "version_major": 2,
       "version_minor": 0,
       "model_id": "2f7634e9d0c5412f9025072ec3631e63"
      },
      "text/plain": [
       "  0%|          | 0/100 [00:00<?, ?it/s]"
      ]
     },
     "metadata": {}
    },
    {
     "output_type": "display_data",
     "data": {
      "image/png": "[encoded data removed]",
      "text/plain": [
       "<Figure size 576x576 with 1 Axes>"
      ]
     },
     "metadata": {
      "needs_background": "light"
     }
    }
   ],
   "metadata": {
    "scrolled": false,
    "tags": []
   }
  },
  {
   "cell_type": "code",
   "execution_count": null,
   "source": [],
   "outputs": [],
   "metadata": {}
  }
 ],
 "metadata": {
  "kernelspec": {
   "name": "python3",
   "display_name": "Python 3.9.6 64-bit ('base': conda)"
  },
  "language_info": {
   "codemirror_mode": {
    "name": "ipython",
    "version": 3
   },
   "file_extension": ".py",
   "mimetype": "text/x-python",
   "name": "python",
   "nbconvert_exporter": "python",
   "pygments_lexer": "ipython3",
   "version": "3.9.6"
  },
  "toc": {
   "base_numbering": 1,
   "nav_menu": {},
   "number_sections": true,
   "sideBar": true,
   "skip_h1_title": false,
   "title_cell": "Table of Contents",
   "title_sidebar": "Contents",
   "toc_cell": false,
   "toc_position": {},
   "toc_section_display": true,
   "toc_window_display": false
  },
  "interpreter": {
   "hash": "95ec9ec1504d83f612128e0fb229072f90bbb4cb09d9d5d93b5dd26e0ca2cfd1"
  }
 },
 "nbformat": 4,
 "nbformat_minor": 4
}