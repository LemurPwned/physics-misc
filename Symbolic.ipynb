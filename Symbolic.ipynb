{
 "cells": [
  {
   "cell_type": "code",
   "execution_count": 1,
   "metadata": {},
   "outputs": [],
   "source": [
    "import sympy as sym\n",
    "import sympy.printing as printing\n",
    "from sympy.printing.latex import print_latex\n",
    "\n",
    "import numpy as np\n",
    "from scipy.optimize import minimize\n",
    "\n",
    "\n",
    "def to_radian(angle):\n",
    "    return angle * (np.pi / 180)\n",
    "\n",
    "\n",
    "MAGNETIC_PERMEABILITY = 12.57e-7\n",
    "TtoAm = 795774.715459"
   ]
  },
  {
   "cell_type": "markdown",
   "metadata": {},
   "source": [
    "# Symbolic computation"
   ]
  },
  {
   "cell_type": "markdown",
   "metadata": {},
   "source": [
    "There are two types of symbols in this notebook:\n",
    "1. Scalar symbols \n",
    "2. Matrix symobols\n",
    "\n",
    "Unfortunately, multiplication of 2 Matrices to get a scalar, i.e. M@M.T (dot product on (3,1) matrix) is still awkard so if we want to mix, we need to take \n",
    "\n",
    "```python\n",
    "(M@M.T).as_explicit()[0] # <- this is [1x1] matrix,  \n",
    "```\n",
    "we take an explicit form of \\[1x1\\] matrix, in terms of all M constituents. Then we take the first element as it is 1x1 matrix, thus converting it to a scalar."
   ]
  },
  {
   "cell_type": "markdown",
   "metadata": {},
   "source": [
    "## Symbol definition"
   ]
  },
  {
   "cell_type": "code",
   "execution_count": 2,
   "metadata": {},
   "outputs": [],
   "source": [
    "theta, phi, lamb, omega = sym.symbols('Theta Phi Lambda Omega')\n",
    "alpha1, alpha2, gamma, mu = sym.symbols(\"alpha_1 alpha_2 gamma \\mu\")\n",
    "torque_par, torque_per = sym.symbols(\"tau_1 tau_2\")\n",
    "K1, K2, J1, J2 = sym.symbols(\"K1 K2 J1 J2\")\n",
    "d1, d2 = sym.symbols(\"d_1 d_2\")\n",
    "Hoe = sym.symbols(\"H_oe\")\n",
    "\n",
    "Ms1, Ms2 = sym.symbols(\"M_s1 M_s2\")\n",
    "\n",
    "demagTensor1 = sym.MatrixSymbol(\"Do\", 3, 3)\n",
    "demagTensor2 = sym.MatrixSymbol(\"Dt\", 3, 3)\n",
    "dipoleTensor12 = sym.MatrixSymbol(\"No\", 3, 3)\n",
    "dipoleTensor21 = sym.MatrixSymbol(\"Nt\", 3, 3)\n",
    "# anisotropies\n",
    "A1 = sym.MatrixSymbol(\"Ao\", 3, 1)\n",
    "A2 = sym.MatrixSymbol(\"At\", 3, 1)\n",
    "\n",
    "Hext = sym.MatrixSymbol(\"He\", 3, 1)"
   ]
  },
  {
   "cell_type": "markdown",
   "metadata": {},
   "source": [
    "## Dependecy variables"
   ]
  },
  {
   "cell_type": "code",
   "execution_count": 218,
   "metadata": {},
   "outputs": [],
   "source": [
    "sinT = sym.sin(theta)\n",
    "cosT = sym.cos(theta)\n",
    "\n",
    "cosL = sym.cos(lamb)\n",
    "sinL = sym.sin(lamb)\n",
    "\n",
    "sinO = sym.sin(omega)\n",
    "cosO = sym.cos(omega)\n",
    "\n",
    "sinP = sym.sin(phi)\n",
    "cosP = sym.cos(phi)\n",
    "\n",
    "cosPO = sym.cos(phi - omega)\n",
    "sinPO = sym.sin(phi - omega)\n",
    "\n",
    "const1 = (gamma / Ms1) * (1 / (1 + alpha1**2))\n",
    "const2 = (gamma / Ms2) * (1 / (1 + alpha2**2))\n",
    "\n",
    "M1 = sym.Matrix([Ms1 * sinT * cosP, Ms1 * sinT * sinP, Ms1 * cosT])\n",
    "M2 = sym.Matrix([Ms2 * sinL * cosO, Ms2 * sinL * sinO, Ms2 * cosL])\n",
    "\n",
    "Hdemag1 = demagTensor1 * M1 / mu\n",
    "Hdemag2 = demagTensor2 * M2 / mu\n",
    "\n",
    "Hdipole1 = dipoleTensor21 * M1 / mu\n",
    "Hdipole2 = dipoleTensor12 * M2 / mu\n",
    "\n",
    "Hanisotropy1 = A1 * 2 * K1 * (M1.T * A1) / (\n",
    "    Ms1**2)  # M1 is with Ms1 so need to divide by square\n",
    "Hanisotropy2 = A2 * 2 * K2 * (M2.T * A2) / (Ms2**2)\n",
    "\n",
    "Hiec1 = J1 * M2 / (d1 * Ms1**2)\n",
    "Hiec2 = J2 * M1 / (d2 * Ms2**2)\n",
    "# anisotropies = K1 * (cosT**2 + (sinT**2) *\n",
    "#                      (sinP**2)) + K2 * (cosL**2 + (sinL**2) * (sinO**2))\n",
    "# dipole = -M1.dot(Hdip2) - M2.dot(Hdip1)\n",
    "# demag = -M1.dot(Hdemag1) - M2.dot(Hdemag2)\n",
    "# ext = -M1.dot(Hext) - M2.dot(Hext)\n",
    "\n",
    "anisotropy = -M1.T * Hanisotropy1 - M2.T * Hanisotropy2\n",
    "dipole = M1.T * Hdipole2 + M2.T * Hdipole1\n",
    "demag = M1.T * Hdemag1 + M2.T * Hdemag2  # dipole interactions are in filed with -, so -grad makes them +\n",
    "ext = -M1.T * Hext - M2.T * Hext\n",
    "iec = -M1.T * Hiec1 - M2.T * Hiec2\n",
    "\n",
    "# energy = (anisotropies*sym.Identity(1) + dipole + demag + ext).as_explicit()[0]\n",
    "energy = (anisotropy + dipole + demag + ext + iec).as_explicit()[0]\n",
    "dUdP = sym.diff(energy, phi)\n",
    "dUdT = sym.diff(energy, theta)\n",
    "dUdO = sym.diff(energy, omega)\n",
    "dUdL = sym.diff(energy, lamb)\n",
    "# \"\"\"\n",
    "# .as_explicit to see the actual form\n",
    "# \"\"\"\n",
    "# energy"
   ]
  },
  {
   "cell_type": "code",
   "execution_count": 198,
   "metadata": {},
   "outputs": [],
   "source": [
    "# # validate the Hext as an example\n",
    "# e_sub = {\n",
    "#     theta: 1,\n",
    "#     phi: 2,\n",
    "#     lamb: 3,\n",
    "#     omega: 4,\n",
    "#     Ms1: 1 * TtoAm,\n",
    "#     Ms2: 1 * TtoAm,\n",
    "#     Hext: sym.Matrix([1, 1, 2])\n",
    "# }\n",
    "# ext.subs(e_sub)"
   ]
  },
  {
   "cell_type": "markdown",
   "metadata": {},
   "source": [
    "# Constructing the matrix"
   ]
  },
  {
   "cell_type": "markdown",
   "metadata": {},
   "source": [
    "## Angular derivatives"
   ]
  },
  {
   "cell_type": "code",
   "execution_count": 219,
   "metadata": {},
   "outputs": [],
   "source": [
    "dTheta = const1 * ((-1 / sinT) * dUdP - alpha1 * dUdT -\n",
    "                   (cosL * sinT - cosT * sinL * cosPO) *\n",
    "                   (torque_par + alpha1 * torque_per) - (sinL * sinPO) *\n",
    "                   (alpha1 * torque_par - torque_per) + Ms1 * Hoe)"
   ]
  },
  {
   "cell_type": "code",
   "execution_count": 220,
   "metadata": {},
   "outputs": [],
   "source": [
    "dPhi = const1 * (\n",
    "    (1 / sinT) * dUdT - (alpha1 / (sinT**2)) * dUdP + (1 / sinT) *\n",
    "    (cosL * sinT - cosT * sinL * cosPO) * (alpha1 * torque_par - torque_per) -\n",
    "    (1 / sinT) * (sinL * sinPO) *\n",
    "    (torque_par + alpha1 * torque_per) + alpha1 * Ms1 * Hoe / sinT)"
   ]
  },
  {
   "cell_type": "code",
   "execution_count": 221,
   "metadata": {},
   "outputs": [],
   "source": [
    "dLam = const2 * ((-1 / sinL) * dUdO - alpha2 * dUdL +\n",
    "                 (-sinL * cosT + sinT * cosL * cosPO) *\n",
    "                 (torque_par + alpha2 * torque_per) + (sinL * sinPO) *\n",
    "                 (alpha2 * torque_par + torque_per) + Ms2 * Hoe)"
   ]
  },
  {
   "cell_type": "code",
   "execution_count": 222,
   "metadata": {},
   "outputs": [],
   "source": [
    "dOmega = const2 * (\n",
    "    (1 / sinL) * dUdL - (alpha2 / (sinL**2)) * dUdO - (1 / sinL) *\n",
    "    (sinL * cosT - sinT * cosL * cosPO) * (torque_per - alpha2 * torque_par) +\n",
    "    (1 / sinL) * (sinT * sinPO) *\n",
    "    (torque_par - alpha2 * torque_per) + alpha2 * Ms2 * Hoe / sinL)"
   ]
  },
  {
   "cell_type": "markdown",
   "metadata": {},
   "source": [
    "## The derivative matrix "
   ]
  },
  {
   "cell_type": "code",
   "execution_count": 223,
   "metadata": {},
   "outputs": [],
   "source": [
    "dM = sym.Matrix([\n",
    "    [\n",
    "        sym.diff(dTheta, theta),\n",
    "        sym.diff(dTheta, phi),\n",
    "        sym.diff(dTheta, lamb),\n",
    "        sym.diff(dTheta, omega)\n",
    "    ],\n",
    "    [\n",
    "        sym.diff(dPhi, theta),\n",
    "        sym.diff(dPhi, phi),\n",
    "        sym.diff(dPhi, lamb),\n",
    "        sym.diff(dPhi, omega)\n",
    "    ],\n",
    "    [\n",
    "        sym.diff(dLam, theta),\n",
    "        sym.diff(dLam, phi),\n",
    "        sym.diff(dLam, lamb),\n",
    "        sym.diff(dLam, omega)\n",
    "    ],\n",
    "    [\n",
    "        sym.diff(dOmega, theta),\n",
    "        sym.diff(dOmega, phi),\n",
    "        sym.diff(dOmega, lamb),\n",
    "        sym.diff(dOmega, omega)\n",
    "    ]]\n",
    ")"
   ]
  },
  {
   "cell_type": "code",
   "execution_count": 224,
   "metadata": {
    "scrolled": true
   },
   "outputs": [],
   "source": [
    "# \"\"\"\n",
    "# This contains also the parameter order\n",
    "# \"\"\"\n",
    "# sub = {\n",
    "#     theta: 1,\n",
    "#     phi: 2,\n",
    "#     lamb: 3,\n",
    "#     omega: 4,\n",
    "#     # Hoe\n",
    "#     Hoe: 2,\n",
    "#     # Hext\n",
    "#     Hext: sym.Matrix([1, 1, 2]),\n",
    "#     # dipole 1\n",
    "#     dipoleTensor12: sym.Matrix([[1, 1, 1], [1, 1, 1], [1, 1, 1]]),\n",
    "#     # dipole 2\n",
    "#     dipoleTensor21: sym.Matrix([[1, 1, 1], [1, 1, 1], [1, 1, 1]]),\n",
    "#     # demag 1\n",
    "#     demagTensor1: sym.Matrix([[0, 0, 0], [0, 0, 0], [0, 0, 1]]),\n",
    "#     # demag 2\n",
    "#     demagTensor2: sym.Matrix([[0, 0, 0], [0, 0, 0], [0, 0, 1]]),\n",
    "#     gamma: 2.21e5,\n",
    "#     alpha1: 0.035,\n",
    "#     alpha2: 0.035,\n",
    "#     torque_par: 1.0,\n",
    "#     torque_per: 1.0,\n",
    "#     Ms1: 1 * TtoAm,\n",
    "#     Ms2: 1 * TtoAm,\n",
    "#     # anisotropy1\n",
    "#     A1: sym.Matrix([0, 0, 1]),\n",
    "#     K1: 350e3,\n",
    "#     # anisotropy2\n",
    "#     A2: sym.Matrix([0, 0, 1]),\n",
    "#     K2: 650e3,\n",
    "#     # IEC,\n",
    "#     J1: 1e-5,\n",
    "#     J2: 1e-4,\n",
    "#     # thickness\n",
    "#     d1: 1e-9,\n",
    "#     d2: 1e-9,\n",
    "#     mu: 1\n",
    "# }\n",
    "\n",
    "# # energy.subs(sub)\n",
    "# dM.evalf(subs=sub)"
   ]
  },
  {
   "cell_type": "code",
   "execution_count": 225,
   "metadata": {},
   "outputs": [
    {
     "data": {
      "text/plain": [
       "array([[-19082746463.2749, -216464094807.898, 593340167000.121,\n",
       "        6881483621.14860],\n",
       "       [601318713481.312, 346927821381.509, -277019402877.685,\n",
       "        -3212833849.90003],\n",
       "       [29713291990.6910, 57632587985.7191, -2160140621.79044,\n",
       "        -472131493515.150],\n",
       "       [-1791600878227.82, -3475029148388.45, 23757077869595.3,\n",
       "        -360255112543.510]], dtype=object)"
      ]
     },
     "execution_count": 225,
     "metadata": {},
     "output_type": "execute_result"
    }
   ],
   "source": [
    "# test the function\n",
    "dMFunction = sym.lambdify([list(sub.keys())], dM, \"numpy\")\n",
    "dMFunction(list(sub.values()))"
   ]
  },
  {
   "cell_type": "markdown",
   "metadata": {},
   "source": [
    "## The energy function and gradient"
   ]
  },
  {
   "cell_type": "code",
   "execution_count": 226,
   "metadata": {},
   "outputs": [],
   "source": [
    "# energy"
   ]
  },
  {
   "cell_type": "code",
   "execution_count": 227,
   "metadata": {},
   "outputs": [],
   "source": [
    "# energy.evalf(subs=sub)"
   ]
  },
  {
   "cell_type": "code",
   "execution_count": 228,
   "metadata": {},
   "outputs": [
    {
     "data": {
      "text/latex": [
       "$\\displaystyle \\left[\\begin{matrix}290123097604.402\\\\1679599068350.08\\\\1695581520693.64\\\\17613007474.2936\\end{matrix}\\right]$"
      ],
      "text/plain": [
       "Matrix([\n",
       "[290123097604.402],\n",
       "[1679599068350.08],\n",
       "[1695581520693.64],\n",
       "[17613007474.2936]])"
      ]
     },
     "execution_count": 228,
     "metadata": {},
     "output_type": "execute_result"
    }
   ],
   "source": [
    "# a vector of energy derivatives w.r.t to each of the angles\n",
    "energy_gradient = sym.Matrix([\n",
    "    sym.diff(energy, theta),\n",
    "    sym.diff(energy, phi),\n",
    "    sym.diff(energy, lamb),\n",
    "    sym.diff(energy, omega),\n",
    "])\n",
    "energy_gradient.evalf(subs=sub)"
   ]
  },
  {
   "cell_type": "code",
   "execution_count": 229,
   "metadata": {},
   "outputs": [
    {
     "name": "stdout",
     "output_type": "stream",
     "text": [
      "[[290123097604.402]\n",
      " [1679599068350.08]\n",
      " [1695581520693.64]\n",
      " [17613007474.2936]]\n"
     ]
    }
   ],
   "source": [
    "energyFunction = sym.lambdify([list(sub.keys())], energy, \"numpy\")\n",
    "energyGradientFunction = sym.lambdify([list(sub.keys())], energy_gradient, \"numpy\")\n",
    "print(energyGradientFunction(list(sub.values())))"
   ]
  },
  {
   "cell_type": "markdown",
   "metadata": {},
   "source": [
    "## Numerical optimisations"
   ]
  },
  {
   "cell_type": "code",
   "execution_count": 230,
   "metadata": {},
   "outputs": [
    {
     "data": {
      "text/plain": [
       "array([[-1.80939000e+12],\n",
       "       [ 6.48103904e+11],\n",
       "       [-1.36160936e+12],\n",
       "       [ 1.34166443e-04]])"
      ]
     },
     "execution_count": 230,
     "metadata": {},
     "output_type": "execute_result"
    }
   ],
   "source": [
    "# x0 = {\n",
    "#     theta: to_radian(88),\n",
    "#     phi: to_radian(45),\n",
    "#     lamb: to_radian(88),\n",
    "#     omega: to_radian(45),\n",
    "#     # Hoe\n",
    "#     Hoe: 397.88,\n",
    "#     # Hext\n",
    "#     Hext: np.array([[1], [1], [2]]),\n",
    "#     # dipole 1\n",
    "#     dipoleTensor12: np.array([[0, 0, 0], [1, 1, 1], [1, 1, 1]]),\n",
    "#     # dipole 2\n",
    "#     dipoleTensor21: np.array([[1, 1, 1], [1, 1, 1], [1, 1, 1]]),\n",
    "#     # demag 1\n",
    "#     demagTensor1: np.array([[0, 0, 0], [0, 0, 0], [0, 0, 1]]),\n",
    "#     # demag 2\n",
    "#     demagTensor2: np.array([[0, 0, 0], [0, 0, 0], [0, 0, 1]]),\n",
    "#     gamma: 2.21e5,\n",
    "#     alpha1: 0.035,\n",
    "#     alpha2: 0.035,\n",
    "#     torque_par: 0.0,\n",
    "#     torque_per: 0.0,\n",
    "#     Ms1: 1 * TtoAm,\n",
    "#     Ms2: 1 * TtoAm,\n",
    "#     # anisotropy1\n",
    "#     A1: np.array([[0], [0], [1]]),\n",
    "#     K1: 350e3,\n",
    "#     # anisotropy2\n",
    "#     A2: np.array([[0], [0], [1]]),\n",
    "#     K2: 650e3,\n",
    "#     # IEC,\n",
    "#     J1: 1e-5,\n",
    "#     J2: 1e-4,\n",
    "#     # thickness\n",
    "#     d1: 1e-9,\n",
    "#     d2: 1e-9,\n",
    "#     mu: 1\n",
    "# }\n",
    "# energyGradientFunction(list(x0.values()))"
   ]
  },
  {
   "cell_type": "markdown",
   "metadata": {},
   "source": [
    "# Numerical computation"
   ]
  },
  {
   "cell_type": "code",
   "execution_count": 237,
   "metadata": {},
   "outputs": [
    {
     "data": {
      "text/plain": [
       "      fun: -1991590.9454716626\n",
       " hess_inv: <4x4 LbfgsInvHessProduct with dtype=float64>\n",
       "      jac: array([[ 2.61361539e+05],\n",
       "       [ 0.00000000e+00],\n",
       "       [-5.64350152e+01],\n",
       "       [-4.08032454e+01]])\n",
       "  message: b'CONVERGENCE: REL_REDUCTION_OF_F_<=_FACTR*EPSMCH'\n",
       "     nfev: 8\n",
       "      nit: 6\n",
       "     njev: 8\n",
       "   status: 0\n",
       "  success: True\n",
       "        x: array([0.        , 4.46618154, 1.04945942, 0.12737148])"
      ]
     },
     "execution_count": 237,
     "metadata": {},
     "output_type": "execute_result"
    }
   ],
   "source": [
    "def opt_wrapper_cost(x, args):\n",
    "    theta, phi, lamb, omega = x\n",
    "    return energyFunction([theta, phi, lamb, omega] + args)\n",
    "\n",
    "\n",
    "def opt_wrapper_grad(x, args):\n",
    "    theta, phi, lamb, omega = x\n",
    "    return energyGradientFunction([theta, phi, lamb, omega] + args)\n",
    "\n",
    "\n",
    "def to_radian(angle):\n",
    "    return angle * (np.pi / 180)\n",
    "\n",
    "\n",
    "def get_tensor_interaction(M, N):\n",
    "    return N @ M\n",
    "\n",
    "\n",
    "def cartiesian_from_spherical(r, inplane, azimuth):\n",
    "    return np.array([\n",
    "        r * np.sin(azimuth) * np.cos(inplane),\n",
    "        r * np.sin(azimuth) * np.sin(inplane), r * np.cos(azimuth)\n",
    "    ])\n",
    "\n",
    "\n",
    "\"\"\"\n",
    "        Spherical coords\n",
    "        Theta -- azimuth angle, L1\n",
    "        Phi -- inplane angle, L1\n",
    "        Lambda -- azimuth angle, L2\n",
    "        Omega -- inplane angle, L2\n",
    "\"\"\"\n",
    "\n",
    "x0 = {\n",
    "    theta: to_radian(90),\n",
    "    phi: to_radian(45),\n",
    "    lamb: to_radian(90),\n",
    "    omega: to_radian(45),\n",
    "}\n",
    "\n",
    "hext = np.expand_dims(cartiesian_from_spherical(0.4 * TtoAm, 45, 45), 0).T\n",
    "\n",
    "arg_set = {\n",
    "    # Hoe\n",
    "    Hoe: 0.0,\n",
    "    # Hext\n",
    "    Hext: hext,\n",
    "    # dipole 1\n",
    "    dipoleTensor12: np.array([[0, 0, 0], [0, 0, 0], [0, 0, 0]]),\n",
    "    # dipole 2\n",
    "    dipoleTensor21: np.array([[0, 0, 0], [0, 0, 0], [0, 0, 0]]),\n",
    "    # demag 1\n",
    "    demagTensor1: np.array([[0, 0, 0], [0, 0, 0], [0, 0, 1]]),\n",
    "    # demag 2\n",
    "    demagTensor2: np.array([[0, 0, 0], [0, 0, 0], [0, 0, 1]]),\n",
    "    gamma: 2.21e5,\n",
    "    alpha1: 0.035,\n",
    "    alpha2: 0.035,\n",
    "    torque_par: 0.0,\n",
    "    torque_per: 0.0,\n",
    "    Ms1: 1,\n",
    "    Ms2: 1,\n",
    "    # anisotropy1\n",
    "    A1: np.array([[0], [0], [1]]),\n",
    "    K1: 728e3,\n",
    "    # anisotropy2\n",
    "    A2: np.array([[1], [0], [1]]),\n",
    "    K2: 305e3,\n",
    "    # IEC,\n",
    "    J1: 1e-5,\n",
    "    J2: 1e-9,\n",
    "    # thickness\n",
    "    d1: 1e-9,\n",
    "    d2: 1e-9,\n",
    "    mu: MAGNETIC_PERMEABILITY\n",
    "}\n",
    "\n",
    "bounds = [(0, np.pi * 2) for i in range(len(x0))]\n",
    "res = minimize(opt_wrapper_cost,\n",
    "               list(x0.values()),\n",
    "               bounds=bounds,\n",
    "               args=list(arg_set.values()),\n",
    "               jac=opt_wrapper_grad,\n",
    "               tol=1e-4)\n",
    "res"
   ]
  },
  {
   "cell_type": "markdown",
   "metadata": {},
   "source": [
    "# VSD scan"
   ]
  },
  {
   "cell_type": "code",
   "execution_count": 244,
   "metadata": {},
   "outputs": [],
   "source": [
    "from tqdm.notebook import tqdm\n",
    "\n",
    "\n",
    "def find_resonance(Hstart=-1, Hstop=1, N=50):\n",
    "    x0 = {\n",
    "        theta: to_radian(90),\n",
    "        phi: to_radian(45),\n",
    "        lamb: to_radian(90),\n",
    "        omega: to_radian(45),\n",
    "    }\n",
    "    bounds = [(0, np.pi * 2) for i in range(len(x0))]\n",
    "    h_space = np.linspace(Hstart, Hstop, N)\n",
    "    bottom_f, top_f = [], []\n",
    "    x0vals = list(x0.values())\n",
    "    for h in tqdm(h_space):\n",
    "        hext = np.expand_dims(cartiesian_from_spherical(h * TtoAm, 45, 45),\n",
    "                              0).T\n",
    "        arg_set = {\n",
    "            # Hoe\n",
    "            Hoe: 0.0,\n",
    "            # Hext\n",
    "            Hext: hext,\n",
    "            # dipole 1\n",
    "            dipoleTensor12: np.array([[0, 0, 0], [0, 0, 0], [0, 0, 0]]),\n",
    "            # dipole 2\n",
    "            dipoleTensor21: np.array([[0, 0, 0], [0, 0, 0], [0, 0, 0]]),\n",
    "            # demag 1\n",
    "            demagTensor1: np.array([[0, 0, 0], [0, 0, 0], [0, 0, 1]]),\n",
    "            # demag 2\n",
    "            demagTensor2: np.array([[0, 0, 0], [0, 0, 0], [0, 0, 1]]),\n",
    "            gamma: 220880,\n",
    "            alpha1: 0.01,\n",
    "            alpha2: 0.01,\n",
    "            torque_par: 0,\n",
    "            torque_per: 0,\n",
    "            Ms1: 1.07,\n",
    "            Ms2: 1.07,\n",
    "            # anisotropy1\n",
    "#             A1: np.array([[0.34071865], [-0.08715574],\n",
    "#                           [0.936116]]),\n",
    "            A1: np.array([[0], [0], [1]]),\n",
    "            K1: 728e3,\n",
    "            # anisotropy2\n",
    "#             A2: np.array([[0], [-0.0871557],\n",
    "#                           [0.996195]]),  \n",
    "            A2: np.array([[0], [0], [1]]),\n",
    "            K2: 305e3,\n",
    "            # IEC,\n",
    "            J1: 1e-5,\n",
    "            J2: 1e-5,\n",
    "            # thickness\n",
    "            d1: 1e-9,\n",
    "            d2: 1e-9,\n",
    "            mu: MAGNETIC_PERMEABILITY\n",
    "        }\n",
    "        res = minimize(opt_wrapper_cost,\n",
    "                       x0vals,\n",
    "                       bounds=bounds,\n",
    "                       args=list(arg_set.values()),\n",
    "                       jac=opt_wrapper_grad,\n",
    "                       tol=1e-12)\n",
    "        matrix_res = dMFunction(res.x.tolist() + list(arg_set.values()))\n",
    "        eigenvalues, eigenvectors = np.linalg.eig(matrix_res)\n",
    "        freqs = np.unique(np.abs(np.imag(eigenvalues)) / 2 * np.pi / 1e9)\n",
    "        bottom_f.append(freqs[0])\n",
    "        if len(freqs) > 1:\n",
    "            top_f.append(freqs[1])\n",
    "        else:\n",
    "            top_f.append(freqs[0])\n",
    "        x0vals = res.x.tolist()\n",
    "    return h_space, bottom_f, top_f"
   ]
  },
  {
   "cell_type": "code",
   "execution_count": 245,
   "metadata": {
    "scrolled": false
   },
   "outputs": [
    {
     "data": {
      "application/vnd.jupyter.widget-view+json": {
       "model_id": "37f5e807c1a9415fa313bc807cf307a3",
       "version_major": 2,
       "version_minor": 0
      },
      "text/plain": [
       "  0%|          | 0/100 [00:00<?, ?it/s]"
      ]
     },
     "metadata": {},
     "output_type": "display_data"
    },
    {
     "data": {
      "image/png": "[encoded data removed]",
      "text/plain": [
       "<Figure size 864x864 with 1 Axes>"
      ]
     },
     "metadata": {
      "needs_background": "light"
     },
     "output_type": "display_data"
    }
   ],
   "source": [
    "import matplotlib.pyplot as plt\n",
    "h_space, bottom_f, top_f = find_resonance(N=100)\n",
    "\n",
    "fig, ax = plt.subplots(figsize=(12, 12))\n",
    "ax.plot(h_space*TtoAm, bottom_f, label=\"Bottom f\")\n",
    "ax.plot(h_space*TtoAm, top_f, label=\"Top f\")\n",
    "ax.set_xlabel(\"H [T]\")\n",
    "ax.set_ylabel(\"Frequency [GHz]\")\n",
    "_ = ax.legend()"
   ]
  },
  {
   "cell_type": "code",
   "execution_count": null,
   "metadata": {},
   "outputs": [],
   "source": []
  }
 ],
 "metadata": {
  "kernelspec": {
   "display_name": "phys",
   "language": "python",
   "name": "phys"
  },
  "language_info": {
   "codemirror_mode": {
    "name": "ipython",
    "version": 3
   },
   "file_extension": ".py",
   "mimetype": "text/x-python",
   "name": "python",
   "nbconvert_exporter": "python",
   "pygments_lexer": "ipython3",
   "version": "3.9.0"
  },
  "toc": {
   "base_numbering": 1,
   "nav_menu": {},
   "number_sections": true,
   "sideBar": true,
   "skip_h1_title": false,
   "title_cell": "Table of Contents",
   "title_sidebar": "Contents",
   "toc_cell": false,
   "toc_position": {},
   "toc_section_display": true,
   "toc_window_display": false
  }
 },
 "nbformat": 4,
 "nbformat_minor": 4
}
