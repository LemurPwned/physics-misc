{
 "cells": [
  {
   "cell_type": "markdown",
   "metadata": {},
   "source": [
    "# Symbolic computation"
   ]
  },
  {
   "cell_type": "code",
   "execution_count": 9,
   "metadata": {},
   "outputs": [],
   "source": [
    "import sympy as sym\n",
    "import sympy.printing as printing"
   ]
  },
  {
   "cell_type": "code",
   "execution_count": 68,
   "metadata": {},
   "outputs": [],
   "source": [
    "theta, phi, lamb, omega = sym.symbols('Theta Phi Lambda Omega')\n",
    "alpha, gamma = sym.symbols(\"alpha gamma\")\n",
    "torque_par, torque_per = sym.symbols(\"tau_1 tau_2\")\n",
    "K1, K2 = sym.symbols(\"K1 K2\")\n",
    "Ms, Hoe = sym.symbols(\"M_s H_{oe}\")\n",
    "# energy = sym.Function(\"U\")(theta, phi, lamb, omega)"
   ]
  },
  {
   "cell_type": "code",
   "execution_count": 74,
   "metadata": {},
   "outputs": [],
   "source": [
    "\"\"\"\n",
    "Theta, azimuth L1\n",
    "Phi, inplane L1\n",
    "\n",
    "Lambda, azimuth L1\n",
    "Omega, inplane L2\n",
    "\"\"\"\n",
    "\n",
    "sinT = sym.sin(theta)\n",
    "cosT = sym.cos(theta)\n",
    "\n",
    "cosL = sym.cos(lamb)\n",
    "sinL = sym.sin(lamb)\n",
    "\n",
    "sinO = sym.sin(omega)\n",
    "cosO = sym.cos(omega)\n",
    "\n",
    "sinP = sym.sin(phi)\n",
    "cosP = sym.cos(phi)\n",
    "\n",
    "cosPO = sym.cos(phi - omega)\n",
    "sinPO = sym.sin(phi - omega)\n",
    "\n",
    "const = (gamma / Ms) * (1 / (1 + alpha**2))\n",
    "\n",
    "Ms1, Ms2 = sym.symbols(\"M_{s1} M_{s2}\")\n",
    "He1, He2, He3 = sym.symbols(\"H_{ext1} H_{ext2} H_{ext3}\")\n",
    "Hd11, Hd12, Hd13 = sym.symbols(\"H_{dip11} H_{dip12} H_{dip13}\")\n",
    "Hd21, Hd22, Hd23 = sym.symbols(\"H_{dip21} H_{dip22} H_{dip23}\")\n",
    "Hde11, Hde12, Hde13 = sym.symbols(\"H_{de11} H_{de12} H_{de13}\")\n",
    "Hde21, Hde22, Hde23 = sym.symbols(\"H_{de21} H_{de22} H_{de23}\")\n",
    "\n",
    "Hext = sym.Matrix([He1, He2, He3])\n",
    "Hdip1 = sym.Matrix([Hd11, Hd12, Hd13])\n",
    "Hdip2 = sym.Matrix([Hd21, Hd22, Hd23])\n",
    "Hdemag1 = sym.Matrix([Hde11, Hde12, Hde13])\n",
    "Hdemag2 = sym.Matrix([Hde21, Hde22, Hde23])\n",
    "\n",
    "M1 = sym.Matrix([Ms1 * sinT * cosP, Ms1 * sinT * sinP, Ms1 * cosT])\n",
    "M2 = sym.Matrix([Ms2 * sinL * cosO, Ms2 * sinL * sinO, Ms2 * cosL])\n",
    "\n",
    "anisotropies = K1 * (cosT**2 + (sinT**2) *\n",
    "                     (sinP**2)) + K2 * (cosL**2 + (sinL**2) * (sinO**2))\n",
    "dipole = -M1.dot(Hdip2) - M2.dot(Hdip1)\n",
    "demag = -M1.dot(Hdemag1) - M2.dot(Hdemag2)\n",
    "ext = -M1.dot(Hext) - M2.dot(Hext)\n",
    "\n",
    "energy = anisotropies + dipole + demag + ext\n",
    "dUdP = sym.diff(energy, phi)\n",
    "dUdT = sym.diff(energy, theta)\n",
    "dUdO = sym.diff(energy, omega)\n",
    "dUdL = sym.diff(energy, lamb)"
   ]
  },
  {
   "cell_type": "code",
   "execution_count": 75,
   "metadata": {},
   "outputs": [
    {
     "data": {
      "text/latex": [
       "$\\displaystyle - H_{de11} M_{s1} \\sin{\\left(\\Theta \\right)} \\cos{\\left(\\Phi \\right)} - H_{de12} M_{s1} \\sin{\\left(\\Phi \\right)} \\sin{\\left(\\Theta \\right)} - H_{de13} M_{s1} \\cos{\\left(\\Theta \\right)} - H_{de21} M_{s2} \\sin{\\left(\\Lambda \\right)} \\cos{\\left(\\Omega \\right)} - H_{de22} M_{s2} \\sin{\\left(\\Lambda \\right)} \\sin{\\left(\\Omega \\right)} - H_{de23} M_{s2} \\cos{\\left(\\Lambda \\right)} - H_{dip11} M_{s2} \\sin{\\left(\\Lambda \\right)} \\cos{\\left(\\Omega \\right)} - H_{dip12} M_{s2} \\sin{\\left(\\Lambda \\right)} \\sin{\\left(\\Omega \\right)} - H_{dip13} M_{s2} \\cos{\\left(\\Lambda \\right)} - H_{dip21} M_{s1} \\sin{\\left(\\Theta \\right)} \\cos{\\left(\\Phi \\right)} - H_{dip22} M_{s1} \\sin{\\left(\\Phi \\right)} \\sin{\\left(\\Theta \\right)} - H_{dip23} M_{s1} \\cos{\\left(\\Theta \\right)} - H_{ext1} M_{s1} \\sin{\\left(\\Theta \\right)} \\cos{\\left(\\Phi \\right)} - H_{ext1} M_{s2} \\sin{\\left(\\Lambda \\right)} \\cos{\\left(\\Omega \\right)} - H_{ext2} M_{s1} \\sin{\\left(\\Phi \\right)} \\sin{\\left(\\Theta \\right)} - H_{ext2} M_{s2} \\sin{\\left(\\Lambda \\right)} \\sin{\\left(\\Omega \\right)} - H_{ext3} M_{s1} \\cos{\\left(\\Theta \\right)} - H_{ext3} M_{s2} \\cos{\\left(\\Lambda \\right)} + K_{1} \\left(\\sin^{2}{\\left(\\Phi \\right)} \\sin^{2}{\\left(\\Theta \\right)} + \\cos^{2}{\\left(\\Theta \\right)}\\right) + K_{2} \\left(\\sin^{2}{\\left(\\Lambda \\right)} \\sin^{2}{\\left(\\Omega \\right)} + \\cos^{2}{\\left(\\Lambda \\right)}\\right)$"
      ],
      "text/plain": [
       "-H_{de11}*M_{s1}*sin(Theta)*cos(Phi) - H_{de12}*M_{s1}*sin(Phi)*sin(Theta) - H_{de13}*M_{s1}*cos(Theta) - H_{de21}*M_{s2}*sin(Lambda)*cos(Omega) - H_{de22}*M_{s2}*sin(Lambda)*sin(Omega) - H_{de23}*M_{s2}*cos(Lambda) - H_{dip11}*M_{s2}*sin(Lambda)*cos(Omega) - H_{dip12}*M_{s2}*sin(Lambda)*sin(Omega) - H_{dip13}*M_{s2}*cos(Lambda) - H_{dip21}*M_{s1}*sin(Theta)*cos(Phi) - H_{dip22}*M_{s1}*sin(Phi)*sin(Theta) - H_{dip23}*M_{s1}*cos(Theta) - H_{ext1}*M_{s1}*sin(Theta)*cos(Phi) - H_{ext1}*M_{s2}*sin(Lambda)*cos(Omega) - H_{ext2}*M_{s1}*sin(Phi)*sin(Theta) - H_{ext2}*M_{s2}*sin(Lambda)*sin(Omega) - H_{ext3}*M_{s1}*cos(Theta) - H_{ext3}*M_{s2}*cos(Lambda) + K1*(sin(Phi)**2*sin(Theta)**2 + cos(Theta)**2) + K2*(sin(Lambda)**2*sin(Omega)**2 + cos(Lambda)**2)"
      ]
     },
     "execution_count": 75,
     "metadata": {},
     "output_type": "execute_result"
    }
   ],
   "source": [
    "energy"
   ]
  },
  {
   "cell_type": "code",
   "execution_count": 21,
   "metadata": {},
   "outputs": [],
   "source": [
    "dTheta = const * ((-1 / sinT)*dUdP - alpha*dUdT -\n",
    "                  (cosL * sinT - cosT * sinL * cosPO) *\n",
    "                  (torque_par + alpha * torque_per) - (sinL * sinPO) *\n",
    "                  (alpha * torque_par - torque_per))"
   ]
  },
  {
   "cell_type": "code",
   "execution_count": 22,
   "metadata": {},
   "outputs": [
    {
     "data": {
      "text/latex": [
       "$\\displaystyle \\frac{\\gamma \\left(- K_{1} \\alpha \\left(2 \\sin^{2}{\\left(\\Phi \\right)} \\sin{\\left(\\Theta \\right)} \\cos{\\left(\\Theta \\right)} - 2 \\sin{\\left(\\Theta \\right)} \\cos{\\left(\\Theta \\right)}\\right) - 2 K_{1} \\sin{\\left(\\Phi \\right)} \\sin{\\left(\\Theta \\right)} \\cos{\\left(\\Phi \\right)} + \\left(\\alpha \\tau_{1} - \\tau_{2}\\right) \\sin{\\left(\\Lambda \\right)} \\sin{\\left(\\Omega - \\Phi \\right)} - \\left(\\alpha \\tau_{2} + \\tau_{1}\\right) \\left(- \\sin{\\left(\\Lambda \\right)} \\cos{\\left(\\Theta \\right)} \\cos{\\left(\\Omega - \\Phi \\right)} + \\sin{\\left(\\Theta \\right)} \\cos{\\left(\\Lambda \\right)}\\right)\\right)}{M_{s} \\left(\\alpha^{2} + 1\\right)}$"
      ],
      "text/plain": [
       "gamma*(-K1*alpha*(2*sin(Phi)**2*sin(Theta)*cos(Theta) - 2*sin(Theta)*cos(Theta)) - 2*K1*sin(Phi)*sin(Theta)*cos(Phi) + (alpha*tau_1 - tau_2)*sin(Lambda)*sin(Omega - Phi) - (alpha*tau_2 + tau_1)*(-sin(Lambda)*cos(Theta)*cos(Omega - Phi) + sin(Theta)*cos(Lambda)))/(M_s*(alpha**2 + 1))"
      ]
     },
     "execution_count": 22,
     "metadata": {},
     "output_type": "execute_result"
    }
   ],
   "source": [
    "dTheta"
   ]
  },
  {
   "cell_type": "code",
   "execution_count": 23,
   "metadata": {},
   "outputs": [
    {
     "data": {
      "text/latex": [
       "$\\displaystyle \\frac{\\gamma \\left(\\left(\\alpha \\tau_{1} - \\tau_{2}\\right) \\sin{\\left(\\Lambda \\right)} \\cos{\\left(\\Omega - \\Phi \\right)} + \\left(- \\alpha \\tau_{2} - \\tau_{1}\\right) \\sin{\\left(\\Lambda \\right)} \\sin{\\left(\\Omega - \\Phi \\right)} \\cos{\\left(\\Theta \\right)}\\right)}{M_{s} \\left(\\alpha^{2} + 1\\right)}$"
      ],
      "text/plain": [
       "gamma*((alpha*tau_1 - tau_2)*sin(Lambda)*cos(Omega - Phi) + (-alpha*tau_2 - tau_1)*sin(Lambda)*sin(Omega - Phi)*cos(Theta))/(M_s*(alpha**2 + 1))"
      ]
     },
     "execution_count": 23,
     "metadata": {},
     "output_type": "execute_result"
    }
   ],
   "source": [
    "sym.diff(dTheta, omega)"
   ]
  },
  {
   "cell_type": "code",
   "execution_count": 24,
   "metadata": {},
   "outputs": [
    {
     "data": {
      "text/latex": [
       "$\\displaystyle \\frac{\\gamma \\left(\\frac{H_{oe} M_{s} \\alpha}{\\sin{\\left(\\Theta \\right)}} - 2 K_{1} \\alpha \\sin{\\left(\\Phi \\right)} \\cos{\\left(\\Phi \\right)} + \\frac{K_{1} \\left(2 \\sin^{2}{\\left(\\Phi \\right)} \\sin{\\left(\\Theta \\right)} \\cos{\\left(\\Theta \\right)} - 2 \\sin{\\left(\\Theta \\right)} \\cos{\\left(\\Theta \\right)}\\right)}{\\sin{\\left(\\Theta \\right)}} + \\frac{\\left(\\alpha \\tau_{1} - \\tau_{2}\\right) \\left(- \\sin{\\left(\\Lambda \\right)} \\cos{\\left(\\Theta \\right)} \\cos{\\left(\\Omega - \\Phi \\right)} + \\sin{\\left(\\Theta \\right)} \\cos{\\left(\\Lambda \\right)}\\right)}{\\sin{\\left(\\Theta \\right)}} + \\frac{\\left(\\alpha \\tau_{2} + \\tau_{1}\\right) \\sin{\\left(\\Lambda \\right)} \\sin{\\left(\\Omega - \\Phi \\right)}}{\\sin{\\left(\\Theta \\right)}}\\right)}{M_{s} \\left(\\alpha^{2} + 1\\right)}$"
      ],
      "text/plain": [
       "gamma*(H_{oe}*M_s*alpha/sin(Theta) - 2*K1*alpha*sin(Phi)*cos(Phi) + K1*(2*sin(Phi)**2*sin(Theta)*cos(Theta) - 2*sin(Theta)*cos(Theta))/sin(Theta) + (alpha*tau_1 - tau_2)*(-sin(Lambda)*cos(Theta)*cos(Omega - Phi) + sin(Theta)*cos(Lambda))/sin(Theta) + (alpha*tau_2 + tau_1)*sin(Lambda)*sin(Omega - Phi)/sin(Theta))/(M_s*(alpha**2 + 1))"
      ]
     },
     "execution_count": 24,
     "metadata": {},
     "output_type": "execute_result"
    }
   ],
   "source": [
    "dPhi = const * ((1 / sinT) * dUdT - (alpha / (sinT**2)) * dUdP + (1 / sinT) *\n",
    "                (cosL * sinT - cosT * sinL * cosPO) *\n",
    "                (alpha * torque_par - torque_per) \n",
    "                - (1/sinT)*(sinL*sinPO)*(torque_par + alpha*torque_per) + alpha*Ms*Hoe/sinT)\n",
    "dPhi"
   ]
  },
  {
   "cell_type": "code",
   "execution_count": 25,
   "metadata": {},
   "outputs": [
    {
     "data": {
      "text/latex": [
       "$\\displaystyle \\frac{\\gamma \\left(H_{oe} M_{s} - K_{2} \\alpha \\left(2 \\sin{\\left(\\Lambda \\right)} \\sin^{2}{\\left(\\Omega \\right)} \\cos{\\left(\\Lambda \\right)} - 2 \\sin{\\left(\\Lambda \\right)} \\cos{\\left(\\Lambda \\right)}\\right) - \\frac{2 K_{2} \\sin^{2}{\\left(\\Lambda \\right)} \\sin{\\left(\\Omega \\right)} \\cos{\\left(\\Omega \\right)}}{\\sin{\\left(\\Theta \\right)}} - \\left(\\alpha \\tau_{1} + \\tau_{2}\\right) \\sin{\\left(\\Lambda \\right)} \\sin{\\left(\\Omega - \\Phi \\right)} + \\left(\\alpha \\tau_{2} + \\tau_{1}\\right) \\left(- \\sin{\\left(\\Lambda \\right)} \\cos{\\left(\\Theta \\right)} + \\sin{\\left(\\Theta \\right)} \\cos{\\left(\\Lambda \\right)} \\cos{\\left(\\Omega - \\Phi \\right)}\\right)\\right)}{M_{s} \\left(\\alpha^{2} + 1\\right)}$"
      ],
      "text/plain": [
       "gamma*(H_{oe}*M_s - K2*alpha*(2*sin(Lambda)*sin(Omega)**2*cos(Lambda) - 2*sin(Lambda)*cos(Lambda)) - 2*K2*sin(Lambda)**2*sin(Omega)*cos(Omega)/sin(Theta) - (alpha*tau_1 + tau_2)*sin(Lambda)*sin(Omega - Phi) + (alpha*tau_2 + tau_1)*(-sin(Lambda)*cos(Theta) + sin(Theta)*cos(Lambda)*cos(Omega - Phi)))/(M_s*(alpha**2 + 1))"
      ]
     },
     "execution_count": 25,
     "metadata": {},
     "output_type": "execute_result"
    }
   ],
   "source": [
    "dLam = const * ((-1 / sinT)*dUdO - alpha*dUdL +\n",
    "                  (-sinL * cosT + sinT * cosL * cosPO) *\n",
    "                  (torque_par + alpha * torque_per) + (sinL * sinPO) *\n",
    "                  (alpha * torque_par + torque_per) + Ms*Hoe) \n",
    "dLam"
   ]
  },
  {
   "cell_type": "code",
   "execution_count": 26,
   "metadata": {},
   "outputs": [
    {
     "data": {
      "text/latex": [
       "$\\displaystyle \\frac{\\gamma \\left(\\frac{H_{oe} M_{s} \\alpha}{\\sin{\\left(\\Lambda \\right)}} - 2 K_{2} \\alpha \\sin{\\left(\\Omega \\right)} \\cos{\\left(\\Omega \\right)} + \\frac{K_{2} \\left(2 \\sin{\\left(\\Lambda \\right)} \\sin^{2}{\\left(\\Omega \\right)} \\cos{\\left(\\Lambda \\right)} - 2 \\sin{\\left(\\Lambda \\right)} \\cos{\\left(\\Lambda \\right)}\\right)}{\\sin{\\left(\\Theta \\right)}} - \\frac{\\left(- \\alpha \\tau_{1} + \\tau_{2}\\right) \\left(\\sin{\\left(\\Lambda \\right)} \\cos{\\left(\\Theta \\right)} - \\sin{\\left(\\Theta \\right)} \\cos{\\left(\\Lambda \\right)} \\cos{\\left(\\Omega - \\Phi \\right)}\\right)}{\\sin{\\left(\\Lambda \\right)}} - \\frac{\\left(- \\alpha \\tau_{2} + \\tau_{1}\\right) \\sin{\\left(\\Theta \\right)} \\sin{\\left(\\Omega - \\Phi \\right)}}{\\sin{\\left(\\Lambda \\right)}}\\right)}{M_{s} \\left(\\alpha^{2} + 1\\right)}$"
      ],
      "text/plain": [
       "gamma*(H_{oe}*M_s*alpha/sin(Lambda) - 2*K2*alpha*sin(Omega)*cos(Omega) + K2*(2*sin(Lambda)*sin(Omega)**2*cos(Lambda) - 2*sin(Lambda)*cos(Lambda))/sin(Theta) - (-alpha*tau_1 + tau_2)*(sin(Lambda)*cos(Theta) - sin(Theta)*cos(Lambda)*cos(Omega - Phi))/sin(Lambda) - (-alpha*tau_2 + tau_1)*sin(Theta)*sin(Omega - Phi)/sin(Lambda))/(M_s*(alpha**2 + 1))"
      ]
     },
     "execution_count": 26,
     "metadata": {},
     "output_type": "execute_result"
    }
   ],
   "source": [
    "dOmega = const * ((1 / sinT) * dUdL - (alpha / (sinL**2)) * dUdO - (1 / sinL) *\n",
    "                (sinL * cosT - sinT *cosL * cosPO) *\n",
    "                (torque_per - alpha * torque_par) \n",
    "                + (1/sinL)*(sinT*sinPO)*(torque_par - alpha*torque_per) + alpha*Ms*Hoe/sinL)\n",
    "dOmega"
   ]
  },
  {
   "cell_type": "code",
   "execution_count": 27,
   "metadata": {},
   "outputs": [],
   "source": [
    "dM = sym.Matrix([\n",
    "    [\n",
    "        sym.diff(dTheta, theta),\n",
    "        sym.diff(dTheta, phi),\n",
    "        sym.diff(dTheta, lamb),\n",
    "        sym.diff(dTheta, omega)\n",
    "    ],\n",
    "    [\n",
    "        sym.diff(dPhi, theta),\n",
    "        sym.diff(dPhi, phi),\n",
    "        sym.diff(dPhi, lamb),\n",
    "        sym.diff(dPhi, omega)\n",
    "    ],\n",
    "    [\n",
    "        sym.diff(dLam, theta),\n",
    "        sym.diff(dLam, phi),\n",
    "        sym.diff(dLam, lamb),\n",
    "        sym.diff(dLam, omega)\n",
    "    ],\n",
    "    [\n",
    "        sym.diff(dOmega, theta),\n",
    "        sym.diff(dOmega, phi),\n",
    "        sym.diff(dOmega, lamb),\n",
    "        sym.diff(dOmega, omega)\n",
    "    ]]\n",
    ")"
   ]
  },
  {
   "cell_type": "code",
   "execution_count": 28,
   "metadata": {},
   "outputs": [
    {
     "data": {
      "text/latex": [
       "$\\displaystyle \\left[\\begin{matrix}\\frac{\\gamma \\left(- K_{1} \\alpha \\left(- 2 \\sin^{2}{\\left(\\Phi \\right)} \\sin^{2}{\\left(\\Theta \\right)} + 2 \\sin^{2}{\\left(\\Phi \\right)} \\cos^{2}{\\left(\\Theta \\right)} + 2 \\sin^{2}{\\left(\\Theta \\right)} - 2 \\cos^{2}{\\left(\\Theta \\right)}\\right) - 2 K_{1} \\sin{\\left(\\Phi \\right)} \\cos{\\left(\\Phi \\right)} \\cos{\\left(\\Theta \\right)} + \\left(- \\alpha \\tau_{2} - \\tau_{1}\\right) \\left(\\sin{\\left(\\Lambda \\right)} \\sin{\\left(\\Theta \\right)} \\cos{\\left(\\Omega - \\Phi \\right)} + \\cos{\\left(\\Lambda \\right)} \\cos{\\left(\\Theta \\right)}\\right)\\right)}{M_{s} \\left(\\alpha^{2} + 1\\right)} & \\frac{\\gamma \\left(- 4 K_{1} \\alpha \\sin{\\left(\\Phi \\right)} \\sin{\\left(\\Theta \\right)} \\cos{\\left(\\Phi \\right)} \\cos{\\left(\\Theta \\right)} + 2 K_{1} \\sin^{2}{\\left(\\Phi \\right)} \\sin{\\left(\\Theta \\right)} - 2 K_{1} \\sin{\\left(\\Theta \\right)} \\cos^{2}{\\left(\\Phi \\right)} - \\left(\\alpha \\tau_{1} - \\tau_{2}\\right) \\sin{\\left(\\Lambda \\right)} \\cos{\\left(\\Omega - \\Phi \\right)} - \\left(- \\alpha \\tau_{2} - \\tau_{1}\\right) \\sin{\\left(\\Lambda \\right)} \\sin{\\left(\\Omega - \\Phi \\right)} \\cos{\\left(\\Theta \\right)}\\right)}{M_{s} \\left(\\alpha^{2} + 1\\right)} & \\frac{\\gamma \\left(\\left(\\alpha \\tau_{1} - \\tau_{2}\\right) \\sin{\\left(\\Omega - \\Phi \\right)} \\cos{\\left(\\Lambda \\right)} + \\left(- \\alpha \\tau_{2} - \\tau_{1}\\right) \\left(- \\sin{\\left(\\Lambda \\right)} \\sin{\\left(\\Theta \\right)} - \\cos{\\left(\\Lambda \\right)} \\cos{\\left(\\Theta \\right)} \\cos{\\left(\\Omega - \\Phi \\right)}\\right)\\right)}{M_{s} \\left(\\alpha^{2} + 1\\right)} & \\frac{\\gamma \\left(\\left(\\alpha \\tau_{1} - \\tau_{2}\\right) \\sin{\\left(\\Lambda \\right)} \\cos{\\left(\\Omega - \\Phi \\right)} + \\left(- \\alpha \\tau_{2} - \\tau_{1}\\right) \\sin{\\left(\\Lambda \\right)} \\sin{\\left(\\Omega - \\Phi \\right)} \\cos{\\left(\\Theta \\right)}\\right)}{M_{s} \\left(\\alpha^{2} + 1\\right)}\\\\\\frac{\\gamma \\left(- \\frac{H_{oe} M_{s} \\alpha \\cos{\\left(\\Theta \\right)}}{\\sin^{2}{\\left(\\Theta \\right)}} - \\frac{K_{1} \\left(2 \\sin^{2}{\\left(\\Phi \\right)} \\sin{\\left(\\Theta \\right)} \\cos{\\left(\\Theta \\right)} - 2 \\sin{\\left(\\Theta \\right)} \\cos{\\left(\\Theta \\right)}\\right) \\cos{\\left(\\Theta \\right)}}{\\sin^{2}{\\left(\\Theta \\right)}} + \\frac{K_{1} \\left(- 2 \\sin^{2}{\\left(\\Phi \\right)} \\sin^{2}{\\left(\\Theta \\right)} + 2 \\sin^{2}{\\left(\\Phi \\right)} \\cos^{2}{\\left(\\Theta \\right)} + 2 \\sin^{2}{\\left(\\Theta \\right)} - 2 \\cos^{2}{\\left(\\Theta \\right)}\\right)}{\\sin{\\left(\\Theta \\right)}} + \\frac{\\left(\\alpha \\tau_{1} - \\tau_{2}\\right) \\left(\\sin{\\left(\\Lambda \\right)} \\sin{\\left(\\Theta \\right)} \\cos{\\left(\\Omega - \\Phi \\right)} + \\cos{\\left(\\Lambda \\right)} \\cos{\\left(\\Theta \\right)}\\right)}{\\sin{\\left(\\Theta \\right)}} - \\frac{\\left(\\alpha \\tau_{1} - \\tau_{2}\\right) \\left(- \\sin{\\left(\\Lambda \\right)} \\cos{\\left(\\Theta \\right)} \\cos{\\left(\\Omega - \\Phi \\right)} + \\sin{\\left(\\Theta \\right)} \\cos{\\left(\\Lambda \\right)}\\right) \\cos{\\left(\\Theta \\right)}}{\\sin^{2}{\\left(\\Theta \\right)}} - \\frac{\\left(\\alpha \\tau_{2} + \\tau_{1}\\right) \\sin{\\left(\\Lambda \\right)} \\sin{\\left(\\Omega - \\Phi \\right)} \\cos{\\left(\\Theta \\right)}}{\\sin^{2}{\\left(\\Theta \\right)}}\\right)}{M_{s} \\left(\\alpha^{2} + 1\\right)} & \\frac{\\gamma \\left(2 K_{1} \\alpha \\sin^{2}{\\left(\\Phi \\right)} - 2 K_{1} \\alpha \\cos^{2}{\\left(\\Phi \\right)} + 4 K_{1} \\sin{\\left(\\Phi \\right)} \\cos{\\left(\\Phi \\right)} \\cos{\\left(\\Theta \\right)} - \\frac{\\left(\\alpha \\tau_{1} - \\tau_{2}\\right) \\sin{\\left(\\Lambda \\right)} \\sin{\\left(\\Omega - \\Phi \\right)} \\cos{\\left(\\Theta \\right)}}{\\sin{\\left(\\Theta \\right)}} - \\frac{\\left(\\alpha \\tau_{2} + \\tau_{1}\\right) \\sin{\\left(\\Lambda \\right)} \\cos{\\left(\\Omega - \\Phi \\right)}}{\\sin{\\left(\\Theta \\right)}}\\right)}{M_{s} \\left(\\alpha^{2} + 1\\right)} & \\frac{\\gamma \\left(\\frac{\\left(\\alpha \\tau_{1} - \\tau_{2}\\right) \\left(- \\sin{\\left(\\Lambda \\right)} \\sin{\\left(\\Theta \\right)} - \\cos{\\left(\\Lambda \\right)} \\cos{\\left(\\Theta \\right)} \\cos{\\left(\\Omega - \\Phi \\right)}\\right)}{\\sin{\\left(\\Theta \\right)}} + \\frac{\\left(\\alpha \\tau_{2} + \\tau_{1}\\right) \\sin{\\left(\\Omega - \\Phi \\right)} \\cos{\\left(\\Lambda \\right)}}{\\sin{\\left(\\Theta \\right)}}\\right)}{M_{s} \\left(\\alpha^{2} + 1\\right)} & \\frac{\\gamma \\left(\\frac{\\left(\\alpha \\tau_{1} - \\tau_{2}\\right) \\sin{\\left(\\Lambda \\right)} \\sin{\\left(\\Omega - \\Phi \\right)} \\cos{\\left(\\Theta \\right)}}{\\sin{\\left(\\Theta \\right)}} + \\frac{\\left(\\alpha \\tau_{2} + \\tau_{1}\\right) \\sin{\\left(\\Lambda \\right)} \\cos{\\left(\\Omega - \\Phi \\right)}}{\\sin{\\left(\\Theta \\right)}}\\right)}{M_{s} \\left(\\alpha^{2} + 1\\right)}\\\\\\frac{\\gamma \\left(\\frac{2 K_{2} \\sin^{2}{\\left(\\Lambda \\right)} \\sin{\\left(\\Omega \\right)} \\cos{\\left(\\Omega \\right)} \\cos{\\left(\\Theta \\right)}}{\\sin^{2}{\\left(\\Theta \\right)}} + \\left(\\alpha \\tau_{2} + \\tau_{1}\\right) \\left(\\sin{\\left(\\Lambda \\right)} \\sin{\\left(\\Theta \\right)} + \\cos{\\left(\\Lambda \\right)} \\cos{\\left(\\Theta \\right)} \\cos{\\left(\\Omega - \\Phi \\right)}\\right)\\right)}{M_{s} \\left(\\alpha^{2} + 1\\right)} & \\frac{\\gamma \\left(- \\left(- \\alpha \\tau_{1} - \\tau_{2}\\right) \\sin{\\left(\\Lambda \\right)} \\cos{\\left(\\Omega - \\Phi \\right)} + \\left(\\alpha \\tau_{2} + \\tau_{1}\\right) \\sin{\\left(\\Theta \\right)} \\sin{\\left(\\Omega - \\Phi \\right)} \\cos{\\left(\\Lambda \\right)}\\right)}{M_{s} \\left(\\alpha^{2} + 1\\right)} & \\frac{\\gamma \\left(- K_{2} \\alpha \\left(- 2 \\sin^{2}{\\left(\\Lambda \\right)} \\sin^{2}{\\left(\\Omega \\right)} + 2 \\sin^{2}{\\left(\\Lambda \\right)} + 2 \\sin^{2}{\\left(\\Omega \\right)} \\cos^{2}{\\left(\\Lambda \\right)} - 2 \\cos^{2}{\\left(\\Lambda \\right)}\\right) - \\frac{4 K_{2} \\sin{\\left(\\Lambda \\right)} \\sin{\\left(\\Omega \\right)} \\cos{\\left(\\Lambda \\right)} \\cos{\\left(\\Omega \\right)}}{\\sin{\\left(\\Theta \\right)}} + \\left(- \\alpha \\tau_{1} - \\tau_{2}\\right) \\sin{\\left(\\Omega - \\Phi \\right)} \\cos{\\left(\\Lambda \\right)} + \\left(\\alpha \\tau_{2} + \\tau_{1}\\right) \\left(- \\sin{\\left(\\Lambda \\right)} \\sin{\\left(\\Theta \\right)} \\cos{\\left(\\Omega - \\Phi \\right)} - \\cos{\\left(\\Lambda \\right)} \\cos{\\left(\\Theta \\right)}\\right)\\right)}{M_{s} \\left(\\alpha^{2} + 1\\right)} & \\frac{\\gamma \\left(- 4 K_{2} \\alpha \\sin{\\left(\\Lambda \\right)} \\sin{\\left(\\Omega \\right)} \\cos{\\left(\\Lambda \\right)} \\cos{\\left(\\Omega \\right)} + \\frac{2 K_{2} \\sin^{2}{\\left(\\Lambda \\right)} \\sin^{2}{\\left(\\Omega \\right)}}{\\sin{\\left(\\Theta \\right)}} - \\frac{2 K_{2} \\sin^{2}{\\left(\\Lambda \\right)} \\cos^{2}{\\left(\\Omega \\right)}}{\\sin{\\left(\\Theta \\right)}} + \\left(- \\alpha \\tau_{1} - \\tau_{2}\\right) \\sin{\\left(\\Lambda \\right)} \\cos{\\left(\\Omega - \\Phi \\right)} - \\left(\\alpha \\tau_{2} + \\tau_{1}\\right) \\sin{\\left(\\Theta \\right)} \\sin{\\left(\\Omega - \\Phi \\right)} \\cos{\\left(\\Lambda \\right)}\\right)}{M_{s} \\left(\\alpha^{2} + 1\\right)}\\\\\\frac{\\gamma \\left(- \\frac{K_{2} \\left(2 \\sin{\\left(\\Lambda \\right)} \\sin^{2}{\\left(\\Omega \\right)} \\cos{\\left(\\Lambda \\right)} - 2 \\sin{\\left(\\Lambda \\right)} \\cos{\\left(\\Lambda \\right)}\\right) \\cos{\\left(\\Theta \\right)}}{\\sin^{2}{\\left(\\Theta \\right)}} - \\frac{\\left(- \\alpha \\tau_{1} + \\tau_{2}\\right) \\left(- \\sin{\\left(\\Lambda \\right)} \\sin{\\left(\\Theta \\right)} - \\cos{\\left(\\Lambda \\right)} \\cos{\\left(\\Theta \\right)} \\cos{\\left(\\Omega - \\Phi \\right)}\\right)}{\\sin{\\left(\\Lambda \\right)}} - \\frac{\\left(- \\alpha \\tau_{2} + \\tau_{1}\\right) \\sin{\\left(\\Omega - \\Phi \\right)} \\cos{\\left(\\Theta \\right)}}{\\sin{\\left(\\Lambda \\right)}}\\right)}{M_{s} \\left(\\alpha^{2} + 1\\right)} & \\frac{\\gamma \\left(\\frac{\\left(- \\alpha \\tau_{1} + \\tau_{2}\\right) \\sin{\\left(\\Theta \\right)} \\sin{\\left(\\Omega - \\Phi \\right)} \\cos{\\left(\\Lambda \\right)}}{\\sin{\\left(\\Lambda \\right)}} + \\frac{\\left(- \\alpha \\tau_{2} + \\tau_{1}\\right) \\sin{\\left(\\Theta \\right)} \\cos{\\left(\\Omega - \\Phi \\right)}}{\\sin{\\left(\\Lambda \\right)}}\\right)}{M_{s} \\left(\\alpha^{2} + 1\\right)} & \\frac{\\gamma \\left(- \\frac{H_{oe} M_{s} \\alpha \\cos{\\left(\\Lambda \\right)}}{\\sin^{2}{\\left(\\Lambda \\right)}} + \\frac{K_{2} \\left(- 2 \\sin^{2}{\\left(\\Lambda \\right)} \\sin^{2}{\\left(\\Omega \\right)} + 2 \\sin^{2}{\\left(\\Lambda \\right)} + 2 \\sin^{2}{\\left(\\Omega \\right)} \\cos^{2}{\\left(\\Lambda \\right)} - 2 \\cos^{2}{\\left(\\Lambda \\right)}\\right)}{\\sin{\\left(\\Theta \\right)}} + \\frac{\\left(- \\alpha \\tau_{1} + \\tau_{2}\\right) \\left(\\sin{\\left(\\Lambda \\right)} \\cos{\\left(\\Theta \\right)} - \\sin{\\left(\\Theta \\right)} \\cos{\\left(\\Lambda \\right)} \\cos{\\left(\\Omega - \\Phi \\right)}\\right) \\cos{\\left(\\Lambda \\right)}}{\\sin^{2}{\\left(\\Lambda \\right)}} - \\frac{\\left(- \\alpha \\tau_{1} + \\tau_{2}\\right) \\left(\\sin{\\left(\\Lambda \\right)} \\sin{\\left(\\Theta \\right)} \\cos{\\left(\\Omega - \\Phi \\right)} + \\cos{\\left(\\Lambda \\right)} \\cos{\\left(\\Theta \\right)}\\right)}{\\sin{\\left(\\Lambda \\right)}} + \\frac{\\left(- \\alpha \\tau_{2} + \\tau_{1}\\right) \\sin{\\left(\\Theta \\right)} \\sin{\\left(\\Omega - \\Phi \\right)} \\cos{\\left(\\Lambda \\right)}}{\\sin^{2}{\\left(\\Lambda \\right)}}\\right)}{M_{s} \\left(\\alpha^{2} + 1\\right)} & \\frac{\\gamma \\left(2 K_{2} \\alpha \\sin^{2}{\\left(\\Omega \\right)} - 2 K_{2} \\alpha \\cos^{2}{\\left(\\Omega \\right)} + \\frac{4 K_{2} \\sin{\\left(\\Lambda \\right)} \\sin{\\left(\\Omega \\right)} \\cos{\\left(\\Lambda \\right)} \\cos{\\left(\\Omega \\right)}}{\\sin{\\left(\\Theta \\right)}} - \\frac{\\left(- \\alpha \\tau_{1} + \\tau_{2}\\right) \\sin{\\left(\\Theta \\right)} \\sin{\\left(\\Omega - \\Phi \\right)} \\cos{\\left(\\Lambda \\right)}}{\\sin{\\left(\\Lambda \\right)}} - \\frac{\\left(- \\alpha \\tau_{2} + \\tau_{1}\\right) \\sin{\\left(\\Theta \\right)} \\cos{\\left(\\Omega - \\Phi \\right)}}{\\sin{\\left(\\Lambda \\right)}}\\right)}{M_{s} \\left(\\alpha^{2} + 1\\right)}\\end{matrix}\\right]$"
      ],
      "text/plain": [
       "Matrix([\n",
       "[                                                                                                                                                                                                                                                                                                                        gamma*(-K1*alpha*(-2*sin(Phi)**2*sin(Theta)**2 + 2*sin(Phi)**2*cos(Theta)**2 + 2*sin(Theta)**2 - 2*cos(Theta)**2) - 2*K1*sin(Phi)*cos(Phi)*cos(Theta) + (-alpha*tau_2 - tau_1)*(sin(Lambda)*sin(Theta)*cos(Omega - Phi) + cos(Lambda)*cos(Theta)))/(M_s*(alpha**2 + 1)), gamma*(-4*K1*alpha*sin(Phi)*sin(Theta)*cos(Phi)*cos(Theta) + 2*K1*sin(Phi)**2*sin(Theta) - 2*K1*sin(Theta)*cos(Phi)**2 - (alpha*tau_1 - tau_2)*sin(Lambda)*cos(Omega - Phi) - (-alpha*tau_2 - tau_1)*sin(Lambda)*sin(Omega - Phi)*cos(Theta))/(M_s*(alpha**2 + 1)),                                                                                                                                                                                                                                                                                                                                      gamma*((alpha*tau_1 - tau_2)*sin(Omega - Phi)*cos(Lambda) + (-alpha*tau_2 - tau_1)*(-sin(Lambda)*sin(Theta) - cos(Lambda)*cos(Theta)*cos(Omega - Phi)))/(M_s*(alpha**2 + 1)),                                                                                                                                                           gamma*((alpha*tau_1 - tau_2)*sin(Lambda)*cos(Omega - Phi) + (-alpha*tau_2 - tau_1)*sin(Lambda)*sin(Omega - Phi)*cos(Theta))/(M_s*(alpha**2 + 1))],\n",
       "[gamma*(-H_{oe}*M_s*alpha*cos(Theta)/sin(Theta)**2 - K1*(2*sin(Phi)**2*sin(Theta)*cos(Theta) - 2*sin(Theta)*cos(Theta))*cos(Theta)/sin(Theta)**2 + K1*(-2*sin(Phi)**2*sin(Theta)**2 + 2*sin(Phi)**2*cos(Theta)**2 + 2*sin(Theta)**2 - 2*cos(Theta)**2)/sin(Theta) + (alpha*tau_1 - tau_2)*(sin(Lambda)*sin(Theta)*cos(Omega - Phi) + cos(Lambda)*cos(Theta))/sin(Theta) - (alpha*tau_1 - tau_2)*(-sin(Lambda)*cos(Theta)*cos(Omega - Phi) + sin(Theta)*cos(Lambda))*cos(Theta)/sin(Theta)**2 - (alpha*tau_2 + tau_1)*sin(Lambda)*sin(Omega - Phi)*cos(Theta)/sin(Theta)**2)/(M_s*(alpha**2 + 1)),        gamma*(2*K1*alpha*sin(Phi)**2 - 2*K1*alpha*cos(Phi)**2 + 4*K1*sin(Phi)*cos(Phi)*cos(Theta) - (alpha*tau_1 - tau_2)*sin(Lambda)*sin(Omega - Phi)*cos(Theta)/sin(Theta) - (alpha*tau_2 + tau_1)*sin(Lambda)*cos(Omega - Phi)/sin(Theta))/(M_s*(alpha**2 + 1)),                                                                                                                                                                                                                                                                                                                 gamma*((alpha*tau_1 - tau_2)*(-sin(Lambda)*sin(Theta) - cos(Lambda)*cos(Theta)*cos(Omega - Phi))/sin(Theta) + (alpha*tau_2 + tau_1)*sin(Omega - Phi)*cos(Lambda)/sin(Theta))/(M_s*(alpha**2 + 1)),                                                                                                                                      gamma*((alpha*tau_1 - tau_2)*sin(Lambda)*sin(Omega - Phi)*cos(Theta)/sin(Theta) + (alpha*tau_2 + tau_1)*sin(Lambda)*cos(Omega - Phi)/sin(Theta))/(M_s*(alpha**2 + 1))],\n",
       "[                                                                                                                                                                                                                                                                                                                                                                                                     gamma*(2*K2*sin(Lambda)**2*sin(Omega)*cos(Omega)*cos(Theta)/sin(Theta)**2 + (alpha*tau_2 + tau_1)*(sin(Lambda)*sin(Theta) + cos(Lambda)*cos(Theta)*cos(Omega - Phi)))/(M_s*(alpha**2 + 1)),                                                                                                                  gamma*(-(-alpha*tau_1 - tau_2)*sin(Lambda)*cos(Omega - Phi) + (alpha*tau_2 + tau_1)*sin(Theta)*sin(Omega - Phi)*cos(Lambda))/(M_s*(alpha**2 + 1)),                                                                                                                                                 gamma*(-K2*alpha*(-2*sin(Lambda)**2*sin(Omega)**2 + 2*sin(Lambda)**2 + 2*sin(Omega)**2*cos(Lambda)**2 - 2*cos(Lambda)**2) - 4*K2*sin(Lambda)*sin(Omega)*cos(Lambda)*cos(Omega)/sin(Theta) + (-alpha*tau_1 - tau_2)*sin(Omega - Phi)*cos(Lambda) + (alpha*tau_2 + tau_1)*(-sin(Lambda)*sin(Theta)*cos(Omega - Phi) - cos(Lambda)*cos(Theta)))/(M_s*(alpha**2 + 1)), gamma*(-4*K2*alpha*sin(Lambda)*sin(Omega)*cos(Lambda)*cos(Omega) + 2*K2*sin(Lambda)**2*sin(Omega)**2/sin(Theta) - 2*K2*sin(Lambda)**2*cos(Omega)**2/sin(Theta) + (-alpha*tau_1 - tau_2)*sin(Lambda)*cos(Omega - Phi) - (alpha*tau_2 + tau_1)*sin(Theta)*sin(Omega - Phi)*cos(Lambda))/(M_s*(alpha**2 + 1))],\n",
       "[                                                                                                                                                                                                                                                                                      gamma*(-K2*(2*sin(Lambda)*sin(Omega)**2*cos(Lambda) - 2*sin(Lambda)*cos(Lambda))*cos(Theta)/sin(Theta)**2 - (-alpha*tau_1 + tau_2)*(-sin(Lambda)*sin(Theta) - cos(Lambda)*cos(Theta)*cos(Omega - Phi))/sin(Lambda) - (-alpha*tau_2 + tau_1)*sin(Omega - Phi)*cos(Theta)/sin(Lambda))/(M_s*(alpha**2 + 1)),                                                                                           gamma*((-alpha*tau_1 + tau_2)*sin(Theta)*sin(Omega - Phi)*cos(Lambda)/sin(Lambda) + (-alpha*tau_2 + tau_1)*sin(Theta)*cos(Omega - Phi)/sin(Lambda))/(M_s*(alpha**2 + 1)), gamma*(-H_{oe}*M_s*alpha*cos(Lambda)/sin(Lambda)**2 + K2*(-2*sin(Lambda)**2*sin(Omega)**2 + 2*sin(Lambda)**2 + 2*sin(Omega)**2*cos(Lambda)**2 - 2*cos(Lambda)**2)/sin(Theta) + (-alpha*tau_1 + tau_2)*(sin(Lambda)*cos(Theta) - sin(Theta)*cos(Lambda)*cos(Omega - Phi))*cos(Lambda)/sin(Lambda)**2 - (-alpha*tau_1 + tau_2)*(sin(Lambda)*sin(Theta)*cos(Omega - Phi) + cos(Lambda)*cos(Theta))/sin(Lambda) + (-alpha*tau_2 + tau_1)*sin(Theta)*sin(Omega - Phi)*cos(Lambda)/sin(Lambda)**2)/(M_s*(alpha**2 + 1)),             gamma*(2*K2*alpha*sin(Omega)**2 - 2*K2*alpha*cos(Omega)**2 + 4*K2*sin(Lambda)*sin(Omega)*cos(Lambda)*cos(Omega)/sin(Theta) - (-alpha*tau_1 + tau_2)*sin(Theta)*sin(Omega - Phi)*cos(Lambda)/sin(Lambda) - (-alpha*tau_2 + tau_1)*sin(Theta)*cos(Omega - Phi)/sin(Lambda))/(M_s*(alpha**2 + 1))]])"
      ]
     },
     "execution_count": 28,
     "metadata": {},
     "output_type": "execute_result"
    }
   ],
   "source": [
    "dM"
   ]
  },
  {
   "cell_type": "code",
   "execution_count": 30,
   "metadata": {},
   "outputs": [],
   "source": [
    "# dM.eigenvals()"
   ]
  },
  {
   "cell_type": "markdown",
   "metadata": {},
   "source": [
    "# Solver"
   ]
  },
  {
   "cell_type": "code",
   "execution_count": 7,
   "metadata": {},
   "outputs": [
    {
     "data": {
      "text/plain": [
       "(array([24. ,  0. ,  1.2]), array([0.7, 0.5, 0.6]), array([0.2, 0.7, 0.6]))"
      ]
     },
     "execution_count": 7,
     "metadata": {},
     "output_type": "execute_result"
    }
   ],
   "source": [
    "import numpy as np\n",
    "M = np.array([0.2, 0.5, 0.6])\n",
    "Hext = np.array([120, 0, 2])\n",
    "N = np.array([[1, 1, 0], [0, 1, 0], [0, 0, 1]])\n",
    "M*Hext, N@M, M@N"
   ]
  },
  {
   "cell_type": "code",
   "execution_count": 76,
   "metadata": {},
   "outputs": [
    {
     "data": {
      "text/latex": [
       "$\\displaystyle H_{de11} M_{s1} \\sin{\\left(\\Phi \\right)} \\sin{\\left(\\Theta \\right)} - H_{de12} M_{s1} \\sin{\\left(\\Theta \\right)} \\cos{\\left(\\Phi \\right)} + H_{dip21} M_{s1} \\sin{\\left(\\Phi \\right)} \\sin{\\left(\\Theta \\right)} - H_{dip22} M_{s1} \\sin{\\left(\\Theta \\right)} \\cos{\\left(\\Phi \\right)} + H_{ext1} M_{s1} \\sin{\\left(\\Phi \\right)} \\sin{\\left(\\Theta \\right)} - H_{ext2} M_{s1} \\sin{\\left(\\Theta \\right)} \\cos{\\left(\\Phi \\right)} + 2 K_{1} \\sin{\\left(\\Phi \\right)} \\sin^{2}{\\left(\\Theta \\right)} \\cos{\\left(\\Phi \\right)}$"
      ],
      "text/plain": [
       "H_{de11}*M_{s1}*sin(Phi)*sin(Theta) - H_{de12}*M_{s1}*sin(Theta)*cos(Phi) + H_{dip21}*M_{s1}*sin(Phi)*sin(Theta) - H_{dip22}*M_{s1}*sin(Theta)*cos(Phi) + H_{ext1}*M_{s1}*sin(Phi)*sin(Theta) - H_{ext2}*M_{s1}*sin(Theta)*cos(Phi) + 2*K1*sin(Phi)*sin(Theta)**2*cos(Phi)"
      ]
     },
     "execution_count": 76,
     "metadata": {},
     "output_type": "execute_result"
    }
   ],
   "source": [
    "dUdP"
   ]
  },
  {
   "cell_type": "code",
   "execution_count": 78,
   "metadata": {},
   "outputs": [
    {
     "data": {
      "text/latex": [
       "$\\displaystyle - H_{de11} M_{s1} \\sin{\\left(\\Theta \\right)} \\cos{\\left(\\Phi \\right)} - H_{de12} M_{s1} \\sin{\\left(\\Phi \\right)} \\sin{\\left(\\Theta \\right)} - H_{de13} M_{s1} \\cos{\\left(\\Theta \\right)} - H_{de21} M_{s2} \\sin{\\left(\\Lambda \\right)} \\cos{\\left(\\Omega \\right)} - H_{de22} M_{s2} \\sin{\\left(\\Lambda \\right)} \\sin{\\left(\\Omega \\right)} - H_{de23} M_{s2} \\cos{\\left(\\Lambda \\right)} - H_{dip11} M_{s2} \\sin{\\left(\\Lambda \\right)} \\cos{\\left(\\Omega \\right)} - H_{dip12} M_{s2} \\sin{\\left(\\Lambda \\right)} \\sin{\\left(\\Omega \\right)} - H_{dip13} M_{s2} \\cos{\\left(\\Lambda \\right)} - H_{dip21} M_{s1} \\sin{\\left(\\Theta \\right)} \\cos{\\left(\\Phi \\right)} - H_{dip22} M_{s1} \\sin{\\left(\\Phi \\right)} \\sin{\\left(\\Theta \\right)} - H_{dip23} M_{s1} \\cos{\\left(\\Theta \\right)} - H_{ext1} M_{s1} \\sin{\\left(\\Theta \\right)} \\cos{\\left(\\Phi \\right)} - H_{ext1} M_{s2} \\sin{\\left(\\Lambda \\right)} \\cos{\\left(\\Omega \\right)} - H_{ext2} M_{s1} \\sin{\\left(\\Phi \\right)} \\sin{\\left(\\Theta \\right)} - H_{ext2} M_{s2} \\sin{\\left(\\Lambda \\right)} \\sin{\\left(\\Omega \\right)} - H_{ext3} M_{s1} \\cos{\\left(\\Theta \\right)} - H_{ext3} M_{s2} \\cos{\\left(\\Lambda \\right)} + K_{1} \\left(\\sin^{2}{\\left(\\Phi \\right)} \\sin^{2}{\\left(\\Theta \\right)} + \\cos^{2}{\\left(\\Theta \\right)}\\right) + K_{2} \\left(\\sin^{2}{\\left(\\Lambda \\right)} \\sin^{2}{\\left(\\Omega \\right)} + \\cos^{2}{\\left(\\Lambda \\right)}\\right)$"
      ],
      "text/plain": [
       "-H_{de11}*M_{s1}*sin(Theta)*cos(Phi) - H_{de12}*M_{s1}*sin(Phi)*sin(Theta) - H_{de13}*M_{s1}*cos(Theta) - H_{de21}*M_{s2}*sin(Lambda)*cos(Omega) - H_{de22}*M_{s2}*sin(Lambda)*sin(Omega) - H_{de23}*M_{s2}*cos(Lambda) - H_{dip11}*M_{s2}*sin(Lambda)*cos(Omega) - H_{dip12}*M_{s2}*sin(Lambda)*sin(Omega) - H_{dip13}*M_{s2}*cos(Lambda) - H_{dip21}*M_{s1}*sin(Theta)*cos(Phi) - H_{dip22}*M_{s1}*sin(Phi)*sin(Theta) - H_{dip23}*M_{s1}*cos(Theta) - H_{ext1}*M_{s1}*sin(Theta)*cos(Phi) - H_{ext1}*M_{s2}*sin(Lambda)*cos(Omega) - H_{ext2}*M_{s1}*sin(Phi)*sin(Theta) - H_{ext2}*M_{s2}*sin(Lambda)*sin(Omega) - H_{ext3}*M_{s1}*cos(Theta) - H_{ext3}*M_{s2}*cos(Lambda) + K1*(sin(Phi)**2*sin(Theta)**2 + cos(Theta)**2) + K2*(sin(Lambda)**2*sin(Omega)**2 + cos(Lambda)**2)"
      ]
     },
     "execution_count": 78,
     "metadata": {},
     "output_type": "execute_result"
    }
   ],
   "source": [
    "energy"
   ]
  },
  {
   "cell_type": "code",
   "execution_count": 77,
   "metadata": {},
   "outputs": [
    {
     "data": {
      "text/latex": [
       "$\\displaystyle - H_{de11} M_{s1} \\cos{\\left(\\Phi \\right)} \\cos{\\left(\\Theta \\right)} - H_{de12} M_{s1} \\sin{\\left(\\Phi \\right)} \\cos{\\left(\\Theta \\right)} + H_{de13} M_{s1} \\sin{\\left(\\Theta \\right)} - H_{dip21} M_{s1} \\cos{\\left(\\Phi \\right)} \\cos{\\left(\\Theta \\right)} - H_{dip22} M_{s1} \\sin{\\left(\\Phi \\right)} \\cos{\\left(\\Theta \\right)} + H_{dip23} M_{s1} \\sin{\\left(\\Theta \\right)} - H_{ext1} M_{s1} \\cos{\\left(\\Phi \\right)} \\cos{\\left(\\Theta \\right)} - H_{ext2} M_{s1} \\sin{\\left(\\Phi \\right)} \\cos{\\left(\\Theta \\right)} + H_{ext3} M_{s1} \\sin{\\left(\\Theta \\right)} + K_{1} \\left(2 \\sin^{2}{\\left(\\Phi \\right)} \\sin{\\left(\\Theta \\right)} \\cos{\\left(\\Theta \\right)} - 2 \\sin{\\left(\\Theta \\right)} \\cos{\\left(\\Theta \\right)}\\right)$"
      ],
      "text/plain": [
       "-H_{de11}*M_{s1}*cos(Phi)*cos(Theta) - H_{de12}*M_{s1}*sin(Phi)*cos(Theta) + H_{de13}*M_{s1}*sin(Theta) - H_{dip21}*M_{s1}*cos(Phi)*cos(Theta) - H_{dip22}*M_{s1}*sin(Phi)*cos(Theta) + H_{dip23}*M_{s1}*sin(Theta) - H_{ext1}*M_{s1}*cos(Phi)*cos(Theta) - H_{ext2}*M_{s1}*sin(Phi)*cos(Theta) + H_{ext3}*M_{s1}*sin(Theta) + K1*(2*sin(Phi)**2*sin(Theta)*cos(Theta) - 2*sin(Theta)*cos(Theta))"
      ]
     },
     "execution_count": 77,
     "metadata": {},
     "output_type": "execute_result"
    }
   ],
   "source": [
    "dUdT"
   ]
  },
  {
   "cell_type": "code",
   "execution_count": 106,
   "metadata": {},
   "outputs": [],
   "source": [
    "import numpy as np\n",
    "from copy import deepcopy\n",
    "\n",
    "TtoAm = 795774.715459\n",
    "\"\"\"\n",
    "        Spherical coords\n",
    "        Theta -- azimuth angle, L1\n",
    "        Phi -- inplane angle, L1\n",
    "        Omega -- inplane angle, L2\n",
    "        Lambda -- azimuth angle, L2\n",
    "\"\"\"\n",
    "\n",
    "\n",
    "def energy_cost_fn(theta, phi, lambda_, omega, Ms1, Ms2, K1, K2, Hext, Hdemag1,\n",
    "                   Hdemag2, Hdipole1, Hdipole2):\n",
    "\n",
    "    sT = np.sin(theta)\n",
    "    cT = np.cos(theta)\n",
    "\n",
    "    sP = np.sin(phi)\n",
    "    cP = np.cos(phi)\n",
    "\n",
    "    sL = np.sin(lambda_)\n",
    "    cL = np.cos(lambda_)\n",
    "\n",
    "    sO = np.sin(omega)\n",
    "    cO = np.cos(omega)\n",
    "\n",
    "    TP = np.array([sT * cP, sP * sT, cT])\n",
    "\n",
    "    OL = np.array([sL * cO, sL * sO, cL])\n",
    "\n",
    "    A1 = K1 * (np.power(cT, 2) + np.power(sT, 2) * np.power(sP, 2))\n",
    "    A2 = K2 * (np.power(cL, 2) + np.power(sL, 2) * np.power(sO, 2))\n",
    "\n",
    "    cost = A1 + A2\n",
    "    for H, M, A in zip([Hdemag1, Hdemag2, Hdipole1, Hdipole2, Hext, Hext],\n",
    "                       [Ms1, Ms2, Ms2, Ms1, Ms1, Ms2],\n",
    "                       [TP, OL, OL, TP, TP, OL]):\n",
    "        cost -= np.sum(H * M * A)\n",
    "\n",
    "    return cost\n",
    "\n",
    "\n",
    "def gradient_vector_U(Ms, K, Hext, Hdemag, Hdipole, inplane_angle,\n",
    "                      azimuth_angle):\n",
    "    \"\"\"\n",
    "    [inplane, azimuth],\n",
    "    [phi, theta],\n",
    "    [omega, lambda]\n",
    "    \"\"\"\n",
    "    K_gradient = np.array([\n",
    "        2 * K * np.sin(azimuth_angle) * np.power(np.sin(inplane_angle), 2) *\n",
    "        np.cos(inplane_angle), 2 * K * np.sin(inplane_angle) *\n",
    "        np.cos(inplane_angle) * (np.power(np.sin(azimuth_angle), 2) - 1)\n",
    "    ])\n",
    "\n",
    "    # virtually the same types of interaction -- dipole & demag\n",
    "    Hdemag_gradient = np.array([\n",
    "        Hdemag[0] * np.sin(inplane_angle) * np.sin(azimuth_angle) -\n",
    "        Hdemag[1] * np.sin(azimuth_angle) * np.cos(inplane_angle),\n",
    "        -Hdemag[0] * np.cos(inplane_angle) * np.cos(azimuth_angle) -\n",
    "        Hdemag[1] * np.sin(inplane_angle) * np.cos(azimuth_angle) +\n",
    "        Hdemag[2] * np.sin(azimuth_angle)\n",
    "    ]) * Ms\n",
    "\n",
    "    Hdip_gradient = np.array([\n",
    "        Hdipole[0] * np.sin(inplane_angle) * np.sin(azimuth_angle) -\n",
    "        Hdipole[1] * np.sin(azimuth_angle) * np.cos(inplane_angle),\n",
    "        -Hdipole[0] * np.cos(inplane_angle) * np.cos(azimuth_angle) -\n",
    "        Hdipole[1] * np.sin(inplane_angle) * np.cos(azimuth_angle) +\n",
    "        Hdipole[2] * np.sin(azimuth_angle)\n",
    "    ]) * Ms\n",
    "\n",
    "    Hext_gradient = np.array([\n",
    "        Hext[0] * np.sin(inplane_angle) * np.sin(azimuth_angle) -\n",
    "        Hext[1] * np.sin(azimuth_angle) * np.cos(inplane_angle),\n",
    "        -Hext[0] * np.cos(inplane_angle) * np.cos(azimuth_angle) -\n",
    "        Hext[1] * np.sin(inplane_angle) * np.cos(azimuth_angle) +\n",
    "        Hext[2] * np.sin(azimuth_angle)\n",
    "    ]) * Ms\n",
    "\n",
    "    return K_gradient + Hdemag_gradient + Hdip_gradient + Hext_gradient\n",
    "\n",
    "\n",
    "def gradientDescent(param_set,\n",
    "                    Ndemag,\n",
    "                    Ndipole,\n",
    "                    layer='A',\n",
    "                    num_iterations=10000,\n",
    "                    lr=0.01, w=10):\n",
    "    \"\"\"\n",
    "    x = [inplane, azimuth]\n",
    "    \"\"\"\n",
    "    if layer == 'A':\n",
    "        Ms, K, Hext = param_set['Ms1'], param_set[\"K1\"], param_set[\"Hext\"]\n",
    "        Hdipole, Hdemag, = param_set[\"Hdipole2\"], param_set[\"Hdemag1\"]\n",
    "        x = np.array([param_set['phi'], param_set['theta']])\n",
    "    elif layer == \"B\":\n",
    "        Ms, K, Hext = param_set['Ms2'], param_set[\"K2\"], param_set[\"Hext\"]\n",
    "        Hdipole, Hdemag, = param_set[\"Hdipole1\"], param_set[\"Hdemag2\"]\n",
    "        x = np.array([param_set['omega'], param_set['lambda_']])\n",
    "    else:\n",
    "        raise ValueError(\"Unidentified layer\")\n",
    "\n",
    "    param_set_copy = deepcopy(param_set)\n",
    "    last_cost = 0\n",
    "    for i in range(num_iterations):\n",
    "        grad = gradient_vector_U(Ms, K, Hext, Hdemag, Hdipole, x[0], x[1])\n",
    "        x = x - lr * grad\n",
    "        if i % w == 0:\n",
    "            if layer == 'A':\n",
    "                param_set_copy['phi'] = x[0]\n",
    "                param_set_copy['theta'] = x[1]\n",
    "\n",
    "                Ms1v = cartiesian_from_spherical(Ms1, x[0], x[1])\n",
    "                param_set_copy['Hdemag1'] = get_tensor_interaction(\n",
    "                    Ms1v, Ndemag)\n",
    "                param_set_copy['Hdipole1'] = get_tensor_interaction(\n",
    "                    Ms1v, Ndipole)\n",
    "            else:\n",
    "                param_set_copy['omega'] = x[0]\n",
    "                param_set_copy['lambda'] = x[1]\n",
    "\n",
    "                Ms2v = cartiesian_from_spherical(Ms2, x[0], x[1])\n",
    "                param_set_copy['Hdemag1'] = get_tensor_interaction(\n",
    "                    Ms1v, Ndemag)\n",
    "                param_set_copy['Hdipole1'] = get_tensor_interaction(\n",
    "                    Ms1v, Ndipole)\n",
    "\n",
    "            cost = energy_cost_fn(**param_set_copy)\n",
    "            print(f\"[{i}] Cost: {cost} -- diff {last_cost-cost}\")\n",
    "            last_cost = cost\n",
    "    return x"
   ]
  },
  {
   "cell_type": "code",
   "execution_count": 107,
   "metadata": {},
   "outputs": [
    {
     "name": "stdout",
     "output_type": "stream",
     "text": [
      "[0] Cost: -799409885480.328 -- diff 799409885480.328\n",
      "[10] Cost: -939059550936.7723 -- diff 139649665456.44434\n",
      "[20] Cost: -284901139695.89246 -- diff -654158411240.8799\n",
      "[30] Cost: -283156677148.6479 -- diff -1744462547.2445679\n",
      "[40] Cost: -555378275491.0128 -- diff 272221598342.36493\n",
      "[50] Cost: -935736463239.7626 -- diff 380358187748.74976\n",
      "[60] Cost: -199485846848.571 -- diff -736250616391.1915\n",
      "[70] Cost: 79640802720.3289 -- diff -279126649568.8999\n",
      "[80] Cost: 11838923007.691162 -- diff 67801879712.63774\n",
      "[90] Cost: -500378880912.87256 -- diff 512217803920.5637\n",
      "[100] Cost: -910694084853.0492 -- diff 410315203940.17664\n",
      "[110] Cost: -416650553236.2378 -- diff -494043531616.8114\n",
      "[120] Cost: -77486657505.28111 -- diff -339163895730.95667\n",
      "[130] Cost: -829406769353.4814 -- diff 751920111848.2003\n",
      "[140] Cost: -218473900518.67316 -- diff -610932868834.8083\n",
      "[150] Cost: -227473636382.66074 -- diff 8999735863.98758\n",
      "[160] Cost: -280395458145.40875 -- diff 52921821762.74802\n",
      "[170] Cost: -565427237037.6782 -- diff 285031778892.2695\n",
      "[180] Cost: -370002511468.2054 -- diff -195424725569.47284\n",
      "[190] Cost: 67225258834.39278 -- diff -437227770302.59814\n",
      "[200] Cost: -680333087587.8068 -- diff 747558346422.1996\n",
      "[210] Cost: -510856618580.921 -- diff -169476469006.88574\n",
      "[220] Cost: -562918395156.4741 -- diff 52061776575.5531\n",
      "[230] Cost: -188816150637.6399 -- diff -374102244518.8342\n",
      "[240] Cost: -314888141599.8589 -- diff 126071990962.219\n",
      "[250] Cost: -560266489721.753 -- diff 245378348121.89417\n",
      "[260] Cost: -148310633821.02264 -- diff -411955855900.7304\n",
      "[270] Cost: -296204002077.50397 -- diff 147893368256.48132\n",
      "[280] Cost: -891728638989.4291 -- diff 595524636911.925\n",
      "[290] Cost: -394126424874.2937 -- diff -497602214115.1354\n",
      "[300] Cost: -920787567711.3842 -- diff 526661142837.09045\n",
      "[310] Cost: -234603384130.57416 -- diff -686184183580.81\n",
      "[320] Cost: -926086036181.9772 -- diff 691482652051.4031\n",
      "[330] Cost: -926003562917.8314 -- diff -82473264.14575195\n",
      "[340] Cost: -281363427239.1182 -- diff -644640135678.7131\n",
      "[350] Cost: -160839840253.54254 -- diff -120523586985.57568\n",
      "[360] Cost: -944997330666.5764 -- diff 784157490413.0339\n",
      "[370] Cost: -848966013177.9932 -- diff -96031317488.58325\n",
      "[380] Cost: -106964103750.48222 -- diff -742001909427.511\n",
      "[390] Cost: -553452577068.233 -- diff 446488473317.7508\n",
      "[400] Cost: -781576551482.2413 -- diff 228123974414.0083\n",
      "[410] Cost: -902390046921.2257 -- diff 120813495438.98438\n",
      "[420] Cost: -122733865159.02528 -- diff -779656181762.2004\n",
      "[430] Cost: -919931041156.0773 -- diff 797197175997.052\n",
      "[440] Cost: -508237849730.9701 -- diff -411693191425.1072\n",
      "[450] Cost: -337968981338.0489 -- diff -170268868392.9212\n",
      "[460] Cost: -772578866187.204 -- diff 434609884849.1551\n",
      "[470] Cost: -481841148111.4059 -- diff -290737718075.7981\n",
      "[480] Cost: -415362127469.4641 -- diff -66479020641.94177\n",
      "[490] Cost: -211111344736.66626 -- diff -204250782732.79785\n",
      "[500] Cost: -275262088624.1457 -- diff 64150743887.47943\n",
      "[510] Cost: -95879527852.6769 -- diff -179382560771.4688\n",
      "[520] Cost: -145122112311.87338 -- diff 49242584459.19649\n",
      "[530] Cost: -41182097061.24681 -- diff -103940015250.62657\n",
      "[540] Cost: -549154478178.1892 -- diff 507972381116.9424\n",
      "[550] Cost: -561109701425.8025 -- diff 11955223247.613281\n",
      "[560] Cost: -835271345009.9689 -- diff 274161643584.16638\n",
      "[570] Cost: -726873896460.1351 -- diff -108397448549.83374\n",
      "[580] Cost: -137903740066.50427 -- diff -588970156393.6309\n",
      "[590] Cost: -560013772813.7683 -- diff 422110032747.26404\n",
      "[600] Cost: -38656940942.36358 -- diff -521356831871.4047\n",
      "[610] Cost: -336823358671.8621 -- diff 298166417729.49854\n",
      "[620] Cost: -523652450676.8235 -- diff 186829092004.96136\n",
      "[630] Cost: -492921998697.1411 -- diff -30730451979.682373\n",
      "[640] Cost: -573193467288.6327 -- diff 80271468591.49158\n",
      "[650] Cost: -193499020830.6811 -- diff -379694446457.9516\n",
      "[660] Cost: -266035135408.27368 -- diff 72536114577.59259\n",
      "[670] Cost: -236359195298.97137 -- diff -29675940109.302307\n",
      "[680] Cost: -670858032972.9625 -- diff 434498837673.99115\n",
      "[690] Cost: -320702184106.53973 -- diff -350155848866.4228\n",
      "[700] Cost: -286126133426.9557 -- diff -34576050679.584045\n",
      "[710] Cost: -6193622242.770493 -- diff -279932511184.1852\n",
      "[720] Cost: -446996995130.1073 -- diff 440803372887.3368\n",
      "[730] Cost: -244462453029.97314 -- diff -202534542100.13416\n",
      "[740] Cost: 29262676885.29808 -- diff -273725129915.27124\n",
      "[750] Cost: 79096837095.82884 -- diff -49834160210.53076\n",
      "[760] Cost: -459487449902.9233 -- diff 538584286998.75214\n",
      "[770] Cost: -140409606023.9215 -- diff -319077843879.0018\n",
      "[780] Cost: -381386588125.1752 -- diff 240976982101.25366\n",
      "[790] Cost: -273408450012.37012 -- diff -107978138112.80505\n",
      "[800] Cost: -573740743686.8671 -- diff 300332293674.49695\n",
      "[810] Cost: -792282279773.9053 -- diff 218541536087.0382\n",
      "[820] Cost: -306951849776.77515 -- diff -485330429997.1301\n",
      "[830] Cost: -416978117516.7169 -- diff 110026267739.94177\n",
      "[840] Cost: -552973437219.8708 -- diff 135995319703.15393\n",
      "[850] Cost: -544200956242.1948 -- diff -8772480977.676025\n",
      "[860] Cost: -437548827638.5767 -- diff -106652128603.6181\n",
      "[870] Cost: -281720929933.4773 -- diff -155827897705.09943\n",
      "[880] Cost: -574329987934.8281 -- diff 292609058001.3508\n",
      "[890] Cost: -853032174029.162 -- diff 278702186094.33386\n",
      "[900] Cost: -891232423467.822 -- diff 38200249438.660034\n",
      "[910] Cost: -328369960563.4142 -- diff -562862462904.4078\n",
      "[920] Cost: -264913092938.16333 -- diff -63456867625.250854\n",
      "[930] Cost: -224551628516.06476 -- diff -40361464422.09857\n",
      "[940] Cost: 42687656714.20317 -- diff -267239285230.26794\n",
      "[950] Cost: -750826314134.232 -- diff 793513970848.4352\n",
      "[960] Cost: -254624042227.9889 -- diff -496202271906.24316\n",
      "[970] Cost: -857725797227.4843 -- diff 603101754999.4954\n",
      "[980] Cost: -339084352327.8475 -- diff -518641444899.6368\n",
      "[990] Cost: -572964439777.5784 -- diff 233880087449.7309\n"
     ]
    },
    {
     "data": {
      "text/plain": [
       "array([-6.63813664e+10,  7.27730409e+10])"
      ]
     },
     "execution_count": 107,
     "metadata": {},
     "output_type": "execute_result"
    }
   ],
   "source": [
    "Ndemag = np.array([[6.8353909454237e-4, 0., 0.], [0., 0.00150694452305927, 0.],\n",
    "                   [0., 0., 0.99780951638608]])\n",
    "Ndipole = np.array([[5.57049776248663e-4, 0., 0.],\n",
    "                    [0., 0.00125355500286346, 0.],\n",
    "                    [0., 0.0, -0.00181060482770131]])\n",
    "\n",
    "def get_tensor_interaction(M, N):\n",
    "    return N @ M\n",
    "\n",
    "\n",
    "def cartiesian_from_spherical(r, inplane, azimuth):\n",
    "    return np.array([\n",
    "        r*np.sin(azimuth)*np.cos(inplane),\n",
    "        r*np.sin(azimuth)*np.sin(inplane),\n",
    "        r*np.cos(azimuth)\n",
    "    ])\n",
    "    \n",
    "\n",
    "phi = to_radian(20) # inplane\n",
    "theta = to_radian(80)    \n",
    "\n",
    "omega = to_radian(20) # inplane\n",
    "lambda_ = to_radian(80)\n",
    "\n",
    "Ms1 = Ms2 = 1 * TtoAm\n",
    "Ms1v = cartiesian_from_spherical(Ms1, phi, theta)\n",
    "Ms2v = cartiesian_from_spherical(Ms2, omega, lambda_)\n",
    "\n",
    "Hdipole1 = get_tensor_interaction(Ms1v, Ndipole)\n",
    "Hdipole2 = get_tensor_interaction(Ms2v, Ndipole)\n",
    "\n",
    "param_set = {\n",
    "    'theta': theta,\n",
    "    'omega': omega,\n",
    "    'phi': phi,\n",
    "    'lambda_': lambda_,\n",
    "    'Hext': np.array([0, 1, 1]) * 0.3 * TtoAm,\n",
    "    'K1': 650e3,\n",
    "    'K2': 880e3,\n",
    "    'Ms1': Ms1,\n",
    "    'Ms2': Ms2,\n",
    "    'Hdipole1': Hdipole1,\n",
    "    'Hdipole2': Hdipole2,\n",
    "    'Hdemag1': get_tensor_interaction(Ms1v, Ndemag),\n",
    "    'Hdemag2': get_tensor_interaction(Ms2v, Ndemag)\n",
    "}\n",
    "\n",
    "gradientDescent(param_set, Ndemag, Ndipole, layer='A', num_iterations=1000, lr=0.1)"
   ]
  },
  {
   "cell_type": "code",
   "execution_count": 41,
   "metadata": {},
   "outputs": [
    {
     "data": {
      "text/plain": [
       "array([ 1.43712380e+06,  1.43712380e+06, -1.76805184e+12])"
      ]
     },
     "execution_count": 41,
     "metadata": {},
     "output_type": "execute_result"
    }
   ],
   "source": [
    "\n",
    "\n",
    "\n",
    "\n",
    "def to_radian(angle):\n",
    "    return angle * (np.pi / 180)\n",
    "\n",
    "\n",
    "def get_anisotropy_density(K, angle1, angle2):\n",
    "\n",
    "    return K * (np.power(np.cos(angle1), 2) +\n",
    "                np.power(np.sin(angle1), 2) * np.power(np.sin(angle2), 2))\n",
    "\n",
    "\n",
    "def get_tensor_interaction(M, N):\n",
    "    return N @ M\n",
    "\n",
    "\n",
    "def magnetic_energy_density_cost(theta, omega, phi, lambda_, Ms1, Ms2, K1, K2)\n",
    "\n",
    "def magnetic_energy_density(theta, omega, phi, lambda_, M1, M2, Hext, K1, K2, Ndip1, Ndip2,\n",
    "                            Ndemag1, Ndemag2):\n",
    "    \"\"\"\n",
    "    @param start params:\n",
    "    is a dict of below\n",
    "        Spherical coords\n",
    "        Theta -- azimuth angle, L1\n",
    "        Phi -- inplane angle, L1\n",
    "        Omega -- inplane angle, L2\n",
    "        Lambda -- azimuth angle, L2\n",
    "    \"\"\"\n",
    "\n",
    "    A1 = get_anisotropy_density(K1, theta, phi)\n",
    "    A2 = get_anisotropy_density(K2, lambda_, omega)\n",
    "    Hdip1 = get_tensor_interaction(M1, Ndip1)\n",
    "    Hdip2 = get_tensor_interaction(M2, Ndip2)\n",
    "    Hdemag1 = get_tensor_interaction(M1, Ndemag1)\n",
    "    Hdemag2 = get_tensor_interaction(M2, Ndemag2)\n",
    "    U = A1 + A2 - M1 * Hext - M2 * Hext - M1 * Hdemag1 - M2 * Hdemag2 - M1 * Hdip1 - M2 * Hdip2\n",
    "    \"\"\"\n",
    "    Get the minimum of the angles\n",
    "    \"\"\"\n",
    "    return U\n",
    "\n",
    "\n",
    "\n",
    "\n",
    "M1 = M2 = np.array([0, 0, 1 * TtoAm])\n",
    "Hext = 0.4 * TtoAm  # 0.4 T\n",
    "start_params = {\n",
    "\n",
    "}\n",
    "K1 = 650e3\n",
    "K2 = 880e3\n",
    "magnetic_energy_density(**params)"
   ]
  },
  {
   "cell_type": "code",
   "execution_count": null,
   "metadata": {},
   "outputs": [],
   "source": []
  },
  {
   "cell_type": "code",
   "execution_count": null,
   "metadata": {},
   "outputs": [],
   "source": []
  }
 ],
 "metadata": {
  "kernelspec": {
   "display_name": "phys",
   "language": "python",
   "name": "phys"
  },
  "language_info": {
   "codemirror_mode": {
    "name": "ipython",
    "version": 3
   },
   "file_extension": ".py",
   "mimetype": "text/x-python",
   "name": "python",
   "nbconvert_exporter": "python",
   "pygments_lexer": "ipython3",
   "version": "3.9.0"
  },
  "toc": {
   "base_numbering": 1,
   "nav_menu": {},
   "number_sections": true,
   "sideBar": true,
   "skip_h1_title": false,
   "title_cell": "Table of Contents",
   "title_sidebar": "Contents",
   "toc_cell": false,
   "toc_position": {},
   "toc_section_display": true,
   "toc_window_display": false
  }
 },
 "nbformat": 4,
 "nbformat_minor": 4
}
