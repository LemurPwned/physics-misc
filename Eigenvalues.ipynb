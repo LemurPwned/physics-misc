{
 "cells": [
  {
   "cell_type": "markdown",
   "metadata": {},
   "source": [
    "# Symbolic computation"
   ]
  },
  {
   "cell_type": "code",
   "execution_count": 1,
   "metadata": {},
   "outputs": [],
   "source": [
    "import sympy as sym\n",
    "import sympy.printing as printing"
   ]
  },
  {
   "cell_type": "code",
   "execution_count": 391,
   "metadata": {},
   "outputs": [],
   "source": [
    "theta, phi, lamb, omega = sym.symbols('Theta Phi Lambda Omega')\n",
    "alpha1, alpha2, gamma = sym.symbols(\"alpha_1 alpha_2 gamma\")\n",
    "torque_par, torque_per = sym.symbols(\"tau_1 tau_2\")\n",
    "K1, K2 = sym.symbols(\"K1 K2\")\n",
    "Hoe = sym.symbols(\"H_{oe}\")\n",
    "# energy = sym.Function(\"U\")(theta, phi, lamb, omega)"
   ]
  },
  {
   "cell_type": "code",
   "execution_count": 392,
   "metadata": {},
   "outputs": [],
   "source": [
    "\"\"\"\n",
    "Theta, azimuth L1\n",
    "Phi, inplane L1\n",
    "\n",
    "Lambda, azimuth L1\n",
    "Omega, inplane L2\n",
    "\"\"\"\n",
    "\n",
    "sinT = sym.sin(theta)\n",
    "cosT = sym.cos(theta)\n",
    "\n",
    "cosL = sym.cos(lamb)\n",
    "sinL = sym.sin(lamb)\n",
    "\n",
    "sinO = sym.sin(omega)\n",
    "cosO = sym.cos(omega)\n",
    "\n",
    "sinP = sym.sin(phi)\n",
    "cosP = sym.cos(phi)\n",
    "\n",
    "cosPO = sym.cos(phi - omega)\n",
    "sinPO = sym.sin(phi - omega)\n",
    "\n",
    "const1 = (gamma / Ms1) * (1 / (1 + alpha1**2))\n",
    "const2 = (gamma / Ms2) * (1 / (1 + alpha2**2))\n",
    "\n",
    "Ms1, Ms2 = sym.symbols(\"M_{s1} M_{s2}\")\n",
    "He1, He2, He3 = sym.symbols(\"H_{ext1} H_{ext2} H_{ext3}\")\n",
    "Hd11, Hd12, Hd13 = sym.symbols(\"H_{dip11} H_{dip12} H_{dip13}\")\n",
    "Hd21, Hd22, Hd23 = sym.symbols(\"H_{dip21} H_{dip22} H_{dip23}\")\n",
    "Hde11, Hde12, Hde13 = sym.symbols(\"H_{de11} H_{de12} H_{de13}\")\n",
    "Hde21, Hde22, Hde23 = sym.symbols(\"H_{de21} H_{de22} H_{de23}\")\n",
    "\n",
    "Hext = sym.Matrix([He1, He2, He3])\n",
    "Hdip1 = sym.Matrix([Hd11, Hd12, Hd13])\n",
    "Hdip2 = sym.Matrix([Hd21, Hd22, Hd23])\n",
    "Hdemag1 = sym.Matrix([Hde11, Hde12, Hde13])\n",
    "Hdemag2 = sym.Matrix([Hde21, Hde22, Hde23])\n",
    "\n",
    "M1 = sym.Matrix([Ms1 * sinT * cosP, Ms1 * sinT * sinP, Ms1 * cosT])\n",
    "M2 = sym.Matrix([Ms2 * sinL * cosO, Ms2 * sinL * sinO, Ms2 * cosL])\n",
    "\n",
    "anisotropies = K1 * (cosT**2 + (sinT**2) *\n",
    "                     (sinP**2)) + K2 * (cosL**2 + (sinL**2) * (sinO**2))\n",
    "dipole = -M1.dot(Hdip2) - M2.dot(Hdip1)\n",
    "demag = -M1.dot(Hdemag1) - M2.dot(Hdemag2)\n",
    "ext = -M1.dot(Hext) - M2.dot(Hext)\n",
    "\n",
    "energy = anisotropies + dipole + demag + ext\n",
    "dUdP = sym.diff(energy, phi)\n",
    "dUdT = sym.diff(energy, theta)\n",
    "dUdO = sym.diff(energy, omega)\n",
    "dUdL = sym.diff(energy, lamb)"
   ]
  },
  {
   "cell_type": "code",
   "execution_count": 393,
   "metadata": {},
   "outputs": [
    {
     "data": {
      "text/latex": [
       "$\\displaystyle - H_{de11} M_{s1} \\sin{\\left(\\Theta \\right)} \\cos{\\left(\\Phi \\right)} - H_{de12} M_{s1} \\sin{\\left(\\Phi \\right)} \\sin{\\left(\\Theta \\right)} - H_{de13} M_{s1} \\cos{\\left(\\Theta \\right)} - H_{de21} M_{s2} \\sin{\\left(\\Lambda \\right)} \\cos{\\left(\\Omega \\right)} - H_{de22} M_{s2} \\sin{\\left(\\Lambda \\right)} \\sin{\\left(\\Omega \\right)} - H_{de23} M_{s2} \\cos{\\left(\\Lambda \\right)} - H_{dip11} M_{s2} \\sin{\\left(\\Lambda \\right)} \\cos{\\left(\\Omega \\right)} - H_{dip12} M_{s2} \\sin{\\left(\\Lambda \\right)} \\sin{\\left(\\Omega \\right)} - H_{dip13} M_{s2} \\cos{\\left(\\Lambda \\right)} - H_{dip21} M_{s1} \\sin{\\left(\\Theta \\right)} \\cos{\\left(\\Phi \\right)} - H_{dip22} M_{s1} \\sin{\\left(\\Phi \\right)} \\sin{\\left(\\Theta \\right)} - H_{dip23} M_{s1} \\cos{\\left(\\Theta \\right)} - H_{ext1} M_{s1} \\sin{\\left(\\Theta \\right)} \\cos{\\left(\\Phi \\right)} - H_{ext1} M_{s2} \\sin{\\left(\\Lambda \\right)} \\cos{\\left(\\Omega \\right)} - H_{ext2} M_{s1} \\sin{\\left(\\Phi \\right)} \\sin{\\left(\\Theta \\right)} - H_{ext2} M_{s2} \\sin{\\left(\\Lambda \\right)} \\sin{\\left(\\Omega \\right)} - H_{ext3} M_{s1} \\cos{\\left(\\Theta \\right)} - H_{ext3} M_{s2} \\cos{\\left(\\Lambda \\right)} + K_{1} \\left(\\sin^{2}{\\left(\\Phi \\right)} \\sin^{2}{\\left(\\Theta \\right)} + \\cos^{2}{\\left(\\Theta \\right)}\\right) + K_{2} \\left(\\sin^{2}{\\left(\\Lambda \\right)} \\sin^{2}{\\left(\\Omega \\right)} + \\cos^{2}{\\left(\\Lambda \\right)}\\right)$"
      ],
      "text/plain": [
       "-H_{de11}*M_{s1}*sin(Theta)*cos(Phi) - H_{de12}*M_{s1}*sin(Phi)*sin(Theta) - H_{de13}*M_{s1}*cos(Theta) - H_{de21}*M_{s2}*sin(Lambda)*cos(Omega) - H_{de22}*M_{s2}*sin(Lambda)*sin(Omega) - H_{de23}*M_{s2}*cos(Lambda) - H_{dip11}*M_{s2}*sin(Lambda)*cos(Omega) - H_{dip12}*M_{s2}*sin(Lambda)*sin(Omega) - H_{dip13}*M_{s2}*cos(Lambda) - H_{dip21}*M_{s1}*sin(Theta)*cos(Phi) - H_{dip22}*M_{s1}*sin(Phi)*sin(Theta) - H_{dip23}*M_{s1}*cos(Theta) - H_{ext1}*M_{s1}*sin(Theta)*cos(Phi) - H_{ext1}*M_{s2}*sin(Lambda)*cos(Omega) - H_{ext2}*M_{s1}*sin(Phi)*sin(Theta) - H_{ext2}*M_{s2}*sin(Lambda)*sin(Omega) - H_{ext3}*M_{s1}*cos(Theta) - H_{ext3}*M_{s2}*cos(Lambda) + K1*(sin(Phi)**2*sin(Theta)**2 + cos(Theta)**2) + K2*(sin(Lambda)**2*sin(Omega)**2 + cos(Lambda)**2)"
      ]
     },
     "execution_count": 393,
     "metadata": {},
     "output_type": "execute_result"
    }
   ],
   "source": [
    "energy"
   ]
  },
  {
   "cell_type": "code",
   "execution_count": 394,
   "metadata": {},
   "outputs": [
    {
     "data": {
      "text/latex": [
       "$\\displaystyle - H_{de11} M_{s1} \\sin{\\left(\\Theta \\right)} \\cos{\\left(\\Phi \\right)} - H_{de12} M_{s1} \\sin{\\left(\\Phi \\right)} \\sin{\\left(\\Theta \\right)} - H_{de13} M_{s1} \\cos{\\left(\\Theta \\right)} - H_{de21} M_{s2} \\sin{\\left(\\Lambda \\right)} \\cos{\\left(\\Omega \\right)} - H_{de22} M_{s2} \\sin{\\left(\\Lambda \\right)} \\sin{\\left(\\Omega \\right)} - H_{de23} M_{s2} \\cos{\\left(\\Lambda \\right)} - H_{dip11} M_{s2} \\sin{\\left(\\Lambda \\right)} \\cos{\\left(\\Omega \\right)} - H_{dip12} M_{s2} \\sin{\\left(\\Lambda \\right)} \\sin{\\left(\\Omega \\right)} - H_{dip13} M_{s2} \\cos{\\left(\\Lambda \\right)} - H_{dip21} M_{s1} \\sin{\\left(\\Theta \\right)} \\cos{\\left(\\Phi \\right)} - H_{dip22} M_{s1} \\sin{\\left(\\Phi \\right)} \\sin{\\left(\\Theta \\right)} - H_{dip23} M_{s1} \\cos{\\left(\\Theta \\right)} - H_{ext1} M_{s1} \\sin{\\left(\\Theta \\right)} \\cos{\\left(\\Phi \\right)} - H_{ext1} M_{s2} \\sin{\\left(\\Lambda \\right)} \\cos{\\left(\\Omega \\right)} - H_{ext2} M_{s1} \\sin{\\left(\\Phi \\right)} \\sin{\\left(\\Theta \\right)} - H_{ext2} M_{s2} \\sin{\\left(\\Lambda \\right)} \\sin{\\left(\\Omega \\right)} - H_{ext3} M_{s1} \\cos{\\left(\\Theta \\right)} - H_{ext3} M_{s2} \\cos{\\left(\\Lambda \\right)} + K_{1} \\left(\\sin^{2}{\\left(\\Phi \\right)} \\sin^{2}{\\left(\\Theta \\right)} + \\cos^{2}{\\left(\\Theta \\right)}\\right) + K_{2} \\left(\\sin^{2}{\\left(\\Lambda \\right)} \\sin^{2}{\\left(\\Omega \\right)} + \\cos^{2}{\\left(\\Lambda \\right)}\\right)$"
      ],
      "text/plain": [
       "-H_{de11}*M_{s1}*sin(Theta)*cos(Phi) - H_{de12}*M_{s1}*sin(Phi)*sin(Theta) - H_{de13}*M_{s1}*cos(Theta) - H_{de21}*M_{s2}*sin(Lambda)*cos(Omega) - H_{de22}*M_{s2}*sin(Lambda)*sin(Omega) - H_{de23}*M_{s2}*cos(Lambda) - H_{dip11}*M_{s2}*sin(Lambda)*cos(Omega) - H_{dip12}*M_{s2}*sin(Lambda)*sin(Omega) - H_{dip13}*M_{s2}*cos(Lambda) - H_{dip21}*M_{s1}*sin(Theta)*cos(Phi) - H_{dip22}*M_{s1}*sin(Phi)*sin(Theta) - H_{dip23}*M_{s1}*cos(Theta) - H_{ext1}*M_{s1}*sin(Theta)*cos(Phi) - H_{ext1}*M_{s2}*sin(Lambda)*cos(Omega) - H_{ext2}*M_{s1}*sin(Phi)*sin(Theta) - H_{ext2}*M_{s2}*sin(Lambda)*sin(Omega) - H_{ext3}*M_{s1}*cos(Theta) - H_{ext3}*M_{s2}*cos(Lambda) + K1*(sin(Phi)**2*sin(Theta)**2 + cos(Theta)**2) + K2*(sin(Lambda)**2*sin(Omega)**2 + cos(Lambda)**2)"
      ]
     },
     "execution_count": 394,
     "metadata": {},
     "output_type": "execute_result"
    }
   ],
   "source": [
    "sym.simplify(energy)"
   ]
  },
  {
   "cell_type": "code",
   "execution_count": 395,
   "metadata": {},
   "outputs": [
    {
     "data": {
      "text/plain": [
       "(K1*(sin(Phi)**2*sin(Theta)**2 + cos(Theta)**2),\n",
       " K2*(sin(Lambda)**2*sin(Omega)**2 + cos(Lambda)**2))"
      ]
     },
     "execution_count": 395,
     "metadata": {},
     "output_type": "execute_result"
    }
   ],
   "source": [
    "anisotropies.args"
   ]
  },
  {
   "cell_type": "code",
   "execution_count": 396,
   "metadata": {},
   "outputs": [],
   "source": [
    "dTheta = const1 * ((-1 / sinT)*dUdP - alpha1*dUdT -\n",
    "                  (cosL * sinT - cosT * sinL * cosPO) *\n",
    "                  (torque_par + alpha1 * torque_per) - (sinL * sinPO) *\n",
    "                  (alpha1 * torque_par - torque_per))\n",
    "# dTheta = sym.simplify(dTheta)"
   ]
  },
  {
   "cell_type": "code",
   "execution_count": 397,
   "metadata": {},
   "outputs": [
    {
     "data": {
      "text/latex": [
       "$\\displaystyle \\frac{1.25663706143667 \\cdot 10^{-6} \\gamma \\left(- \\alpha_{1} \\left(- H_{de11} M_{s1} \\cos{\\left(\\Phi \\right)} \\cos{\\left(\\Theta \\right)} - H_{de12} M_{s1} \\sin{\\left(\\Phi \\right)} \\cos{\\left(\\Theta \\right)} + H_{de13} M_{s1} \\sin{\\left(\\Theta \\right)} - H_{dip21} M_{s1} \\cos{\\left(\\Phi \\right)} \\cos{\\left(\\Theta \\right)} - H_{dip22} M_{s1} \\sin{\\left(\\Phi \\right)} \\cos{\\left(\\Theta \\right)} + H_{dip23} M_{s1} \\sin{\\left(\\Theta \\right)} - H_{ext1} M_{s1} \\cos{\\left(\\Phi \\right)} \\cos{\\left(\\Theta \\right)} - H_{ext2} M_{s1} \\sin{\\left(\\Phi \\right)} \\cos{\\left(\\Theta \\right)} + H_{ext3} M_{s1} \\sin{\\left(\\Theta \\right)} + K_{1} \\left(2 \\sin^{2}{\\left(\\Phi \\right)} \\sin{\\left(\\Theta \\right)} \\cos{\\left(\\Theta \\right)} - 2 \\sin{\\left(\\Theta \\right)} \\cos{\\left(\\Theta \\right)}\\right)\\right) + \\left(\\alpha_{1} \\tau_{1} - \\tau_{2}\\right) \\sin{\\left(\\Lambda \\right)} \\sin{\\left(\\Omega - \\Phi \\right)} - \\left(\\alpha_{1} \\tau_{2} + \\tau_{1}\\right) \\left(- \\sin{\\left(\\Lambda \\right)} \\cos{\\left(\\Theta \\right)} \\cos{\\left(\\Omega - \\Phi \\right)} + \\sin{\\left(\\Theta \\right)} \\cos{\\left(\\Lambda \\right)}\\right) - \\frac{H_{de11} M_{s1} \\sin{\\left(\\Phi \\right)} \\sin{\\left(\\Theta \\right)} - H_{de12} M_{s1} \\sin{\\left(\\Theta \\right)} \\cos{\\left(\\Phi \\right)} + H_{dip21} M_{s1} \\sin{\\left(\\Phi \\right)} \\sin{\\left(\\Theta \\right)} - H_{dip22} M_{s1} \\sin{\\left(\\Theta \\right)} \\cos{\\left(\\Phi \\right)} + H_{ext1} M_{s1} \\sin{\\left(\\Phi \\right)} \\sin{\\left(\\Theta \\right)} - H_{ext2} M_{s1} \\sin{\\left(\\Theta \\right)} \\cos{\\left(\\Phi \\right)} + 2 K_{1} \\sin{\\left(\\Phi \\right)} \\sin^{2}{\\left(\\Theta \\right)} \\cos{\\left(\\Phi \\right)}}{\\sin{\\left(\\Theta \\right)}}\\right)}{\\alpha_{1}^{2} + 1}$"
      ],
      "text/plain": [
       "1.25663706143667e-6*gamma*(-alpha_1*(-H_{de11}*M_{s1}*cos(Phi)*cos(Theta) - H_{de12}*M_{s1}*sin(Phi)*cos(Theta) + H_{de13}*M_{s1}*sin(Theta) - H_{dip21}*M_{s1}*cos(Phi)*cos(Theta) - H_{dip22}*M_{s1}*sin(Phi)*cos(Theta) + H_{dip23}*M_{s1}*sin(Theta) - H_{ext1}*M_{s1}*cos(Phi)*cos(Theta) - H_{ext2}*M_{s1}*sin(Phi)*cos(Theta) + H_{ext3}*M_{s1}*sin(Theta) + K1*(2*sin(Phi)**2*sin(Theta)*cos(Theta) - 2*sin(Theta)*cos(Theta))) + (alpha_1*tau_1 - tau_2)*sin(Lambda)*sin(Omega - Phi) - (alpha_1*tau_2 + tau_1)*(-sin(Lambda)*cos(Theta)*cos(Omega - Phi) + sin(Theta)*cos(Lambda)) - (H_{de11}*M_{s1}*sin(Phi)*sin(Theta) - H_{de12}*M_{s1}*sin(Theta)*cos(Phi) + H_{dip21}*M_{s1}*sin(Phi)*sin(Theta) - H_{dip22}*M_{s1}*sin(Theta)*cos(Phi) + H_{ext1}*M_{s1}*sin(Phi)*sin(Theta) - H_{ext2}*M_{s1}*sin(Theta)*cos(Phi) + 2*K1*sin(Phi)*sin(Theta)**2*cos(Phi))/sin(Theta))/(alpha_1**2 + 1)"
      ]
     },
     "execution_count": 397,
     "metadata": {},
     "output_type": "execute_result"
    }
   ],
   "source": [
    "dTheta"
   ]
  },
  {
   "cell_type": "code",
   "execution_count": 398,
   "metadata": {},
   "outputs": [
    {
     "data": {
      "text/latex": [
       "$\\displaystyle \\frac{1.25663706143667 \\cdot 10^{-6} \\gamma \\left(- \\alpha_{1} \\left(H_{de11} M_{s1} \\sin{\\left(\\Phi \\right)} \\cos{\\left(\\Theta \\right)} - H_{de12} M_{s1} \\cos{\\left(\\Phi \\right)} \\cos{\\left(\\Theta \\right)} + H_{dip21} M_{s1} \\sin{\\left(\\Phi \\right)} \\cos{\\left(\\Theta \\right)} - H_{dip22} M_{s1} \\cos{\\left(\\Phi \\right)} \\cos{\\left(\\Theta \\right)} + H_{ext1} M_{s1} \\sin{\\left(\\Phi \\right)} \\cos{\\left(\\Theta \\right)} - H_{ext2} M_{s1} \\cos{\\left(\\Phi \\right)} \\cos{\\left(\\Theta \\right)} + 4 K_{1} \\sin{\\left(\\Phi \\right)} \\sin{\\left(\\Theta \\right)} \\cos{\\left(\\Phi \\right)} \\cos{\\left(\\Theta \\right)}\\right) - \\left(\\alpha_{1} \\tau_{1} - \\tau_{2}\\right) \\sin{\\left(\\Lambda \\right)} \\cos{\\left(\\Omega - \\Phi \\right)} - \\left(- \\alpha_{1} \\tau_{2} - \\tau_{1}\\right) \\sin{\\left(\\Lambda \\right)} \\sin{\\left(\\Omega - \\Phi \\right)} \\cos{\\left(\\Theta \\right)} - \\frac{H_{de11} M_{s1} \\sin{\\left(\\Theta \\right)} \\cos{\\left(\\Phi \\right)} + H_{de12} M_{s1} \\sin{\\left(\\Phi \\right)} \\sin{\\left(\\Theta \\right)} + H_{dip21} M_{s1} \\sin{\\left(\\Theta \\right)} \\cos{\\left(\\Phi \\right)} + H_{dip22} M_{s1} \\sin{\\left(\\Phi \\right)} \\sin{\\left(\\Theta \\right)} + H_{ext1} M_{s1} \\sin{\\left(\\Theta \\right)} \\cos{\\left(\\Phi \\right)} + H_{ext2} M_{s1} \\sin{\\left(\\Phi \\right)} \\sin{\\left(\\Theta \\right)} - 2 K_{1} \\sin^{2}{\\left(\\Phi \\right)} \\sin^{2}{\\left(\\Theta \\right)} + 2 K_{1} \\sin^{2}{\\left(\\Theta \\right)} \\cos^{2}{\\left(\\Phi \\right)}}{\\sin{\\left(\\Theta \\right)}}\\right)}{\\alpha_{1}^{2} + 1}$"
      ],
      "text/plain": [
       "1.25663706143667e-6*gamma*(-alpha_1*(H_{de11}*M_{s1}*sin(Phi)*cos(Theta) - H_{de12}*M_{s1}*cos(Phi)*cos(Theta) + H_{dip21}*M_{s1}*sin(Phi)*cos(Theta) - H_{dip22}*M_{s1}*cos(Phi)*cos(Theta) + H_{ext1}*M_{s1}*sin(Phi)*cos(Theta) - H_{ext2}*M_{s1}*cos(Phi)*cos(Theta) + 4*K1*sin(Phi)*sin(Theta)*cos(Phi)*cos(Theta)) - (alpha_1*tau_1 - tau_2)*sin(Lambda)*cos(Omega - Phi) - (-alpha_1*tau_2 - tau_1)*sin(Lambda)*sin(Omega - Phi)*cos(Theta) - (H_{de11}*M_{s1}*sin(Theta)*cos(Phi) + H_{de12}*M_{s1}*sin(Phi)*sin(Theta) + H_{dip21}*M_{s1}*sin(Theta)*cos(Phi) + H_{dip22}*M_{s1}*sin(Phi)*sin(Theta) + H_{ext1}*M_{s1}*sin(Theta)*cos(Phi) + H_{ext2}*M_{s1}*sin(Phi)*sin(Theta) - 2*K1*sin(Phi)**2*sin(Theta)**2 + 2*K1*sin(Theta)**2*cos(Phi)**2)/sin(Theta))/(alpha_1**2 + 1)"
      ]
     },
     "execution_count": 398,
     "metadata": {},
     "output_type": "execute_result"
    }
   ],
   "source": [
    "sym.diff(dTheta, phi)"
   ]
  },
  {
   "cell_type": "code",
   "execution_count": 399,
   "metadata": {},
   "outputs": [
    {
     "data": {
      "text/latex": [
       "$\\displaystyle \\frac{1.0 \\gamma \\left(- 1.25663706143667 \\cdot 10^{-6} H_{de11} M_{s1} \\alpha_{1} \\sin{\\left(\\Theta \\right)} \\cos{\\left(\\Phi \\right)} - 1.25663706143667 \\cdot 10^{-6} H_{de12} M_{s1} \\alpha_{1} \\sin{\\left(\\Phi \\right)} \\sin{\\left(\\Theta \\right)} - 1.25663706143667 \\cdot 10^{-6} H_{de13} M_{s1} \\alpha_{1} \\cos{\\left(\\Theta \\right)} - 1.25663706143667 \\cdot 10^{-6} H_{dip21} M_{s1} \\alpha_{1} \\sin{\\left(\\Theta \\right)} \\cos{\\left(\\Phi \\right)} - 1.25663706143667 \\cdot 10^{-6} H_{dip22} M_{s1} \\alpha_{1} \\sin{\\left(\\Phi \\right)} \\sin{\\left(\\Theta \\right)} - 1.25663706143667 \\cdot 10^{-6} H_{dip23} M_{s1} \\alpha_{1} \\cos{\\left(\\Theta \\right)} - 1.25663706143667 \\cdot 10^{-6} H_{ext1} M_{s1} \\alpha_{1} \\sin{\\left(\\Theta \\right)} \\cos{\\left(\\Phi \\right)} - 1.25663706143667 \\cdot 10^{-6} H_{ext2} M_{s1} \\alpha_{1} \\sin{\\left(\\Phi \\right)} \\sin{\\left(\\Theta \\right)} - 1.25663706143667 \\cdot 10^{-6} H_{ext3} M_{s1} \\alpha_{1} \\cos{\\left(\\Theta \\right)} + 5.02654824574668 \\cdot 10^{-6} K_{1} \\alpha_{1} \\cos^{2}{\\left(\\Phi \\right)} \\cos^{2}{\\left(\\Theta \\right)} - 2.51327412287334 \\cdot 10^{-6} K_{1} \\alpha_{1} \\cos^{2}{\\left(\\Phi \\right)} - 2.51327412287334 \\cdot 10^{-6} K_{1} \\sin{\\left(\\Phi \\right)} \\cos{\\left(\\Phi \\right)} \\cos{\\left(\\Theta \\right)} - 1.25663706143667 \\cdot 10^{-6} \\alpha_{1} \\tau_{2} \\sin{\\left(\\Lambda \\right)} \\sin{\\left(\\Theta \\right)} \\cos{\\left(\\Omega - \\Phi \\right)} - 1.25663706143667 \\cdot 10^{-6} \\alpha_{1} \\tau_{2} \\cos{\\left(\\Lambda \\right)} \\cos{\\left(\\Theta \\right)} - 1.25663706143667 \\cdot 10^{-6} \\tau_{1} \\sin{\\left(\\Lambda \\right)} \\sin{\\left(\\Theta \\right)} \\cos{\\left(\\Omega - \\Phi \\right)} - 1.25663706143667 \\cdot 10^{-6} \\tau_{1} \\cos{\\left(\\Lambda \\right)} \\cos{\\left(\\Theta \\right)}\\right)}{\\alpha_{1}^{2} + 1}$"
      ],
      "text/plain": [
       "1.0*gamma*(-1.25663706143667e-6*H_{de11}*M_{s1}*alpha_1*sin(Theta)*cos(Phi) - 1.25663706143667e-6*H_{de12}*M_{s1}*alpha_1*sin(Phi)*sin(Theta) - 1.25663706143667e-6*H_{de13}*M_{s1}*alpha_1*cos(Theta) - 1.25663706143667e-6*H_{dip21}*M_{s1}*alpha_1*sin(Theta)*cos(Phi) - 1.25663706143667e-6*H_{dip22}*M_{s1}*alpha_1*sin(Phi)*sin(Theta) - 1.25663706143667e-6*H_{dip23}*M_{s1}*alpha_1*cos(Theta) - 1.25663706143667e-6*H_{ext1}*M_{s1}*alpha_1*sin(Theta)*cos(Phi) - 1.25663706143667e-6*H_{ext2}*M_{s1}*alpha_1*sin(Phi)*sin(Theta) - 1.25663706143667e-6*H_{ext3}*M_{s1}*alpha_1*cos(Theta) + 5.02654824574668e-6*K1*alpha_1*cos(Phi)**2*cos(Theta)**2 - 2.51327412287334e-6*K1*alpha_1*cos(Phi)**2 - 2.51327412287334e-6*K1*sin(Phi)*cos(Phi)*cos(Theta) - 1.25663706143667e-6*alpha_1*tau_2*sin(Lambda)*sin(Theta)*cos(Omega - Phi) - 1.25663706143667e-6*alpha_1*tau_2*cos(Lambda)*cos(Theta) - 1.25663706143667e-6*tau_1*sin(Lambda)*sin(Theta)*cos(Omega - Phi) - 1.25663706143667e-6*tau_1*cos(Lambda)*cos(Theta))/(alpha_1**2 + 1)"
      ]
     },
     "execution_count": 399,
     "metadata": {},
     "output_type": "execute_result"
    }
   ],
   "source": [
    "sym.simplify(sym.diff(dTheta, theta))"
   ]
  },
  {
   "cell_type": "code",
   "execution_count": 281,
   "metadata": {},
   "outputs": [
    {
     "data": {
      "text/latex": [
       "$\\displaystyle \\frac{\\gamma \\left(\\frac{H_{oe} M_{s} \\alpha_{1}}{\\sin{\\left(\\Theta \\right)}} - \\frac{\\alpha_{1} \\left(H_{de11} M_{s1} \\sin{\\left(\\Phi \\right)} \\sin{\\left(\\Theta \\right)} - H_{de12} M_{s1} \\sin{\\left(\\Theta \\right)} \\cos{\\left(\\Phi \\right)} + H_{dip21} M_{s1} \\sin{\\left(\\Phi \\right)} \\sin{\\left(\\Theta \\right)} - H_{dip22} M_{s1} \\sin{\\left(\\Theta \\right)} \\cos{\\left(\\Phi \\right)} + H_{ext1} M_{s1} \\sin{\\left(\\Phi \\right)} \\sin{\\left(\\Theta \\right)} - H_{ext2} M_{s1} \\sin{\\left(\\Theta \\right)} \\cos{\\left(\\Phi \\right)} + 2 K_{1} \\sin{\\left(\\Phi \\right)} \\sin^{2}{\\left(\\Theta \\right)} \\cos{\\left(\\Phi \\right)}\\right)}{\\sin^{2}{\\left(\\Theta \\right)}} + \\frac{\\left(\\alpha_{1} \\tau_{1} - \\tau_{2}\\right) \\left(- \\sin{\\left(\\Lambda \\right)} \\cos{\\left(\\Theta \\right)} \\cos{\\left(\\Omega - \\Phi \\right)} + \\sin{\\left(\\Theta \\right)} \\cos{\\left(\\Lambda \\right)}\\right)}{\\sin{\\left(\\Theta \\right)}} + \\frac{\\left(\\alpha_{1} \\tau_{2} + \\tau_{1}\\right) \\sin{\\left(\\Lambda \\right)} \\sin{\\left(\\Omega - \\Phi \\right)}}{\\sin{\\left(\\Theta \\right)}} + \\frac{- H_{de11} M_{s1} \\cos{\\left(\\Phi \\right)} \\cos{\\left(\\Theta \\right)} - H_{de12} M_{s1} \\sin{\\left(\\Phi \\right)} \\cos{\\left(\\Theta \\right)} + H_{de13} M_{s1} \\sin{\\left(\\Theta \\right)} - H_{dip21} M_{s1} \\cos{\\left(\\Phi \\right)} \\cos{\\left(\\Theta \\right)} - H_{dip22} M_{s1} \\sin{\\left(\\Phi \\right)} \\cos{\\left(\\Theta \\right)} + H_{dip23} M_{s1} \\sin{\\left(\\Theta \\right)} - H_{ext1} M_{s1} \\cos{\\left(\\Phi \\right)} \\cos{\\left(\\Theta \\right)} - H_{ext2} M_{s1} \\sin{\\left(\\Phi \\right)} \\cos{\\left(\\Theta \\right)} + H_{ext3} M_{s1} \\sin{\\left(\\Theta \\right)} + K_{1} \\left(2 \\sin^{2}{\\left(\\Phi \\right)} \\sin{\\left(\\Theta \\right)} \\cos{\\left(\\Theta \\right)} - 2 \\sin{\\left(\\Theta \\right)} \\cos{\\left(\\Theta \\right)}\\right)}{\\sin{\\left(\\Theta \\right)}}\\right)}{M_{s1} \\left(\\alpha_{1}^{2} + 1\\right)}$"
      ],
      "text/plain": [
       "gamma*(H_{oe}*M_s*alpha_1/sin(Theta) - alpha_1*(H_{de11}*M_{s1}*sin(Phi)*sin(Theta) - H_{de12}*M_{s1}*sin(Theta)*cos(Phi) + H_{dip21}*M_{s1}*sin(Phi)*sin(Theta) - H_{dip22}*M_{s1}*sin(Theta)*cos(Phi) + H_{ext1}*M_{s1}*sin(Phi)*sin(Theta) - H_{ext2}*M_{s1}*sin(Theta)*cos(Phi) + 2*K1*sin(Phi)*sin(Theta)**2*cos(Phi))/sin(Theta)**2 + (alpha_1*tau_1 - tau_2)*(-sin(Lambda)*cos(Theta)*cos(Omega - Phi) + sin(Theta)*cos(Lambda))/sin(Theta) + (alpha_1*tau_2 + tau_1)*sin(Lambda)*sin(Omega - Phi)/sin(Theta) + (-H_{de11}*M_{s1}*cos(Phi)*cos(Theta) - H_{de12}*M_{s1}*sin(Phi)*cos(Theta) + H_{de13}*M_{s1}*sin(Theta) - H_{dip21}*M_{s1}*cos(Phi)*cos(Theta) - H_{dip22}*M_{s1}*sin(Phi)*cos(Theta) + H_{dip23}*M_{s1}*sin(Theta) - H_{ext1}*M_{s1}*cos(Phi)*cos(Theta) - H_{ext2}*M_{s1}*sin(Phi)*cos(Theta) + H_{ext3}*M_{s1}*sin(Theta) + K1*(2*sin(Phi)**2*sin(Theta)*cos(Theta) - 2*sin(Theta)*cos(Theta)))/sin(Theta))/(M_{s1}*(alpha_1**2 + 1))"
      ]
     },
     "execution_count": 281,
     "metadata": {},
     "output_type": "execute_result"
    }
   ],
   "source": [
    "dPhi = const1 * ((1 / sinT) * dUdT - (alpha1 / (sinT**2)) * dUdP + (1 / sinT) *\n",
    "                (cosL * sinT - cosT * sinL * cosPO) *\n",
    "                (alpha1 * torque_par - torque_per) \n",
    "                - (1/sinT)*(sinL*sinPO)*(torque_par + alpha1*torque_per) + alpha1*Ms*Hoe/sinT)\n",
    "dPhi"
   ]
  },
  {
   "cell_type": "code",
   "execution_count": 400,
   "metadata": {},
   "outputs": [
    {
     "data": {
      "text/latex": [
       "$\\displaystyle \\frac{1.25663706143667 \\cdot 10^{-6} \\gamma \\left(H_{oe} M_{s} - \\alpha_{2} \\left(- H_{de21} M_{s2} \\cos{\\left(\\Lambda \\right)} \\cos{\\left(\\Omega \\right)} - H_{de22} M_{s2} \\sin{\\left(\\Omega \\right)} \\cos{\\left(\\Lambda \\right)} + H_{de23} M_{s2} \\sin{\\left(\\Lambda \\right)} - H_{dip11} M_{s2} \\cos{\\left(\\Lambda \\right)} \\cos{\\left(\\Omega \\right)} - H_{dip12} M_{s2} \\sin{\\left(\\Omega \\right)} \\cos{\\left(\\Lambda \\right)} + H_{dip13} M_{s2} \\sin{\\left(\\Lambda \\right)} - H_{ext1} M_{s2} \\cos{\\left(\\Lambda \\right)} \\cos{\\left(\\Omega \\right)} - H_{ext2} M_{s2} \\sin{\\left(\\Omega \\right)} \\cos{\\left(\\Lambda \\right)} + H_{ext3} M_{s2} \\sin{\\left(\\Lambda \\right)} + K_{2} \\left(2 \\sin{\\left(\\Lambda \\right)} \\sin^{2}{\\left(\\Omega \\right)} \\cos{\\left(\\Lambda \\right)} - 2 \\sin{\\left(\\Lambda \\right)} \\cos{\\left(\\Lambda \\right)}\\right)\\right) - \\left(\\alpha_{2} \\tau_{1} + \\tau_{2}\\right) \\sin{\\left(\\Lambda \\right)} \\sin{\\left(\\Omega - \\Phi \\right)} + \\left(\\alpha_{2} \\tau_{2} + \\tau_{1}\\right) \\left(- \\sin{\\left(\\Lambda \\right)} \\cos{\\left(\\Theta \\right)} + \\sin{\\left(\\Theta \\right)} \\cos{\\left(\\Lambda \\right)} \\cos{\\left(\\Omega - \\Phi \\right)}\\right) - \\frac{H_{de21} M_{s2} \\sin{\\left(\\Lambda \\right)} \\sin{\\left(\\Omega \\right)} - H_{de22} M_{s2} \\sin{\\left(\\Lambda \\right)} \\cos{\\left(\\Omega \\right)} + H_{dip11} M_{s2} \\sin{\\left(\\Lambda \\right)} \\sin{\\left(\\Omega \\right)} - H_{dip12} M_{s2} \\sin{\\left(\\Lambda \\right)} \\cos{\\left(\\Omega \\right)} + H_{ext1} M_{s2} \\sin{\\left(\\Lambda \\right)} \\sin{\\left(\\Omega \\right)} - H_{ext2} M_{s2} \\sin{\\left(\\Lambda \\right)} \\cos{\\left(\\Omega \\right)} + 2 K_{2} \\sin^{2}{\\left(\\Lambda \\right)} \\sin{\\left(\\Omega \\right)} \\cos{\\left(\\Omega \\right)}}{\\sin{\\left(\\Theta \\right)}}\\right)}{\\alpha_{2}^{2} + 1}$"
      ],
      "text/plain": [
       "1.25663706143667e-6*gamma*(H_{oe}*M_s - alpha_2*(-H_{de21}*M_{s2}*cos(Lambda)*cos(Omega) - H_{de22}*M_{s2}*sin(Omega)*cos(Lambda) + H_{de23}*M_{s2}*sin(Lambda) - H_{dip11}*M_{s2}*cos(Lambda)*cos(Omega) - H_{dip12}*M_{s2}*sin(Omega)*cos(Lambda) + H_{dip13}*M_{s2}*sin(Lambda) - H_{ext1}*M_{s2}*cos(Lambda)*cos(Omega) - H_{ext2}*M_{s2}*sin(Omega)*cos(Lambda) + H_{ext3}*M_{s2}*sin(Lambda) + K2*(2*sin(Lambda)*sin(Omega)**2*cos(Lambda) - 2*sin(Lambda)*cos(Lambda))) - (alpha_2*tau_1 + tau_2)*sin(Lambda)*sin(Omega - Phi) + (alpha_2*tau_2 + tau_1)*(-sin(Lambda)*cos(Theta) + sin(Theta)*cos(Lambda)*cos(Omega - Phi)) - (H_{de21}*M_{s2}*sin(Lambda)*sin(Omega) - H_{de22}*M_{s2}*sin(Lambda)*cos(Omega) + H_{dip11}*M_{s2}*sin(Lambda)*sin(Omega) - H_{dip12}*M_{s2}*sin(Lambda)*cos(Omega) + H_{ext1}*M_{s2}*sin(Lambda)*sin(Omega) - H_{ext2}*M_{s2}*sin(Lambda)*cos(Omega) + 2*K2*sin(Lambda)**2*sin(Omega)*cos(Omega))/sin(Theta))/(alpha_2**2 + 1)"
      ]
     },
     "execution_count": 400,
     "metadata": {},
     "output_type": "execute_result"
    }
   ],
   "source": [
    "dLam = const2 * ((-1 / sinT)*dUdO - alpha2*dUdL +\n",
    "                  (-sinL * cosT + sinT * cosL * cosPO) *\n",
    "                  (torque_par + alpha2 * torque_per) + (sinL * sinPO) *\n",
    "                  (alpha2 * torque_par + torque_per) + Ms*Hoe) \n",
    "dLam"
   ]
  },
  {
   "cell_type": "code",
   "execution_count": 401,
   "metadata": {},
   "outputs": [
    {
     "data": {
      "text/latex": [
       "$\\displaystyle \\frac{1.25663706143667 \\cdot 10^{-6} \\gamma \\left(\\frac{H_{oe} M_{s} \\alpha_{2}}{\\sin{\\left(\\Lambda \\right)}} - \\frac{\\alpha_{2} \\left(H_{de21} M_{s2} \\sin{\\left(\\Lambda \\right)} \\sin{\\left(\\Omega \\right)} - H_{de22} M_{s2} \\sin{\\left(\\Lambda \\right)} \\cos{\\left(\\Omega \\right)} + H_{dip11} M_{s2} \\sin{\\left(\\Lambda \\right)} \\sin{\\left(\\Omega \\right)} - H_{dip12} M_{s2} \\sin{\\left(\\Lambda \\right)} \\cos{\\left(\\Omega \\right)} + H_{ext1} M_{s2} \\sin{\\left(\\Lambda \\right)} \\sin{\\left(\\Omega \\right)} - H_{ext2} M_{s2} \\sin{\\left(\\Lambda \\right)} \\cos{\\left(\\Omega \\right)} + 2 K_{2} \\sin^{2}{\\left(\\Lambda \\right)} \\sin{\\left(\\Omega \\right)} \\cos{\\left(\\Omega \\right)}\\right)}{\\sin^{2}{\\left(\\Lambda \\right)}} - \\frac{\\left(- \\alpha_{2} \\tau_{1} + \\tau_{2}\\right) \\left(\\sin{\\left(\\Lambda \\right)} \\cos{\\left(\\Theta \\right)} - \\sin{\\left(\\Theta \\right)} \\cos{\\left(\\Lambda \\right)} \\cos{\\left(\\Omega - \\Phi \\right)}\\right)}{\\sin{\\left(\\Lambda \\right)}} - \\frac{\\left(- \\alpha_{2} \\tau_{2} + \\tau_{1}\\right) \\sin{\\left(\\Theta \\right)} \\sin{\\left(\\Omega - \\Phi \\right)}}{\\sin{\\left(\\Lambda \\right)}} + \\frac{- H_{de21} M_{s2} \\cos{\\left(\\Lambda \\right)} \\cos{\\left(\\Omega \\right)} - H_{de22} M_{s2} \\sin{\\left(\\Omega \\right)} \\cos{\\left(\\Lambda \\right)} + H_{de23} M_{s2} \\sin{\\left(\\Lambda \\right)} - H_{dip11} M_{s2} \\cos{\\left(\\Lambda \\right)} \\cos{\\left(\\Omega \\right)} - H_{dip12} M_{s2} \\sin{\\left(\\Omega \\right)} \\cos{\\left(\\Lambda \\right)} + H_{dip13} M_{s2} \\sin{\\left(\\Lambda \\right)} - H_{ext1} M_{s2} \\cos{\\left(\\Lambda \\right)} \\cos{\\left(\\Omega \\right)} - H_{ext2} M_{s2} \\sin{\\left(\\Omega \\right)} \\cos{\\left(\\Lambda \\right)} + H_{ext3} M_{s2} \\sin{\\left(\\Lambda \\right)} + K_{2} \\left(2 \\sin{\\left(\\Lambda \\right)} \\sin^{2}{\\left(\\Omega \\right)} \\cos{\\left(\\Lambda \\right)} - 2 \\sin{\\left(\\Lambda \\right)} \\cos{\\left(\\Lambda \\right)}\\right)}{\\sin{\\left(\\Theta \\right)}}\\right)}{\\alpha_{2}^{2} + 1}$"
      ],
      "text/plain": [
       "1.25663706143667e-6*gamma*(H_{oe}*M_s*alpha_2/sin(Lambda) - alpha_2*(H_{de21}*M_{s2}*sin(Lambda)*sin(Omega) - H_{de22}*M_{s2}*sin(Lambda)*cos(Omega) + H_{dip11}*M_{s2}*sin(Lambda)*sin(Omega) - H_{dip12}*M_{s2}*sin(Lambda)*cos(Omega) + H_{ext1}*M_{s2}*sin(Lambda)*sin(Omega) - H_{ext2}*M_{s2}*sin(Lambda)*cos(Omega) + 2*K2*sin(Lambda)**2*sin(Omega)*cos(Omega))/sin(Lambda)**2 - (-alpha_2*tau_1 + tau_2)*(sin(Lambda)*cos(Theta) - sin(Theta)*cos(Lambda)*cos(Omega - Phi))/sin(Lambda) - (-alpha_2*tau_2 + tau_1)*sin(Theta)*sin(Omega - Phi)/sin(Lambda) + (-H_{de21}*M_{s2}*cos(Lambda)*cos(Omega) - H_{de22}*M_{s2}*sin(Omega)*cos(Lambda) + H_{de23}*M_{s2}*sin(Lambda) - H_{dip11}*M_{s2}*cos(Lambda)*cos(Omega) - H_{dip12}*M_{s2}*sin(Omega)*cos(Lambda) + H_{dip13}*M_{s2}*sin(Lambda) - H_{ext1}*M_{s2}*cos(Lambda)*cos(Omega) - H_{ext2}*M_{s2}*sin(Omega)*cos(Lambda) + H_{ext3}*M_{s2}*sin(Lambda) + K2*(2*sin(Lambda)*sin(Omega)**2*cos(Lambda) - 2*sin(Lambda)*cos(Lambda)))/sin(Theta))/(alpha_2**2 + 1)"
      ]
     },
     "execution_count": 401,
     "metadata": {},
     "output_type": "execute_result"
    }
   ],
   "source": [
    "dOmega = const2 * ((1 / sinT) * dUdL - (alpha2 / (sinL**2)) * dUdO - (1 / sinL) *\n",
    "                (sinL * cosT - sinT *cosL * cosPO) *\n",
    "                (torque_per - alpha2 * torque_par) \n",
    "                + (1/sinL)*(sinT*sinPO)*(torque_par - alpha2*torque_per) + alpha2*Ms*Hoe/sinL)\n",
    "dOmega"
   ]
  },
  {
   "cell_type": "code",
   "execution_count": 303,
   "metadata": {},
   "outputs": [],
   "source": [
    "# dM = sym.Matrix([\n",
    "#     [\n",
    "#         sym.diff(dTheta, theta),\n",
    "#         sym.diff(dTheta, phi),\n",
    "#         sym.diff(dTheta, lamb),\n",
    "#         sym.diff(dTheta, omega)\n",
    "#     ],\n",
    "#     [\n",
    "#         sym.diff(dPhi, theta),\n",
    "#         sym.diff(dPhi, phi),\n",
    "#         sym.diff(dPhi, lamb),\n",
    "#         sym.diff(dPhi, omega)\n",
    "#     ],\n",
    "#     [\n",
    "#         sym.diff(dLam, theta),\n",
    "#         sym.diff(dLam, phi),\n",
    "#         sym.diff(dLam, lamb),\n",
    "#         sym.diff(dLam, omega)\n",
    "#     ],\n",
    "#     [\n",
    "#         sym.diff(dOmega, theta),\n",
    "#         sym.diff(dOmega, phi),\n",
    "#         sym.diff(dOmega, lamb),\n",
    "#         sym.diff(dOmega, omega)\n",
    "#     ]]\n",
    "# )\n",
    "\n",
    "\n",
    "dM = sym.Matrix([\n",
    "    [\n",
    "        sym.simplify(sym.diff(dTheta, theta)),\n",
    "        sym.simplify(sym.diff(dTheta, phi)),\n",
    "        sym.simplify(sym.diff(dTheta, lamb)),\n",
    "        sym.simplify(sym.diff(dTheta, omega))\n",
    "    ],\n",
    "    [\n",
    "        sym.simplify(sym.diff(dPhi, theta)),\n",
    "        sym.simplify(sym.diff(dPhi, phi)),\n",
    "        sym.simplify(sym.diff(dPhi, lamb)),\n",
    "        sym.simplify(sym.diff(dPhi, omega))\n",
    "    ],\n",
    "    [\n",
    "        sym.simplify(sym.diff(dLam, theta)),\n",
    "        sym.simplify(sym.diff(dLam, phi)),\n",
    "        sym.simplify(sym.diff(dLam, lamb)),\n",
    "        sym.simplify(sym.diff(dLam, omega))\n",
    "    ],\n",
    "    [\n",
    "        sym.simplify(sym.diff(dOmega, theta)),\n",
    "        sym.simplify(sym.diff(dOmega, phi)),\n",
    "        sym.simplify(sym.diff(dOmega, lamb)),\n",
    "        sym.simplify(sym.diff(dOmega, omega))\n",
    "    ]]\n",
    ")"
   ]
  },
  {
   "cell_type": "code",
   "execution_count": 314,
   "metadata": {},
   "outputs": [
    {
     "data": {
      "text/latex": [
       "$\\displaystyle \\left[\\begin{matrix}- \\frac{\\gamma \\left(K_{1} \\left(\\sin{\\left(2 \\Phi - \\Theta \\right)} + \\sin{\\left(2 \\Phi + \\Theta \\right)}\\right) + 2 \\alpha_{1} \\left(H_{de11} M_{s1} \\sin{\\left(\\Theta \\right)} \\cos{\\left(\\Phi \\right)} + H_{de12} M_{s1} \\sin{\\left(\\Phi \\right)} \\sin{\\left(\\Theta \\right)} + H_{de13} M_{s1} \\cos{\\left(\\Theta \\right)} + H_{dip21} M_{s1} \\sin{\\left(\\Theta \\right)} \\cos{\\left(\\Phi \\right)} + H_{dip22} M_{s1} \\sin{\\left(\\Phi \\right)} \\sin{\\left(\\Theta \\right)} + H_{dip23} M_{s1} \\cos{\\left(\\Theta \\right)} + H_{ext1} M_{s1} \\sin{\\left(\\Theta \\right)} \\cos{\\left(\\Phi \\right)} + H_{ext2} M_{s1} \\sin{\\left(\\Phi \\right)} \\sin{\\left(\\Theta \\right)} + H_{ext3} M_{s1} \\cos{\\left(\\Theta \\right)} - 4 K_{1} \\cos^{2}{\\left(\\Phi \\right)} \\cos^{2}{\\left(\\Theta \\right)} + 2 K_{1} \\cos^{2}{\\left(\\Phi \\right)}\\right) + 2 \\left(\\alpha_{1} \\tau_{2} + \\tau_{1}\\right) \\left(\\sin{\\left(\\Lambda \\right)} \\sin{\\left(\\Theta \\right)} \\cos{\\left(\\Omega - \\Phi \\right)} + \\cos{\\left(\\Lambda \\right)} \\cos{\\left(\\Theta \\right)}\\right)\\right)}{2 M_{s1} \\left(\\alpha_{1}^{2} + 1\\right)} & - \\frac{\\gamma \\left(H_{de11} M_{s1} \\cos{\\left(\\Phi \\right)} + H_{de12} M_{s1} \\sin{\\left(\\Phi \\right)} + H_{dip21} M_{s1} \\cos{\\left(\\Phi \\right)} + H_{dip22} M_{s1} \\sin{\\left(\\Phi \\right)} + H_{ext1} M_{s1} \\cos{\\left(\\Phi \\right)} + H_{ext2} M_{s1} \\sin{\\left(\\Phi \\right)} - 2 K_{1} \\left(2 \\sin^{2}{\\left(\\Phi \\right)} - 1\\right) \\sin{\\left(\\Theta \\right)} + \\alpha_{1} \\left(H_{de11} M_{s1} \\sin{\\left(\\Phi \\right)} - H_{de12} M_{s1} \\cos{\\left(\\Phi \\right)} + H_{dip21} M_{s1} \\sin{\\left(\\Phi \\right)} - H_{dip22} M_{s1} \\cos{\\left(\\Phi \\right)} + H_{ext1} M_{s1} \\sin{\\left(\\Phi \\right)} - H_{ext2} M_{s1} \\cos{\\left(\\Phi \\right)} + K_{1} \\left(\\cos{\\left(2 \\Phi - \\Theta \\right)} - \\cos{\\left(2 \\Phi + \\Theta \\right)}\\right)\\right) \\cos{\\left(\\Theta \\right)} + \\left(\\alpha_{1} \\tau_{1} - \\tau_{2}\\right) \\sin{\\left(\\Lambda \\right)} \\cos{\\left(\\Omega - \\Phi \\right)} - \\left(\\alpha_{1} \\tau_{2} + \\tau_{1}\\right) \\sin{\\left(\\Lambda \\right)} \\sin{\\left(\\Omega - \\Phi \\right)} \\cos{\\left(\\Theta \\right)}\\right)}{M_{s1} \\left(\\alpha_{1}^{2} + 1\\right)} & \\frac{\\gamma \\left(\\left(\\alpha_{1} \\tau_{1} - \\tau_{2}\\right) \\sin{\\left(\\Omega - \\Phi \\right)} \\cos{\\left(\\Lambda \\right)} + \\left(\\alpha_{1} \\tau_{2} + \\tau_{1}\\right) \\left(\\sin{\\left(\\Lambda \\right)} \\sin{\\left(\\Theta \\right)} + \\cos{\\left(\\Lambda \\right)} \\cos{\\left(\\Theta \\right)} \\cos{\\left(\\Omega - \\Phi \\right)}\\right)\\right)}{M_{s1} \\left(\\alpha_{1}^{2} + 1\\right)} & \\frac{\\gamma \\left(\\left(\\alpha_{1} \\tau_{1} - \\tau_{2}\\right) \\cos{\\left(\\Omega - \\Phi \\right)} - \\left(\\alpha_{1} \\tau_{2} + \\tau_{1}\\right) \\sin{\\left(\\Omega - \\Phi \\right)} \\cos{\\left(\\Theta \\right)}\\right) \\sin{\\left(\\Lambda \\right)}}{M_{s1} \\left(\\alpha_{1}^{2} + 1\\right)}\\\\\\frac{\\gamma \\left(H_{de11} M_{s1} \\alpha_{1} \\sin{\\left(\\Phi \\right)} \\cos{\\left(\\Theta \\right)} + H_{de11} M_{s1} \\cos{\\left(\\Phi \\right)} - H_{de12} M_{s1} \\alpha_{1} \\cos{\\left(\\Phi \\right)} \\cos{\\left(\\Theta \\right)} + H_{de12} M_{s1} \\sin{\\left(\\Phi \\right)} + H_{dip21} M_{s1} \\alpha_{1} \\sin{\\left(\\Phi \\right)} \\cos{\\left(\\Theta \\right)} + H_{dip21} M_{s1} \\cos{\\left(\\Phi \\right)} - H_{dip22} M_{s1} \\alpha_{1} \\cos{\\left(\\Phi \\right)} \\cos{\\left(\\Theta \\right)} + H_{dip22} M_{s1} \\sin{\\left(\\Phi \\right)} + H_{ext1} M_{s1} \\alpha_{1} \\sin{\\left(\\Phi \\right)} \\cos{\\left(\\Theta \\right)} + H_{ext1} M_{s1} \\cos{\\left(\\Phi \\right)} - H_{ext2} M_{s1} \\alpha_{1} \\cos{\\left(\\Phi \\right)} \\cos{\\left(\\Theta \\right)} + H_{ext2} M_{s1} \\sin{\\left(\\Phi \\right)} - H_{oe} M_{s} \\alpha_{1} \\cos{\\left(\\Theta \\right)} + 2 K_{1} \\sin^{3}{\\left(\\Theta \\right)} \\cos^{2}{\\left(\\Phi \\right)} + \\alpha_{1} \\tau_{1} \\sin{\\left(\\Lambda \\right)} \\cos{\\left(\\Omega - \\Phi \\right)} - \\alpha_{1} \\tau_{2} \\sin{\\left(\\Lambda \\right)} \\sin{\\left(\\Omega - \\Phi \\right)} \\cos{\\left(\\Theta \\right)} - \\tau_{1} \\sin{\\left(\\Lambda \\right)} \\sin{\\left(\\Omega - \\Phi \\right)} \\cos{\\left(\\Theta \\right)} - \\tau_{2} \\sin{\\left(\\Lambda \\right)} \\cos{\\left(\\Omega - \\Phi \\right)}\\right)}{M_{s1} \\left(\\alpha_{1}^{2} + 1\\right) \\sin^{2}{\\left(\\Theta \\right)}} & - \\frac{\\gamma \\left(- H_{de11} M_{s1} \\sin{\\left(\\Phi \\right)} \\cos{\\left(\\Theta \\right)} + H_{de12} M_{s1} \\cos{\\left(\\Phi \\right)} \\cos{\\left(\\Theta \\right)} - H_{dip21} M_{s1} \\sin{\\left(\\Phi \\right)} \\cos{\\left(\\Theta \\right)} + H_{dip22} M_{s1} \\cos{\\left(\\Phi \\right)} \\cos{\\left(\\Theta \\right)} - H_{ext1} M_{s1} \\sin{\\left(\\Phi \\right)} \\cos{\\left(\\Theta \\right)} + H_{ext2} M_{s1} \\cos{\\left(\\Phi \\right)} \\cos{\\left(\\Theta \\right)} - \\frac{K_{1} \\left(\\cos{\\left(2 \\Phi - 2 \\Theta \\right)} - \\cos{\\left(2 \\Phi + 2 \\Theta \\right)}\\right)}{2} + \\alpha_{1} \\left(H_{de11} M_{s1} \\cos{\\left(\\Phi \\right)} + H_{de12} M_{s1} \\sin{\\left(\\Phi \\right)} + H_{dip21} M_{s1} \\cos{\\left(\\Phi \\right)} + H_{dip22} M_{s1} \\sin{\\left(\\Phi \\right)} + H_{ext1} M_{s1} \\cos{\\left(\\Phi \\right)} + H_{ext2} M_{s1} \\sin{\\left(\\Phi \\right)} - 4 K_{1} \\sin^{2}{\\left(\\Phi \\right)} \\sin{\\left(\\Theta \\right)} + 2 K_{1} \\sin{\\left(\\Theta \\right)}\\right) + \\left(\\alpha_{1} \\tau_{1} - \\tau_{2}\\right) \\sin{\\left(\\Lambda \\right)} \\sin{\\left(\\Omega - \\Phi \\right)} \\cos{\\left(\\Theta \\right)} + \\left(\\alpha_{1} \\tau_{2} + \\tau_{1}\\right) \\sin{\\left(\\Lambda \\right)} \\cos{\\left(\\Omega - \\Phi \\right)}\\right)}{M_{s1} \\left(\\alpha_{1}^{2} + 1\\right) \\sin{\\left(\\Theta \\right)}} & - \\frac{\\gamma \\left(\\left(\\alpha_{1} \\tau_{1} - \\tau_{2}\\right) \\left(\\sin{\\left(\\Lambda \\right)} \\sin{\\left(\\Theta \\right)} + \\cos{\\left(\\Lambda \\right)} \\cos{\\left(\\Theta \\right)} \\cos{\\left(\\Omega - \\Phi \\right)}\\right) - \\left(\\alpha_{1} \\tau_{2} + \\tau_{1}\\right) \\sin{\\left(\\Omega - \\Phi \\right)} \\cos{\\left(\\Lambda \\right)}\\right)}{M_{s1} \\left(\\alpha_{1}^{2} + 1\\right) \\sin{\\left(\\Theta \\right)}} & \\frac{\\gamma \\left(\\left(\\alpha_{1} \\tau_{1} - \\tau_{2}\\right) \\sin{\\left(\\Omega - \\Phi \\right)} \\cos{\\left(\\Theta \\right)} + \\left(\\alpha_{1} \\tau_{2} + \\tau_{1}\\right) \\cos{\\left(\\Omega - \\Phi \\right)}\\right) \\sin{\\left(\\Lambda \\right)}}{M_{s1} \\left(\\alpha_{1}^{2} + 1\\right) \\sin{\\left(\\Theta \\right)}}\\\\\\frac{\\gamma \\left(\\left(\\alpha_{2} \\tau_{2} + \\tau_{1}\\right) \\left(\\sin{\\left(\\Lambda \\right)} \\sin{\\left(\\Theta \\right)} + \\cos{\\left(\\Lambda \\right)} \\cos{\\left(\\Theta \\right)} \\cos{\\left(\\Omega - \\Phi \\right)}\\right) \\sin^{2}{\\left(\\Theta \\right)} + \\left(H_{de21} M_{s2} \\sin{\\left(\\Omega \\right)} - H_{de22} M_{s2} \\cos{\\left(\\Omega \\right)} + H_{dip11} M_{s2} \\sin{\\left(\\Omega \\right)} - H_{dip12} M_{s2} \\cos{\\left(\\Omega \\right)} + H_{ext1} M_{s2} \\sin{\\left(\\Omega \\right)} - H_{ext2} M_{s2} \\cos{\\left(\\Omega \\right)} + \\frac{K_{2} \\left(\\cos{\\left(\\Lambda - 2 \\Omega \\right)} - \\cos{\\left(\\Lambda + 2 \\Omega \\right)}\\right)}{2}\\right) \\sin{\\left(\\Lambda \\right)} \\cos{\\left(\\Theta \\right)}\\right)}{M_{s2} \\left(\\alpha_{2}^{2} + 1\\right) \\sin^{2}{\\left(\\Theta \\right)}} & \\frac{\\gamma \\left(\\left(\\alpha_{2} \\tau_{1} + \\tau_{2}\\right) \\sin{\\left(\\Lambda \\right)} \\cos{\\left(\\Omega - \\Phi \\right)} + \\left(\\alpha_{2} \\tau_{2} + \\tau_{1}\\right) \\sin{\\left(\\Theta \\right)} \\sin{\\left(\\Omega - \\Phi \\right)} \\cos{\\left(\\Lambda \\right)}\\right)}{M_{s2} \\left(\\alpha_{2}^{2} + 1\\right)} & - \\frac{\\gamma \\left(H_{de21} M_{s2} \\sin{\\left(\\Omega \\right)} \\cos{\\left(\\Lambda \\right)} - H_{de22} M_{s2} \\cos{\\left(\\Lambda \\right)} \\cos{\\left(\\Omega \\right)} + H_{dip11} M_{s2} \\sin{\\left(\\Omega \\right)} \\cos{\\left(\\Lambda \\right)} - H_{dip12} M_{s2} \\cos{\\left(\\Lambda \\right)} \\cos{\\left(\\Omega \\right)} + H_{ext1} M_{s2} \\sin{\\left(\\Omega \\right)} \\cos{\\left(\\Lambda \\right)} - H_{ext2} M_{s2} \\cos{\\left(\\Lambda \\right)} \\cos{\\left(\\Omega \\right)} + \\frac{K_{2} \\left(\\cos{\\left(2 \\Lambda - 2 \\Omega \\right)} - \\cos{\\left(2 \\Lambda + 2 \\Omega \\right)}\\right)}{2} + \\left(\\alpha_{2} \\left(H_{de21} M_{s2} \\sin{\\left(\\Lambda \\right)} \\cos{\\left(\\Omega \\right)} + H_{de22} M_{s2} \\sin{\\left(\\Lambda \\right)} \\sin{\\left(\\Omega \\right)} + H_{de23} M_{s2} \\cos{\\left(\\Lambda \\right)} + H_{dip11} M_{s2} \\sin{\\left(\\Lambda \\right)} \\cos{\\left(\\Omega \\right)} + H_{dip12} M_{s2} \\sin{\\left(\\Lambda \\right)} \\sin{\\left(\\Omega \\right)} + H_{dip13} M_{s2} \\cos{\\left(\\Lambda \\right)} + H_{ext1} M_{s2} \\sin{\\left(\\Lambda \\right)} \\cos{\\left(\\Omega \\right)} + H_{ext2} M_{s2} \\sin{\\left(\\Lambda \\right)} \\sin{\\left(\\Omega \\right)} + H_{ext3} M_{s2} \\cos{\\left(\\Lambda \\right)} - 2 K_{2} \\left(2 \\cos^{2}{\\left(\\Lambda \\right)} - 1\\right) \\cos^{2}{\\left(\\Omega \\right)}\\right) + \\left(\\alpha_{2} \\tau_{1} + \\tau_{2}\\right) \\sin{\\left(\\Omega - \\Phi \\right)} \\cos{\\left(\\Lambda \\right)} + \\left(\\alpha_{2} \\tau_{2} + \\tau_{1}\\right) \\left(\\sin{\\left(\\Lambda \\right)} \\sin{\\left(\\Theta \\right)} \\cos{\\left(\\Omega - \\Phi \\right)} + \\cos{\\left(\\Lambda \\right)} \\cos{\\left(\\Theta \\right)}\\right)\\right) \\sin{\\left(\\Theta \\right)}\\right)}{M_{s2} \\left(\\alpha_{2}^{2} + 1\\right) \\sin{\\left(\\Theta \\right)}} & - \\frac{\\gamma \\left(H_{de21} M_{s2} \\sin{\\left(\\Lambda \\right)} \\cos{\\left(\\Omega \\right)} + H_{de22} M_{s2} \\sin{\\left(\\Lambda \\right)} \\sin{\\left(\\Omega \\right)} + H_{dip11} M_{s2} \\sin{\\left(\\Lambda \\right)} \\cos{\\left(\\Omega \\right)} + H_{dip12} M_{s2} \\sin{\\left(\\Lambda \\right)} \\sin{\\left(\\Omega \\right)} + H_{ext1} M_{s2} \\sin{\\left(\\Lambda \\right)} \\cos{\\left(\\Omega \\right)} + H_{ext2} M_{s2} \\sin{\\left(\\Lambda \\right)} \\sin{\\left(\\Omega \\right)} - 2 K_{2} \\sin^{2}{\\left(\\Lambda \\right)} \\sin^{2}{\\left(\\Omega \\right)} + 2 K_{2} \\sin^{2}{\\left(\\Lambda \\right)} \\cos^{2}{\\left(\\Omega \\right)} + \\left(\\alpha_{2} \\left(H_{de21} M_{s2} \\sin{\\left(\\Omega \\right)} - H_{de22} M_{s2} \\cos{\\left(\\Omega \\right)} + H_{dip11} M_{s2} \\sin{\\left(\\Omega \\right)} - H_{dip12} M_{s2} \\cos{\\left(\\Omega \\right)} + H_{ext1} M_{s2} \\sin{\\left(\\Omega \\right)} - H_{ext2} M_{s2} \\cos{\\left(\\Omega \\right)} + K_{2} \\left(\\cos{\\left(\\Lambda - 2 \\Omega \\right)} - \\cos{\\left(\\Lambda + 2 \\Omega \\right)}\\right)\\right) \\cos{\\left(\\Lambda \\right)} + \\left(\\alpha_{2} \\tau_{1} + \\tau_{2}\\right) \\sin{\\left(\\Lambda \\right)} \\cos{\\left(\\Omega - \\Phi \\right)} + \\left(\\alpha_{2} \\tau_{2} + \\tau_{1}\\right) \\sin{\\left(\\Theta \\right)} \\sin{\\left(\\Omega - \\Phi \\right)} \\cos{\\left(\\Lambda \\right)}\\right) \\sin{\\left(\\Theta \\right)}\\right)}{M_{s2} \\left(\\alpha_{2}^{2} + 1\\right) \\sin{\\left(\\Theta \\right)}}\\\\- \\frac{\\gamma \\left(\\left(\\left(\\alpha_{2} \\tau_{1} - \\tau_{2}\\right) \\left(\\sin{\\left(\\Lambda \\right)} \\sin{\\left(\\Theta \\right)} + \\cos{\\left(\\Lambda \\right)} \\cos{\\left(\\Theta \\right)} \\cos{\\left(\\Omega - \\Phi \\right)}\\right) - \\left(\\alpha_{2} \\tau_{2} - \\tau_{1}\\right) \\sin{\\left(\\Omega - \\Phi \\right)} \\cos{\\left(\\Theta \\right)}\\right) \\sin^{2}{\\left(\\Theta \\right)} - \\left(H_{de21} M_{s2} \\cos{\\left(\\Lambda \\right)} \\cos{\\left(\\Omega \\right)} + H_{de22} M_{s2} \\sin{\\left(\\Omega \\right)} \\cos{\\left(\\Lambda \\right)} - H_{de23} M_{s2} \\sin{\\left(\\Lambda \\right)} + H_{dip11} M_{s2} \\cos{\\left(\\Lambda \\right)} \\cos{\\left(\\Omega \\right)} + H_{dip12} M_{s2} \\sin{\\left(\\Omega \\right)} \\cos{\\left(\\Lambda \\right)} - H_{dip13} M_{s2} \\sin{\\left(\\Lambda \\right)} + H_{ext1} M_{s2} \\cos{\\left(\\Lambda \\right)} \\cos{\\left(\\Omega \\right)} + H_{ext2} M_{s2} \\sin{\\left(\\Omega \\right)} \\cos{\\left(\\Lambda \\right)} - H_{ext3} M_{s2} \\sin{\\left(\\Lambda \\right)} + 2 K_{2} \\sin{\\left(\\Lambda \\right)} \\cos{\\left(\\Lambda \\right)} \\cos^{2}{\\left(\\Omega \\right)}\\right) \\sin{\\left(\\Lambda \\right)} \\cos{\\left(\\Theta \\right)}\\right)}{M_{s2} \\left(\\alpha_{2}^{2} + 1\\right) \\sin{\\left(\\Lambda \\right)} \\sin^{2}{\\left(\\Theta \\right)}} & - \\frac{\\gamma \\left(\\left(\\alpha_{2} \\tau_{1} - \\tau_{2}\\right) \\sin{\\left(\\Omega - \\Phi \\right)} \\cos{\\left(\\Lambda \\right)} + \\left(\\alpha_{2} \\tau_{2} - \\tau_{1}\\right) \\cos{\\left(\\Omega - \\Phi \\right)}\\right) \\sin{\\left(\\Theta \\right)}}{M_{s2} \\left(\\alpha_{2}^{2} + 1\\right) \\sin{\\left(\\Lambda \\right)}} & \\frac{\\gamma \\left(2 \\alpha_{2} \\left(H_{de21} M_{s2} \\sin{\\left(\\Omega \\right)} - H_{de22} M_{s2} \\cos{\\left(\\Omega \\right)} + H_{dip11} M_{s2} \\sin{\\left(\\Omega \\right)} - H_{dip12} M_{s2} \\cos{\\left(\\Omega \\right)} + H_{ext1} M_{s2} \\sin{\\left(\\Omega \\right)} - H_{ext2} M_{s2} \\cos{\\left(\\Omega \\right)} + \\frac{K_{2} \\left(\\cos{\\left(\\Lambda - 2 \\Omega \\right)} - \\cos{\\left(\\Lambda + 2 \\Omega \\right)}\\right)}{2}\\right) \\sin{\\left(\\Theta \\right)} \\cos{\\left(\\Lambda \\right)} + \\left(\\alpha_{2} \\tau_{1} - \\tau_{2}\\right) \\left(\\sin{\\left(\\Lambda \\right)} \\sin{\\left(\\Theta \\right)} \\cos{\\left(\\Omega - \\Phi \\right)} + \\cos{\\left(\\Lambda \\right)} \\cos{\\left(\\Theta \\right)}\\right) \\sin{\\left(\\Lambda \\right)} \\sin{\\left(\\Theta \\right)} - \\left(H_{oe} M_{s} \\alpha_{2} + \\alpha_{2} \\left(H_{de21} M_{s2} \\sin{\\left(\\Omega \\right)} - H_{de22} M_{s2} \\cos{\\left(\\Omega \\right)} + H_{dip11} M_{s2} \\sin{\\left(\\Omega \\right)} - H_{dip12} M_{s2} \\cos{\\left(\\Omega \\right)} + H_{ext1} M_{s2} \\sin{\\left(\\Omega \\right)} - H_{ext2} M_{s2} \\cos{\\left(\\Omega \\right)} + K_{2} \\left(\\cos{\\left(\\Lambda - 2 \\Omega \\right)} - \\cos{\\left(\\Lambda + 2 \\Omega \\right)}\\right)\\right) + \\left(\\alpha_{2} \\tau_{1} - \\tau_{2}\\right) \\left(\\sin{\\left(\\Lambda \\right)} \\cos{\\left(\\Theta \\right)} - \\sin{\\left(\\Theta \\right)} \\cos{\\left(\\Lambda \\right)} \\cos{\\left(\\Omega - \\Phi \\right)}\\right) + \\left(\\alpha_{2} \\tau_{2} - \\tau_{1}\\right) \\sin{\\left(\\Theta \\right)} \\sin{\\left(\\Omega - \\Phi \\right)}\\right) \\sin{\\left(\\Theta \\right)} \\cos{\\left(\\Lambda \\right)} + \\left(H_{de21} M_{s2} \\sin{\\left(\\Lambda \\right)} \\cos{\\left(\\Omega \\right)} + H_{de22} M_{s2} \\sin{\\left(\\Lambda \\right)} \\sin{\\left(\\Omega \\right)} + H_{de23} M_{s2} \\cos{\\left(\\Lambda \\right)} + H_{dip11} M_{s2} \\sin{\\left(\\Lambda \\right)} \\cos{\\left(\\Omega \\right)} + H_{dip12} M_{s2} \\sin{\\left(\\Lambda \\right)} \\sin{\\left(\\Omega \\right)} + H_{dip13} M_{s2} \\cos{\\left(\\Lambda \\right)} + H_{ext1} M_{s2} \\sin{\\left(\\Lambda \\right)} \\cos{\\left(\\Omega \\right)} + H_{ext2} M_{s2} \\sin{\\left(\\Lambda \\right)} \\sin{\\left(\\Omega \\right)} + H_{ext3} M_{s2} \\cos{\\left(\\Lambda \\right)} - 2 K_{2} \\left(2 \\cos^{2}{\\left(\\Lambda \\right)} - 1\\right) \\cos^{2}{\\left(\\Omega \\right)}\\right) \\sin^{2}{\\left(\\Lambda \\right)}\\right)}{M_{s2} \\left(\\alpha_{2}^{2} + 1\\right) \\sin^{2}{\\left(\\Lambda \\right)} \\sin{\\left(\\Theta \\right)}} & \\frac{\\gamma \\left(- \\alpha_{2} \\left(H_{de21} M_{s2} \\cos{\\left(\\Omega \\right)} + H_{de22} M_{s2} \\sin{\\left(\\Omega \\right)} + H_{dip11} M_{s2} \\cos{\\left(\\Omega \\right)} + H_{dip12} M_{s2} \\sin{\\left(\\Omega \\right)} + H_{ext1} M_{s2} \\cos{\\left(\\Omega \\right)} + H_{ext2} M_{s2} \\sin{\\left(\\Omega \\right)} - 4 K_{2} \\sin{\\left(\\Lambda \\right)} \\sin^{2}{\\left(\\Omega \\right)} + 2 K_{2} \\sin{\\left(\\Lambda \\right)}\\right) \\sin{\\left(\\Theta \\right)} - \\left(- \\left(\\alpha_{2} \\tau_{1} - \\tau_{2}\\right) \\sin{\\left(\\Omega - \\Phi \\right)} \\cos{\\left(\\Lambda \\right)} - \\left(\\alpha_{2} \\tau_{2} - \\tau_{1}\\right) \\cos{\\left(\\Omega - \\Phi \\right)}\\right) \\sin^{2}{\\left(\\Theta \\right)} + \\left(H_{de21} M_{s2} \\sin{\\left(\\Omega \\right)} - H_{de22} M_{s2} \\cos{\\left(\\Omega \\right)} + H_{dip11} M_{s2} \\sin{\\left(\\Omega \\right)} - H_{dip12} M_{s2} \\cos{\\left(\\Omega \\right)} + H_{ext1} M_{s2} \\sin{\\left(\\Omega \\right)} - H_{ext2} M_{s2} \\cos{\\left(\\Omega \\right)} + K_{2} \\left(\\cos{\\left(\\Lambda - 2 \\Omega \\right)} - \\cos{\\left(\\Lambda + 2 \\Omega \\right)}\\right)\\right) \\sin{\\left(\\Lambda \\right)} \\cos{\\left(\\Lambda \\right)}\\right)}{M_{s2} \\left(\\alpha_{2}^{2} + 1\\right) \\sin{\\left(\\Lambda \\right)} \\sin{\\left(\\Theta \\right)}}\\end{matrix}\\right]$"
      ],
      "text/plain": [
       "Matrix([\n",
       "[                                                                                                                                                                                    -gamma*(K1*(sin(2*Phi - Theta) + sin(2*Phi + Theta)) + 2*alpha_1*(H_{de11}*M_{s1}*sin(Theta)*cos(Phi) + H_{de12}*M_{s1}*sin(Phi)*sin(Theta) + H_{de13}*M_{s1}*cos(Theta) + H_{dip21}*M_{s1}*sin(Theta)*cos(Phi) + H_{dip22}*M_{s1}*sin(Phi)*sin(Theta) + H_{dip23}*M_{s1}*cos(Theta) + H_{ext1}*M_{s1}*sin(Theta)*cos(Phi) + H_{ext2}*M_{s1}*sin(Phi)*sin(Theta) + H_{ext3}*M_{s1}*cos(Theta) - 4*K1*cos(Phi)**2*cos(Theta)**2 + 2*K1*cos(Phi)**2) + 2*(alpha_1*tau_2 + tau_1)*(sin(Lambda)*sin(Theta)*cos(Omega - Phi) + cos(Lambda)*cos(Theta)))/(2*M_{s1}*(alpha_1**2 + 1)),                                                                                    -gamma*(H_{de11}*M_{s1}*cos(Phi) + H_{de12}*M_{s1}*sin(Phi) + H_{dip21}*M_{s1}*cos(Phi) + H_{dip22}*M_{s1}*sin(Phi) + H_{ext1}*M_{s1}*cos(Phi) + H_{ext2}*M_{s1}*sin(Phi) - 2*K1*(2*sin(Phi)**2 - 1)*sin(Theta) + alpha_1*(H_{de11}*M_{s1}*sin(Phi) - H_{de12}*M_{s1}*cos(Phi) + H_{dip21}*M_{s1}*sin(Phi) - H_{dip22}*M_{s1}*cos(Phi) + H_{ext1}*M_{s1}*sin(Phi) - H_{ext2}*M_{s1}*cos(Phi) + K1*(cos(2*Phi - Theta) - cos(2*Phi + Theta)))*cos(Theta) + (alpha_1*tau_1 - tau_2)*sin(Lambda)*cos(Omega - Phi) - (alpha_1*tau_2 + tau_1)*sin(Lambda)*sin(Omega - Phi)*cos(Theta))/(M_{s1}*(alpha_1**2 + 1)),                                                                                                                                                                                                                                                                                                                                                                                                                                                                                                                                                                                                                                                                                                                                                                                                                                                                                                                                                                                                                                                                                                                                     gamma*((alpha_1*tau_1 - tau_2)*sin(Omega - Phi)*cos(Lambda) + (alpha_1*tau_2 + tau_1)*(sin(Lambda)*sin(Theta) + cos(Lambda)*cos(Theta)*cos(Omega - Phi)))/(M_{s1}*(alpha_1**2 + 1)),                                                                                                                                                                                                                                                                                                                                                                                                                                                                                                                                                                                                                                 gamma*((alpha_1*tau_1 - tau_2)*cos(Omega - Phi) - (alpha_1*tau_2 + tau_1)*sin(Omega - Phi)*cos(Theta))*sin(Lambda)/(M_{s1}*(alpha_1**2 + 1))],\n",
       "[gamma*(H_{de11}*M_{s1}*alpha_1*sin(Phi)*cos(Theta) + H_{de11}*M_{s1}*cos(Phi) - H_{de12}*M_{s1}*alpha_1*cos(Phi)*cos(Theta) + H_{de12}*M_{s1}*sin(Phi) + H_{dip21}*M_{s1}*alpha_1*sin(Phi)*cos(Theta) + H_{dip21}*M_{s1}*cos(Phi) - H_{dip22}*M_{s1}*alpha_1*cos(Phi)*cos(Theta) + H_{dip22}*M_{s1}*sin(Phi) + H_{ext1}*M_{s1}*alpha_1*sin(Phi)*cos(Theta) + H_{ext1}*M_{s1}*cos(Phi) - H_{ext2}*M_{s1}*alpha_1*cos(Phi)*cos(Theta) + H_{ext2}*M_{s1}*sin(Phi) - H_{oe}*M_s*alpha_1*cos(Theta) + 2*K1*sin(Theta)**3*cos(Phi)**2 + alpha_1*tau_1*sin(Lambda)*cos(Omega - Phi) - alpha_1*tau_2*sin(Lambda)*sin(Omega - Phi)*cos(Theta) - tau_1*sin(Lambda)*sin(Omega - Phi)*cos(Theta) - tau_2*sin(Lambda)*cos(Omega - Phi))/(M_{s1}*(alpha_1**2 + 1)*sin(Theta)**2), -gamma*(-H_{de11}*M_{s1}*sin(Phi)*cos(Theta) + H_{de12}*M_{s1}*cos(Phi)*cos(Theta) - H_{dip21}*M_{s1}*sin(Phi)*cos(Theta) + H_{dip22}*M_{s1}*cos(Phi)*cos(Theta) - H_{ext1}*M_{s1}*sin(Phi)*cos(Theta) + H_{ext2}*M_{s1}*cos(Phi)*cos(Theta) - K1*(cos(2*Phi - 2*Theta) - cos(2*Phi + 2*Theta))/2 + alpha_1*(H_{de11}*M_{s1}*cos(Phi) + H_{de12}*M_{s1}*sin(Phi) + H_{dip21}*M_{s1}*cos(Phi) + H_{dip22}*M_{s1}*sin(Phi) + H_{ext1}*M_{s1}*cos(Phi) + H_{ext2}*M_{s1}*sin(Phi) - 4*K1*sin(Phi)**2*sin(Theta) + 2*K1*sin(Theta)) + (alpha_1*tau_1 - tau_2)*sin(Lambda)*sin(Omega - Phi)*cos(Theta) + (alpha_1*tau_2 + tau_1)*sin(Lambda)*cos(Omega - Phi))/(M_{s1}*(alpha_1**2 + 1)*sin(Theta)),                                                                                                                                                                                                                                                                                                                                                                                                                                                                                                                                                                                                                                                                                                                                                                                                                                                                                                                                                                                                                                                                                                                         -gamma*((alpha_1*tau_1 - tau_2)*(sin(Lambda)*sin(Theta) + cos(Lambda)*cos(Theta)*cos(Omega - Phi)) - (alpha_1*tau_2 + tau_1)*sin(Omega - Phi)*cos(Lambda))/(M_{s1}*(alpha_1**2 + 1)*sin(Theta)),                                                                                                                                                                                                                                                                                                                                                                                                                                                                                                                                                                                                                      gamma*((alpha_1*tau_1 - tau_2)*sin(Omega - Phi)*cos(Theta) + (alpha_1*tau_2 + tau_1)*cos(Omega - Phi))*sin(Lambda)/(M_{s1}*(alpha_1**2 + 1)*sin(Theta))],\n",
       "[                                                                                                                                                                                                                                                                                                                                          gamma*((alpha_2*tau_2 + tau_1)*(sin(Lambda)*sin(Theta) + cos(Lambda)*cos(Theta)*cos(Omega - Phi))*sin(Theta)**2 + (H_{de21}*M_{s2}*sin(Omega) - H_{de22}*M_{s2}*cos(Omega) + H_{dip11}*M_{s2}*sin(Omega) - H_{dip12}*M_{s2}*cos(Omega) + H_{ext1}*M_{s2}*sin(Omega) - H_{ext2}*M_{s2}*cos(Omega) + K2*(cos(Lambda - 2*Omega) - cos(Lambda + 2*Omega))/2)*sin(Lambda)*cos(Theta))/(M_{s2}*(alpha_2**2 + 1)*sin(Theta)**2),                                                                                                                                                                                                                                                                                                                                                                                                                                                                                                                                       gamma*((alpha_2*tau_1 + tau_2)*sin(Lambda)*cos(Omega - Phi) + (alpha_2*tau_2 + tau_1)*sin(Theta)*sin(Omega - Phi)*cos(Lambda))/(M_{s2}*(alpha_2**2 + 1)),                                                                                                                                                                                                                                                                                                                                                                                -gamma*(H_{de21}*M_{s2}*sin(Omega)*cos(Lambda) - H_{de22}*M_{s2}*cos(Lambda)*cos(Omega) + H_{dip11}*M_{s2}*sin(Omega)*cos(Lambda) - H_{dip12}*M_{s2}*cos(Lambda)*cos(Omega) + H_{ext1}*M_{s2}*sin(Omega)*cos(Lambda) - H_{ext2}*M_{s2}*cos(Lambda)*cos(Omega) + K2*(cos(2*Lambda - 2*Omega) - cos(2*Lambda + 2*Omega))/2 + (alpha_2*(H_{de21}*M_{s2}*sin(Lambda)*cos(Omega) + H_{de22}*M_{s2}*sin(Lambda)*sin(Omega) + H_{de23}*M_{s2}*cos(Lambda) + H_{dip11}*M_{s2}*sin(Lambda)*cos(Omega) + H_{dip12}*M_{s2}*sin(Lambda)*sin(Omega) + H_{dip13}*M_{s2}*cos(Lambda) + H_{ext1}*M_{s2}*sin(Lambda)*cos(Omega) + H_{ext2}*M_{s2}*sin(Lambda)*sin(Omega) + H_{ext3}*M_{s2}*cos(Lambda) - 2*K2*(2*cos(Lambda)**2 - 1)*cos(Omega)**2) + (alpha_2*tau_1 + tau_2)*sin(Omega - Phi)*cos(Lambda) + (alpha_2*tau_2 + tau_1)*(sin(Lambda)*sin(Theta)*cos(Omega - Phi) + cos(Lambda)*cos(Theta)))*sin(Theta))/(M_{s2}*(alpha_2**2 + 1)*sin(Theta)), -gamma*(H_{de21}*M_{s2}*sin(Lambda)*cos(Omega) + H_{de22}*M_{s2}*sin(Lambda)*sin(Omega) + H_{dip11}*M_{s2}*sin(Lambda)*cos(Omega) + H_{dip12}*M_{s2}*sin(Lambda)*sin(Omega) + H_{ext1}*M_{s2}*sin(Lambda)*cos(Omega) + H_{ext2}*M_{s2}*sin(Lambda)*sin(Omega) - 2*K2*sin(Lambda)**2*sin(Omega)**2 + 2*K2*sin(Lambda)**2*cos(Omega)**2 + (alpha_2*(H_{de21}*M_{s2}*sin(Omega) - H_{de22}*M_{s2}*cos(Omega) + H_{dip11}*M_{s2}*sin(Omega) - H_{dip12}*M_{s2}*cos(Omega) + H_{ext1}*M_{s2}*sin(Omega) - H_{ext2}*M_{s2}*cos(Omega) + K2*(cos(Lambda - 2*Omega) - cos(Lambda + 2*Omega)))*cos(Lambda) + (alpha_2*tau_1 + tau_2)*sin(Lambda)*cos(Omega - Phi) + (alpha_2*tau_2 + tau_1)*sin(Theta)*sin(Omega - Phi)*cos(Lambda))*sin(Theta))/(M_{s2}*(alpha_2**2 + 1)*sin(Theta))],\n",
       "[                                                                                                            -gamma*(((alpha_2*tau_1 - tau_2)*(sin(Lambda)*sin(Theta) + cos(Lambda)*cos(Theta)*cos(Omega - Phi)) - (alpha_2*tau_2 - tau_1)*sin(Omega - Phi)*cos(Theta))*sin(Theta)**2 - (H_{de21}*M_{s2}*cos(Lambda)*cos(Omega) + H_{de22}*M_{s2}*sin(Omega)*cos(Lambda) - H_{de23}*M_{s2}*sin(Lambda) + H_{dip11}*M_{s2}*cos(Lambda)*cos(Omega) + H_{dip12}*M_{s2}*sin(Omega)*cos(Lambda) - H_{dip13}*M_{s2}*sin(Lambda) + H_{ext1}*M_{s2}*cos(Lambda)*cos(Omega) + H_{ext2}*M_{s2}*sin(Omega)*cos(Lambda) - H_{ext3}*M_{s2}*sin(Lambda) + 2*K2*sin(Lambda)*cos(Lambda)*cos(Omega)**2)*sin(Lambda)*cos(Theta))/(M_{s2}*(alpha_2**2 + 1)*sin(Lambda)*sin(Theta)**2),                                                                                                                                                                                                                                                                                                                                                                                                                                                                                                                                      -gamma*((alpha_2*tau_1 - tau_2)*sin(Omega - Phi)*cos(Lambda) + (alpha_2*tau_2 - tau_1)*cos(Omega - Phi))*sin(Theta)/(M_{s2}*(alpha_2**2 + 1)*sin(Lambda)), gamma*(2*alpha_2*(H_{de21}*M_{s2}*sin(Omega) - H_{de22}*M_{s2}*cos(Omega) + H_{dip11}*M_{s2}*sin(Omega) - H_{dip12}*M_{s2}*cos(Omega) + H_{ext1}*M_{s2}*sin(Omega) - H_{ext2}*M_{s2}*cos(Omega) + K2*(cos(Lambda - 2*Omega) - cos(Lambda + 2*Omega))/2)*sin(Theta)*cos(Lambda) + (alpha_2*tau_1 - tau_2)*(sin(Lambda)*sin(Theta)*cos(Omega - Phi) + cos(Lambda)*cos(Theta))*sin(Lambda)*sin(Theta) - (H_{oe}*M_s*alpha_2 + alpha_2*(H_{de21}*M_{s2}*sin(Omega) - H_{de22}*M_{s2}*cos(Omega) + H_{dip11}*M_{s2}*sin(Omega) - H_{dip12}*M_{s2}*cos(Omega) + H_{ext1}*M_{s2}*sin(Omega) - H_{ext2}*M_{s2}*cos(Omega) + K2*(cos(Lambda - 2*Omega) - cos(Lambda + 2*Omega))) + (alpha_2*tau_1 - tau_2)*(sin(Lambda)*cos(Theta) - sin(Theta)*cos(Lambda)*cos(Omega - Phi)) + (alpha_2*tau_2 - tau_1)*sin(Theta)*sin(Omega - Phi))*sin(Theta)*cos(Lambda) + (H_{de21}*M_{s2}*sin(Lambda)*cos(Omega) + H_{de22}*M_{s2}*sin(Lambda)*sin(Omega) + H_{de23}*M_{s2}*cos(Lambda) + H_{dip11}*M_{s2}*sin(Lambda)*cos(Omega) + H_{dip12}*M_{s2}*sin(Lambda)*sin(Omega) + H_{dip13}*M_{s2}*cos(Lambda) + H_{ext1}*M_{s2}*sin(Lambda)*cos(Omega) + H_{ext2}*M_{s2}*sin(Lambda)*sin(Omega) + H_{ext3}*M_{s2}*cos(Lambda) - 2*K2*(2*cos(Lambda)**2 - 1)*cos(Omega)**2)*sin(Lambda)**2)/(M_{s2}*(alpha_2**2 + 1)*sin(Lambda)**2*sin(Theta)),                                                                           gamma*(-alpha_2*(H_{de21}*M_{s2}*cos(Omega) + H_{de22}*M_{s2}*sin(Omega) + H_{dip11}*M_{s2}*cos(Omega) + H_{dip12}*M_{s2}*sin(Omega) + H_{ext1}*M_{s2}*cos(Omega) + H_{ext2}*M_{s2}*sin(Omega) - 4*K2*sin(Lambda)*sin(Omega)**2 + 2*K2*sin(Lambda))*sin(Theta) - (-(alpha_2*tau_1 - tau_2)*sin(Omega - Phi)*cos(Lambda) - (alpha_2*tau_2 - tau_1)*cos(Omega - Phi))*sin(Theta)**2 + (H_{de21}*M_{s2}*sin(Omega) - H_{de22}*M_{s2}*cos(Omega) + H_{dip11}*M_{s2}*sin(Omega) - H_{dip12}*M_{s2}*cos(Omega) + H_{ext1}*M_{s2}*sin(Omega) - H_{ext2}*M_{s2}*cos(Omega) + K2*(cos(Lambda - 2*Omega) - cos(Lambda + 2*Omega)))*sin(Lambda)*cos(Lambda))/(M_{s2}*(alpha_2**2 + 1)*sin(Lambda)*sin(Theta))]])"
      ]
     },
     "execution_count": 314,
     "metadata": {},
     "output_type": "execute_result"
    }
   ],
   "source": [
    "dM"
   ]
  },
  {
   "cell_type": "code",
   "execution_count": 309,
   "metadata": {},
   "outputs": [
    {
     "data": {
      "text/latex": [
       "$\\displaystyle - \\frac{\\gamma \\left(K_{1} \\left(\\sin{\\left(2 \\Phi - \\Theta \\right)} + \\sin{\\left(2 \\Phi + \\Theta \\right)}\\right) + 2 \\alpha_{1} \\left(H_{de11} M_{s1} \\sin{\\left(\\Theta \\right)} \\cos{\\left(\\Phi \\right)} + H_{de12} M_{s1} \\sin{\\left(\\Phi \\right)} \\sin{\\left(\\Theta \\right)} + H_{de13} M_{s1} \\cos{\\left(\\Theta \\right)} + H_{dip21} M_{s1} \\sin{\\left(\\Theta \\right)} \\cos{\\left(\\Phi \\right)} + H_{dip22} M_{s1} \\sin{\\left(\\Phi \\right)} \\sin{\\left(\\Theta \\right)} + H_{dip23} M_{s1} \\cos{\\left(\\Theta \\right)} + H_{ext1} M_{s1} \\sin{\\left(\\Theta \\right)} \\cos{\\left(\\Phi \\right)} + H_{ext2} M_{s1} \\sin{\\left(\\Phi \\right)} \\sin{\\left(\\Theta \\right)} + H_{ext3} M_{s1} \\cos{\\left(\\Theta \\right)} - 4 K_{1} \\cos^{2}{\\left(\\Phi \\right)} \\cos^{2}{\\left(\\Theta \\right)} + 2 K_{1} \\cos^{2}{\\left(\\Phi \\right)}\\right) + 2 \\left(\\alpha_{1} \\tau_{2} + \\tau_{1}\\right) \\left(\\sin{\\left(\\Lambda \\right)} \\sin{\\left(\\Theta \\right)} \\cos{\\left(\\Omega - \\Phi \\right)} + \\cos{\\left(\\Lambda \\right)} \\cos{\\left(\\Theta \\right)}\\right)\\right)}{2 M_{s1} \\left(\\alpha_{1}^{2} + 1\\right)}$"
      ],
      "text/plain": [
       "-gamma*(K1*(sin(2*Phi - Theta) + sin(2*Phi + Theta)) + 2*alpha_1*(H_{de11}*M_{s1}*sin(Theta)*cos(Phi) + H_{de12}*M_{s1}*sin(Phi)*sin(Theta) + H_{de13}*M_{s1}*cos(Theta) + H_{dip21}*M_{s1}*sin(Theta)*cos(Phi) + H_{dip22}*M_{s1}*sin(Phi)*sin(Theta) + H_{dip23}*M_{s1}*cos(Theta) + H_{ext1}*M_{s1}*sin(Theta)*cos(Phi) + H_{ext2}*M_{s1}*sin(Phi)*sin(Theta) + H_{ext3}*M_{s1}*cos(Theta) - 4*K1*cos(Phi)**2*cos(Theta)**2 + 2*K1*cos(Phi)**2) + 2*(alpha_1*tau_2 + tau_1)*(sin(Lambda)*sin(Theta)*cos(Omega - Phi) + cos(Lambda)*cos(Theta)))/(2*M_{s1}*(alpha_1**2 + 1))"
      ]
     },
     "execution_count": 309,
     "metadata": {},
     "output_type": "execute_result"
    }
   ],
   "source": [
    "sym.simplify(sym.diff(dTheta, theta))\n",
    "# sym.simplify(sym.diff(dTheta, phi)),\n",
    "# sym.simplify(sym.diff(dTheta, lamb)),\n",
    "# sym.simplify(sym.diff(dTheta, omega))"
   ]
  },
  {
   "cell_type": "code",
   "execution_count": 402,
   "metadata": {},
   "outputs": [
    {
     "data": {
      "text/latex": [
       "$\\displaystyle - \\frac{\\gamma \\left(- H_{de11} M_{s1} \\sin{\\left(\\Phi \\right)} \\cos{\\left(\\Theta \\right)} + H_{de12} M_{s1} \\cos{\\left(\\Phi \\right)} \\cos{\\left(\\Theta \\right)} - H_{dip21} M_{s1} \\sin{\\left(\\Phi \\right)} \\cos{\\left(\\Theta \\right)} + H_{dip22} M_{s1} \\cos{\\left(\\Phi \\right)} \\cos{\\left(\\Theta \\right)} - H_{ext1} M_{s1} \\sin{\\left(\\Phi \\right)} \\cos{\\left(\\Theta \\right)} + H_{ext2} M_{s1} \\cos{\\left(\\Phi \\right)} \\cos{\\left(\\Theta \\right)} - \\frac{K_{1} \\left(\\cos{\\left(2 \\Phi - 2 \\Theta \\right)} - \\cos{\\left(2 \\Phi + 2 \\Theta \\right)}\\right)}{2} + \\alpha_{1} \\left(H_{de11} M_{s1} \\cos{\\left(\\Phi \\right)} + H_{de12} M_{s1} \\sin{\\left(\\Phi \\right)} + H_{dip21} M_{s1} \\cos{\\left(\\Phi \\right)} + H_{dip22} M_{s1} \\sin{\\left(\\Phi \\right)} + H_{ext1} M_{s1} \\cos{\\left(\\Phi \\right)} + H_{ext2} M_{s1} \\sin{\\left(\\Phi \\right)} - 4 K_{1} \\sin^{2}{\\left(\\Phi \\right)} \\sin{\\left(\\Theta \\right)} + 2 K_{1} \\sin{\\left(\\Theta \\right)}\\right) + \\left(\\alpha_{1} \\tau_{1} - \\tau_{2}\\right) \\sin{\\left(\\Lambda \\right)} \\sin{\\left(\\Omega - \\Phi \\right)} \\cos{\\left(\\Theta \\right)} + \\left(\\alpha_{1} \\tau_{2} + \\tau_{1}\\right) \\sin{\\left(\\Lambda \\right)} \\cos{\\left(\\Omega - \\Phi \\right)}\\right)}{M_{s1} \\left(\\alpha_{1}^{2} + 1\\right) \\sin{\\left(\\Theta \\right)}}$"
      ],
      "text/plain": [
       "-gamma*(-H_{de11}*M_{s1}*sin(Phi)*cos(Theta) + H_{de12}*M_{s1}*cos(Phi)*cos(Theta) - H_{dip21}*M_{s1}*sin(Phi)*cos(Theta) + H_{dip22}*M_{s1}*cos(Phi)*cos(Theta) - H_{ext1}*M_{s1}*sin(Phi)*cos(Theta) + H_{ext2}*M_{s1}*cos(Phi)*cos(Theta) - K1*(cos(2*Phi - 2*Theta) - cos(2*Phi + 2*Theta))/2 + alpha_1*(H_{de11}*M_{s1}*cos(Phi) + H_{de12}*M_{s1}*sin(Phi) + H_{dip21}*M_{s1}*cos(Phi) + H_{dip22}*M_{s1}*sin(Phi) + H_{ext1}*M_{s1}*cos(Phi) + H_{ext2}*M_{s1}*sin(Phi) - 4*K1*sin(Phi)**2*sin(Theta) + 2*K1*sin(Theta)) + (alpha_1*tau_1 - tau_2)*sin(Lambda)*sin(Omega - Phi)*cos(Theta) + (alpha_1*tau_2 + tau_1)*sin(Lambda)*cos(Omega - Phi))/(M_{s1}*(alpha_1**2 + 1)*sin(Theta))"
      ]
     },
     "execution_count": 402,
     "metadata": {},
     "output_type": "execute_result"
    }
   ],
   "source": [
    "sym.simplify(sym.diff(dPhi, phi))"
   ]
  },
  {
   "cell_type": "code",
   "execution_count": 337,
   "metadata": {},
   "outputs": [
    {
     "data": {
      "text/plain": [
       "{'Ms1': 795774.715459,\n",
       " 'Ms2': 795774.715459,\n",
       " 'K1': 650000.0,\n",
       " 'K2': 880000.0,\n",
       " 'Hext': array([     0.        , 278521.15041065, 278521.15041065]),\n",
       " 'Hdemag1': array([0., 0., 0.]),\n",
       " 'Hdemag2': array([0., 0., 0.]),\n",
       " 'Hdipole1': array([0., 0., 0.]),\n",
       " 'Hdipole2': array([0., 0., 0.])}"
      ]
     },
     "execution_count": 337,
     "metadata": {},
     "output_type": "execute_result"
    }
   ],
   "source": [
    "pm_set"
   ]
  },
  {
   "cell_type": "code",
   "execution_count": 15,
   "metadata": {
    "scrolled": true
   },
   "outputs": [],
   "source": [
    "def generate_bigass_matrix(x, Ms1, Ms2, K1, K2, Hext, Hdemag1, Hdemag2, Hdipole1,\n",
    "                   Hdipole2, alpha1, alpha2, tau1, tau2, Hoe):\n",
    "    theta, phi, lambda_, omega = x \n",
    "    gamma = 2.21e5\n",
    "    sT = np.sin(theta)\n",
    "    cT = np.cos(theta)\n",
    "\n",
    "    sT2 = np.power(sT, 2)\n",
    "    cT2 = np.power(cT, 2)\n",
    "\n",
    "    sP = np.sin(phi)\n",
    "    cP = np.cos(phi)\n",
    "\n",
    "    sP2 = np.power(sP, 2)\n",
    "    cP2 = np.power(cP, 2)\n",
    "\n",
    "    sL = np.sin(lambda_)\n",
    "    cL = np.cos(lambda_)\n",
    "    sL2 = np.power(sL, 2)\n",
    "    cL2 = np.power(cL, 2)\n",
    "\n",
    "    sO = np.sin(omega)\n",
    "    cO = np.cos(omega)\n",
    "    sO2 = np.power(sO, 2)\n",
    "    cO2 = np.power(cO, 2)\n",
    "\n",
    "    TP = np.array([sT * cP, sP * sT, cT])\n",
    "\n",
    "    OL = np.array([sL * cO, sL * sO, cL])\n",
    "\n",
    "    H1 = Hdipole1 + Hdemag1 + Hdipole2\n",
    "    H2 = Hdipole2 + Hdemag2 + Hdipole1\n",
    "\n",
    "    # dTheta\n",
    "    dTdt = K1*(np.sin(2*phi-theta)+np.sin(2*phi+theta)) + \\\n",
    "          2*alpha1*Ms1*(sum(Hdemag1*TP) + sum(Hdipole2*TP) + sum(Hext*TP)) + \\\n",
    "          2*alpha1*Ms1*(-4*K1*cP2*cT2 + 2*K1*cP2) + \\\n",
    "          2*(alpha1*tau2 + tau1)*(sL*sT*np.cos(omega-phi)+cL*cT)\n",
    "    dTdt = -gamma * dTdt / (2 * Ms1 * (alpha1**2 + 1))\n",
    "\n",
    "    x = sum(np.array([cP, sP, 0])*H1*Ms1)\n",
    "    x2 = sum(np.array([sP, cP, 0])*H1*Ms1)\n",
    "    dTdp = x + \\\n",
    "         -2*K1*(2*sP2 - 1)*sT + \\\n",
    "        alpha1*cT*x2 + \\\n",
    "        alpha1*cT*(K1*np.cos(2*phi - theta) - np.cos(2*phi-theta)) + \\\n",
    "        (alpha1*tau1 - tau2)*sL*np.cos(omega-theta) - \\\n",
    "        (alpha1*tau2 + tau1)*sL*np.sin(omega-phi)*cT\n",
    "\n",
    "    dTdp = -gamma * dTdp / (Ms1 * (alpha1**2 + 1))\n",
    "\n",
    "    dTdl = (alpha1*tau1- tau2)*np.sin(omega-phi)*cL + \\\n",
    "          (alpha1*tau2 + tau1)*(sL*sT + cL*cT*np.cos(omega-phi))\n",
    "    dTdl = gamma * dTdl / (Ms1 * (alpha1**2 + 1))\n",
    "\n",
    "    dTdo = (alpha1*tau1 - tau2)*np.cos(omega-phi) - \\\n",
    "          (alpha1*tau2 + tau1)*np.sin(omega-phi)*cT\n",
    "    dTdo = gamma * sL * dTdo / (Ms1 * (alpha1**2 + 1))\n",
    "\n",
    "    # dPhi\n",
    "    x = sum(\n",
    "        np.array([sP * cT * alpha1, cP, -alpha1 * cP * cT + sP]) * Ms1 * H1)\n",
    "    dPdt = x - Hoe*Ms1*alpha1*cT + 2*K1*np.power(sT, 3)*cP2 + \\\n",
    "           alpha1*tau1*sL*np.cos(omega-phi) - \\\n",
    "           alpha1*tau2*sL*np.sin(omega-phi)*cT - \\\n",
    "           tau1*sL*np.sin(omega - phi)*cT - tau2*sL*np.cos(omega-phi)\n",
    "\n",
    "    dPdt = gamma * dPdt / (Ms1 * (alpha1**2 + 1) * sT2)\n",
    "\n",
    "    x = sum(np.array([-sP * cT, cP * cT, 0]) * Ms1 * H1)\n",
    "    x2 = sum(np.array([cP, sP, 0]) * Ms1 * H1)\n",
    "    dPdp = x - 0.5*K1*(np.cos(2*phi-2*theta) - np.cos(2*phi+2*theta)) + \\\n",
    "           alpha1*(x2 - 4*K1*sP2*sT + 2*K1*sT) + \\\n",
    "           (alpha1*tau1- tau2)*sL*np.sin(omega-phi)*cT + (alpha1*tau2 + tau1)*sL*np.cos(omega-theta)\n",
    "\n",
    "    dPdp = -gamma * dPdp / (Ms1 * (alpha1**2 + 1) * sT)\n",
    "\n",
    "    dPdl = (alpha1*tau1 - tau2)*sL*sT + cL*cT*np.cos(omega-phi) - \\\n",
    "           (alpha1*tau2 + tau1)*np.sin(omega-phi)*cL\n",
    "    dPdl = -gamma * dPdl / (Ms1 * (alpha1**2 + 1) * sT)\n",
    "\n",
    "    dPdo = (alpha1*tau1 - tau2)*np.sin(omega-phi)*cT + \\\n",
    "           (alpha1*tau2 + tau1)*np.cos(omega-phi)\n",
    "    dPdo = gamma * dPdo * sL / (Ms1 * (alpha1**2 + 1) * sT)\n",
    "\n",
    "    # dLam\n",
    "    x = sum(np.array([sO, -cO, 0]) * H2 * Ms2)\n",
    "    dLdt = (alpha2*tau2 + tau1)*(sL*sT + cL*cT*np.cos(omega-phi))*sT2 + \\\n",
    "           (x + 0.5*K2*(np.cos(lambda_ - 2*omega) - np.cos(lambda_ + 2*omega)))*sL*cT\n",
    "    dLdt = gamma * dLdt / (Ms2 * (alpha2**2 + 1) * sT2)\n",
    "\n",
    "    dLdp = (alpha2*tau1 + tau2)*sL*np.cos(omega-phi) + \\\n",
    "           (alpha2*tau2 + tau1)*sT*np.sin(omega-phi)*cL\n",
    "\n",
    "    dLdp = gamma * dLdp / (Ms2 * (alpha2**2 + 1))\n",
    "\n",
    "    x = sum(np.array([sO * cL, -cL * cO, 0]) * H2 * Ms2)\n",
    "    x2 = sum(np.array([sL * cO, sL * sO, cL]) * H2 * Ms2 * alpha2)\n",
    "    dLdl = x + x2 + 0.5*K2*(np.cos(2*lambda_ - 2*omega) - np.cos(2*lambda_ + 2*omega)) -  \\\n",
    "           sT*(2*alpha2*K2*(2*cL2 - 1)*cO2 + \\\n",
    "           (alpha2*tau1 + tau2)*np.sin(omega - phi)*cL + \\\n",
    "           (alpha2*tau2 + tau1)*(sL*sT*np.cos(omega-phi) + cL*cT))\n",
    "    dLdl = -gamma * dLdl / (Ms2 * (alpha2**2 + 1) * sT)\n",
    "\n",
    "    x = sum(np.array([sL * cO, sL * sO, 0]) * H2 * Ms2)\n",
    "    x2 = sum(np.array([sO, -cO, 0]) * H2 * Ms2)\n",
    "    dLdo = x - 2*K2*sL2*sO2 + \\\n",
    "          sT*alpha2*cL*(x2 + K2*(np.cos(lambda_ - 2*omega) - np.cos(lambda_ + 2*omega))) + \\\n",
    "          (alpha2*tau1 + tau2)*sL*np.cos(omega-phi)*sT + \\\n",
    "          (alpha2*tau2 + tau1)*sT*np.sin(omega- phi)*cL*sT\n",
    "    dLdo = -gamma * dLdl / (Ms2 * (alpha2**2 + 1) * sT)\n",
    "\n",
    "    # dOmega\n",
    "    x = sum(np.array([cO, sO, 0]) * H2 * Ms2)\n",
    "    x2 = sum(np.array([sO, -cO, 0]) * H2 * Ms2)\n",
    "    dOdo = -alpha2*(x - 4*K2*sL*sO2 + 2*K2*sL)*sT - \\\n",
    "           (-(alpha2*tau1 - tau2)*np.sin(omega-phi)*cL - (alpha2*tau2 - tau1)*np.cos(omega - phi))*sT2 + \\\n",
    "           (x2 + K2*(np.cos(lambda_ - 2*omega) - np.cos(lambda_ + 2*omega)))\n",
    "    dOdo = gamma * sL * cL * dOdo / (Ms2 * (alpha2**2 + 1) * sL * sT)\n",
    "\n",
    "    x = sum(np.array([cL * cO, sO * cL, -sL]) * H2 * Ms2)\n",
    "    dOdt = (alpha2*tau1 - tau2)*(sL*sT + cL*cT*np.cos(omega-phi))*sT2 - \\\n",
    "           (alpha2*tau2 - tau1)*np.sin(omega-phi)*cT*sT2 + \\\n",
    "           2*K2*sL*cL*cL2\n",
    "    dOdt = -gamma * dOdt * sL * cT / (Ms2 * (alpha2**2 + 1) * sL * sT2)\n",
    "\n",
    "\n",
    "    dOdp = (alpha2*tau1 - tau2)*np.sin(omega-phi)*cL + \\\n",
    "           (alpha2*tau2 - tau1)*np.cos(omega-phi)*sT\n",
    "    dOdp = -gamma * dOdp / (Ms2 * (alpha2**2 + 1) * sL)\n",
    "\n",
    "    x = sum(np.array([sO, cO, 0]) * H2 * Ms2)\n",
    "    x2 = sum(np.array([sL * cO, sL * sO, cL]) * H2 * Ms2)\n",
    "    dOdl = 2*sT*cL*alpha2*(x + 0.5*K2*(np.cos(lambda_-2*omega)-np.cos(lambda_+2*omega))) + \\\n",
    "           (alpha2*tau1 - tau2)*(sL*sT*np.cos(omega-phi) + cL*cT)*sL*sT - \\\n",
    "           (alpha2*(x + K2*(np.cos(lambda_-2*omega)-np.cos(lambda_+2*omega))) + \\\n",
    "           (alpha2*tau1 - tau2)*(sL*cT - sT*cL*np.cos(omega-phi)) + \\\n",
    "           (alpha2*tau2 - tau1)*sT*np.sin(omega-phi))*sT*cL + \\\n",
    "           (x2 - 2*K2*(2*cL2 - 1)*cO2)*sL2\n",
    "\n",
    "    dOdl = gamma * (dOdl) / (Ms2 * (alpha2**2 + 1) * sL2 * sT)\n",
    "    \n",
    "    \n",
    "    BAM = np.array([\n",
    "        [dTdt, dTdp, dTdl, dTdo],\n",
    "        [dPdt, dPdp, dPdl, dPdo],\n",
    "        [dLdt, dLdp, dLdl, dLdo],\n",
    "        [dOdt, dOdp, dOdl, dOdo]\n",
    "    ], dtype=np.float64)\n",
    "    \n",
    "#     BAM = BAM.astype(np.float64)\n",
    "    print(BAM)\n",
    "    return np.linalg.eig(BAM)"
   ]
  },
  {
   "cell_type": "code",
   "execution_count": 19,
   "metadata": {},
   "outputs": [
    {
     "name": "stdout",
     "output_type": "stream",
     "text": [
      "[[ 2.02134546e+10 -4.96832026e+04  0.00000000e+00 -0.00000000e+00]\n",
      " [-7.02791161e+41 -9.93665581e+04  1.04024298e+15  0.00000000e+00]\n",
      " [ 0.00000000e+00 -0.00000000e+00  3.43167815e+25  3.56977909e+40]\n",
      " [ 1.83082764e+21  0.00000000e+00 -1.14387441e+26  3.29496199e-11]]\n"
     ]
    }
   ],
   "source": [
    "final_pm = deepcopy(pm_set)\n",
    "final_pm[\"Hoe\"] = 3978.87\n",
    "final_pm[\"tau1\"] = 0.0\n",
    "final_pm[\"tau2\"] = 0.0\n",
    "final_pm[\"alpha1\"] = 0.3\n",
    "final_pm[\"alpha2\"] = 0.3\n",
    "\n",
    "eigenvalues, eivenvectors = generate_bigass_matrix(res.x, **final_pm)"
   ]
  },
  {
   "cell_type": "code",
   "execution_count": 20,
   "metadata": {},
   "outputs": [
    {
     "data": {
      "text/plain": [
       "array([ 1.86860685e+23+0.00000000e+00j, -1.86860685e+23+0.00000000e+00j,\n",
       "        1.71583908e+25+2.02073723e+33j,  1.71583908e+25-2.02073723e+33j])"
      ]
     },
     "execution_count": 20,
     "metadata": {},
     "output_type": "execute_result"
    }
   ],
   "source": [
    "eigenvalues"
   ]
  },
  {
   "cell_type": "code",
   "execution_count": 21,
   "metadata": {},
   "outputs": [
    {
     "data": {
      "text/plain": [
       "array([[ 2.65883659e-19+0.00000000e+00j,  2.65883659e-19+0.00000000e+00j,\n",
       "         1.26568225e-47-5.48137768e-54j,  1.26568225e-47+5.48137768e-54j],\n",
       "       [-1.00000000e+00+0.00000000e+00j,  1.00000000e+00+0.00000000e+00j,\n",
       "         4.37110925e-27-5.14783893e-19j,  4.37110925e-27+5.14783893e-19j],\n",
       "       [ 2.04107924e-42+0.00000000e+00j, -2.04107924e-42+0.00000000e+00j,\n",
       "         1.00000000e+00+0.00000000e+00j,  1.00000000e+00-0.00000000e+00j],\n",
       "       [-3.76158192e-37+0.00000000e+00j,  3.76158192e-37+0.00000000e+00j,\n",
       "        -4.80656935e-16+5.66067865e-08j, -4.80656935e-16-5.66067865e-08j]])"
      ]
     },
     "execution_count": 21,
     "metadata": {},
     "output_type": "execute_result"
    }
   ],
   "source": [
    "eivenvectors"
   ]
  },
  {
   "cell_type": "markdown",
   "metadata": {},
   "source": [
    "# Solver"
   ]
  },
  {
   "cell_type": "code",
   "execution_count": 3,
   "metadata": {},
   "outputs": [
    {
     "data": {
      "text/plain": [
       "(array([24. ,  0. ,  1.2]), array([0.7, 0.5, 0.6]), array([0.2, 0.7, 0.6]))"
      ]
     },
     "execution_count": 3,
     "metadata": {},
     "output_type": "execute_result"
    }
   ],
   "source": [
    "import numpy as np\n",
    "M = np.array([0.2, 0.5, 0.6])\n",
    "Hext = np.array([120, 0, 2])\n",
    "N = np.array([[1, 1, 0], [0, 1, 0], [0, 0, 1]])\n",
    "M*Hext, N@M, M@N"
   ]
  },
  {
   "cell_type": "code",
   "execution_count": 8,
   "metadata": {},
   "outputs": [
    {
     "name": "stdout",
     "output_type": "stream",
     "text": [
      "9 4\n",
      "      fun: -1101659635148.4153\n",
      " hess_inv: <4x4 LbfgsInvHessProduct with dtype=float64>\n",
      "      jac: array([ 5.42861652e-05, -1.88609588e-04,  5.42861652e-05, -8.12195756e-05])\n",
      "  message: b'ABNORMAL_TERMINATION_IN_LNSRCH'\n",
      "     nfev: 42\n",
      "      nit: 1\n",
      "     njev: 42\n",
      "   status: 2\n",
      "  success: False\n",
      "        x: array([6.28318531, 0.        , 6.28318531, 0.        ])\n"
     ]
    }
   ],
   "source": [
    "from scipy.optimize import minimize\n",
    "\n",
    "MAGNETIC_PERMEABILITY = 12.57e-7\n",
    "TtoAm = 795774.715459\n",
    "\n",
    "\n",
    "def to_radian(angle):\n",
    "    return angle * (np.pi / 180)\n",
    "\n",
    "\n",
    "def get_tensor_interaction(M, N):\n",
    "    return N @ M\n",
    "\n",
    "\n",
    "def cartiesian_from_spherical(r, inplane, azimuth):\n",
    "    return np.array([\n",
    "        r * np.sin(azimuth) * np.cos(inplane),\n",
    "        r * np.sin(azimuth) * np.sin(inplane), r * np.cos(azimuth)\n",
    "    ])\n",
    "\n",
    "\n",
    "def energy_cost_fn(x, Ms1, Ms2, K1, K2, Hext, Hdemag1, Hdemag2, Hdipole1,\n",
    "                   Hdipole2):\n",
    "    theta, phi, lambda_, omega = x\n",
    "    sT = np.sin(theta)\n",
    "    cT = np.cos(theta)\n",
    "\n",
    "    sP = np.sin(phi)\n",
    "    cP = np.cos(phi)\n",
    "\n",
    "    sL = np.sin(lambda_)\n",
    "    cL = np.cos(lambda_)\n",
    "\n",
    "    sO = np.sin(omega)\n",
    "    cO = np.cos(omega)\n",
    "\n",
    "    TP = np.array([sT * cP, sP * sT, cT])\n",
    "\n",
    "    OL = np.array([sL * cO, sL * sO, cL])\n",
    "\n",
    "    A1 = K1 * (np.power(cT, 2) + np.power(sT, 2) * np.power(sP, 2))\n",
    "    A2 = K2 * (np.power(cL, 2) + np.power(sL, 2) * np.power(sO, 2))\n",
    "\n",
    "    cost = A1 + A2\n",
    "    for H, M, A in zip([Hdemag1, Hdemag2, Hdipole1, Hdipole2, Hext, Hext],\n",
    "                       [Ms1, Ms2, Ms2, Ms1, Ms1, Ms2],\n",
    "                       [TP, OL, OL, TP, TP, OL]):\n",
    "        cost -= np.sum(H * M * A)\n",
    "\n",
    "    return cost\n",
    "\n",
    "\n",
    "def gradient_vector_U(Ms, K, Hext, Hdemag, Hdipole, inplane_angle,\n",
    "                      azimuth_angle):\n",
    "    \"\"\"\n",
    "    [inplane, azimuth],\n",
    "    [phi, theta],\n",
    "    [omega, lambda]\n",
    "    \"\"\"\n",
    "    K_gradient = np.array([\n",
    "        2 * K * np.sin(azimuth_angle) * np.power(np.sin(inplane_angle), 2) *\n",
    "        np.cos(inplane_angle), 2 * K * np.sin(inplane_angle) *\n",
    "        np.cos(inplane_angle) * (np.power(np.sin(azimuth_angle), 2) - 1)\n",
    "    ])\n",
    "\n",
    "    # virtually the same types of interaction -- dipole & demag\n",
    "    Hdemag_gradient = np.array([\n",
    "        Hdemag[0] * np.sin(inplane_angle) * np.sin(azimuth_angle) -\n",
    "        Hdemag[1] * np.sin(azimuth_angle) * np.cos(inplane_angle),\n",
    "        -Hdemag[0] * np.cos(inplane_angle) * np.cos(azimuth_angle) -\n",
    "        Hdemag[1] * np.sin(inplane_angle) * np.cos(azimuth_angle) +\n",
    "        Hdemag[2] * np.sin(azimuth_angle)\n",
    "    ]) * Ms\n",
    "\n",
    "    Hdip_gradient = np.array([\n",
    "        Hdipole[0] * np.sin(inplane_angle) * np.sin(azimuth_angle) -\n",
    "        Hdipole[1] * np.sin(azimuth_angle) * np.cos(inplane_angle),\n",
    "        -Hdipole[0] * np.cos(inplane_angle) * np.cos(azimuth_angle) -\n",
    "        Hdipole[1] * np.sin(inplane_angle) * np.cos(azimuth_angle) +\n",
    "        Hdipole[2] * np.sin(azimuth_angle)\n",
    "    ]) * Ms\n",
    "\n",
    "    Hext_gradient = np.array([\n",
    "        Hext[0] * np.sin(inplane_angle) * np.sin(azimuth_angle) -\n",
    "        Hext[1] * np.sin(azimuth_angle) * np.cos(inplane_angle),\n",
    "        -Hext[0] * np.cos(inplane_angle) * np.cos(azimuth_angle) -\n",
    "        Hext[1] * np.sin(inplane_angle) * np.cos(azimuth_angle) +\n",
    "        Hext[2] * np.sin(azimuth_angle)\n",
    "    ]) * Ms\n",
    "\n",
    "    return K_gradient + Hdemag_gradient + Hdip_gradient + Hext_gradient\n",
    "\n",
    "\n",
    "def jac(x, Ms1, Ms2, K1, K2, Hext, Hdemag1, Hdemag2, Hdipole1, Hdipole2):\n",
    "    theta, phi, lambda_, omega = x\n",
    "    gradA = gradient_vector_U(Ms1, K1, Hext, Hdemag1, Hdipole2, phi, theta)\n",
    "    gradB = gradient_vector_U(Ms2, K2, Hext, Hdemag2, Hdipole1, omega, lambda_)\n",
    "\n",
    "    return [*gradA, *gradB]\n",
    "\n",
    "\n",
    "Ndemag = np.array([[0, 0., 0.], [0., 0, 0.], [0., 0., 1.]])\n",
    "# Ndipole = np.array([[5.57049776248663e-4, 0., 0.],\n",
    "#                     [0., 0.00125355500286346, 0.],\n",
    "#                     [0., 0.0, -0.00181060482770131]])\n",
    "Ndipole = np.array([[0, 0., 0.], [0., 0, 0.], [0., 0.0, 0]])\n",
    "\n",
    "phi = to_radian(10)  # inplane\n",
    "theta = to_radian(30)\n",
    "\n",
    "omega = to_radian(40)  # inplane\n",
    "lambda_ = to_radian(80)\n",
    "Ms1 = Ms2 = 1 * TtoAm\n",
    "\n",
    "Ms1v = cartiesian_from_spherical(Ms1, phi, theta)\n",
    "Ms2v = cartiesian_from_spherical(Ms2, omega, lambda_)\n",
    "\n",
    "\n",
    "pm_set = {\n",
    "    'Ms1': Ms1,\n",
    "    'Ms2': Ms2,\n",
    "    'K1': 650e3,\n",
    "    'K2': 880e3,\n",
    "    'Hext': np.array([0, 1, 1]) * 0.35 * TtoAm,\n",
    "    'Hdemag1': get_tensor_interaction(Ms1v, Ndemag),  #/ MAGNETIC_PERMEABILITY,\n",
    "    'Hdemag2': get_tensor_interaction(Ms2v, Ndemag),  #/ MAGNETIC_PERMEABILITY\n",
    "    'Hdipole1': get_tensor_interaction(Ms1v,\n",
    "                                       Ndipole),  #/ MAGNETIC_PERMEABILITY,\n",
    "    'Hdipole2': get_tensor_interaction(Ms2v,\n",
    "                                       Ndipole),  #/ MAGNETIC_PERMEABILITY,\n",
    "}\n",
    "\n",
    "start_set = {\n",
    "    'theta': theta,\n",
    "    'phi': phi,\n",
    "    'lambda_': lambda_,\n",
    "    'omega': omega,\n",
    "}\n",
    "x0 = list(start_set.values())\n",
    "bounds = [(0, np.pi * 2) for i in range(len(x0))]\n",
    "arg_set = tuple(pm_set.values())\n",
    "print(len(arg_set), len(x0))\n",
    "res = minimize(energy_cost_fn,\n",
    "               x0,\n",
    "               bounds=bounds,\n",
    "               args=arg_set,\n",
    "               jac=jac,\n",
    "               tol=1e-4)\n",
    "print(res)"
   ]
  },
  {
   "cell_type": "code",
   "execution_count": 7,
   "metadata": {},
   "outputs": [],
   "source": [
    "import numpy as np\n",
    "from copy import deepcopy\n",
    "\n",
    "MAGNETIC_PERMEABILITY = 12.57e-7\n",
    "TtoAm = 795774.715459\n",
    "\"\"\"\n",
    "        Spherical coords\n",
    "        Theta -- azimuth angle, L1\n",
    "        Phi -- inplane angle, L1\n",
    "        Omega -- inplane angle, L2\n",
    "        Lambda -- azimuth angle, L2\n",
    "\"\"\"\n",
    "\n",
    "\n",
    "def energy_cost_fn(theta, phi, lambda_, omega, Ms1, Ms2, K1, K2, Hext, Hdemag1,\n",
    "                   Hdemag2, Hdipole1, Hdipole2):\n",
    "\n",
    "    sT = np.sin(theta)\n",
    "    cT = np.cos(theta)\n",
    "\n",
    "    sP = np.sin(phi)\n",
    "    cP = np.cos(phi)\n",
    "\n",
    "    sL = np.sin(lambda_)\n",
    "    cL = np.cos(lambda_)\n",
    "\n",
    "    sO = np.sin(omega)\n",
    "    cO = np.cos(omega)\n",
    "\n",
    "    TP = np.array([sT * cP, sP * sT, cT])\n",
    "\n",
    "    OL = np.array([sL * cO, sL * sO, cL])\n",
    "\n",
    "    A1 = K1 * (np.power(cT, 2) + np.power(sT, 2) * np.power(sP, 2))\n",
    "    A2 = K2 * (np.power(cL, 2) + np.power(sL, 2) * np.power(sO, 2))\n",
    "\n",
    "    cost = A1 + A2\n",
    "    for H, M, A in zip([Hdemag1, Hdemag2, Hdipole1, Hdipole2, Hext, Hext],\n",
    "                       [Ms1, Ms2, Ms2, Ms1, Ms1, Ms2],\n",
    "                       [TP, OL, OL, TP, TP, OL]):\n",
    "        cost -= np.sum(H * M * A)\n",
    "\n",
    "    return cost\n",
    "\n",
    "\n",
    "def gradient_vector_U(Ms, K, Hext, Hdemag, Hdipole, inplane_angle,\n",
    "                      azimuth_angle):\n",
    "    \"\"\"\n",
    "    [inplane, azimuth],\n",
    "    [phi, theta],\n",
    "    [omega, lambda]\n",
    "    \"\"\"\n",
    "    K_gradient = np.array([\n",
    "        2 * K * np.sin(azimuth_angle) * np.power(np.sin(inplane_angle), 2) *\n",
    "        np.cos(inplane_angle), 2 * K * np.sin(inplane_angle) *\n",
    "        np.cos(inplane_angle) * (np.power(np.sin(azimuth_angle), 2) - 1)\n",
    "    ])\n",
    "\n",
    "    # virtually the same types of interaction -- dipole & demag\n",
    "    Hdemag_gradient = np.array([\n",
    "        Hdemag[0] * np.sin(inplane_angle) * np.sin(azimuth_angle) -\n",
    "        Hdemag[1] * np.sin(azimuth_angle) * np.cos(inplane_angle),\n",
    "        -Hdemag[0] * np.cos(inplane_angle) * np.cos(azimuth_angle) -\n",
    "        Hdemag[1] * np.sin(inplane_angle) * np.cos(azimuth_angle) +\n",
    "        Hdemag[2] * np.sin(azimuth_angle)\n",
    "    ]) * Ms\n",
    "\n",
    "    Hdip_gradient = np.array([\n",
    "        Hdipole[0] * np.sin(inplane_angle) * np.sin(azimuth_angle) -\n",
    "        Hdipole[1] * np.sin(azimuth_angle) * np.cos(inplane_angle),\n",
    "        -Hdipole[0] * np.cos(inplane_angle) * np.cos(azimuth_angle) -\n",
    "        Hdipole[1] * np.sin(inplane_angle) * np.cos(azimuth_angle) +\n",
    "        Hdipole[2] * np.sin(azimuth_angle)\n",
    "    ]) * Ms\n",
    "\n",
    "    Hext_gradient = np.array([\n",
    "        Hext[0] * np.sin(inplane_angle) * np.sin(azimuth_angle) -\n",
    "        Hext[1] * np.sin(azimuth_angle) * np.cos(inplane_angle),\n",
    "        -Hext[0] * np.cos(inplane_angle) * np.cos(azimuth_angle) -\n",
    "        Hext[1] * np.sin(inplane_angle) * np.cos(azimuth_angle) +\n",
    "        Hext[2] * np.sin(azimuth_angle)\n",
    "    ]) * Ms\n",
    "\n",
    "    return K_gradient + Hdemag_gradient + Hdip_gradient + Hext_gradient\n",
    "\n",
    "\n",
    "def gradientDescent(param_set,\n",
    "                    Ndemag,\n",
    "                    Ndipole,\n",
    "                    layer='A',\n",
    "                    num_iterations=100000,\n",
    "                    lr=0.01,\n",
    "                    w=10,\n",
    "                    err=1e-2):\n",
    "    \"\"\"\n",
    "    x = [inplane, azimuth]\n",
    "    \"\"\"\n",
    "    if layer == 'A':\n",
    "        Ms, K, Hext = param_set['Ms1'], param_set[\"K1\"], param_set[\"Hext\"]\n",
    "        Hdipole, Hdemag, = param_set[\"Hdipole2\"], param_set[\"Hdemag1\"]\n",
    "        x = np.array([param_set['phi'], param_set['theta']])\n",
    "    elif layer == \"B\":\n",
    "        Ms, K, Hext = param_set['Ms2'], param_set[\"K2\"], param_set[\"Hext\"]\n",
    "        Hdipole, Hdemag, = param_set[\"Hdipole1\"], param_set[\"Hdemag2\"]\n",
    "        x = np.array([param_set['omega'], param_set['lambda_']])\n",
    "    else:\n",
    "        raise ValueError(\"Unidentified layer\")\n",
    "\n",
    "    param_set_copy = deepcopy(param_set)\n",
    "    last_cost = 0\n",
    "    previous_grad = np.array([0.0, 0.0])\n",
    "    previous_x = np.array([0., 0.])\n",
    "    for i in range(num_iterations):\n",
    "\n",
    "        cerr_normed = np.abs(np.linalg.norm(x - previous_x))\n",
    "        if cerr_normed <= err:\n",
    "            print(f\"Reached the error: {cerr_normed}! Breaking the loop.\")\n",
    "            break\n",
    "\n",
    "        gradA = gradient_vector_U(param_set['Ms1'], param_set[\"K1\"], param_set[\"Hext\"], \n",
    "                                  param_set[\"Hdemag1\"], param_set[\"Hdipole2\"], x[0], x[1])\n",
    "        gradB = gradient_vector_U(param_set['Ms1'], param_set[\"K1\"], param_set[\"Hext\"], \n",
    "                                  param_set[\"Hdemag2\"], param_set[\"Hdipole1\"], x[1], x[2])\n",
    "        \n",
    "        grad = np.concat([gradA, gradB])\n",
    "        grad_diff = grad - previous_grad\n",
    "        grad_diff_norm = np.sum(np.power(grad_diff, 2))\n",
    "        # Wolff conditions\n",
    "        gamma = np.abs((x - previous_x).T * grad_diff) / grad_diff_norm\n",
    "        previous_x = x\n",
    "        previous_grad = grad\n",
    "        x = x - gamma * grad\n",
    "        if i % w == 0:\n",
    "            print(f\"{grad[0]:.2f}, {grad[1]:.2f}\")\n",
    "            if layer == 'A':\n",
    "                param_set_copy['phi'] = x[0]\n",
    "                param_set_copy['theta'] = x[1]\n",
    "\n",
    "                Ms1v = cartiesian_from_spherical(Ms1, x[0], x[1])\n",
    "                param_set_copy['Hdemag1'] = get_tensor_interaction(\n",
    "                    Ms1v, Ndemag) #/ MAGNETIC_PERMEABILITY\n",
    "                param_set_copy['Hdipole1'] = get_tensor_interaction(\n",
    "                    Ms1v, Ndipole) # / MAGNETIC_PERMEABILITY\n",
    "            else:\n",
    "                param_set_copy['omega'] = x[0]\n",
    "                param_set_copy['lambda_'] = x[1]\n",
    "\n",
    "                Ms2v = cartiesian_from_spherical(Ms2, x[0], x[1])\n",
    "                param_set_copy['Hdemag2'] = get_tensor_interaction(\n",
    "                    Ms2v, Ndemag) / MAGNETIC_PERMEABILITY\n",
    "                param_set_copy['Hdipole2'] = get_tensor_interaction(\n",
    "                    Ms2v, Ndipole) / MAGNETIC_PERMEABILITY\n",
    "\n",
    "            cost = energy_cost_fn(**param_set_copy)\n",
    "            gamma_mag = np.linalg.norm(gamma)\n",
    "            print(\n",
    "                f\"[{i}] Cost: {cost:.2f} -- diff {last_cost-cost:.2f}; err: {cerr_normed:.4f}; {gamma_mag:.4f}\"\n",
    "            )\n",
    "            last_cost = cost\n",
    "    return x"
   ]
  },
  {
   "cell_type": "code",
   "execution_count": 221,
   "metadata": {
    "scrolled": true
   },
   "outputs": [
    {
     "name": "stdout",
     "output_type": "stream",
     "text": [
      "0.17453292519943295 0.5235987755982988 0.6981317007977318 1.3962634015954636\n",
      "19302.13, -166734.82\n",
      "[0] Cost: 559782.17 -- diff -559782.17; err: 0.5519; 0.0000\n",
      "Reached the error: 9.904665934242075e-06! Breaking the loop.\n",
      "0.00 89.34\n"
     ]
    }
   ],
   "source": [
    "Ndemag = np.array([[0, 0., 0.], [0., 0, 0.],\n",
    "                   [0., 0., 0.]])\n",
    "# Ndipole = np.array([[5.57049776248663e-4, 0., 0.],\n",
    "#                     [0., 0.00125355500286346, 0.],\n",
    "#                     [0., 0.0, -0.00181060482770131]])\n",
    "Ndipole = np.array([[0, 0., 0.],\n",
    "                    [0., 0, 0.],\n",
    "                    [0., 0.0, 0]])\n",
    "\n",
    "\n",
    "\n",
    "\n",
    "phi = to_radian(10)  # inplane\n",
    "theta = to_radian(30)\n",
    "\n",
    "omega = to_radian(40)  # inplane\n",
    "lambda_ = to_radian(80)\n",
    "\n",
    "Ms1 = Ms2 = 1* TtoAm\n",
    "Ms1v = cartiesian_from_spherical(Ms1, phi, theta)\n",
    "Ms2v = cartiesian_from_spherical(Ms2, omega, lambda_)\n",
    "\n",
    "param_set = {\n",
    "    'theta': theta,\n",
    "    'omega': omega,\n",
    "    'phi': phi,\n",
    "    'lambda_': lambda_,\n",
    "    'Hext': np.array([0, 1, 1]) * 0.0 * TtoAm,\n",
    "    'K1': 650e3,\n",
    "    'K2': 880e3,\n",
    "    'Ms1': Ms1,\n",
    "    'Ms2': Ms2,\n",
    "    'Hdipole1': get_tensor_interaction(Ms1v, Ndipole), #/ MAGNETIC_PERMEABILITY,\n",
    "    'Hdipole2': get_tensor_interaction(Ms2v, Ndipole), #/ MAGNETIC_PERMEABILITY,\n",
    "    'Hdemag1': get_tensor_interaction(Ms1v, Ndemag), #/ MAGNETIC_PERMEABILITY,\n",
    "    'Hdemag2': get_tensor_interaction(Ms2v, Ndemag), #/ MAGNETIC_PERMEABILITY\n",
    "}\n",
    "print(phi, theta, omega, lambda_)\n",
    "xstar = gradientDescent(param_set,\n",
    "                Ndemag,\n",
    "                Ndipole,\n",
    "                layer='A',\n",
    "                num_iterations=1000,\n",
    "                lr=1e-4,\n",
    "                err=1e-5,\n",
    "                w=100)\n",
    "xstar = xstar*180/np.pi\n",
    "\n",
    "print(f\"{xstar[0]:.2f} {xstar[1]:.2f}\")"
   ]
  }
 ],
 "metadata": {
  "kernelspec": {
   "display_name": "phys",
   "language": "python",
   "name": "phys"
  },
  "language_info": {
   "codemirror_mode": {
    "name": "ipython",
    "version": 3
   },
   "file_extension": ".py",
   "mimetype": "text/x-python",
   "name": "python",
   "nbconvert_exporter": "python",
   "pygments_lexer": "ipython3",
   "version": "3.9.0"
  },
  "toc": {
   "base_numbering": 1,
   "nav_menu": {},
   "number_sections": true,
   "sideBar": true,
   "skip_h1_title": false,
   "title_cell": "Table of Contents",
   "title_sidebar": "Contents",
   "toc_cell": false,
   "toc_position": {},
   "toc_section_display": true,
   "toc_window_display": false
  }
 },
 "nbformat": 4,
 "nbformat_minor": 4
}
