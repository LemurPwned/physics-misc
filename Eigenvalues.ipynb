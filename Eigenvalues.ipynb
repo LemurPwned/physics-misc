{
 "cells": [
  {
   "cell_type": "code",
   "execution_count": 3,
   "metadata": {},
   "outputs": [],
   "source": [
    "import sympy as sym\n",
    "import sympy.printing as printing"
   ]
  },
  {
   "cell_type": "code",
   "execution_count": 32,
   "metadata": {},
   "outputs": [],
   "source": [
    "theta, phi, lamb, omega = sym.symbols('Theta Phi Lambda Omega')\n",
    "alpha, gamma = sym.symbols(\"alpha gamma\")\n",
    "torque_par, torque_per = sym.symbols(\"tau_1 tau_2\")\n",
    "Ms, Hoe = sym.symbols(\"M_s H_{oe}\")\n",
    "energy = sym.Function(\"U\")(theta, phi, lamb, omega)"
   ]
  },
  {
   "cell_type": "code",
   "execution_count": 38,
   "metadata": {},
   "outputs": [],
   "source": [
    "dUdP = sym.diff(energy, phi)\n",
    "dUdT = sym.diff(energy, theta)\n",
    "dUdO = sym.diff(energy, omega)\n",
    "dUdL = sym.diff(energy, lamb)\n",
    "\n",
    "sinT = sym.sin(theta)\n",
    "cosT = sym.cos(theta)\n",
    "\n",
    "cosL = sym.cos(lamb)\n",
    "sinL = sym.sin(lamb)\n",
    "\n",
    "cosPO = sym.cos(phi - omega)\n",
    "sinPO = sym.sin(phi - omega)\n",
    "const = (gamma/Ms)*(1/(1+alpha**2))"
   ]
  },
  {
   "cell_type": "code",
   "execution_count": 34,
   "metadata": {},
   "outputs": [],
   "source": [
    "dTheta = const * ((-1 / sinT)*dUdP - alpha*dUdT -\n",
    "                  (cosL * sinT - cosT * sinL * cosPO) *\n",
    "                  (torque_par + alpha * torque_per) - (sinL * sinPO) *\n",
    "                  (alpha * torque_par - torque_per))"
   ]
  },
  {
   "cell_type": "code",
   "execution_count": 35,
   "metadata": {},
   "outputs": [
    {
     "data": {
      "text/latex": [
       "$\\displaystyle \\frac{\\gamma \\left(- \\alpha \\frac{\\partial}{\\partial \\Theta} U{\\left(\\Theta,\\Phi,\\Lambda,\\Omega \\right)} + \\left(\\alpha \\tau_{1} - \\tau_{2}\\right) \\sin{\\left(\\Lambda \\right)} \\sin{\\left(\\Omega - \\Phi \\right)} - \\left(\\alpha \\tau_{2} + \\tau_{1}\\right) \\left(- \\sin{\\left(\\Lambda \\right)} \\cos{\\left(\\Theta \\right)} \\cos{\\left(\\Omega - \\Phi \\right)} + \\sin{\\left(\\Theta \\right)} \\cos{\\left(\\Lambda \\right)}\\right) + \\frac{\\frac{\\partial}{\\partial \\Phi} U{\\left(\\Theta,\\Phi,\\Lambda,\\Omega \\right)}}{\\sin{\\left(\\Theta \\right)}}\\right)}{M_{s} \\left(\\alpha^{2} + 1\\right)}$"
      ],
      "text/plain": [
       "gamma*(-alpha*Derivative(U(Theta, Phi, Lambda, Omega), Theta) + (alpha*tau_1 - tau_2)*sin(Lambda)*sin(Omega - Phi) - (alpha*tau_2 + tau_1)*(-sin(Lambda)*cos(Theta)*cos(Omega - Phi) + sin(Theta)*cos(Lambda)) + Derivative(U(Theta, Phi, Lambda, Omega), Phi)/sin(Theta))/(M_s*(alpha**2 + 1))"
      ]
     },
     "execution_count": 35,
     "metadata": {},
     "output_type": "execute_result"
    }
   ],
   "source": [
    "dTheta"
   ]
  },
  {
   "cell_type": "code",
   "execution_count": 36,
   "metadata": {},
   "outputs": [
    {
     "data": {
      "text/latex": [
       "$\\displaystyle \\frac{\\gamma \\left(- \\alpha \\frac{\\partial^{2}}{\\partial \\Theta\\partial \\Omega} U{\\left(\\Theta,\\Phi,\\Lambda,\\Omega \\right)} + \\left(\\alpha \\tau_{1} - \\tau_{2}\\right) \\sin{\\left(\\Lambda \\right)} \\cos{\\left(\\Omega - \\Phi \\right)} + \\left(- \\alpha \\tau_{2} - \\tau_{1}\\right) \\sin{\\left(\\Lambda \\right)} \\sin{\\left(\\Omega - \\Phi \\right)} \\cos{\\left(\\Theta \\right)} + \\frac{\\frac{\\partial^{2}}{\\partial \\Phi\\partial \\Omega} U{\\left(\\Theta,\\Phi,\\Lambda,\\Omega \\right)}}{\\sin{\\left(\\Theta \\right)}}\\right)}{M_{s} \\left(\\alpha^{2} + 1\\right)}$"
      ],
      "text/plain": [
       "gamma*(-alpha*Derivative(U(Theta, Phi, Lambda, Omega), Omega, Theta) + (alpha*tau_1 - tau_2)*sin(Lambda)*cos(Omega - Phi) + (-alpha*tau_2 - tau_1)*sin(Lambda)*sin(Omega - Phi)*cos(Theta) + Derivative(U(Theta, Phi, Lambda, Omega), Omega, Phi)/sin(Theta))/(M_s*(alpha**2 + 1))"
      ]
     },
     "execution_count": 36,
     "metadata": {},
     "output_type": "execute_result"
    }
   ],
   "source": [
    "sym.diff(dTheta, omega)"
   ]
  },
  {
   "cell_type": "code",
   "execution_count": 37,
   "metadata": {},
   "outputs": [
    {
     "data": {
      "text/latex": [
       "$\\displaystyle \\frac{\\gamma \\left(\\frac{H_{oe} M_{s} \\alpha}{\\sin{\\left(\\Theta \\right)}} - \\frac{\\alpha \\frac{\\partial}{\\partial \\Phi} U{\\left(\\Theta,\\Phi,\\Lambda,\\Omega \\right)}}{\\sin^{2}{\\left(\\Theta \\right)}} + \\frac{\\left(\\alpha \\tau_{1} - \\tau_{2}\\right) \\left(- \\sin{\\left(\\Lambda \\right)} \\cos{\\left(\\Theta \\right)} \\cos{\\left(\\Omega - \\Phi \\right)} + \\sin{\\left(\\Theta \\right)} \\cos{\\left(\\Lambda \\right)}\\right)}{\\sin{\\left(\\Theta \\right)}} + \\frac{\\left(\\alpha \\tau_{2} + \\tau_{1}\\right) \\sin{\\left(\\Lambda \\right)} \\sin{\\left(\\Omega - \\Phi \\right)}}{\\sin{\\left(\\Theta \\right)}} + \\frac{\\frac{\\partial}{\\partial \\Theta} U{\\left(\\Theta,\\Phi,\\Lambda,\\Omega \\right)}}{\\sin{\\left(\\Theta \\right)}}\\right)}{M_{s} \\left(\\alpha^{2} + 1\\right)}$"
      ],
      "text/plain": [
       "gamma*(H_{oe}*M_s*alpha/sin(Theta) - alpha*Derivative(U(Theta, Phi, Lambda, Omega), Phi)/sin(Theta)**2 + (alpha*tau_1 - tau_2)*(-sin(Lambda)*cos(Theta)*cos(Omega - Phi) + sin(Theta)*cos(Lambda))/sin(Theta) + (alpha*tau_2 + tau_1)*sin(Lambda)*sin(Omega - Phi)/sin(Theta) + Derivative(U(Theta, Phi, Lambda, Omega), Theta)/sin(Theta))/(M_s*(alpha**2 + 1))"
      ]
     },
     "execution_count": 37,
     "metadata": {},
     "output_type": "execute_result"
    }
   ],
   "source": [
    "dPhi = const * ((1 / sinT) * dUdT - (alpha / (sinT**2)) * dUdP + (1 / sinT) *\n",
    "                (cosL * sinT - cosT * sinL * cosPO) *\n",
    "                (alpha * torque_par - torque_per) \n",
    "                - (1/sinT)*(sinL*sinPO)*(torque_par + alpha*torque_per) + alpha*Ms*Hoe/sinT)\n",
    "dPhi"
   ]
  },
  {
   "cell_type": "code",
   "execution_count": 39,
   "metadata": {},
   "outputs": [
    {
     "data": {
      "text/latex": [
       "$\\displaystyle \\frac{\\gamma \\left(H_{oe} M_{s} - \\alpha \\frac{\\partial}{\\partial \\Lambda} U{\\left(\\Theta,\\Phi,\\Lambda,\\Omega \\right)} - \\left(\\alpha \\tau_{1} + \\tau_{2}\\right) \\sin{\\left(\\Lambda \\right)} \\sin{\\left(\\Omega - \\Phi \\right)} + \\left(\\alpha \\tau_{2} + \\tau_{1}\\right) \\left(- \\sin{\\left(\\Lambda \\right)} \\cos{\\left(\\Theta \\right)} + \\sin{\\left(\\Theta \\right)} \\cos{\\left(\\Lambda \\right)} \\cos{\\left(\\Omega - \\Phi \\right)}\\right) - \\frac{\\frac{\\partial}{\\partial \\Omega} U{\\left(\\Theta,\\Phi,\\Lambda,\\Omega \\right)}}{\\sin{\\left(\\Theta \\right)}}\\right)}{M_{s} \\left(\\alpha^{2} + 1\\right)}$"
      ],
      "text/plain": [
       "gamma*(H_{oe}*M_s - alpha*Derivative(U(Theta, Phi, Lambda, Omega), Lambda) - (alpha*tau_1 + tau_2)*sin(Lambda)*sin(Omega - Phi) + (alpha*tau_2 + tau_1)*(-sin(Lambda)*cos(Theta) + sin(Theta)*cos(Lambda)*cos(Omega - Phi)) - Derivative(U(Theta, Phi, Lambda, Omega), Omega)/sin(Theta))/(M_s*(alpha**2 + 1))"
      ]
     },
     "execution_count": 39,
     "metadata": {},
     "output_type": "execute_result"
    }
   ],
   "source": [
    "dLam = const * ((-1 / sinT)*dUdO - alpha*dUdL +\n",
    "                  (-sinL * cosT + sinT * cosL * cosPO) *\n",
    "                  (torque_par + alpha * torque_per) + (sinL * sinPO) *\n",
    "                  (alpha * torque_par + torque_per) + Ms*Hoe) \n",
    "dLam"
   ]
  },
  {
   "cell_type": "code",
   "execution_count": 42,
   "metadata": {},
   "outputs": [
    {
     "data": {
      "text/latex": [
       "$\\displaystyle \\frac{\\gamma \\left(\\frac{H_{oe} M_{s} \\alpha}{\\sin{\\left(\\Lambda \\right)}} - \\frac{\\alpha \\frac{\\partial}{\\partial \\Omega} U{\\left(\\Theta,\\Phi,\\Lambda,\\Omega \\right)}}{\\sin^{2}{\\left(\\Lambda \\right)}} - \\frac{\\left(- \\alpha \\tau_{1} + \\tau_{2}\\right) \\left(\\sin{\\left(\\Lambda \\right)} \\cos{\\left(\\Theta \\right)} - \\sin{\\left(\\Theta \\right)} \\cos{\\left(\\Lambda \\right)} \\cos{\\left(\\Omega - \\Phi \\right)}\\right)}{\\sin{\\left(\\Lambda \\right)}} - \\frac{\\left(- \\alpha \\tau_{2} + \\tau_{1}\\right) \\sin{\\left(\\Theta \\right)} \\sin{\\left(\\Omega - \\Phi \\right)}}{\\sin{\\left(\\Lambda \\right)}} + \\frac{\\frac{\\partial}{\\partial \\Lambda} U{\\left(\\Theta,\\Phi,\\Lambda,\\Omega \\right)}}{\\sin{\\left(\\Theta \\right)}}\\right)}{M_{s} \\left(\\alpha^{2} + 1\\right)}$"
      ],
      "text/plain": [
       "gamma*(H_{oe}*M_s*alpha/sin(Lambda) - alpha*Derivative(U(Theta, Phi, Lambda, Omega), Omega)/sin(Lambda)**2 - (-alpha*tau_1 + tau_2)*(sin(Lambda)*cos(Theta) - sin(Theta)*cos(Lambda)*cos(Omega - Phi))/sin(Lambda) - (-alpha*tau_2 + tau_1)*sin(Theta)*sin(Omega - Phi)/sin(Lambda) + Derivative(U(Theta, Phi, Lambda, Omega), Lambda)/sin(Theta))/(M_s*(alpha**2 + 1))"
      ]
     },
     "execution_count": 42,
     "metadata": {},
     "output_type": "execute_result"
    }
   ],
   "source": [
    "dOmega = const * ((1 / sinT) * dUdL - (alpha / (sinL**2)) * dUdO - (1 / sinL) *\n",
    "                (sinL * cosT - sinT *cosL * cosPO) *\n",
    "                (torque_per - alpha * torque_par) \n",
    "                + (1/sinL)*(sinT*sinPO)*(torque_par - alpha*torque_per) + alpha*Ms*Hoe/sinL)\n",
    "dOmega"
   ]
  },
  {
   "cell_type": "code",
   "execution_count": 44,
   "metadata": {},
   "outputs": [],
   "source": [
    "dM = sym.Matrix([\n",
    "    [\n",
    "        sym.diff(dTheta, theta),\n",
    "        sym.diff(dTheta, phi),\n",
    "        sym.diff(dTheta, lamb),\n",
    "        sym.diff(dTheta, omega)\n",
    "    ],\n",
    "    [\n",
    "        sym.diff(dPhi, theta),\n",
    "        sym.diff(dPhi, phi),\n",
    "        sym.diff(dPhi, lamb),\n",
    "        sym.diff(dPhi, omega)\n",
    "    ],\n",
    "    [\n",
    "        sym.diff(dLam, theta),\n",
    "        sym.diff(dLam, phi),\n",
    "        sym.diff(dLam, lamb),\n",
    "        sym.diff(dLam, omega)\n",
    "    ],\n",
    "    [\n",
    "        sym.diff(dOmega, theta),\n",
    "        sym.diff(dOmega, phi),\n",
    "        sym.diff(dOmega, lamb),\n",
    "        sym.diff(dOmega, omega)\n",
    "    ]]\n",
    ")"
   ]
  },
  {
   "cell_type": "code",
   "execution_count": 45,
   "metadata": {},
   "outputs": [
    {
     "data": {
      "text/latex": [
       "$\\displaystyle \\left[\\begin{matrix}\\frac{\\gamma \\left(- \\alpha \\frac{\\partial^{2}}{\\partial \\Theta^{2}} U{\\left(\\Theta,\\Phi,\\Lambda,\\Omega \\right)} + \\left(- \\alpha \\tau_{2} - \\tau_{1}\\right) \\left(\\sin{\\left(\\Lambda \\right)} \\sin{\\left(\\Theta \\right)} \\cos{\\left(\\Omega - \\Phi \\right)} + \\cos{\\left(\\Lambda \\right)} \\cos{\\left(\\Theta \\right)}\\right) + \\frac{\\frac{\\partial^{2}}{\\partial \\Theta\\partial \\Phi} U{\\left(\\Theta,\\Phi,\\Lambda,\\Omega \\right)}}{\\sin{\\left(\\Theta \\right)}} - \\frac{\\cos{\\left(\\Theta \\right)} \\frac{\\partial}{\\partial \\Phi} U{\\left(\\Theta,\\Phi,\\Lambda,\\Omega \\right)}}{\\sin^{2}{\\left(\\Theta \\right)}}\\right)}{M_{s} \\left(\\alpha^{2} + 1\\right)} & \\frac{\\gamma \\left(- \\alpha \\frac{\\partial^{2}}{\\partial \\Theta\\partial \\Phi} U{\\left(\\Theta,\\Phi,\\Lambda,\\Omega \\right)} - \\left(\\alpha \\tau_{1} - \\tau_{2}\\right) \\sin{\\left(\\Lambda \\right)} \\cos{\\left(\\Omega - \\Phi \\right)} - \\left(- \\alpha \\tau_{2} - \\tau_{1}\\right) \\sin{\\left(\\Lambda \\right)} \\sin{\\left(\\Omega - \\Phi \\right)} \\cos{\\left(\\Theta \\right)} + \\frac{\\frac{\\partial^{2}}{\\partial \\Phi^{2}} U{\\left(\\Theta,\\Phi,\\Lambda,\\Omega \\right)}}{\\sin{\\left(\\Theta \\right)}}\\right)}{M_{s} \\left(\\alpha^{2} + 1\\right)} & \\frac{\\gamma \\left(- \\alpha \\frac{\\partial^{2}}{\\partial \\Theta\\partial \\Lambda} U{\\left(\\Theta,\\Phi,\\Lambda,\\Omega \\right)} + \\left(\\alpha \\tau_{1} - \\tau_{2}\\right) \\sin{\\left(\\Omega - \\Phi \\right)} \\cos{\\left(\\Lambda \\right)} + \\left(- \\alpha \\tau_{2} - \\tau_{1}\\right) \\left(- \\sin{\\left(\\Lambda \\right)} \\sin{\\left(\\Theta \\right)} - \\cos{\\left(\\Lambda \\right)} \\cos{\\left(\\Theta \\right)} \\cos{\\left(\\Omega - \\Phi \\right)}\\right) + \\frac{\\frac{\\partial^{2}}{\\partial \\Phi\\partial \\Lambda} U{\\left(\\Theta,\\Phi,\\Lambda,\\Omega \\right)}}{\\sin{\\left(\\Theta \\right)}}\\right)}{M_{s} \\left(\\alpha^{2} + 1\\right)} & \\frac{\\gamma \\left(- \\alpha \\frac{\\partial^{2}}{\\partial \\Theta\\partial \\Omega} U{\\left(\\Theta,\\Phi,\\Lambda,\\Omega \\right)} + \\left(\\alpha \\tau_{1} - \\tau_{2}\\right) \\sin{\\left(\\Lambda \\right)} \\cos{\\left(\\Omega - \\Phi \\right)} + \\left(- \\alpha \\tau_{2} - \\tau_{1}\\right) \\sin{\\left(\\Lambda \\right)} \\sin{\\left(\\Omega - \\Phi \\right)} \\cos{\\left(\\Theta \\right)} + \\frac{\\frac{\\partial^{2}}{\\partial \\Phi\\partial \\Omega} U{\\left(\\Theta,\\Phi,\\Lambda,\\Omega \\right)}}{\\sin{\\left(\\Theta \\right)}}\\right)}{M_{s} \\left(\\alpha^{2} + 1\\right)}\\\\\\frac{\\gamma \\left(- \\frac{H_{oe} M_{s} \\alpha \\cos{\\left(\\Theta \\right)}}{\\sin^{2}{\\left(\\Theta \\right)}} - \\frac{\\alpha \\frac{\\partial^{2}}{\\partial \\Theta\\partial \\Phi} U{\\left(\\Theta,\\Phi,\\Lambda,\\Omega \\right)}}{\\sin^{2}{\\left(\\Theta \\right)}} + \\frac{2 \\alpha \\cos{\\left(\\Theta \\right)} \\frac{\\partial}{\\partial \\Phi} U{\\left(\\Theta,\\Phi,\\Lambda,\\Omega \\right)}}{\\sin^{3}{\\left(\\Theta \\right)}} + \\frac{\\left(\\alpha \\tau_{1} - \\tau_{2}\\right) \\left(\\sin{\\left(\\Lambda \\right)} \\sin{\\left(\\Theta \\right)} \\cos{\\left(\\Omega - \\Phi \\right)} + \\cos{\\left(\\Lambda \\right)} \\cos{\\left(\\Theta \\right)}\\right)}{\\sin{\\left(\\Theta \\right)}} - \\frac{\\left(\\alpha \\tau_{1} - \\tau_{2}\\right) \\left(- \\sin{\\left(\\Lambda \\right)} \\cos{\\left(\\Theta \\right)} \\cos{\\left(\\Omega - \\Phi \\right)} + \\sin{\\left(\\Theta \\right)} \\cos{\\left(\\Lambda \\right)}\\right) \\cos{\\left(\\Theta \\right)}}{\\sin^{2}{\\left(\\Theta \\right)}} - \\frac{\\left(\\alpha \\tau_{2} + \\tau_{1}\\right) \\sin{\\left(\\Lambda \\right)} \\sin{\\left(\\Omega - \\Phi \\right)} \\cos{\\left(\\Theta \\right)}}{\\sin^{2}{\\left(\\Theta \\right)}} + \\frac{\\frac{\\partial^{2}}{\\partial \\Theta^{2}} U{\\left(\\Theta,\\Phi,\\Lambda,\\Omega \\right)}}{\\sin{\\left(\\Theta \\right)}} - \\frac{\\cos{\\left(\\Theta \\right)} \\frac{\\partial}{\\partial \\Theta} U{\\left(\\Theta,\\Phi,\\Lambda,\\Omega \\right)}}{\\sin^{2}{\\left(\\Theta \\right)}}\\right)}{M_{s} \\left(\\alpha^{2} + 1\\right)} & \\frac{\\gamma \\left(- \\frac{\\alpha \\frac{\\partial^{2}}{\\partial \\Phi^{2}} U{\\left(\\Theta,\\Phi,\\Lambda,\\Omega \\right)}}{\\sin^{2}{\\left(\\Theta \\right)}} - \\frac{\\left(\\alpha \\tau_{1} - \\tau_{2}\\right) \\sin{\\left(\\Lambda \\right)} \\sin{\\left(\\Omega - \\Phi \\right)} \\cos{\\left(\\Theta \\right)}}{\\sin{\\left(\\Theta \\right)}} - \\frac{\\left(\\alpha \\tau_{2} + \\tau_{1}\\right) \\sin{\\left(\\Lambda \\right)} \\cos{\\left(\\Omega - \\Phi \\right)}}{\\sin{\\left(\\Theta \\right)}} + \\frac{\\frac{\\partial^{2}}{\\partial \\Theta\\partial \\Phi} U{\\left(\\Theta,\\Phi,\\Lambda,\\Omega \\right)}}{\\sin{\\left(\\Theta \\right)}}\\right)}{M_{s} \\left(\\alpha^{2} + 1\\right)} & \\frac{\\gamma \\left(- \\frac{\\alpha \\frac{\\partial^{2}}{\\partial \\Phi\\partial \\Lambda} U{\\left(\\Theta,\\Phi,\\Lambda,\\Omega \\right)}}{\\sin^{2}{\\left(\\Theta \\right)}} + \\frac{\\left(\\alpha \\tau_{1} - \\tau_{2}\\right) \\left(- \\sin{\\left(\\Lambda \\right)} \\sin{\\left(\\Theta \\right)} - \\cos{\\left(\\Lambda \\right)} \\cos{\\left(\\Theta \\right)} \\cos{\\left(\\Omega - \\Phi \\right)}\\right)}{\\sin{\\left(\\Theta \\right)}} + \\frac{\\left(\\alpha \\tau_{2} + \\tau_{1}\\right) \\sin{\\left(\\Omega - \\Phi \\right)} \\cos{\\left(\\Lambda \\right)}}{\\sin{\\left(\\Theta \\right)}} + \\frac{\\frac{\\partial^{2}}{\\partial \\Theta\\partial \\Lambda} U{\\left(\\Theta,\\Phi,\\Lambda,\\Omega \\right)}}{\\sin{\\left(\\Theta \\right)}}\\right)}{M_{s} \\left(\\alpha^{2} + 1\\right)} & \\frac{\\gamma \\left(- \\frac{\\alpha \\frac{\\partial^{2}}{\\partial \\Phi\\partial \\Omega} U{\\left(\\Theta,\\Phi,\\Lambda,\\Omega \\right)}}{\\sin^{2}{\\left(\\Theta \\right)}} + \\frac{\\left(\\alpha \\tau_{1} - \\tau_{2}\\right) \\sin{\\left(\\Lambda \\right)} \\sin{\\left(\\Omega - \\Phi \\right)} \\cos{\\left(\\Theta \\right)}}{\\sin{\\left(\\Theta \\right)}} + \\frac{\\left(\\alpha \\tau_{2} + \\tau_{1}\\right) \\sin{\\left(\\Lambda \\right)} \\cos{\\left(\\Omega - \\Phi \\right)}}{\\sin{\\left(\\Theta \\right)}} + \\frac{\\frac{\\partial^{2}}{\\partial \\Theta\\partial \\Omega} U{\\left(\\Theta,\\Phi,\\Lambda,\\Omega \\right)}}{\\sin{\\left(\\Theta \\right)}}\\right)}{M_{s} \\left(\\alpha^{2} + 1\\right)}\\\\\\frac{\\gamma \\left(- \\alpha \\frac{\\partial^{2}}{\\partial \\Theta\\partial \\Lambda} U{\\left(\\Theta,\\Phi,\\Lambda,\\Omega \\right)} + \\left(\\alpha \\tau_{2} + \\tau_{1}\\right) \\left(\\sin{\\left(\\Lambda \\right)} \\sin{\\left(\\Theta \\right)} + \\cos{\\left(\\Lambda \\right)} \\cos{\\left(\\Theta \\right)} \\cos{\\left(\\Omega - \\Phi \\right)}\\right) - \\frac{\\frac{\\partial^{2}}{\\partial \\Theta\\partial \\Omega} U{\\left(\\Theta,\\Phi,\\Lambda,\\Omega \\right)}}{\\sin{\\left(\\Theta \\right)}} + \\frac{\\cos{\\left(\\Theta \\right)} \\frac{\\partial}{\\partial \\Omega} U{\\left(\\Theta,\\Phi,\\Lambda,\\Omega \\right)}}{\\sin^{2}{\\left(\\Theta \\right)}}\\right)}{M_{s} \\left(\\alpha^{2} + 1\\right)} & \\frac{\\gamma \\left(- \\alpha \\frac{\\partial^{2}}{\\partial \\Phi\\partial \\Lambda} U{\\left(\\Theta,\\Phi,\\Lambda,\\Omega \\right)} - \\left(- \\alpha \\tau_{1} - \\tau_{2}\\right) \\sin{\\left(\\Lambda \\right)} \\cos{\\left(\\Omega - \\Phi \\right)} + \\left(\\alpha \\tau_{2} + \\tau_{1}\\right) \\sin{\\left(\\Theta \\right)} \\sin{\\left(\\Omega - \\Phi \\right)} \\cos{\\left(\\Lambda \\right)} - \\frac{\\frac{\\partial^{2}}{\\partial \\Phi\\partial \\Omega} U{\\left(\\Theta,\\Phi,\\Lambda,\\Omega \\right)}}{\\sin{\\left(\\Theta \\right)}}\\right)}{M_{s} \\left(\\alpha^{2} + 1\\right)} & \\frac{\\gamma \\left(- \\alpha \\frac{\\partial^{2}}{\\partial \\Lambda^{2}} U{\\left(\\Theta,\\Phi,\\Lambda,\\Omega \\right)} + \\left(- \\alpha \\tau_{1} - \\tau_{2}\\right) \\sin{\\left(\\Omega - \\Phi \\right)} \\cos{\\left(\\Lambda \\right)} + \\left(\\alpha \\tau_{2} + \\tau_{1}\\right) \\left(- \\sin{\\left(\\Lambda \\right)} \\sin{\\left(\\Theta \\right)} \\cos{\\left(\\Omega - \\Phi \\right)} - \\cos{\\left(\\Lambda \\right)} \\cos{\\left(\\Theta \\right)}\\right) - \\frac{\\frac{\\partial^{2}}{\\partial \\Omega\\partial \\Lambda} U{\\left(\\Theta,\\Phi,\\Lambda,\\Omega \\right)}}{\\sin{\\left(\\Theta \\right)}}\\right)}{M_{s} \\left(\\alpha^{2} + 1\\right)} & \\frac{\\gamma \\left(- \\alpha \\frac{\\partial^{2}}{\\partial \\Omega\\partial \\Lambda} U{\\left(\\Theta,\\Phi,\\Lambda,\\Omega \\right)} + \\left(- \\alpha \\tau_{1} - \\tau_{2}\\right) \\sin{\\left(\\Lambda \\right)} \\cos{\\left(\\Omega - \\Phi \\right)} - \\left(\\alpha \\tau_{2} + \\tau_{1}\\right) \\sin{\\left(\\Theta \\right)} \\sin{\\left(\\Omega - \\Phi \\right)} \\cos{\\left(\\Lambda \\right)} - \\frac{\\frac{\\partial^{2}}{\\partial \\Omega^{2}} U{\\left(\\Theta,\\Phi,\\Lambda,\\Omega \\right)}}{\\sin{\\left(\\Theta \\right)}}\\right)}{M_{s} \\left(\\alpha^{2} + 1\\right)}\\\\\\frac{\\gamma \\left(- \\frac{\\alpha \\frac{\\partial^{2}}{\\partial \\Theta\\partial \\Omega} U{\\left(\\Theta,\\Phi,\\Lambda,\\Omega \\right)}}{\\sin^{2}{\\left(\\Lambda \\right)}} - \\frac{\\left(- \\alpha \\tau_{1} + \\tau_{2}\\right) \\left(- \\sin{\\left(\\Lambda \\right)} \\sin{\\left(\\Theta \\right)} - \\cos{\\left(\\Lambda \\right)} \\cos{\\left(\\Theta \\right)} \\cos{\\left(\\Omega - \\Phi \\right)}\\right)}{\\sin{\\left(\\Lambda \\right)}} - \\frac{\\left(- \\alpha \\tau_{2} + \\tau_{1}\\right) \\sin{\\left(\\Omega - \\Phi \\right)} \\cos{\\left(\\Theta \\right)}}{\\sin{\\left(\\Lambda \\right)}} + \\frac{\\frac{\\partial^{2}}{\\partial \\Theta\\partial \\Lambda} U{\\left(\\Theta,\\Phi,\\Lambda,\\Omega \\right)}}{\\sin{\\left(\\Theta \\right)}} - \\frac{\\cos{\\left(\\Theta \\right)} \\frac{\\partial}{\\partial \\Lambda} U{\\left(\\Theta,\\Phi,\\Lambda,\\Omega \\right)}}{\\sin^{2}{\\left(\\Theta \\right)}}\\right)}{M_{s} \\left(\\alpha^{2} + 1\\right)} & \\frac{\\gamma \\left(- \\frac{\\alpha \\frac{\\partial^{2}}{\\partial \\Phi\\partial \\Omega} U{\\left(\\Theta,\\Phi,\\Lambda,\\Omega \\right)}}{\\sin^{2}{\\left(\\Lambda \\right)}} + \\frac{\\left(- \\alpha \\tau_{1} + \\tau_{2}\\right) \\sin{\\left(\\Theta \\right)} \\sin{\\left(\\Omega - \\Phi \\right)} \\cos{\\left(\\Lambda \\right)}}{\\sin{\\left(\\Lambda \\right)}} + \\frac{\\left(- \\alpha \\tau_{2} + \\tau_{1}\\right) \\sin{\\left(\\Theta \\right)} \\cos{\\left(\\Omega - \\Phi \\right)}}{\\sin{\\left(\\Lambda \\right)}} + \\frac{\\frac{\\partial^{2}}{\\partial \\Phi\\partial \\Lambda} U{\\left(\\Theta,\\Phi,\\Lambda,\\Omega \\right)}}{\\sin{\\left(\\Theta \\right)}}\\right)}{M_{s} \\left(\\alpha^{2} + 1\\right)} & \\frac{\\gamma \\left(- \\frac{H_{oe} M_{s} \\alpha \\cos{\\left(\\Lambda \\right)}}{\\sin^{2}{\\left(\\Lambda \\right)}} - \\frac{\\alpha \\frac{\\partial^{2}}{\\partial \\Omega\\partial \\Lambda} U{\\left(\\Theta,\\Phi,\\Lambda,\\Omega \\right)}}{\\sin^{2}{\\left(\\Lambda \\right)}} + \\frac{2 \\alpha \\cos{\\left(\\Lambda \\right)} \\frac{\\partial}{\\partial \\Omega} U{\\left(\\Theta,\\Phi,\\Lambda,\\Omega \\right)}}{\\sin^{3}{\\left(\\Lambda \\right)}} + \\frac{\\left(- \\alpha \\tau_{1} + \\tau_{2}\\right) \\left(\\sin{\\left(\\Lambda \\right)} \\cos{\\left(\\Theta \\right)} - \\sin{\\left(\\Theta \\right)} \\cos{\\left(\\Lambda \\right)} \\cos{\\left(\\Omega - \\Phi \\right)}\\right) \\cos{\\left(\\Lambda \\right)}}{\\sin^{2}{\\left(\\Lambda \\right)}} - \\frac{\\left(- \\alpha \\tau_{1} + \\tau_{2}\\right) \\left(\\sin{\\left(\\Lambda \\right)} \\sin{\\left(\\Theta \\right)} \\cos{\\left(\\Omega - \\Phi \\right)} + \\cos{\\left(\\Lambda \\right)} \\cos{\\left(\\Theta \\right)}\\right)}{\\sin{\\left(\\Lambda \\right)}} + \\frac{\\left(- \\alpha \\tau_{2} + \\tau_{1}\\right) \\sin{\\left(\\Theta \\right)} \\sin{\\left(\\Omega - \\Phi \\right)} \\cos{\\left(\\Lambda \\right)}}{\\sin^{2}{\\left(\\Lambda \\right)}} + \\frac{\\frac{\\partial^{2}}{\\partial \\Lambda^{2}} U{\\left(\\Theta,\\Phi,\\Lambda,\\Omega \\right)}}{\\sin{\\left(\\Theta \\right)}}\\right)}{M_{s} \\left(\\alpha^{2} + 1\\right)} & \\frac{\\gamma \\left(- \\frac{\\alpha \\frac{\\partial^{2}}{\\partial \\Omega^{2}} U{\\left(\\Theta,\\Phi,\\Lambda,\\Omega \\right)}}{\\sin^{2}{\\left(\\Lambda \\right)}} - \\frac{\\left(- \\alpha \\tau_{1} + \\tau_{2}\\right) \\sin{\\left(\\Theta \\right)} \\sin{\\left(\\Omega - \\Phi \\right)} \\cos{\\left(\\Lambda \\right)}}{\\sin{\\left(\\Lambda \\right)}} - \\frac{\\left(- \\alpha \\tau_{2} + \\tau_{1}\\right) \\sin{\\left(\\Theta \\right)} \\cos{\\left(\\Omega - \\Phi \\right)}}{\\sin{\\left(\\Lambda \\right)}} + \\frac{\\frac{\\partial^{2}}{\\partial \\Omega\\partial \\Lambda} U{\\left(\\Theta,\\Phi,\\Lambda,\\Omega \\right)}}{\\sin{\\left(\\Theta \\right)}}\\right)}{M_{s} \\left(\\alpha^{2} + 1\\right)}\\end{matrix}\\right]$"
      ],
      "text/plain": [
       "Matrix([\n",
       "[                                                                                                                                                                                                                                                                                                                                                          gamma*(-alpha*Derivative(U(Theta, Phi, Lambda, Omega), (Theta, 2)) + (-alpha*tau_2 - tau_1)*(sin(Lambda)*sin(Theta)*cos(Omega - Phi) + cos(Lambda)*cos(Theta)) + Derivative(U(Theta, Phi, Lambda, Omega), Phi, Theta)/sin(Theta) - cos(Theta)*Derivative(U(Theta, Phi, Lambda, Omega), Phi)/sin(Theta)**2)/(M_s*(alpha**2 + 1)),                                           gamma*(-alpha*Derivative(U(Theta, Phi, Lambda, Omega), Phi, Theta) - (alpha*tau_1 - tau_2)*sin(Lambda)*cos(Omega - Phi) - (-alpha*tau_2 - tau_1)*sin(Lambda)*sin(Omega - Phi)*cos(Theta) + Derivative(U(Theta, Phi, Lambda, Omega), (Phi, 2))/sin(Theta))/(M_s*(alpha**2 + 1)),                                                                                                                                                                                                                                                                                                                gamma*(-alpha*Derivative(U(Theta, Phi, Lambda, Omega), Lambda, Theta) + (alpha*tau_1 - tau_2)*sin(Omega - Phi)*cos(Lambda) + (-alpha*tau_2 - tau_1)*(-sin(Lambda)*sin(Theta) - cos(Lambda)*cos(Theta)*cos(Omega - Phi)) + Derivative(U(Theta, Phi, Lambda, Omega), Lambda, Phi)/sin(Theta))/(M_s*(alpha**2 + 1)),                                         gamma*(-alpha*Derivative(U(Theta, Phi, Lambda, Omega), Omega, Theta) + (alpha*tau_1 - tau_2)*sin(Lambda)*cos(Omega - Phi) + (-alpha*tau_2 - tau_1)*sin(Lambda)*sin(Omega - Phi)*cos(Theta) + Derivative(U(Theta, Phi, Lambda, Omega), Omega, Phi)/sin(Theta))/(M_s*(alpha**2 + 1))],\n",
       "[gamma*(-H_{oe}*M_s*alpha*cos(Theta)/sin(Theta)**2 - alpha*Derivative(U(Theta, Phi, Lambda, Omega), Phi, Theta)/sin(Theta)**2 + 2*alpha*cos(Theta)*Derivative(U(Theta, Phi, Lambda, Omega), Phi)/sin(Theta)**3 + (alpha*tau_1 - tau_2)*(sin(Lambda)*sin(Theta)*cos(Omega - Phi) + cos(Lambda)*cos(Theta))/sin(Theta) - (alpha*tau_1 - tau_2)*(-sin(Lambda)*cos(Theta)*cos(Omega - Phi) + sin(Theta)*cos(Lambda))*cos(Theta)/sin(Theta)**2 - (alpha*tau_2 + tau_1)*sin(Lambda)*sin(Omega - Phi)*cos(Theta)/sin(Theta)**2 + Derivative(U(Theta, Phi, Lambda, Omega), (Theta, 2))/sin(Theta) - cos(Theta)*Derivative(U(Theta, Phi, Lambda, Omega), Theta)/sin(Theta)**2)/(M_s*(alpha**2 + 1)),        gamma*(-alpha*Derivative(U(Theta, Phi, Lambda, Omega), (Phi, 2))/sin(Theta)**2 - (alpha*tau_1 - tau_2)*sin(Lambda)*sin(Omega - Phi)*cos(Theta)/sin(Theta) - (alpha*tau_2 + tau_1)*sin(Lambda)*cos(Omega - Phi)/sin(Theta) + Derivative(U(Theta, Phi, Lambda, Omega), Phi, Theta)/sin(Theta))/(M_s*(alpha**2 + 1)),                                                                                                                                                                                                                                                                             gamma*(-alpha*Derivative(U(Theta, Phi, Lambda, Omega), Lambda, Phi)/sin(Theta)**2 + (alpha*tau_1 - tau_2)*(-sin(Lambda)*sin(Theta) - cos(Lambda)*cos(Theta)*cos(Omega - Phi))/sin(Theta) + (alpha*tau_2 + tau_1)*sin(Omega - Phi)*cos(Lambda)/sin(Theta) + Derivative(U(Theta, Phi, Lambda, Omega), Lambda, Theta)/sin(Theta))/(M_s*(alpha**2 + 1)),      gamma*(-alpha*Derivative(U(Theta, Phi, Lambda, Omega), Omega, Phi)/sin(Theta)**2 + (alpha*tau_1 - tau_2)*sin(Lambda)*sin(Omega - Phi)*cos(Theta)/sin(Theta) + (alpha*tau_2 + tau_1)*sin(Lambda)*cos(Omega - Phi)/sin(Theta) + Derivative(U(Theta, Phi, Lambda, Omega), Omega, Theta)/sin(Theta))/(M_s*(alpha**2 + 1))],\n",
       "[                                                                                                                                                                                                                                                                                                                                                    gamma*(-alpha*Derivative(U(Theta, Phi, Lambda, Omega), Lambda, Theta) + (alpha*tau_2 + tau_1)*(sin(Lambda)*sin(Theta) + cos(Lambda)*cos(Theta)*cos(Omega - Phi)) - Derivative(U(Theta, Phi, Lambda, Omega), Omega, Theta)/sin(Theta) + cos(Theta)*Derivative(U(Theta, Phi, Lambda, Omega), Omega)/sin(Theta)**2)/(M_s*(alpha**2 + 1)),                                        gamma*(-alpha*Derivative(U(Theta, Phi, Lambda, Omega), Lambda, Phi) - (-alpha*tau_1 - tau_2)*sin(Lambda)*cos(Omega - Phi) + (alpha*tau_2 + tau_1)*sin(Theta)*sin(Omega - Phi)*cos(Lambda) - Derivative(U(Theta, Phi, Lambda, Omega), Omega, Phi)/sin(Theta))/(M_s*(alpha**2 + 1)),                                                                                                                                                                                                                                                                                                                gamma*(-alpha*Derivative(U(Theta, Phi, Lambda, Omega), (Lambda, 2)) + (-alpha*tau_1 - tau_2)*sin(Omega - Phi)*cos(Lambda) + (alpha*tau_2 + tau_1)*(-sin(Lambda)*sin(Theta)*cos(Omega - Phi) - cos(Lambda)*cos(Theta)) - Derivative(U(Theta, Phi, Lambda, Omega), Lambda, Omega)/sin(Theta))/(M_s*(alpha**2 + 1)),                                        gamma*(-alpha*Derivative(U(Theta, Phi, Lambda, Omega), Lambda, Omega) + (-alpha*tau_1 - tau_2)*sin(Lambda)*cos(Omega - Phi) - (alpha*tau_2 + tau_1)*sin(Theta)*sin(Omega - Phi)*cos(Lambda) - Derivative(U(Theta, Phi, Lambda, Omega), (Omega, 2))/sin(Theta))/(M_s*(alpha**2 + 1))],\n",
       "[                                                                                                                                                                                                                                                     gamma*(-alpha*Derivative(U(Theta, Phi, Lambda, Omega), Omega, Theta)/sin(Lambda)**2 - (-alpha*tau_1 + tau_2)*(-sin(Lambda)*sin(Theta) - cos(Lambda)*cos(Theta)*cos(Omega - Phi))/sin(Lambda) - (-alpha*tau_2 + tau_1)*sin(Omega - Phi)*cos(Theta)/sin(Lambda) + Derivative(U(Theta, Phi, Lambda, Omega), Lambda, Theta)/sin(Theta) - cos(Theta)*Derivative(U(Theta, Phi, Lambda, Omega), Lambda)/sin(Theta)**2)/(M_s*(alpha**2 + 1)), gamma*(-alpha*Derivative(U(Theta, Phi, Lambda, Omega), Omega, Phi)/sin(Lambda)**2 + (-alpha*tau_1 + tau_2)*sin(Theta)*sin(Omega - Phi)*cos(Lambda)/sin(Lambda) + (-alpha*tau_2 + tau_1)*sin(Theta)*cos(Omega - Phi)/sin(Lambda) + Derivative(U(Theta, Phi, Lambda, Omega), Lambda, Phi)/sin(Theta))/(M_s*(alpha**2 + 1)), gamma*(-H_{oe}*M_s*alpha*cos(Lambda)/sin(Lambda)**2 - alpha*Derivative(U(Theta, Phi, Lambda, Omega), Lambda, Omega)/sin(Lambda)**2 + 2*alpha*cos(Lambda)*Derivative(U(Theta, Phi, Lambda, Omega), Omega)/sin(Lambda)**3 + (-alpha*tau_1 + tau_2)*(sin(Lambda)*cos(Theta) - sin(Theta)*cos(Lambda)*cos(Omega - Phi))*cos(Lambda)/sin(Lambda)**2 - (-alpha*tau_1 + tau_2)*(sin(Lambda)*sin(Theta)*cos(Omega - Phi) + cos(Lambda)*cos(Theta))/sin(Lambda) + (-alpha*tau_2 + tau_1)*sin(Theta)*sin(Omega - Phi)*cos(Lambda)/sin(Lambda)**2 + Derivative(U(Theta, Phi, Lambda, Omega), (Lambda, 2))/sin(Theta))/(M_s*(alpha**2 + 1)), gamma*(-alpha*Derivative(U(Theta, Phi, Lambda, Omega), (Omega, 2))/sin(Lambda)**2 - (-alpha*tau_1 + tau_2)*sin(Theta)*sin(Omega - Phi)*cos(Lambda)/sin(Lambda) - (-alpha*tau_2 + tau_1)*sin(Theta)*cos(Omega - Phi)/sin(Lambda) + Derivative(U(Theta, Phi, Lambda, Omega), Lambda, Omega)/sin(Theta))/(M_s*(alpha**2 + 1))]])"
      ]
     },
     "execution_count": 45,
     "metadata": {},
     "output_type": "execute_result"
    }
   ],
   "source": [
    "dM"
   ]
  },
  {
   "cell_type": "code",
   "execution_count": 46,
   "metadata": {},
   "outputs": [
    {
     "ename": "KeyboardInterrupt",
     "evalue": "",
     "output_type": "error",
     "traceback": [
      "\u001b[0;31m---------------------------------------------------------------------------\u001b[0m",
      "\u001b[0;31mKeyboardInterrupt\u001b[0m                         Traceback (most recent call last)",
      "\u001b[0;32m<ipython-input-46-e120afd68678>\u001b[0m in \u001b[0;36m<module>\u001b[0;34m\u001b[0m\n\u001b[0;32m----> 1\u001b[0;31m \u001b[0mdM\u001b[0m\u001b[0;34m.\u001b[0m\u001b[0meigenvals\u001b[0m\u001b[0;34m(\u001b[0m\u001b[0;34m)\u001b[0m\u001b[0;34m\u001b[0m\u001b[0;34m\u001b[0m\u001b[0m\n\u001b[0m",
      "\u001b[0;32m/usr/local/lib/python3.9/site-packages/sympy/matrices/matrices.py\u001b[0m in \u001b[0;36meigenvals\u001b[0;34m(self, error_when_incomplete, **flags)\u001b[0m\n\u001b[1;32m    366\u001b[0m \u001b[0;34m\u001b[0m\u001b[0m\n\u001b[1;32m    367\u001b[0m     \u001b[0;32mdef\u001b[0m \u001b[0meigenvals\u001b[0m\u001b[0;34m(\u001b[0m\u001b[0mself\u001b[0m\u001b[0;34m,\u001b[0m \u001b[0merror_when_incomplete\u001b[0m\u001b[0;34m=\u001b[0m\u001b[0;32mTrue\u001b[0m\u001b[0;34m,\u001b[0m \u001b[0;34m**\u001b[0m\u001b[0mflags\u001b[0m\u001b[0;34m)\u001b[0m\u001b[0;34m:\u001b[0m\u001b[0;34m\u001b[0m\u001b[0;34m\u001b[0m\u001b[0m\n\u001b[0;32m--> 368\u001b[0;31m         \u001b[0;32mreturn\u001b[0m \u001b[0m_eigenvals\u001b[0m\u001b[0;34m(\u001b[0m\u001b[0mself\u001b[0m\u001b[0;34m,\u001b[0m \u001b[0merror_when_incomplete\u001b[0m\u001b[0;34m=\u001b[0m\u001b[0merror_when_incomplete\u001b[0m\u001b[0;34m,\u001b[0m \u001b[0;34m**\u001b[0m\u001b[0mflags\u001b[0m\u001b[0;34m)\u001b[0m\u001b[0;34m\u001b[0m\u001b[0;34m\u001b[0m\u001b[0m\n\u001b[0m\u001b[1;32m    369\u001b[0m \u001b[0;34m\u001b[0m\u001b[0m\n\u001b[1;32m    370\u001b[0m     \u001b[0;32mdef\u001b[0m \u001b[0meigenvects\u001b[0m\u001b[0;34m(\u001b[0m\u001b[0mself\u001b[0m\u001b[0;34m,\u001b[0m \u001b[0merror_when_incomplete\u001b[0m\u001b[0;34m=\u001b[0m\u001b[0;32mTrue\u001b[0m\u001b[0;34m,\u001b[0m \u001b[0miszerofunc\u001b[0m\u001b[0;34m=\u001b[0m\u001b[0m_iszero\u001b[0m\u001b[0;34m,\u001b[0m \u001b[0;34m**\u001b[0m\u001b[0mflags\u001b[0m\u001b[0;34m)\u001b[0m\u001b[0;34m:\u001b[0m\u001b[0;34m\u001b[0m\u001b[0;34m\u001b[0m\u001b[0m\n",
      "\u001b[0;32m/usr/local/lib/python3.9/site-packages/sympy/matrices/eigen.py\u001b[0m in \u001b[0;36m_eigenvals\u001b[0;34m(M, error_when_incomplete, simplify, multiple, rational, **flags)\u001b[0m\n\u001b[1;32m    173\u001b[0m             \u001b[0mM\u001b[0m\u001b[0;34m,\u001b[0m \u001b[0merror_when_incomplete\u001b[0m\u001b[0;34m=\u001b[0m\u001b[0merror_when_incomplete\u001b[0m\u001b[0;34m,\u001b[0m \u001b[0msimplify\u001b[0m\u001b[0;34m=\u001b[0m\u001b[0msimplify\u001b[0m\u001b[0;34m,\u001b[0m\u001b[0;34m\u001b[0m\u001b[0;34m\u001b[0m\u001b[0m\n\u001b[1;32m    174\u001b[0m             **flags)\n\u001b[0;32m--> 175\u001b[0;31m     return _eigenvals_dict(\n\u001b[0m\u001b[1;32m    176\u001b[0m         \u001b[0mM\u001b[0m\u001b[0;34m,\u001b[0m \u001b[0merror_when_incomplete\u001b[0m\u001b[0;34m=\u001b[0m\u001b[0merror_when_incomplete\u001b[0m\u001b[0;34m,\u001b[0m \u001b[0msimplify\u001b[0m\u001b[0;34m=\u001b[0m\u001b[0msimplify\u001b[0m\u001b[0;34m,\u001b[0m\u001b[0;34m\u001b[0m\u001b[0;34m\u001b[0m\u001b[0m\n\u001b[1;32m    177\u001b[0m         **flags)\n",
      "\u001b[0;32m/usr/local/lib/python3.9/site-packages/sympy/matrices/eigen.py\u001b[0m in \u001b[0;36m_eigenvals_dict\u001b[0;34m(M, error_when_incomplete, simplify, **flags)\u001b[0m\n\u001b[1;32m    217\u001b[0m             \u001b[0mcharpoly\u001b[0m \u001b[0;34m=\u001b[0m \u001b[0mblock\u001b[0m\u001b[0;34m.\u001b[0m\u001b[0mcharpoly\u001b[0m\u001b[0;34m(\u001b[0m\u001b[0msimplify\u001b[0m\u001b[0;34m=\u001b[0m\u001b[0msimplify\u001b[0m\u001b[0;34m)\u001b[0m\u001b[0;34m\u001b[0m\u001b[0;34m\u001b[0m\u001b[0m\n\u001b[1;32m    218\u001b[0m         \u001b[0;32melse\u001b[0m\u001b[0;34m:\u001b[0m\u001b[0;34m\u001b[0m\u001b[0;34m\u001b[0m\u001b[0m\n\u001b[0;32m--> 219\u001b[0;31m             \u001b[0mcharpoly\u001b[0m \u001b[0;34m=\u001b[0m \u001b[0mblock\u001b[0m\u001b[0;34m.\u001b[0m\u001b[0mcharpoly\u001b[0m\u001b[0;34m(\u001b[0m\u001b[0;34m)\u001b[0m\u001b[0;34m\u001b[0m\u001b[0;34m\u001b[0m\u001b[0m\n\u001b[0m\u001b[1;32m    220\u001b[0m         \u001b[0meigs\u001b[0m \u001b[0;34m=\u001b[0m \u001b[0mroots\u001b[0m\u001b[0;34m(\u001b[0m\u001b[0mcharpoly\u001b[0m\u001b[0;34m,\u001b[0m \u001b[0mmultiple\u001b[0m\u001b[0;34m=\u001b[0m\u001b[0;32mFalse\u001b[0m\u001b[0;34m,\u001b[0m \u001b[0;34m**\u001b[0m\u001b[0mflags\u001b[0m\u001b[0;34m)\u001b[0m\u001b[0;34m\u001b[0m\u001b[0;34m\u001b[0m\u001b[0m\n\u001b[1;32m    221\u001b[0m \u001b[0;34m\u001b[0m\u001b[0m\n",
      "\u001b[0;32m/usr/local/lib/python3.9/site-packages/sympy/matrices/matrices.py\u001b[0m in \u001b[0;36mcharpoly\u001b[0;34m(self, x, simplify)\u001b[0m\n\u001b[1;32m    113\u001b[0m \u001b[0;34m\u001b[0m\u001b[0m\n\u001b[1;32m    114\u001b[0m     \u001b[0;32mdef\u001b[0m \u001b[0mcharpoly\u001b[0m\u001b[0;34m(\u001b[0m\u001b[0mself\u001b[0m\u001b[0;34m,\u001b[0m \u001b[0mx\u001b[0m\u001b[0;34m=\u001b[0m\u001b[0;34m'lambda'\u001b[0m\u001b[0;34m,\u001b[0m \u001b[0msimplify\u001b[0m\u001b[0;34m=\u001b[0m\u001b[0m_simplify\u001b[0m\u001b[0;34m)\u001b[0m\u001b[0;34m:\u001b[0m\u001b[0;34m\u001b[0m\u001b[0;34m\u001b[0m\u001b[0m\n\u001b[0;32m--> 115\u001b[0;31m         \u001b[0;32mreturn\u001b[0m \u001b[0m_charpoly\u001b[0m\u001b[0;34m(\u001b[0m\u001b[0mself\u001b[0m\u001b[0;34m,\u001b[0m \u001b[0mx\u001b[0m\u001b[0;34m=\u001b[0m\u001b[0mx\u001b[0m\u001b[0;34m,\u001b[0m \u001b[0msimplify\u001b[0m\u001b[0;34m=\u001b[0m\u001b[0msimplify\u001b[0m\u001b[0;34m)\u001b[0m\u001b[0;34m\u001b[0m\u001b[0;34m\u001b[0m\u001b[0m\n\u001b[0m\u001b[1;32m    116\u001b[0m \u001b[0;34m\u001b[0m\u001b[0m\n\u001b[1;32m    117\u001b[0m     \u001b[0;32mdef\u001b[0m \u001b[0mcofactor\u001b[0m\u001b[0;34m(\u001b[0m\u001b[0mself\u001b[0m\u001b[0;34m,\u001b[0m \u001b[0mi\u001b[0m\u001b[0;34m,\u001b[0m \u001b[0mj\u001b[0m\u001b[0;34m,\u001b[0m \u001b[0mmethod\u001b[0m\u001b[0;34m=\u001b[0m\u001b[0;34m\"berkowitz\"\u001b[0m\u001b[0;34m)\u001b[0m\u001b[0;34m:\u001b[0m\u001b[0;34m\u001b[0m\u001b[0;34m\u001b[0m\u001b[0m\n",
      "\u001b[0;32m/usr/local/lib/python3.9/site-packages/sympy/matrices/determinant.py\u001b[0m in \u001b[0;36m_charpoly\u001b[0;34m(M, x, simplify)\u001b[0m\n\u001b[1;32m    411\u001b[0m     \u001b[0mx\u001b[0m \u001b[0;34m=\u001b[0m \u001b[0muniquely_named_symbol\u001b[0m\u001b[0;34m(\u001b[0m\u001b[0mx\u001b[0m\u001b[0;34m,\u001b[0m \u001b[0mberk_vector\u001b[0m\u001b[0;34m,\u001b[0m \u001b[0mmodify\u001b[0m\u001b[0;34m=\u001b[0m\u001b[0;32mlambda\u001b[0m \u001b[0ms\u001b[0m\u001b[0;34m:\u001b[0m \u001b[0;34m'_'\u001b[0m \u001b[0;34m+\u001b[0m \u001b[0ms\u001b[0m\u001b[0;34m)\u001b[0m\u001b[0;34m\u001b[0m\u001b[0;34m\u001b[0m\u001b[0m\n\u001b[1;32m    412\u001b[0m \u001b[0;34m\u001b[0m\u001b[0m\n\u001b[0;32m--> 413\u001b[0;31m     \u001b[0;32mreturn\u001b[0m \u001b[0mPurePoly\u001b[0m\u001b[0;34m(\u001b[0m\u001b[0;34m[\u001b[0m\u001b[0msimplify\u001b[0m\u001b[0;34m(\u001b[0m\u001b[0ma\u001b[0m\u001b[0;34m)\u001b[0m \u001b[0;32mfor\u001b[0m \u001b[0ma\u001b[0m \u001b[0;32min\u001b[0m \u001b[0mberk_vector\u001b[0m\u001b[0;34m]\u001b[0m\u001b[0;34m,\u001b[0m \u001b[0mx\u001b[0m\u001b[0;34m)\u001b[0m\u001b[0;34m\u001b[0m\u001b[0;34m\u001b[0m\u001b[0m\n\u001b[0m\u001b[1;32m    414\u001b[0m \u001b[0;34m\u001b[0m\u001b[0m\n\u001b[1;32m    415\u001b[0m \u001b[0;34m\u001b[0m\u001b[0m\n",
      "\u001b[0;32m/usr/local/lib/python3.9/site-packages/sympy/matrices/determinant.py\u001b[0m in \u001b[0;36m<listcomp>\u001b[0;34m(.0)\u001b[0m\n\u001b[1;32m    411\u001b[0m     \u001b[0mx\u001b[0m \u001b[0;34m=\u001b[0m \u001b[0muniquely_named_symbol\u001b[0m\u001b[0;34m(\u001b[0m\u001b[0mx\u001b[0m\u001b[0;34m,\u001b[0m \u001b[0mberk_vector\u001b[0m\u001b[0;34m,\u001b[0m \u001b[0mmodify\u001b[0m\u001b[0;34m=\u001b[0m\u001b[0;32mlambda\u001b[0m \u001b[0ms\u001b[0m\u001b[0;34m:\u001b[0m \u001b[0;34m'_'\u001b[0m \u001b[0;34m+\u001b[0m \u001b[0ms\u001b[0m\u001b[0;34m)\u001b[0m\u001b[0;34m\u001b[0m\u001b[0;34m\u001b[0m\u001b[0m\n\u001b[1;32m    412\u001b[0m \u001b[0;34m\u001b[0m\u001b[0m\n\u001b[0;32m--> 413\u001b[0;31m     \u001b[0;32mreturn\u001b[0m \u001b[0mPurePoly\u001b[0m\u001b[0;34m(\u001b[0m\u001b[0;34m[\u001b[0m\u001b[0msimplify\u001b[0m\u001b[0;34m(\u001b[0m\u001b[0ma\u001b[0m\u001b[0;34m)\u001b[0m \u001b[0;32mfor\u001b[0m \u001b[0ma\u001b[0m \u001b[0;32min\u001b[0m \u001b[0mberk_vector\u001b[0m\u001b[0;34m]\u001b[0m\u001b[0;34m,\u001b[0m \u001b[0mx\u001b[0m\u001b[0;34m)\u001b[0m\u001b[0;34m\u001b[0m\u001b[0;34m\u001b[0m\u001b[0m\n\u001b[0m\u001b[1;32m    414\u001b[0m \u001b[0;34m\u001b[0m\u001b[0m\n\u001b[1;32m    415\u001b[0m \u001b[0;34m\u001b[0m\u001b[0m\n",
      "\u001b[0;32m/usr/local/lib/python3.9/site-packages/sympy/simplify/simplify.py\u001b[0m in \u001b[0;36msimplify\u001b[0;34m(expr, ratio, measure, rational, inverse, doit, **kwargs)\u001b[0m\n\u001b[1;32m    663\u001b[0m \u001b[0;34m\u001b[0m\u001b[0m\n\u001b[1;32m    664\u001b[0m     \u001b[0;32mif\u001b[0m \u001b[0mexpr\u001b[0m\u001b[0;34m.\u001b[0m\u001b[0mhas\u001b[0m\u001b[0;34m(\u001b[0m\u001b[0mTrigonometricFunction\u001b[0m\u001b[0;34m,\u001b[0m \u001b[0mHyperbolicFunction\u001b[0m\u001b[0;34m)\u001b[0m\u001b[0;34m:\u001b[0m\u001b[0;34m\u001b[0m\u001b[0;34m\u001b[0m\u001b[0m\n\u001b[0;32m--> 665\u001b[0;31m         \u001b[0mexpr\u001b[0m \u001b[0;34m=\u001b[0m \u001b[0mtrigsimp\u001b[0m\u001b[0;34m(\u001b[0m\u001b[0mexpr\u001b[0m\u001b[0;34m,\u001b[0m \u001b[0mdeep\u001b[0m\u001b[0;34m=\u001b[0m\u001b[0;32mTrue\u001b[0m\u001b[0;34m)\u001b[0m\u001b[0;34m\u001b[0m\u001b[0;34m\u001b[0m\u001b[0m\n\u001b[0m\u001b[1;32m    666\u001b[0m \u001b[0;34m\u001b[0m\u001b[0m\n\u001b[1;32m    667\u001b[0m     \u001b[0;32mif\u001b[0m \u001b[0mexpr\u001b[0m\u001b[0;34m.\u001b[0m\u001b[0mhas\u001b[0m\u001b[0;34m(\u001b[0m\u001b[0mlog\u001b[0m\u001b[0;34m)\u001b[0m\u001b[0;34m:\u001b[0m\u001b[0;34m\u001b[0m\u001b[0;34m\u001b[0m\u001b[0m\n",
      "\u001b[0;32m/usr/local/lib/python3.9/site-packages/sympy/simplify/trigsimp.py\u001b[0m in \u001b[0;36mtrigsimp\u001b[0;34m(expr, **opts)\u001b[0m\n\u001b[1;32m    506\u001b[0m                    }[method]\n\u001b[1;32m    507\u001b[0m \u001b[0;34m\u001b[0m\u001b[0m\n\u001b[0;32m--> 508\u001b[0;31m     \u001b[0;32mreturn\u001b[0m \u001b[0mtrigsimpfunc\u001b[0m\u001b[0;34m(\u001b[0m\u001b[0mexpr\u001b[0m\u001b[0;34m)\u001b[0m\u001b[0;34m\u001b[0m\u001b[0;34m\u001b[0m\u001b[0m\n\u001b[0m\u001b[1;32m    509\u001b[0m \u001b[0;34m\u001b[0m\u001b[0m\n\u001b[1;32m    510\u001b[0m \u001b[0;34m\u001b[0m\u001b[0m\n",
      "\u001b[0;32m/usr/local/lib/python3.9/site-packages/sympy/simplify/trigsimp.py\u001b[0m in \u001b[0;36m<lambda>\u001b[0;34m(x)\u001b[0m\n\u001b[1;32m    499\u001b[0m     trigsimpfunc = {\n\u001b[1;32m    500\u001b[0m         \u001b[0;34m'fu'\u001b[0m\u001b[0;34m:\u001b[0m \u001b[0;34m(\u001b[0m\u001b[0;32mlambda\u001b[0m \u001b[0mx\u001b[0m\u001b[0;34m:\u001b[0m \u001b[0mfu\u001b[0m\u001b[0;34m(\u001b[0m\u001b[0mx\u001b[0m\u001b[0;34m,\u001b[0m \u001b[0;34m**\u001b[0m\u001b[0mopts\u001b[0m\u001b[0;34m)\u001b[0m\u001b[0;34m)\u001b[0m\u001b[0;34m,\u001b[0m\u001b[0;34m\u001b[0m\u001b[0;34m\u001b[0m\u001b[0m\n\u001b[0;32m--> 501\u001b[0;31m         \u001b[0;34m'matching'\u001b[0m\u001b[0;34m:\u001b[0m \u001b[0;34m(\u001b[0m\u001b[0;32mlambda\u001b[0m \u001b[0mx\u001b[0m\u001b[0;34m:\u001b[0m \u001b[0mfutrig\u001b[0m\u001b[0;34m(\u001b[0m\u001b[0mx\u001b[0m\u001b[0;34m)\u001b[0m\u001b[0;34m)\u001b[0m\u001b[0;34m,\u001b[0m\u001b[0;34m\u001b[0m\u001b[0;34m\u001b[0m\u001b[0m\n\u001b[0m\u001b[1;32m    502\u001b[0m         \u001b[0;34m'groebner'\u001b[0m\u001b[0;34m:\u001b[0m \u001b[0;34m(\u001b[0m\u001b[0;32mlambda\u001b[0m \u001b[0mx\u001b[0m\u001b[0;34m:\u001b[0m \u001b[0mgroebnersimp\u001b[0m\u001b[0;34m(\u001b[0m\u001b[0mx\u001b[0m\u001b[0;34m,\u001b[0m \u001b[0;34m**\u001b[0m\u001b[0mopts\u001b[0m\u001b[0;34m)\u001b[0m\u001b[0;34m)\u001b[0m\u001b[0;34m,\u001b[0m\u001b[0;34m\u001b[0m\u001b[0;34m\u001b[0m\u001b[0m\n\u001b[1;32m    503\u001b[0m         'combined': (lambda x: futrig(groebnersimp(x,\n",
      "\u001b[0;32m/usr/local/lib/python3.9/site-packages/sympy/simplify/trigsimp.py\u001b[0m in \u001b[0;36mfutrig\u001b[0;34m(e, hyper, **kwargs)\u001b[0m\n\u001b[1;32m   1098\u001b[0m \u001b[0;34m\u001b[0m\u001b[0m\n\u001b[1;32m   1099\u001b[0m     \u001b[0mold\u001b[0m \u001b[0;34m=\u001b[0m \u001b[0me\u001b[0m\u001b[0;34m\u001b[0m\u001b[0;34m\u001b[0m\u001b[0m\n\u001b[0;32m-> 1100\u001b[0;31m     \u001b[0me\u001b[0m \u001b[0;34m=\u001b[0m \u001b[0mbottom_up\u001b[0m\u001b[0;34m(\u001b[0m\u001b[0me\u001b[0m\u001b[0;34m,\u001b[0m \u001b[0m_futrig\u001b[0m\u001b[0;34m)\u001b[0m\u001b[0;34m\u001b[0m\u001b[0;34m\u001b[0m\u001b[0m\n\u001b[0m\u001b[1;32m   1101\u001b[0m \u001b[0;34m\u001b[0m\u001b[0m\n\u001b[1;32m   1102\u001b[0m     \u001b[0;32mif\u001b[0m \u001b[0mhyper\u001b[0m \u001b[0;32mand\u001b[0m \u001b[0me\u001b[0m\u001b[0;34m.\u001b[0m\u001b[0mhas\u001b[0m\u001b[0;34m(\u001b[0m\u001b[0mHyperbolicFunction\u001b[0m\u001b[0;34m)\u001b[0m\u001b[0;34m:\u001b[0m\u001b[0;34m\u001b[0m\u001b[0;34m\u001b[0m\u001b[0m\n",
      "\u001b[0;32m/usr/local/lib/python3.9/site-packages/sympy/simplify/simplify.py\u001b[0m in \u001b[0;36mbottom_up\u001b[0;34m(rv, F, atoms, nonbasic)\u001b[0m\n\u001b[1;32m   1157\u001b[0m             \u001b[0;32mif\u001b[0m \u001b[0margs\u001b[0m \u001b[0;34m!=\u001b[0m \u001b[0mrv\u001b[0m\u001b[0;34m.\u001b[0m\u001b[0margs\u001b[0m\u001b[0;34m:\u001b[0m\u001b[0;34m\u001b[0m\u001b[0;34m\u001b[0m\u001b[0m\n\u001b[1;32m   1158\u001b[0m                 \u001b[0mrv\u001b[0m \u001b[0;34m=\u001b[0m \u001b[0mrv\u001b[0m\u001b[0;34m.\u001b[0m\u001b[0mfunc\u001b[0m\u001b[0;34m(\u001b[0m\u001b[0;34m*\u001b[0m\u001b[0margs\u001b[0m\u001b[0;34m)\u001b[0m\u001b[0;34m\u001b[0m\u001b[0;34m\u001b[0m\u001b[0m\n\u001b[0;32m-> 1159\u001b[0;31m             \u001b[0mrv\u001b[0m \u001b[0;34m=\u001b[0m \u001b[0mF\u001b[0m\u001b[0;34m(\u001b[0m\u001b[0mrv\u001b[0m\u001b[0;34m)\u001b[0m\u001b[0;34m\u001b[0m\u001b[0;34m\u001b[0m\u001b[0m\n\u001b[0m\u001b[1;32m   1160\u001b[0m         \u001b[0;32melif\u001b[0m \u001b[0matoms\u001b[0m\u001b[0;34m:\u001b[0m\u001b[0;34m\u001b[0m\u001b[0;34m\u001b[0m\u001b[0m\n\u001b[1;32m   1161\u001b[0m             \u001b[0mrv\u001b[0m \u001b[0;34m=\u001b[0m \u001b[0mF\u001b[0m\u001b[0;34m(\u001b[0m\u001b[0mrv\u001b[0m\u001b[0;34m)\u001b[0m\u001b[0;34m\u001b[0m\u001b[0;34m\u001b[0m\u001b[0m\n",
      "\u001b[0;32m/usr/local/lib/python3.9/site-packages/sympy/simplify/trigsimp.py\u001b[0m in \u001b[0;36m_futrig\u001b[0;34m(e)\u001b[0m\n\u001b[1;32m   1166\u001b[0m             factor_terms, TR12(x), trigs)],  # expand tan of sum\n\u001b[1;32m   1167\u001b[0m         )]\n\u001b[0;32m-> 1168\u001b[0;31m     \u001b[0me\u001b[0m \u001b[0;34m=\u001b[0m \u001b[0mgreedy\u001b[0m\u001b[0;34m(\u001b[0m\u001b[0mtree\u001b[0m\u001b[0;34m,\u001b[0m \u001b[0mobjective\u001b[0m\u001b[0;34m=\u001b[0m\u001b[0mLops\u001b[0m\u001b[0;34m)\u001b[0m\u001b[0;34m(\u001b[0m\u001b[0me\u001b[0m\u001b[0;34m)\u001b[0m\u001b[0;34m\u001b[0m\u001b[0;34m\u001b[0m\u001b[0m\n\u001b[0m\u001b[1;32m   1169\u001b[0m \u001b[0;34m\u001b[0m\u001b[0m\n\u001b[1;32m   1170\u001b[0m     \u001b[0;32mif\u001b[0m \u001b[0mcoeff\u001b[0m \u001b[0;32mis\u001b[0m \u001b[0;32mnot\u001b[0m \u001b[0;32mNone\u001b[0m\u001b[0;34m:\u001b[0m\u001b[0;34m\u001b[0m\u001b[0;34m\u001b[0m\u001b[0m\n",
      "\u001b[0;32m/usr/local/lib/python3.9/site-packages/sympy/strategies/core.py\u001b[0m in \u001b[0;36mminrule\u001b[0;34m(expr)\u001b[0m\n\u001b[1;32m    112\u001b[0m \u001b[0;34m\u001b[0m\u001b[0m\n\u001b[1;32m    113\u001b[0m     \u001b[0;32mdef\u001b[0m \u001b[0mminrule\u001b[0m\u001b[0;34m(\u001b[0m\u001b[0mexpr\u001b[0m\u001b[0;34m)\u001b[0m\u001b[0;34m:\u001b[0m\u001b[0;34m\u001b[0m\u001b[0;34m\u001b[0m\u001b[0m\n\u001b[0;32m--> 114\u001b[0;31m         \u001b[0;32mreturn\u001b[0m \u001b[0mmin\u001b[0m\u001b[0;34m(\u001b[0m\u001b[0;34m[\u001b[0m\u001b[0mrule\u001b[0m\u001b[0;34m(\u001b[0m\u001b[0mexpr\u001b[0m\u001b[0;34m)\u001b[0m \u001b[0;32mfor\u001b[0m \u001b[0mrule\u001b[0m \u001b[0;32min\u001b[0m \u001b[0mrules\u001b[0m\u001b[0;34m]\u001b[0m\u001b[0;34m,\u001b[0m \u001b[0mkey\u001b[0m\u001b[0;34m=\u001b[0m\u001b[0mobjective\u001b[0m\u001b[0;34m)\u001b[0m\u001b[0;34m\u001b[0m\u001b[0;34m\u001b[0m\u001b[0m\n\u001b[0m\u001b[1;32m    115\u001b[0m     \u001b[0;32mreturn\u001b[0m \u001b[0mminrule\u001b[0m\u001b[0;34m\u001b[0m\u001b[0;34m\u001b[0m\u001b[0m\n",
      "\u001b[0;32m/usr/local/lib/python3.9/site-packages/sympy/strategies/core.py\u001b[0m in \u001b[0;36m<listcomp>\u001b[0;34m(.0)\u001b[0m\n\u001b[1;32m    112\u001b[0m \u001b[0;34m\u001b[0m\u001b[0m\n\u001b[1;32m    113\u001b[0m     \u001b[0;32mdef\u001b[0m \u001b[0mminrule\u001b[0m\u001b[0;34m(\u001b[0m\u001b[0mexpr\u001b[0m\u001b[0;34m)\u001b[0m\u001b[0;34m:\u001b[0m\u001b[0;34m\u001b[0m\u001b[0;34m\u001b[0m\u001b[0m\n\u001b[0;32m--> 114\u001b[0;31m         \u001b[0;32mreturn\u001b[0m \u001b[0mmin\u001b[0m\u001b[0;34m(\u001b[0m\u001b[0;34m[\u001b[0m\u001b[0mrule\u001b[0m\u001b[0;34m(\u001b[0m\u001b[0mexpr\u001b[0m\u001b[0;34m)\u001b[0m \u001b[0;32mfor\u001b[0m \u001b[0mrule\u001b[0m \u001b[0;32min\u001b[0m \u001b[0mrules\u001b[0m\u001b[0;34m]\u001b[0m\u001b[0;34m,\u001b[0m \u001b[0mkey\u001b[0m\u001b[0;34m=\u001b[0m\u001b[0mobjective\u001b[0m\u001b[0;34m)\u001b[0m\u001b[0;34m\u001b[0m\u001b[0;34m\u001b[0m\u001b[0m\n\u001b[0m\u001b[1;32m    115\u001b[0m     \u001b[0;32mreturn\u001b[0m \u001b[0mminrule\u001b[0m\u001b[0;34m\u001b[0m\u001b[0;34m\u001b[0m\u001b[0m\n",
      "\u001b[0;32m/usr/local/lib/python3.9/site-packages/sympy/strategies/core.py\u001b[0m in \u001b[0;36mchain_rl\u001b[0;34m(expr)\u001b[0m\n\u001b[1;32m     42\u001b[0m     \u001b[0;32mdef\u001b[0m \u001b[0mchain_rl\u001b[0m\u001b[0;34m(\u001b[0m\u001b[0mexpr\u001b[0m\u001b[0;34m)\u001b[0m\u001b[0;34m:\u001b[0m\u001b[0;34m\u001b[0m\u001b[0;34m\u001b[0m\u001b[0m\n\u001b[1;32m     43\u001b[0m         \u001b[0;32mfor\u001b[0m \u001b[0mrule\u001b[0m \u001b[0;32min\u001b[0m \u001b[0mrules\u001b[0m\u001b[0;34m:\u001b[0m\u001b[0;34m\u001b[0m\u001b[0;34m\u001b[0m\u001b[0m\n\u001b[0;32m---> 44\u001b[0;31m             \u001b[0mexpr\u001b[0m \u001b[0;34m=\u001b[0m \u001b[0mrule\u001b[0m\u001b[0;34m(\u001b[0m\u001b[0mexpr\u001b[0m\u001b[0;34m)\u001b[0m\u001b[0;34m\u001b[0m\u001b[0;34m\u001b[0m\u001b[0m\n\u001b[0m\u001b[1;32m     45\u001b[0m         \u001b[0;32mreturn\u001b[0m \u001b[0mexpr\u001b[0m\u001b[0;34m\u001b[0m\u001b[0;34m\u001b[0m\u001b[0m\n\u001b[1;32m     46\u001b[0m     \u001b[0;32mreturn\u001b[0m \u001b[0mchain_rl\u001b[0m\u001b[0;34m\u001b[0m\u001b[0;34m\u001b[0m\u001b[0m\n",
      "\u001b[0;32m/usr/local/lib/python3.9/site-packages/sympy/simplify/fu.py\u001b[0m in \u001b[0;36mTR10i\u001b[0;34m(rv)\u001b[0m\n\u001b[1;32m    748\u001b[0m         \u001b[0;32mreturn\u001b[0m \u001b[0mrv\u001b[0m\u001b[0;34m\u001b[0m\u001b[0;34m\u001b[0m\u001b[0m\n\u001b[1;32m    749\u001b[0m \u001b[0;34m\u001b[0m\u001b[0m\n\u001b[0;32m--> 750\u001b[0;31m     \u001b[0;32mreturn\u001b[0m \u001b[0mbottom_up\u001b[0m\u001b[0;34m(\u001b[0m\u001b[0mrv\u001b[0m\u001b[0;34m,\u001b[0m \u001b[0mf\u001b[0m\u001b[0;34m)\u001b[0m\u001b[0;34m\u001b[0m\u001b[0;34m\u001b[0m\u001b[0m\n\u001b[0m\u001b[1;32m    751\u001b[0m \u001b[0;34m\u001b[0m\u001b[0m\n\u001b[1;32m    752\u001b[0m \u001b[0;34m\u001b[0m\u001b[0m\n",
      "\u001b[0;32m/usr/local/lib/python3.9/site-packages/sympy/simplify/simplify.py\u001b[0m in \u001b[0;36mbottom_up\u001b[0;34m(rv, F, atoms, nonbasic)\u001b[0m\n\u001b[1;32m   1157\u001b[0m             \u001b[0;32mif\u001b[0m \u001b[0margs\u001b[0m \u001b[0;34m!=\u001b[0m \u001b[0mrv\u001b[0m\u001b[0;34m.\u001b[0m\u001b[0margs\u001b[0m\u001b[0;34m:\u001b[0m\u001b[0;34m\u001b[0m\u001b[0;34m\u001b[0m\u001b[0m\n\u001b[1;32m   1158\u001b[0m                 \u001b[0mrv\u001b[0m \u001b[0;34m=\u001b[0m \u001b[0mrv\u001b[0m\u001b[0;34m.\u001b[0m\u001b[0mfunc\u001b[0m\u001b[0;34m(\u001b[0m\u001b[0;34m*\u001b[0m\u001b[0margs\u001b[0m\u001b[0;34m)\u001b[0m\u001b[0;34m\u001b[0m\u001b[0;34m\u001b[0m\u001b[0m\n\u001b[0;32m-> 1159\u001b[0;31m             \u001b[0mrv\u001b[0m \u001b[0;34m=\u001b[0m \u001b[0mF\u001b[0m\u001b[0;34m(\u001b[0m\u001b[0mrv\u001b[0m\u001b[0;34m)\u001b[0m\u001b[0;34m\u001b[0m\u001b[0;34m\u001b[0m\u001b[0m\n\u001b[0m\u001b[1;32m   1160\u001b[0m         \u001b[0;32melif\u001b[0m \u001b[0matoms\u001b[0m\u001b[0;34m:\u001b[0m\u001b[0;34m\u001b[0m\u001b[0;34m\u001b[0m\u001b[0m\n\u001b[1;32m   1161\u001b[0m             \u001b[0mrv\u001b[0m \u001b[0;34m=\u001b[0m \u001b[0mF\u001b[0m\u001b[0;34m(\u001b[0m\u001b[0mrv\u001b[0m\u001b[0;34m)\u001b[0m\u001b[0;34m\u001b[0m\u001b[0;34m\u001b[0m\u001b[0m\n",
      "\u001b[0;32m/usr/local/lib/python3.9/site-packages/sympy/simplify/fu.py\u001b[0m in \u001b[0;36mf\u001b[0;34m(rv)\u001b[0m\n\u001b[1;32m    743\u001b[0m                     for v in byrad.values()]))\n\u001b[1;32m    744\u001b[0m             \u001b[0;32melse\u001b[0m\u001b[0;34m:\u001b[0m\u001b[0;34m\u001b[0m\u001b[0;34m\u001b[0m\u001b[0m\n\u001b[0;32m--> 745\u001b[0;31m                 \u001b[0mrv\u001b[0m \u001b[0;34m=\u001b[0m \u001b[0mdo\u001b[0m\u001b[0;34m(\u001b[0m\u001b[0mrv\u001b[0m\u001b[0;34m)\u001b[0m  \u001b[0;31m# final pass to resolve any new inducible pairs\u001b[0m\u001b[0;34m\u001b[0m\u001b[0;34m\u001b[0m\u001b[0m\n\u001b[0m\u001b[1;32m    746\u001b[0m                 \u001b[0;32mbreak\u001b[0m\u001b[0;34m\u001b[0m\u001b[0;34m\u001b[0m\u001b[0m\n\u001b[1;32m    747\u001b[0m \u001b[0;34m\u001b[0m\u001b[0m\n",
      "\u001b[0;32m/usr/local/lib/python3.9/site-packages/sympy/simplify/fu.py\u001b[0m in \u001b[0;36mdo\u001b[0;34m(rv, first)\u001b[0m\n\u001b[1;32m    670\u001b[0m                             \u001b[0;32mcontinue\u001b[0m\u001b[0;34m\u001b[0m\u001b[0;34m\u001b[0m\u001b[0m\n\u001b[1;32m    671\u001b[0m                         \u001b[0mwas\u001b[0m \u001b[0;34m=\u001b[0m \u001b[0mai\u001b[0m \u001b[0;34m+\u001b[0m \u001b[0maj\u001b[0m\u001b[0;34m\u001b[0m\u001b[0;34m\u001b[0m\u001b[0m\n\u001b[0;32m--> 672\u001b[0;31m                         \u001b[0mnew\u001b[0m \u001b[0;34m=\u001b[0m \u001b[0mdo\u001b[0m\u001b[0;34m(\u001b[0m\u001b[0mwas\u001b[0m\u001b[0;34m)\u001b[0m\u001b[0;34m\u001b[0m\u001b[0;34m\u001b[0m\u001b[0m\n\u001b[0m\u001b[1;32m    673\u001b[0m                         \u001b[0;32mif\u001b[0m \u001b[0mnew\u001b[0m \u001b[0;34m!=\u001b[0m \u001b[0mwas\u001b[0m\u001b[0;34m:\u001b[0m\u001b[0;34m\u001b[0m\u001b[0;34m\u001b[0m\u001b[0m\n\u001b[1;32m    674\u001b[0m                             \u001b[0margs\u001b[0m\u001b[0;34m[\u001b[0m\u001b[0mi\u001b[0m\u001b[0;34m]\u001b[0m \u001b[0;34m=\u001b[0m \u001b[0mnew\u001b[0m  \u001b[0;31m# update in place\u001b[0m\u001b[0;34m\u001b[0m\u001b[0;34m\u001b[0m\u001b[0m\n",
      "\u001b[0;32m/usr/local/lib/python3.9/site-packages/sympy/simplify/fu.py\u001b[0m in \u001b[0;36mdo\u001b[0;34m(rv, first)\u001b[0m\n\u001b[1;32m    684\u001b[0m \u001b[0;34m\u001b[0m\u001b[0m\n\u001b[1;32m    685\u001b[0m             \u001b[0;31m# two-arg Add\u001b[0m\u001b[0;34m\u001b[0m\u001b[0;34m\u001b[0m\u001b[0;34m\u001b[0m\u001b[0m\n\u001b[0;32m--> 686\u001b[0;31m             \u001b[0msplit\u001b[0m \u001b[0;34m=\u001b[0m \u001b[0mtrig_split\u001b[0m\u001b[0;34m(\u001b[0m\u001b[0;34m*\u001b[0m\u001b[0margs\u001b[0m\u001b[0;34m,\u001b[0m \u001b[0mtwo\u001b[0m\u001b[0;34m=\u001b[0m\u001b[0;32mTrue\u001b[0m\u001b[0;34m)\u001b[0m\u001b[0;34m\u001b[0m\u001b[0;34m\u001b[0m\u001b[0m\n\u001b[0m\u001b[1;32m    687\u001b[0m             \u001b[0;32mif\u001b[0m \u001b[0;32mnot\u001b[0m \u001b[0msplit\u001b[0m\u001b[0;34m:\u001b[0m\u001b[0;34m\u001b[0m\u001b[0;34m\u001b[0m\u001b[0m\n\u001b[1;32m    688\u001b[0m                 \u001b[0;32mreturn\u001b[0m \u001b[0mrv\u001b[0m\u001b[0;34m\u001b[0m\u001b[0;34m\u001b[0m\u001b[0m\n",
      "\u001b[0;32m/usr/local/lib/python3.9/site-packages/sympy/simplify/fu.py\u001b[0m in \u001b[0;36mtrig_split\u001b[0;34m(a, b, two)\u001b[0m\n\u001b[1;32m   1758\u001b[0m         \u001b[0m_roots\u001b[0m\u001b[0;34m(\u001b[0m\u001b[0;34m)\u001b[0m\u001b[0;34m\u001b[0m\u001b[0;34m\u001b[0m\u001b[0m\n\u001b[1;32m   1759\u001b[0m \u001b[0;34m\u001b[0m\u001b[0m\n\u001b[0;32m-> 1760\u001b[0;31m     \u001b[0ma\u001b[0m\u001b[0;34m,\u001b[0m \u001b[0mb\u001b[0m \u001b[0;34m=\u001b[0m \u001b[0;34m[\u001b[0m\u001b[0mFactors\u001b[0m\u001b[0;34m(\u001b[0m\u001b[0mi\u001b[0m\u001b[0;34m)\u001b[0m \u001b[0;32mfor\u001b[0m \u001b[0mi\u001b[0m \u001b[0;32min\u001b[0m \u001b[0;34m(\u001b[0m\u001b[0ma\u001b[0m\u001b[0;34m,\u001b[0m \u001b[0mb\u001b[0m\u001b[0;34m)\u001b[0m\u001b[0;34m]\u001b[0m\u001b[0;34m\u001b[0m\u001b[0;34m\u001b[0m\u001b[0m\n\u001b[0m\u001b[1;32m   1761\u001b[0m     \u001b[0mua\u001b[0m\u001b[0;34m,\u001b[0m \u001b[0mub\u001b[0m \u001b[0;34m=\u001b[0m \u001b[0ma\u001b[0m\u001b[0;34m.\u001b[0m\u001b[0mnormal\u001b[0m\u001b[0;34m(\u001b[0m\u001b[0mb\u001b[0m\u001b[0;34m)\u001b[0m\u001b[0;34m\u001b[0m\u001b[0;34m\u001b[0m\u001b[0m\n\u001b[1;32m   1762\u001b[0m     \u001b[0mgcd\u001b[0m \u001b[0;34m=\u001b[0m \u001b[0ma\u001b[0m\u001b[0;34m.\u001b[0m\u001b[0mgcd\u001b[0m\u001b[0;34m(\u001b[0m\u001b[0mb\u001b[0m\u001b[0;34m)\u001b[0m\u001b[0;34m.\u001b[0m\u001b[0mas_expr\u001b[0m\u001b[0;34m(\u001b[0m\u001b[0;34m)\u001b[0m\u001b[0;34m\u001b[0m\u001b[0;34m\u001b[0m\u001b[0m\n",
      "\u001b[0;32m/usr/local/lib/python3.9/site-packages/sympy/simplify/fu.py\u001b[0m in \u001b[0;36m<listcomp>\u001b[0;34m(.0)\u001b[0m\n\u001b[1;32m   1758\u001b[0m         \u001b[0m_roots\u001b[0m\u001b[0;34m(\u001b[0m\u001b[0;34m)\u001b[0m\u001b[0;34m\u001b[0m\u001b[0;34m\u001b[0m\u001b[0m\n\u001b[1;32m   1759\u001b[0m \u001b[0;34m\u001b[0m\u001b[0m\n\u001b[0;32m-> 1760\u001b[0;31m     \u001b[0ma\u001b[0m\u001b[0;34m,\u001b[0m \u001b[0mb\u001b[0m \u001b[0;34m=\u001b[0m \u001b[0;34m[\u001b[0m\u001b[0mFactors\u001b[0m\u001b[0;34m(\u001b[0m\u001b[0mi\u001b[0m\u001b[0;34m)\u001b[0m \u001b[0;32mfor\u001b[0m \u001b[0mi\u001b[0m \u001b[0;32min\u001b[0m \u001b[0;34m(\u001b[0m\u001b[0ma\u001b[0m\u001b[0;34m,\u001b[0m \u001b[0mb\u001b[0m\u001b[0;34m)\u001b[0m\u001b[0;34m]\u001b[0m\u001b[0;34m\u001b[0m\u001b[0;34m\u001b[0m\u001b[0m\n\u001b[0m\u001b[1;32m   1761\u001b[0m     \u001b[0mua\u001b[0m\u001b[0;34m,\u001b[0m \u001b[0mub\u001b[0m \u001b[0;34m=\u001b[0m \u001b[0ma\u001b[0m\u001b[0;34m.\u001b[0m\u001b[0mnormal\u001b[0m\u001b[0;34m(\u001b[0m\u001b[0mb\u001b[0m\u001b[0;34m)\u001b[0m\u001b[0;34m\u001b[0m\u001b[0;34m\u001b[0m\u001b[0m\n\u001b[1;32m   1762\u001b[0m     \u001b[0mgcd\u001b[0m \u001b[0;34m=\u001b[0m \u001b[0ma\u001b[0m\u001b[0;34m.\u001b[0m\u001b[0mgcd\u001b[0m\u001b[0;34m(\u001b[0m\u001b[0mb\u001b[0m\u001b[0;34m)\u001b[0m\u001b[0;34m.\u001b[0m\u001b[0mas_expr\u001b[0m\u001b[0;34m(\u001b[0m\u001b[0;34m)\u001b[0m\u001b[0;34m\u001b[0m\u001b[0;34m\u001b[0m\u001b[0m\n",
      "\u001b[0;32m/usr/local/lib/python3.9/site-packages/sympy/core/exprtools.py\u001b[0m in \u001b[0;36m__init__\u001b[0;34m(self, factors)\u001b[0m\n\u001b[1;32m    351\u001b[0m             \u001b[0mfactors\u001b[0m \u001b[0;34m=\u001b[0m \u001b[0;34m{\u001b[0m\u001b[0mfactors\u001b[0m\u001b[0;34m:\u001b[0m \u001b[0mS\u001b[0m\u001b[0;34m.\u001b[0m\u001b[0mOne\u001b[0m\u001b[0;34m}\u001b[0m\u001b[0;34m\u001b[0m\u001b[0;34m\u001b[0m\u001b[0m\n\u001b[1;32m    352\u001b[0m         \u001b[0;32melif\u001b[0m \u001b[0misinstance\u001b[0m\u001b[0;34m(\u001b[0m\u001b[0mfactors\u001b[0m\u001b[0;34m,\u001b[0m \u001b[0mExpr\u001b[0m\u001b[0;34m)\u001b[0m\u001b[0;34m:\u001b[0m\u001b[0;34m\u001b[0m\u001b[0;34m\u001b[0m\u001b[0m\n\u001b[0;32m--> 353\u001b[0;31m             \u001b[0mc\u001b[0m\u001b[0;34m,\u001b[0m \u001b[0mnc\u001b[0m \u001b[0;34m=\u001b[0m \u001b[0mfactors\u001b[0m\u001b[0;34m.\u001b[0m\u001b[0margs_cnc\u001b[0m\u001b[0;34m(\u001b[0m\u001b[0;34m)\u001b[0m\u001b[0;34m\u001b[0m\u001b[0;34m\u001b[0m\u001b[0m\n\u001b[0m\u001b[1;32m    354\u001b[0m             \u001b[0mi\u001b[0m \u001b[0;34m=\u001b[0m \u001b[0mc\u001b[0m\u001b[0;34m.\u001b[0m\u001b[0mcount\u001b[0m\u001b[0;34m(\u001b[0m\u001b[0mI\u001b[0m\u001b[0;34m)\u001b[0m\u001b[0;34m\u001b[0m\u001b[0;34m\u001b[0m\u001b[0m\n\u001b[1;32m    355\u001b[0m             \u001b[0;32mfor\u001b[0m \u001b[0m_\u001b[0m \u001b[0;32min\u001b[0m \u001b[0mrange\u001b[0m\u001b[0;34m(\u001b[0m\u001b[0mi\u001b[0m\u001b[0;34m)\u001b[0m\u001b[0;34m:\u001b[0m\u001b[0;34m\u001b[0m\u001b[0;34m\u001b[0m\u001b[0m\n",
      "\u001b[0;32m/usr/local/lib/python3.9/site-packages/sympy/core/expr.py\u001b[0m in \u001b[0;36margs_cnc\u001b[0;34m(self, cset, warn, split_1)\u001b[0m\n\u001b[1;32m   1328\u001b[0m         \u001b[0;32melse\u001b[0m\u001b[0;34m:\u001b[0m\u001b[0;34m\u001b[0m\u001b[0;34m\u001b[0m\u001b[0m\n\u001b[1;32m   1329\u001b[0m             \u001b[0margs\u001b[0m \u001b[0;34m=\u001b[0m \u001b[0;34m[\u001b[0m\u001b[0mself\u001b[0m\u001b[0;34m]\u001b[0m\u001b[0;34m\u001b[0m\u001b[0;34m\u001b[0m\u001b[0m\n\u001b[0;32m-> 1330\u001b[0;31m         \u001b[0;32mfor\u001b[0m \u001b[0mi\u001b[0m\u001b[0;34m,\u001b[0m \u001b[0mmi\u001b[0m \u001b[0;32min\u001b[0m \u001b[0menumerate\u001b[0m\u001b[0;34m(\u001b[0m\u001b[0margs\u001b[0m\u001b[0;34m)\u001b[0m\u001b[0;34m:\u001b[0m\u001b[0;34m\u001b[0m\u001b[0;34m\u001b[0m\u001b[0m\n\u001b[0m\u001b[1;32m   1331\u001b[0m             \u001b[0;32mif\u001b[0m \u001b[0;32mnot\u001b[0m \u001b[0mmi\u001b[0m\u001b[0;34m.\u001b[0m\u001b[0mis_commutative\u001b[0m\u001b[0;34m:\u001b[0m\u001b[0;34m\u001b[0m\u001b[0;34m\u001b[0m\u001b[0m\n\u001b[1;32m   1332\u001b[0m                 \u001b[0mc\u001b[0m \u001b[0;34m=\u001b[0m \u001b[0margs\u001b[0m\u001b[0;34m[\u001b[0m\u001b[0;34m:\u001b[0m\u001b[0mi\u001b[0m\u001b[0;34m]\u001b[0m\u001b[0;34m\u001b[0m\u001b[0;34m\u001b[0m\u001b[0m\n",
      "\u001b[0;31mKeyboardInterrupt\u001b[0m: "
     ]
    }
   ],
   "source": [
    "dM.eigenvals()"
   ]
  },
  {
   "cell_type": "code",
   "execution_count": null,
   "metadata": {},
   "outputs": [],
   "source": []
  }
 ],
 "metadata": {
  "kernelspec": {
   "display_name": "phys",
   "language": "python",
   "name": "phys"
  },
  "language_info": {
   "codemirror_mode": {
    "name": "ipython",
    "version": 3
   },
   "file_extension": ".py",
   "mimetype": "text/x-python",
   "name": "python",
   "nbconvert_exporter": "python",
   "pygments_lexer": "ipython3",
   "version": "3.9.0"
  },
  "toc": {
   "base_numbering": 1,
   "nav_menu": {},
   "number_sections": true,
   "sideBar": true,
   "skip_h1_title": false,
   "title_cell": "Table of Contents",
   "title_sidebar": "Contents",
   "toc_cell": false,
   "toc_position": {},
   "toc_section_display": true,
   "toc_window_display": false
  }
 },
 "nbformat": 4,
 "nbformat_minor": 4
}
