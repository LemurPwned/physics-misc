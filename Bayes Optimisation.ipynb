{
 "cells": [
  {
   "cell_type": "code",
   "execution_count": 17,
   "metadata": {},
   "outputs": [],
   "source": [
    "import numpy as np\n",
    "import matplotlib.pyplot as plt\n",
    "from cmtj import Junction, CVector, AxialDriver, ScalarDriver, Layer"
   ]
  },
  {
   "cell_type": "markdown",
   "metadata": {},
   "source": [
    "# Junction definition & helper functions"
   ]
  },
  {
   "cell_type": "code",
   "execution_count": 18,
   "metadata": {},
   "outputs": [],
   "source": [
    "demagTensor = [CVector(0, 0., 0.), CVector(0., 0, 0.), CVector(0., 0., 1)]\n",
    "dipoleTensor = [CVector(0, 0., 0.), CVector(0., 0, 0.), CVector(0., 0.0, 0)]\n",
    "\n",
    "TtoAm = 795774.71\n",
    "surface = 7e-10 * 7e-10"
   ]
  },
  {
   "cell_type": "code",
   "execution_count": 19,
   "metadata": {},
   "outputs": [],
   "source": [
    "import multiprocessing as mp\n",
    "\n",
    "\n",
    "def reconstruction_cost_l2(proposal: np.ndarray, target: np.ndarray):\n",
    "    return np.sum(np.power(target - proposal, 2))\n",
    "\n",
    "\n",
    "def reconstruction_cost_l1(proposal: np.ndarray, target: np.ndarray):\n",
    "    return np.sum(np.abs(target - proposal))\n",
    "\n",
    "\n",
    "def single_simulation(mtj, Hmag, Hmask, anisTop, J, total_time, time_step,\n",
    "                      theta, phi):\n",
    "    externalH = CVector(Hmag * np.sin(theta) * np.cos(phi),\n",
    "                        Hmag * np.sin(theta) * np.sin(phi),\n",
    "                        Hmag * np.cos(theta) * Hmag)\n",
    "\n",
    "    axd = AxialDriver([\n",
    "        ScalarDriver.getConstantDriver(externalH.x),\n",
    "        ScalarDriver.getConstantDriver(externalH.y),\n",
    "        ScalarDriver.getConstantDriver(externalH.z)\n",
    "    ])\n",
    "    axd.applyMask(Hmask)\n",
    "    mtj.setLayerExternalFieldDriver(\"all\", axd)\n",
    "    mtj.setLayerIECDriver(\"all\", ScalarDriver.getConstantDriver(J))\n",
    "    mtj.setLayerAnisotropyDriver(\"free\",\n",
    "                                 ScalarDriver.getConstantDriver(anisTop))\n",
    "    mtj.setLayerAnisotropyDriver(\"bottom\",\n",
    "                                 ScalarDriver.getConstantDriver(750e3))\n",
    "    mtj.runSimulation(totalTime=total_time,\n",
    "                      timeStep=time_step,\n",
    "                      writeFrequency=time_step,\n",
    "                      persist=False,\n",
    "                      log=False,\n",
    "                      calculateEnergies=False)\n",
    "\n",
    "    (Rx, Ry, _) = mtj.getMagnetoresistance()\n",
    "    return Rx, Ry\n",
    "\n",
    "\n",
    "def simulator(Rx,\n",
    "              Ry,\n",
    "              AMR,\n",
    "              AHE,\n",
    "              SMR,\n",
    "              layers,\n",
    "              J,\n",
    "              anisTop,\n",
    "              theta_range: tuple,\n",
    "              phi_range: tuple,\n",
    "              theta_steps: int,\n",
    "              phi_steps: int,\n",
    "              Hmag: float,\n",
    "              Hmask: CVector,\n",
    "              total_time=3e-9,\n",
    "              time_step=1e-10) -> np.ndarray:\n",
    "\n",
    "    output_tensor = np.zeros((theta_steps, phi_steps))\n",
    "    mtj = Junction(layers, \"none\", [Rx, Rx], [Ry, Ry], [AMR, AMR], [AHE, AHE],\n",
    "                   [SMR, SMR])\n",
    "    for t, theta in enumerate(np.linspace(*theta_range, num=theta_steps)):\n",
    "        for p, phi in enumerate(np.linspace(*phi_range, num=phi_steps)):\n",
    "            output_tensor[t, p] = sum(\n",
    "                single_simulation(mtj=mtj,\n",
    "                                  Hmag=Hmag,\n",
    "                                  Hmask=Hmask,\n",
    "                                  anisTop=anisTop,\n",
    "                                  J=J,\n",
    "                                  total_time=total_time,\n",
    "                                  time_step=time_step,\n",
    "                                  theta=theta,\n",
    "                                  phi=phi))\n",
    "    return output_tensor\n",
    "\n",
    "\n",
    "def cost_func(target,\n",
    "              Rx,\n",
    "              Ry,\n",
    "              AMR,\n",
    "              AHE,\n",
    "              SMR,\n",
    "              layers,\n",
    "              J,\n",
    "              anisTop,\n",
    "              theta_range: tuple,\n",
    "              phi_range: tuple,\n",
    "              theta_steps: int,\n",
    "              phi_steps: int,\n",
    "              Hmag: float,\n",
    "              Hmask: CVector,\n",
    "              total_time=3e-9,\n",
    "              time_step=1e-10,\n",
    "              loss_fn=reconstruction_cost_l2) -> np.ndarray:\n",
    "    out = simulator(Rx, Ry, AMR, AHE, SMR, layers, J, anisTop, theta_range,\n",
    "                    phi_range, theta_steps, phi_steps, Hmag, Hmask, total_time,\n",
    "                    time_step)\n",
    "    return -1 * loss_fn(out, target)"
   ]
  },
  {
   "cell_type": "markdown",
   "metadata": {},
   "source": [
    "# Ground truth data generation"
   ]
  },
  {
   "cell_type": "code",
   "execution_count": 4,
   "metadata": {},
   "outputs": [
    {
     "data": {
      "text/plain": [
       "Text(0, 0.5, 'Theta')"
      ]
     },
     "execution_count": 4,
     "metadata": {},
     "output_type": "execute_result"
    },
    {
     "data": {
      "image/png": "[encoded data removed]",
      "text/plain": [
       "<Figure size 432x288 with 1 Axes>"
      ]
     },
     "metadata": {
      "needs_background": "light"
     },
     "output_type": "display_data"
    }
   ],
   "source": [
    "temperature = 300  # room temp\n",
    "l1 = Layer(id=\"free\",\n",
    "           mag=CVector(0., 0., 1.),\n",
    "           anis=CVector(0, 0., 1.),\n",
    "           Ms=1 * TtoAm,\n",
    "           thickness=1e-9,\n",
    "           cellSurface=surface,\n",
    "           demagTensor=demagTensor,\n",
    "           dipoleTensor=dipoleTensor,\n",
    "           temperature=temperature)\n",
    "l2 = Layer(id=\"bottom\",\n",
    "           mag=CVector(0., 0., 1.),\n",
    "           anis=CVector(0, 0., 1.),\n",
    "           Ms=1 * TtoAm,\n",
    "           thickness=1e-9,\n",
    "           cellSurface=surface,\n",
    "           demagTensor=demagTensor,\n",
    "           dipoleTensor=dipoleTensor,\n",
    "           temperature=temperature)\n",
    "\n",
    "theta_steps = 25\n",
    "phi_steps = 25\n",
    "theta_range = (0, 2 * np.pi)\n",
    "phi_range = (0, 2 * np.pi)\n",
    "true_params = {\n",
    "    'Rx': 10,\n",
    "    'Ry': 0.1,\n",
    "    'AMR': 0.2,\n",
    "    'AHE': 0.001,\n",
    "    'SMR': 0.0034,\n",
    "    'layers': [l1, l2],\n",
    "    'theta_range': theta_range,\n",
    "    'phi_range': phi_range,\n",
    "    'theta_steps': theta_steps,\n",
    "    'phi_steps': phi_steps,\n",
    "    'Hmag': 100 * TtoAm,\n",
    "    'J': 1e-4,\n",
    "    'anisTop': 350e3,\n",
    "    'Hmask': [1, 1, 0]\n",
    "}\n",
    "out = simulator(**true_params)\n",
    "plt.imshow(out)\n",
    "plt.xlabel(\"Phi\")\n",
    "plt.ylabel(\"Theta\")"
   ]
  },
  {
   "cell_type": "code",
   "execution_count": 9,
   "metadata": {},
   "outputs": [
    {
     "data": {
      "text/plain": [
       "{'AHE': 0.028497924522275207,\n",
       " 'AMR': 0.4033076301500014,\n",
       " 'J': 0.00027747870463259826,\n",
       " 'Rx': 8.530798129138951,\n",
       " 'Ry': 0.8722343030115282,\n",
       " 'SMR': 0.024548489372465163}"
      ]
     },
     "execution_count": 9,
     "metadata": {},
     "output_type": "execute_result"
    }
   ],
   "source": [
    "optimizer.max['params']"
   ]
  },
  {
   "cell_type": "code",
   "execution_count": 5,
   "metadata": {},
   "outputs": [],
   "source": [
    "np.save(\"GT1_noise.npy\", out)\n",
    "ground_truth = np.load(\"GT1_noise.npy\")"
   ]
  },
  {
   "cell_type": "markdown",
   "metadata": {},
   "source": [
    "# Bayes optimisation"
   ]
  },
  {
   "cell_type": "code",
   "execution_count": 12,
   "metadata": {},
   "outputs": [],
   "source": [
    "from functools import partial\n",
    "\n",
    "theta_steps = 25\n",
    "phi_steps = 25\n",
    "theta_range = (0, 2 * np.pi)\n",
    "phi_range = (0, 2 * np.pi)\n",
    "\n",
    "l1 = Layer(id=\"free\",\n",
    "           mag=CVector(0., 0., 1.),\n",
    "           anis=CVector(0, 0., 1.),\n",
    "           Ms=1 * TtoAm,\n",
    "           thickness=1e-9,\n",
    "           cellSurface=surface,\n",
    "           demagTensor=demagTensor,\n",
    "           dipoleTensor=dipoleTensor,\n",
    "           temperature=0)\n",
    "l2 = Layer(id=\"bottom\",\n",
    "           mag=CVector(0., 0., 1.),\n",
    "           anis=CVector(0, 0., 1.),\n",
    "           Ms=1 * TtoAm,\n",
    "           thickness=1e-9,\n",
    "           cellSurface=surface,\n",
    "           demagTensor=demagTensor,\n",
    "           dipoleTensor=dipoleTensor,\n",
    "           temperature=0)\n",
    "\n",
    "pbounds = {\n",
    "    'Rx': (0.001, 100),\n",
    "    'Ry': (0.001, 10),\n",
    "    \"AMR\": (0, 1),\n",
    "    \"AHE\": (0, 0.05),\n",
    "    \"SMR\": (0, 0.05),\n",
    "#     'J': (1e-8, 5e-4),\n",
    "}\n",
    "params = {\n",
    "    'theta_range': theta_range,\n",
    "    'phi_range': phi_range,\n",
    "    'theta_steps': theta_steps,\n",
    "    'phi_steps': phi_steps,\n",
    "    'Hmag': 100 * TtoAm,\n",
    "    'layers': [l1, l2],\n",
    "    'Hmask': [1, 1, 0],\n",
    "    'total_time': 3e-9,\n",
    "    'time_step': 1e-10,\n",
    "    'anisTop': 350e3,\n",
    "    'J': 1e-4\n",
    "}\n",
    "\n",
    "opt_fn = partial(cost_func,\n",
    "                 target=ground_truth,\n",
    "                 loss_fn=reconstruction_cost_l2,\n",
    "                 **params)\n",
    "sim = partial(simulator, **params)"
   ]
  },
  {
   "cell_type": "code",
   "execution_count": 15,
   "metadata": {},
   "outputs": [
    {
     "name": "stdout",
     "output_type": "stream",
     "text": [
      "|   iter    |  target   |    AHE    |    AMR    |    Rx     |    Ry     |    SMR    |\n",
      "-------------------------------------------------------------------------------------\n",
      "| \u001b[0m 1       \u001b[0m | \u001b[0m-1.606e+0\u001b[0m | \u001b[0m 0.01873 \u001b[0m | \u001b[0m 0.9507  \u001b[0m | \u001b[0m 73.2    \u001b[0m | \u001b[0m 5.987   \u001b[0m | \u001b[0m 0.007801\u001b[0m |\n",
      "| \u001b[95m 2       \u001b[0m | \u001b[95m-1.133e+0\u001b[0m | \u001b[95m 0.0078  \u001b[0m | \u001b[95m 0.05808 \u001b[0m | \u001b[95m 86.62   \u001b[0m | \u001b[95m 6.012   \u001b[0m | \u001b[95m 0.0354  \u001b[0m |\n",
      "| \u001b[0m 3       \u001b[0m | \u001b[0m-1.978e+0\u001b[0m | \u001b[0m 0.001029\u001b[0m | \u001b[0m 0.9699  \u001b[0m | \u001b[0m 83.24   \u001b[0m | \u001b[0m 2.124   \u001b[0m | \u001b[0m 0.009091\u001b[0m |\n",
      "| \u001b[95m 4       \u001b[0m | \u001b[95m-4.476e+0\u001b[0m | \u001b[95m 0.00917 \u001b[0m | \u001b[95m 0.3042  \u001b[0m | \u001b[95m 52.48   \u001b[0m | \u001b[95m 4.32    \u001b[0m | \u001b[95m 0.01456 \u001b[0m |\n",
      "| \u001b[95m 5       \u001b[0m | \u001b[95m-9.033e+0\u001b[0m | \u001b[95m 0.03059 \u001b[0m | \u001b[95m 0.1395  \u001b[0m | \u001b[95m 29.22   \u001b[0m | \u001b[95m 3.664   \u001b[0m | \u001b[95m 0.0228  \u001b[0m |\n",
      "| \u001b[0m 6       \u001b[0m | \u001b[0m-4.096e+0\u001b[0m | \u001b[0m 0.03926 \u001b[0m | \u001b[0m 0.1997  \u001b[0m | \u001b[0m 51.42   \u001b[0m | \u001b[0m 5.925   \u001b[0m | \u001b[0m 0.002323\u001b[0m |\n",
      "| \u001b[95m 7       \u001b[0m | \u001b[95m-5.621e+0\u001b[0m | \u001b[95m 0.03038 \u001b[0m | \u001b[95m 0.1705  \u001b[0m | \u001b[95m 6.506   \u001b[0m | \u001b[95m 9.489   \u001b[0m | \u001b[95m 0.04828 \u001b[0m |\n",
      "| \u001b[0m 8       \u001b[0m | \u001b[0m-8.526e+0\u001b[0m | \u001b[0m 0.04042 \u001b[0m | \u001b[0m 0.3046  \u001b[0m | \u001b[0m 9.768   \u001b[0m | \u001b[0m 6.843   \u001b[0m | \u001b[0m 0.02201 \u001b[0m |\n",
      "| \u001b[95m 9       \u001b[0m | \u001b[95m-1.55e+03\u001b[0m | \u001b[95m 0.006102\u001b[0m | \u001b[95m 0.4952  \u001b[0m | \u001b[95m 3.44    \u001b[0m | \u001b[95m 9.093   \u001b[0m | \u001b[95m 0.01294 \u001b[0m |\n",
      "| \u001b[0m 10      \u001b[0m | \u001b[0m-4.6e+05 \u001b[0m | \u001b[0m 0.03313 \u001b[0m | \u001b[0m 0.3117  \u001b[0m | \u001b[0m 52.01   \u001b[0m | \u001b[0m 5.468   \u001b[0m | \u001b[0m 0.009243\u001b[0m |\n",
      "| \u001b[0m 11      \u001b[0m | \u001b[0m-7.649e+0\u001b[0m | \u001b[0m 0.0     \u001b[0m | \u001b[0m 0.5008  \u001b[0m | \u001b[0m 18.17   \u001b[0m | \u001b[0m 10.0    \u001b[0m | \u001b[0m 0.01221 \u001b[0m |\n",
      "| \u001b[95m 12      \u001b[0m | \u001b[95m-275.9   \u001b[0m | \u001b[95m 0.0121  \u001b[0m | \u001b[95m 0.4901  \u001b[0m | \u001b[95m 0.001   \u001b[0m | \u001b[95m 10.0    \u001b[0m | \u001b[95m 0.0136  \u001b[0m |\n",
      "| \u001b[0m 13      \u001b[0m | \u001b[0m-3.151e+0\u001b[0m | \u001b[0m 0.007002\u001b[0m | \u001b[0m 0.4944  \u001b[0m | \u001b[0m 11.76   \u001b[0m | \u001b[0m 10.0    \u001b[0m | \u001b[0m 0.01304 \u001b[0m |\n",
      "| \u001b[0m 14      \u001b[0m | \u001b[0m-458.3   \u001b[0m | \u001b[0m 0.01669 \u001b[0m | \u001b[0m 0.4863  \u001b[0m | \u001b[0m 0.001   \u001b[0m | \u001b[0m 9.111   \u001b[0m | \u001b[0m 0.0141  \u001b[0m |\n",
      "| \u001b[0m 15      \u001b[0m | \u001b[0m-1.649e+0\u001b[0m | \u001b[0m 0.00797 \u001b[0m | \u001b[0m 0.4936  \u001b[0m | \u001b[0m 8.551   \u001b[0m | \u001b[0m 10.0    \u001b[0m | \u001b[0m 0.01314 \u001b[0m |\n",
      "| \u001b[0m 16      \u001b[0m | \u001b[0m-1.083e+0\u001b[0m | \u001b[0m 0.01582 \u001b[0m | \u001b[0m 0.487   \u001b[0m | \u001b[0m 2.149   \u001b[0m | \u001b[0m 10.0    \u001b[0m | \u001b[0m 0.01401 \u001b[0m |\n",
      "| \u001b[0m 17      \u001b[0m | \u001b[0m-5.837e+0\u001b[0m | \u001b[0m 0.008845\u001b[0m | \u001b[0m 0.493   \u001b[0m | \u001b[0m 5.126   \u001b[0m | \u001b[0m 10.0    \u001b[0m | \u001b[0m 0.01323 \u001b[0m |\n",
      "| \u001b[0m 18      \u001b[0m | \u001b[0m-8.486e+0\u001b[0m | \u001b[0m 0.009089\u001b[0m | \u001b[0m 0.4927  \u001b[0m | \u001b[0m 6.688   \u001b[0m | \u001b[0m 9.417   \u001b[0m | \u001b[0m 0.01327 \u001b[0m |\n",
      "| \u001b[95m 19      \u001b[0m | \u001b[95m-260.6   \u001b[0m | \u001b[95m 0.00939 \u001b[0m | \u001b[95m 0.4907  \u001b[0m | \u001b[95m 1.119   \u001b[0m | \u001b[95m 9.475   \u001b[0m | \u001b[95m 0.0139  \u001b[0m |\n",
      "| \u001b[0m 20      \u001b[0m | \u001b[0m-3.94e+03\u001b[0m | \u001b[0m 0.009718\u001b[0m | \u001b[0m 0.4903  \u001b[0m | \u001b[0m 5.093   \u001b[0m | \u001b[0m 9.033   \u001b[0m | \u001b[0m 0.01393 \u001b[0m |\n",
      "| \u001b[0m 21      \u001b[0m | \u001b[0m-365.6   \u001b[0m | \u001b[0m 0.00887 \u001b[0m | \u001b[0m 0.4914  \u001b[0m | \u001b[0m 1.91    \u001b[0m | \u001b[0m 9.075   \u001b[0m | \u001b[0m 0.01395 \u001b[0m |\n",
      "| \u001b[95m 22      \u001b[0m | \u001b[95m-222.9   \u001b[0m | \u001b[95m 0.00876 \u001b[0m | \u001b[95m 0.4912  \u001b[0m | \u001b[95m 0.7472  \u001b[0m | \u001b[95m 9.114   \u001b[0m | \u001b[95m 0.01382 \u001b[0m |\n",
      "| \u001b[95m 23      \u001b[0m | \u001b[95m-185.4   \u001b[0m | \u001b[95m 0.009128\u001b[0m | \u001b[95m 0.4902  \u001b[0m | \u001b[95m 1.24    \u001b[0m | \u001b[95m 8.808   \u001b[0m | \u001b[95m 0.01388 \u001b[0m |\n",
      "| \u001b[0m 24      \u001b[0m | \u001b[0m-733.5   \u001b[0m | \u001b[0m 0.007975\u001b[0m | \u001b[0m 0.4907  \u001b[0m | \u001b[0m 3.118   \u001b[0m | \u001b[0m 8.502   \u001b[0m | \u001b[0m 0.01401 \u001b[0m |\n",
      "| \u001b[0m 25      \u001b[0m | \u001b[0m-734.0   \u001b[0m | \u001b[0m 0.007823\u001b[0m | \u001b[0m 0.4891  \u001b[0m | \u001b[0m 0.001   \u001b[0m | \u001b[0m 8.532   \u001b[0m | \u001b[0m 0.01374 \u001b[0m |\n",
      "| \u001b[0m 26      \u001b[0m | \u001b[0m-210.3   \u001b[0m | \u001b[0m 0.009408\u001b[0m | \u001b[0m 0.4896  \u001b[0m | \u001b[0m 1.93    \u001b[0m | \u001b[0m 8.563   \u001b[0m | \u001b[0m 0.01396 \u001b[0m |\n",
      "| \u001b[0m 27      \u001b[0m | \u001b[0m-314.0   \u001b[0m | \u001b[0m 0.009437\u001b[0m | \u001b[0m 0.4896  \u001b[0m | \u001b[0m 0.7243  \u001b[0m | \u001b[0m 8.587   \u001b[0m | \u001b[0m 0.01379 \u001b[0m |\n",
      "| \u001b[0m 28      \u001b[0m | \u001b[0m-622.6   \u001b[0m | \u001b[0m 0.01004 \u001b[0m | \u001b[0m 0.4895  \u001b[0m | \u001b[0m 2.504   \u001b[0m | \u001b[0m 8.984   \u001b[0m | \u001b[0m 0.01378 \u001b[0m |\n",
      "| \u001b[95m 29      \u001b[0m | \u001b[95m-174.1   \u001b[0m | \u001b[95m 0.00909 \u001b[0m | \u001b[95m 0.4896  \u001b[0m | \u001b[95m 1.454   \u001b[0m | \u001b[95m 8.628   \u001b[0m | \u001b[95m 0.0138  \u001b[0m |\n",
      "| \u001b[0m 30      \u001b[0m | \u001b[0m-267.2   \u001b[0m | \u001b[0m 0.008834\u001b[0m | \u001b[0m 0.4901  \u001b[0m | \u001b[0m 2.251   \u001b[0m | \u001b[0m 8.474   \u001b[0m | \u001b[0m 0.01382 \u001b[0m |\n",
      "| \u001b[0m 31      \u001b[0m | \u001b[0m-240.0   \u001b[0m | \u001b[0m 0.009455\u001b[0m | \u001b[0m 0.4894  \u001b[0m | \u001b[0m 1.028   \u001b[0m | \u001b[0m 8.489   \u001b[0m | \u001b[0m 0.01378 \u001b[0m |\n",
      "| \u001b[95m 32      \u001b[0m | \u001b[95m-167.6   \u001b[0m | \u001b[95m 0.009585\u001b[0m | \u001b[95m 0.4892  \u001b[0m | \u001b[95m 1.54    \u001b[0m | \u001b[95m 8.503   \u001b[0m | \u001b[95m 0.01376 \u001b[0m |\n",
      "| \u001b[0m 33      \u001b[0m | \u001b[0m-441.7   \u001b[0m | \u001b[0m 0.01006 \u001b[0m | \u001b[0m 0.4891  \u001b[0m | \u001b[0m 0.5744  \u001b[0m | \u001b[0m 8.4     \u001b[0m | \u001b[0m 0.01372 \u001b[0m |\n",
      "| \u001b[0m 34      \u001b[0m | \u001b[0m-328.9   \u001b[0m | \u001b[0m 0.00953 \u001b[0m | \u001b[0m 0.4891  \u001b[0m | \u001b[0m 2.496   \u001b[0m | \u001b[0m 8.408   \u001b[0m | \u001b[0m 0.01378 \u001b[0m |\n",
      "| \u001b[95m 35      \u001b[0m | \u001b[95m-163.1   \u001b[0m | \u001b[95m 0.009162\u001b[0m | \u001b[95m 0.4889  \u001b[0m | \u001b[95m 1.69    \u001b[0m | \u001b[95m 8.418   \u001b[0m | \u001b[95m 0.01374 \u001b[0m |\n",
      "| \u001b[0m 36      \u001b[0m | \u001b[0m-194.4   \u001b[0m | \u001b[0m 0.00883 \u001b[0m | \u001b[0m 0.4889  \u001b[0m | \u001b[0m 1.324   \u001b[0m | \u001b[0m 8.344   \u001b[0m | \u001b[0m 0.01376 \u001b[0m |\n",
      "| \u001b[0m 37      \u001b[0m | \u001b[0m-179.9   \u001b[0m | \u001b[0m 0.009051\u001b[0m | \u001b[0m 0.4887  \u001b[0m | \u001b[0m 2.001   \u001b[0m | \u001b[0m 8.352   \u001b[0m | \u001b[0m 0.01373 \u001b[0m |\n",
      "| \u001b[0m 38      \u001b[0m | \u001b[0m-310.4   \u001b[0m | \u001b[0m 0.009338\u001b[0m | \u001b[0m 0.4887  \u001b[0m | \u001b[0m 2.498   \u001b[0m | \u001b[0m 8.36    \u001b[0m | \u001b[0m 0.01377 \u001b[0m |\n",
      "| \u001b[0m 39      \u001b[0m | \u001b[0m-219.9   \u001b[0m | \u001b[0m 0.008923\u001b[0m | \u001b[0m 0.4888  \u001b[0m | \u001b[0m 1.19    \u001b[0m | \u001b[0m 8.364   \u001b[0m | \u001b[0m 0.01375 \u001b[0m |\n",
      "| \u001b[95m 40      \u001b[0m | \u001b[95m-162.4   \u001b[0m | \u001b[95m 0.008924\u001b[0m | \u001b[95m 0.4888  \u001b[0m | \u001b[95m 1.787   \u001b[0m | \u001b[95m 8.37    \u001b[0m | \u001b[95m 0.01376 \u001b[0m |\n",
      "| \u001b[0m 41      \u001b[0m | \u001b[0m-164.5   \u001b[0m | \u001b[0m 0.008789\u001b[0m | \u001b[0m 0.4887  \u001b[0m | \u001b[0m 1.89    \u001b[0m | \u001b[0m 8.329   \u001b[0m | \u001b[0m 0.01375 \u001b[0m |\n",
      "| \u001b[0m 42      \u001b[0m | \u001b[0m-208.7   \u001b[0m | \u001b[0m 0.009017\u001b[0m | \u001b[0m 0.4888  \u001b[0m | \u001b[0m 1.259   \u001b[0m | \u001b[0m 8.334   \u001b[0m | \u001b[0m 0.01378 \u001b[0m |\n",
      "| \u001b[0m 43      \u001b[0m | \u001b[0m-221.5   \u001b[0m | \u001b[0m 0.008796\u001b[0m | \u001b[0m 0.4887  \u001b[0m | \u001b[0m 2.235   \u001b[0m | \u001b[0m 8.337   \u001b[0m | \u001b[0m 0.01375 \u001b[0m |\n",
      "| \u001b[0m 44      \u001b[0m | \u001b[0m-164.4   \u001b[0m | \u001b[0m 0.008829\u001b[0m | \u001b[0m 0.4886  \u001b[0m | \u001b[0m 1.559   \u001b[0m | \u001b[0m 8.341   \u001b[0m | \u001b[0m 0.01375 \u001b[0m |\n",
      "| \u001b[0m 45      \u001b[0m | \u001b[0m-164.2   \u001b[0m | \u001b[0m 0.008946\u001b[0m | \u001b[0m 0.4887  \u001b[0m | \u001b[0m 1.865   \u001b[0m | \u001b[0m 8.343   \u001b[0m | \u001b[0m 0.01377 \u001b[0m |\n",
      "| \u001b[0m 46      \u001b[0m | \u001b[0m-175.6   \u001b[0m | \u001b[0m 0.009031\u001b[0m | \u001b[0m 0.4887  \u001b[0m | \u001b[0m 1.444   \u001b[0m | \u001b[0m 8.346   \u001b[0m | \u001b[0m 0.01377 \u001b[0m |\n",
      "| \u001b[0m 47      \u001b[0m | \u001b[0m-191.6   \u001b[0m | \u001b[0m 0.00883 \u001b[0m | \u001b[0m 0.4887  \u001b[0m | \u001b[0m 2.08    \u001b[0m | \u001b[0m 8.348   \u001b[0m | \u001b[0m 0.01377 \u001b[0m |\n",
      "| \u001b[0m 48      \u001b[0m | \u001b[0m-168.6   \u001b[0m | \u001b[0m 0.008838\u001b[0m | \u001b[0m 0.4887  \u001b[0m | \u001b[0m 1.507   \u001b[0m | \u001b[0m 8.351   \u001b[0m | \u001b[0m 0.01376 \u001b[0m |\n",
      "| \u001b[0m 49      \u001b[0m | \u001b[0m-185.5   \u001b[0m | \u001b[0m 0.008985\u001b[0m | \u001b[0m 0.4888  \u001b[0m | \u001b[0m 2.037   \u001b[0m | \u001b[0m 8.353   \u001b[0m | \u001b[0m 0.01375 \u001b[0m |\n",
      "| \u001b[95m 50      \u001b[0m | \u001b[95m-160.7   \u001b[0m | \u001b[95m 0.008845\u001b[0m | \u001b[95m 0.4887  \u001b[0m | \u001b[95m 1.628   \u001b[0m | \u001b[95m 8.354   \u001b[0m | \u001b[95m 0.01376 \u001b[0m |\n",
      "| \u001b[0m 51      \u001b[0m | \u001b[0m-177.2   \u001b[0m | \u001b[0m 0.008868\u001b[0m | \u001b[0m 0.4887  \u001b[0m | \u001b[0m 1.435   \u001b[0m | \u001b[0m 8.341   \u001b[0m | \u001b[0m 0.01376 \u001b[0m |\n",
      "| \u001b[95m 52      \u001b[0m | \u001b[95m-160.0   \u001b[0m | \u001b[95m 0.008887\u001b[0m | \u001b[95m 0.4887  \u001b[0m | \u001b[95m 1.787   \u001b[0m | \u001b[95m 8.342   \u001b[0m | \u001b[95m 0.01375 \u001b[0m |\n",
      "| \u001b[0m 53      \u001b[0m | \u001b[0m-167.7   \u001b[0m | \u001b[0m 0.00887 \u001b[0m | \u001b[0m 0.4887  \u001b[0m | \u001b[0m 1.924   \u001b[0m | \u001b[0m 8.332   \u001b[0m | \u001b[0m 0.01376 \u001b[0m |\n",
      "| \u001b[95m 54      \u001b[0m | \u001b[95m-158.9   \u001b[0m | \u001b[95m 0.008839\u001b[0m | \u001b[95m 0.4887  \u001b[0m | \u001b[95m 1.668   \u001b[0m | \u001b[95m 8.333   \u001b[0m | \u001b[95m 0.01375 \u001b[0m |\n",
      "| \u001b[0m 55      \u001b[0m | \u001b[0m-164.9   \u001b[0m | \u001b[0m 0.008821\u001b[0m | \u001b[0m 0.4887  \u001b[0m | \u001b[0m 1.556   \u001b[0m | \u001b[0m 8.325   \u001b[0m | \u001b[0m 0.01375 \u001b[0m |\n",
      "| \u001b[95m 56      \u001b[0m | \u001b[95m-158.3   \u001b[0m | \u001b[95m 0.008806\u001b[0m | \u001b[95m 0.4887  \u001b[0m | \u001b[95m 1.768   \u001b[0m | \u001b[95m 8.326   \u001b[0m | \u001b[95m 0.01375 \u001b[0m |\n"
     ]
    },
    {
     "name": "stdout",
     "output_type": "stream",
     "text": [
      "| \u001b[0m 57      \u001b[0m | \u001b[0m-161.2   \u001b[0m | \u001b[0m 0.008809\u001b[0m | \u001b[0m 0.4887  \u001b[0m | \u001b[0m 1.855   \u001b[0m | \u001b[0m 8.321   \u001b[0m | \u001b[0m 0.01375 \u001b[0m |\n",
      "| \u001b[0m 58      \u001b[0m | \u001b[0m-160.3   \u001b[0m | \u001b[0m 0.008818\u001b[0m | \u001b[0m 0.4887  \u001b[0m | \u001b[0m 1.838   \u001b[0m | \u001b[0m 8.321   \u001b[0m | \u001b[0m 0.01375 \u001b[0m |\n",
      "| \u001b[0m 59      \u001b[0m | \u001b[0m-160.2   \u001b[0m | \u001b[0m 0.008827\u001b[0m | \u001b[0m 0.4886  \u001b[0m | \u001b[0m 1.836   \u001b[0m | \u001b[0m 8.321   \u001b[0m | \u001b[0m 0.01375 \u001b[0m |\n",
      "| \u001b[95m 60      \u001b[0m | \u001b[95m-157.9   \u001b[0m | \u001b[95m 0.008816\u001b[0m | \u001b[95m 0.4887  \u001b[0m | \u001b[95m 1.704   \u001b[0m | \u001b[95m 8.322   \u001b[0m | \u001b[95m 0.01375 \u001b[0m |\n",
      "| \u001b[0m 61      \u001b[0m | \u001b[0m-159.3   \u001b[0m | \u001b[0m 0.008802\u001b[0m | \u001b[0m 0.4886  \u001b[0m | \u001b[0m 1.648   \u001b[0m | \u001b[0m 8.319   \u001b[0m | \u001b[0m 0.01375 \u001b[0m |\n",
      "| \u001b[0m 62      \u001b[0m | \u001b[0m-159.0   \u001b[0m | \u001b[0m 0.008815\u001b[0m | \u001b[0m 0.4887  \u001b[0m | \u001b[0m 1.654   \u001b[0m | \u001b[0m 8.319   \u001b[0m | \u001b[0m 0.01375 \u001b[0m |\n",
      "| \u001b[0m 63      \u001b[0m | \u001b[0m-158.9   \u001b[0m | \u001b[0m 0.008802\u001b[0m | \u001b[0m 0.4887  \u001b[0m | \u001b[0m 1.66    \u001b[0m | \u001b[0m 8.319   \u001b[0m | \u001b[0m 0.01375 \u001b[0m |\n",
      "| \u001b[0m 64      \u001b[0m | \u001b[0m-158.6   \u001b[0m | \u001b[0m 0.008803\u001b[0m | \u001b[0m 0.4887  \u001b[0m | \u001b[0m 1.669   \u001b[0m | \u001b[0m 8.319   \u001b[0m | \u001b[0m 0.01375 \u001b[0m |\n",
      "| \u001b[0m 65      \u001b[0m | \u001b[0m-158.5   \u001b[0m | \u001b[0m 0.008804\u001b[0m | \u001b[0m 0.4886  \u001b[0m | \u001b[0m 1.671   \u001b[0m | \u001b[0m 8.32    \u001b[0m | \u001b[0m 0.01375 \u001b[0m |\n",
      "| \u001b[0m 66      \u001b[0m | \u001b[0m-158.3   \u001b[0m | \u001b[0m 0.008817\u001b[0m | \u001b[0m 0.4887  \u001b[0m | \u001b[0m 1.679   \u001b[0m | \u001b[0m 8.32    \u001b[0m | \u001b[0m 0.01375 \u001b[0m |\n",
      "| \u001b[0m 67      \u001b[0m | \u001b[0m-158.3   \u001b[0m | \u001b[0m 0.008815\u001b[0m | \u001b[0m 0.4886  \u001b[0m | \u001b[0m 1.679   \u001b[0m | \u001b[0m 8.322   \u001b[0m | \u001b[0m 0.01375 \u001b[0m |\n",
      "| \u001b[95m 68      \u001b[0m | \u001b[95m-157.7   \u001b[0m | \u001b[95m 0.008817\u001b[0m | \u001b[95m 0.4887  \u001b[0m | \u001b[95m 1.727   \u001b[0m | \u001b[95m 8.321   \u001b[0m | \u001b[95m 0.01375 \u001b[0m |\n",
      "| \u001b[95m 69      \u001b[0m | \u001b[95m-157.6   \u001b[0m | \u001b[95m 0.008816\u001b[0m | \u001b[95m 0.4887  \u001b[0m | \u001b[95m 1.747   \u001b[0m | \u001b[95m 8.319   \u001b[0m | \u001b[95m 0.01375 \u001b[0m |\n",
      "| \u001b[0m 70      \u001b[0m | \u001b[0m-157.8   \u001b[0m | \u001b[0m 0.00882 \u001b[0m | \u001b[0m 0.4887  \u001b[0m | \u001b[0m 1.766   \u001b[0m | \u001b[0m 8.319   \u001b[0m | \u001b[0m 0.01375 \u001b[0m |\n",
      "| \u001b[0m 71      \u001b[0m | \u001b[0m-157.7   \u001b[0m | \u001b[0m 0.008818\u001b[0m | \u001b[0m 0.4887  \u001b[0m | \u001b[0m 1.764   \u001b[0m | \u001b[0m 8.318   \u001b[0m | \u001b[0m 0.01375 \u001b[0m |\n",
      "| \u001b[0m 72      \u001b[0m | \u001b[0m-157.8   \u001b[0m | \u001b[0m 0.008812\u001b[0m | \u001b[0m 0.4887  \u001b[0m | \u001b[0m 1.763   \u001b[0m | \u001b[0m 8.319   \u001b[0m | \u001b[0m 0.01375 \u001b[0m |\n",
      "| \u001b[0m 73      \u001b[0m | \u001b[0m-157.7   \u001b[0m | \u001b[0m 0.008821\u001b[0m | \u001b[0m 0.4887  \u001b[0m | \u001b[0m 1.758   \u001b[0m | \u001b[0m 8.319   \u001b[0m | \u001b[0m 0.01375 \u001b[0m |\n",
      "| \u001b[95m 74      \u001b[0m | \u001b[95m-157.6   \u001b[0m | \u001b[95m 0.008816\u001b[0m | \u001b[95m 0.4887  \u001b[0m | \u001b[95m 1.75    \u001b[0m | \u001b[95m 8.319   \u001b[0m | \u001b[95m 0.01375 \u001b[0m |\n",
      "| \u001b[0m 75      \u001b[0m | \u001b[0m-157.7   \u001b[0m | \u001b[0m 0.008817\u001b[0m | \u001b[0m 0.4887  \u001b[0m | \u001b[0m 1.76    \u001b[0m | \u001b[0m 8.318   \u001b[0m | \u001b[0m 0.01375 \u001b[0m |\n",
      "| \u001b[95m 76      \u001b[0m | \u001b[95m-157.6   \u001b[0m | \u001b[95m 0.008812\u001b[0m | \u001b[95m 0.4887  \u001b[0m | \u001b[95m 1.748   \u001b[0m | \u001b[95m 8.319   \u001b[0m | \u001b[95m 0.01375 \u001b[0m |\n",
      "| \u001b[95m 77      \u001b[0m | \u001b[95m-157.6   \u001b[0m | \u001b[95m 0.00881 \u001b[0m | \u001b[95m 0.4887  \u001b[0m | \u001b[95m 1.752   \u001b[0m | \u001b[95m 8.318   \u001b[0m | \u001b[95m 0.01375 \u001b[0m |\n",
      "| \u001b[0m 78      \u001b[0m | \u001b[0m-157.7   \u001b[0m | \u001b[0m 0.008811\u001b[0m | \u001b[0m 0.4887  \u001b[0m | \u001b[0m 1.761   \u001b[0m | \u001b[0m 8.318   \u001b[0m | \u001b[0m 0.01375 \u001b[0m |\n",
      "| \u001b[0m 79      \u001b[0m | \u001b[0m-157.6   \u001b[0m | \u001b[0m 0.008807\u001b[0m | \u001b[0m 0.4887  \u001b[0m | \u001b[0m 1.756   \u001b[0m | \u001b[0m 8.318   \u001b[0m | \u001b[0m 0.01375 \u001b[0m |\n",
      "| \u001b[0m 80      \u001b[0m | \u001b[0m-157.7   \u001b[0m | \u001b[0m 0.008809\u001b[0m | \u001b[0m 0.4887  \u001b[0m | \u001b[0m 1.756   \u001b[0m | \u001b[0m 8.319   \u001b[0m | \u001b[0m 0.01375 \u001b[0m |\n",
      "| \u001b[0m 81      \u001b[0m | \u001b[0m-157.7   \u001b[0m | \u001b[0m 0.008809\u001b[0m | \u001b[0m 0.4887  \u001b[0m | \u001b[0m 1.757   \u001b[0m | \u001b[0m 8.319   \u001b[0m | \u001b[0m 0.01375 \u001b[0m |\n",
      "| \u001b[95m 82      \u001b[0m | \u001b[95m-157.6   \u001b[0m | \u001b[95m 0.00881 \u001b[0m | \u001b[95m 0.4887  \u001b[0m | \u001b[95m 1.748   \u001b[0m | \u001b[95m 8.318   \u001b[0m | \u001b[95m 0.01375 \u001b[0m |\n",
      "| \u001b[0m 83      \u001b[0m | \u001b[0m-157.6   \u001b[0m | \u001b[0m 0.00881 \u001b[0m | \u001b[0m 0.4887  \u001b[0m | \u001b[0m 1.745   \u001b[0m | \u001b[0m 8.319   \u001b[0m | \u001b[0m 0.01375 \u001b[0m |\n",
      "| \u001b[0m 84      \u001b[0m | \u001b[0m-157.6   \u001b[0m | \u001b[0m 0.00881 \u001b[0m | \u001b[0m 0.4887  \u001b[0m | \u001b[0m 1.748   \u001b[0m | \u001b[0m 8.318   \u001b[0m | \u001b[0m 0.01375 \u001b[0m |\n",
      "| \u001b[95m 85      \u001b[0m | \u001b[95m-157.5   \u001b[0m | \u001b[95m 0.008809\u001b[0m | \u001b[95m 0.4887  \u001b[0m | \u001b[95m 1.745   \u001b[0m | \u001b[95m 8.318   \u001b[0m | \u001b[95m 0.01375 \u001b[0m |\n",
      "| \u001b[95m 86      \u001b[0m | \u001b[95m-157.5   \u001b[0m | \u001b[95m 0.008811\u001b[0m | \u001b[95m 0.4887  \u001b[0m | \u001b[95m 1.744   \u001b[0m | \u001b[95m 8.318   \u001b[0m | \u001b[95m 0.01375 \u001b[0m |\n",
      "| \u001b[95m 87      \u001b[0m | \u001b[95m-157.5   \u001b[0m | \u001b[95m 0.00881 \u001b[0m | \u001b[95m 0.4887  \u001b[0m | \u001b[95m 1.741   \u001b[0m | \u001b[95m 8.318   \u001b[0m | \u001b[95m 0.01375 \u001b[0m |\n",
      "| \u001b[0m 88      \u001b[0m | \u001b[0m-157.5   \u001b[0m | \u001b[0m 0.008811\u001b[0m | \u001b[0m 0.4887  \u001b[0m | \u001b[0m 1.743   \u001b[0m | \u001b[0m 8.318   \u001b[0m | \u001b[0m 0.01375 \u001b[0m |\n",
      "| \u001b[95m 89      \u001b[0m | \u001b[95m-157.5   \u001b[0m | \u001b[95m 0.008809\u001b[0m | \u001b[95m 0.4887  \u001b[0m | \u001b[95m 1.741   \u001b[0m | \u001b[95m 8.318   \u001b[0m | \u001b[95m 0.01375 \u001b[0m |\n",
      "| \u001b[0m 90      \u001b[0m | \u001b[0m-157.5   \u001b[0m | \u001b[0m 0.00881 \u001b[0m | \u001b[0m 0.4887  \u001b[0m | \u001b[0m 1.742   \u001b[0m | \u001b[0m 8.318   \u001b[0m | \u001b[0m 0.01375 \u001b[0m |\n",
      "| \u001b[95m 91      \u001b[0m | \u001b[95m-157.5   \u001b[0m | \u001b[95m 0.008809\u001b[0m | \u001b[95m 0.4887  \u001b[0m | \u001b[95m 1.739   \u001b[0m | \u001b[95m 8.318   \u001b[0m | \u001b[95m 0.01375 \u001b[0m |\n",
      "| \u001b[0m 92      \u001b[0m | \u001b[0m-157.5   \u001b[0m | \u001b[0m 0.008809\u001b[0m | \u001b[0m 0.4887  \u001b[0m | \u001b[0m 1.739   \u001b[0m | \u001b[0m 8.318   \u001b[0m | \u001b[0m 0.01375 \u001b[0m |\n",
      "| \u001b[0m 93      \u001b[0m | \u001b[0m-157.5   \u001b[0m | \u001b[0m 0.008809\u001b[0m | \u001b[0m 0.4887  \u001b[0m | \u001b[0m 1.74    \u001b[0m | \u001b[0m 8.318   \u001b[0m | \u001b[0m 0.01375 \u001b[0m |\n",
      "| \u001b[0m 94      \u001b[0m | \u001b[0m-157.5   \u001b[0m | \u001b[0m 0.008809\u001b[0m | \u001b[0m 0.4887  \u001b[0m | \u001b[0m 1.739   \u001b[0m | \u001b[0m 8.318   \u001b[0m | \u001b[0m 0.01375 \u001b[0m |\n",
      "| \u001b[95m 95      \u001b[0m | \u001b[95m-157.5   \u001b[0m | \u001b[95m 0.008809\u001b[0m | \u001b[95m 0.4887  \u001b[0m | \u001b[95m 1.738   \u001b[0m | \u001b[95m 8.318   \u001b[0m | \u001b[95m 0.01375 \u001b[0m |\n",
      "| \u001b[0m 96      \u001b[0m | \u001b[0m-157.5   \u001b[0m | \u001b[0m 0.008809\u001b[0m | \u001b[0m 0.4887  \u001b[0m | \u001b[0m 1.738   \u001b[0m | \u001b[0m 8.318   \u001b[0m | \u001b[0m 0.01375 \u001b[0m |\n",
      "| \u001b[0m 97      \u001b[0m | \u001b[0m-157.5   \u001b[0m | \u001b[0m 0.008809\u001b[0m | \u001b[0m 0.4887  \u001b[0m | \u001b[0m 1.738   \u001b[0m | \u001b[0m 8.318   \u001b[0m | \u001b[0m 0.01375 \u001b[0m |\n",
      "| \u001b[95m 98      \u001b[0m | \u001b[95m-157.5   \u001b[0m | \u001b[95m 0.008809\u001b[0m | \u001b[95m 0.4887  \u001b[0m | \u001b[95m 1.737   \u001b[0m | \u001b[95m 8.318   \u001b[0m | \u001b[95m 0.01375 \u001b[0m |\n",
      "| \u001b[0m 99      \u001b[0m | \u001b[0m-157.5   \u001b[0m | \u001b[0m 0.008808\u001b[0m | \u001b[0m 0.4887  \u001b[0m | \u001b[0m 1.737   \u001b[0m | \u001b[0m 8.318   \u001b[0m | \u001b[0m 0.01375 \u001b[0m |\n",
      "| \u001b[0m 100     \u001b[0m | \u001b[0m-157.5   \u001b[0m | \u001b[0m 0.008809\u001b[0m | \u001b[0m 0.4887  \u001b[0m | \u001b[0m 1.738   \u001b[0m | \u001b[0m 8.318   \u001b[0m | \u001b[0m 0.01375 \u001b[0m |\n",
      "=====================================================================================\n"
     ]
    }
   ],
   "source": [
    "from bayes_opt import SequentialDomainReductionTransformer\n",
    "from bayes_opt import BayesianOptimization\n",
    "\n",
    "bounds_transformer = SequentialDomainReductionTransformer()\n",
    "optimizer = BayesianOptimization(opt_fn,\n",
    "                                 pbounds,\n",
    "                                 bounds_transformer=bounds_transformer,\n",
    "                                 random_state=42)\n",
    "optimizer.maximize(init_points=10, n_iter=90)"
   ]
  },
  {
   "cell_type": "code",
   "execution_count": 16,
   "metadata": {},
   "outputs": [
    {
     "data": {
      "text/plain": [
       "<matplotlib.image.AxesImage at 0x12acd7d30>"
      ]
     },
     "execution_count": 16,
     "metadata": {},
     "output_type": "execute_result"
    },
    {
     "data": {
      "image/png": "[encoded data removed]",
      "text/plain": [
       "<Figure size 432x288 with 1 Axes>"
      ]
     },
     "metadata": {
      "needs_background": "light"
     },
     "output_type": "display_data"
    }
   ],
   "source": [
    "r = sim(**optimizer.max['params'])\n",
    "plt.imshow(r)"
   ]
  },
  {
   "cell_type": "code",
   "execution_count": null,
   "metadata": {},
   "outputs": [],
   "source": []
  }
 ],
 "metadata": {
  "kernelspec": {
   "display_name": "phys",
   "language": "python",
   "name": "phys"
  },
  "language_info": {
   "codemirror_mode": {
    "name": "ipython",
    "version": 3
   },
   "file_extension": ".py",
   "mimetype": "text/x-python",
   "name": "python",
   "nbconvert_exporter": "python",
   "pygments_lexer": "ipython3",
   "version": "3.9.0"
  },
  "toc": {
   "base_numbering": 1,
   "nav_menu": {},
   "number_sections": true,
   "sideBar": true,
   "skip_h1_title": false,
   "title_cell": "Table of Contents",
   "title_sidebar": "Contents",
   "toc_cell": false,
   "toc_position": {},
   "toc_section_display": true,
   "toc_window_display": false
  }
 },
 "nbformat": 4,
 "nbformat_minor": 4
}
